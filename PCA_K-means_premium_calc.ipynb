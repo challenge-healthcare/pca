{
 "cells": [
  {
   "cell_type": "code",
   "execution_count": 43,
   "metadata": {},
   "outputs": [],
   "source": [
    "import pandas as pd \n",
    "import numpy as np\n",
    "from sklearn.decomposition import PCA\n",
    "from sklearn.preprocessing import StandardScaler\n",
    "\n",
    "# !pip install plotly\n",
    "import plotly.express as px"
   ]
  },
  {
   "cell_type": "code",
   "execution_count": 44,
   "metadata": {},
   "outputs": [
    {
     "data": {
      "text/html": [
       "<div>\n",
       "<style scoped>\n",
       "    .dataframe tbody tr th:only-of-type {\n",
       "        vertical-align: middle;\n",
       "    }\n",
       "\n",
       "    .dataframe tbody tr th {\n",
       "        vertical-align: top;\n",
       "    }\n",
       "\n",
       "    .dataframe thead th {\n",
       "        text-align: right;\n",
       "    }\n",
       "</style>\n",
       "<table border=\"1\" class=\"dataframe\">\n",
       "  <thead>\n",
       "    <tr style=\"text-align: right;\">\n",
       "      <th></th>\n",
       "      <th>age</th>\n",
       "      <th>sex</th>\n",
       "      <th>bmi</th>\n",
       "      <th>children</th>\n",
       "      <th>smoker</th>\n",
       "      <th>canton</th>\n",
       "      <th>pbf</th>\n",
       "      <th>charges</th>\n",
       "    </tr>\n",
       "  </thead>\n",
       "  <tbody>\n",
       "    <tr>\n",
       "      <th>1</th>\n",
       "      <td>19</td>\n",
       "      <td>0</td>\n",
       "      <td>24.720</td>\n",
       "      <td>0</td>\n",
       "      <td>0</td>\n",
       "      <td>0</td>\n",
       "      <td>35.94</td>\n",
       "      <td>4253</td>\n",
       "    </tr>\n",
       "    <tr>\n",
       "      <th>2</th>\n",
       "      <td>18</td>\n",
       "      <td>1</td>\n",
       "      <td>29.416</td>\n",
       "      <td>1</td>\n",
       "      <td>1</td>\n",
       "      <td>1</td>\n",
       "      <td>26.86</td>\n",
       "      <td>2494</td>\n",
       "    </tr>\n",
       "    <tr>\n",
       "      <th>3</th>\n",
       "      <td>28</td>\n",
       "      <td>1</td>\n",
       "      <td>28.800</td>\n",
       "      <td>3</td>\n",
       "      <td>1</td>\n",
       "      <td>1</td>\n",
       "      <td>26.92</td>\n",
       "      <td>3138</td>\n",
       "    </tr>\n",
       "    <tr>\n",
       "      <th>4</th>\n",
       "      <td>33</td>\n",
       "      <td>1</td>\n",
       "      <td>20.564</td>\n",
       "      <td>0</td>\n",
       "      <td>1</td>\n",
       "      <td>2</td>\n",
       "      <td>7.98</td>\n",
       "      <td>1553</td>\n",
       "    </tr>\n",
       "    <tr>\n",
       "      <th>5</th>\n",
       "      <td>32</td>\n",
       "      <td>1</td>\n",
       "      <td>25.504</td>\n",
       "      <td>0</td>\n",
       "      <td>1</td>\n",
       "      <td>2</td>\n",
       "      <td>21.84</td>\n",
       "      <td>2768</td>\n",
       "    </tr>\n",
       "  </tbody>\n",
       "</table>\n",
       "</div>"
      ],
      "text/plain": [
       "   age  sex     bmi  children  smoker  canton    pbf  charges\n",
       "1   19    0  24.720         0       0       0  35.94     4253\n",
       "2   18    1  29.416         1       1       1  26.86     2494\n",
       "3   28    1  28.800         3       1       1  26.92     3138\n",
       "4   33    1  20.564         0       1       2   7.98     1553\n",
       "5   32    1  25.504         0       1       2  21.84     2768"
      ]
     },
     "execution_count": 44,
     "metadata": {},
     "output_type": "execute_result"
    }
   ],
   "source": [
    "#Standardize\n",
    "\n",
    "data = pd.read_csv('krankenkasse-mit-pbf.csv', sep = ';', names = ['age', 'sex', 'bmi', 'children', 'smoker', 'canton', 'pbf', 'charges'])\n",
    "data = data.iloc[1:]\n",
    "\n",
    "data['charges'] = data['charges'].str.replace('’', '').apply(pd.to_numeric)\n",
    "data['pbf'] = data['pbf'].apply(pd.to_numeric)\n",
    "data['bmi'] = data['bmi'].apply(pd.to_numeric)\n",
    "data['age'] = data['age'].apply(pd.to_numeric)\n",
    "data['children'] = data['children'].apply(pd.to_numeric)\n",
    "\n",
    "# Encode categorical variables.\n",
    "\n",
    "data['sex'] = pd.factorize(data['sex'])[0]\n",
    "data['smoker'] = pd.factorize(data['smoker'])[0]\n",
    "data['canton'] = pd.factorize(data['canton'])[0]\n",
    "\n",
    "# Remove encoded categorical variables.\n",
    "\n",
    "# 1 record with negative percentage of body fat.\n",
    "data = data[data['pbf']>0]\n",
    "\n",
    "# removing clients under 21 with 5 children\n",
    "data = data[~((data['age'] <= 21) & (data['children'] == 5))]\n",
    "\n",
    "data.head()"
   ]
  },
  {
   "cell_type": "code",
   "execution_count": 45,
   "metadata": {},
   "outputs": [
    {
     "data": {
      "text/html": [
       "<div>\n",
       "<style scoped>\n",
       "    .dataframe tbody tr th:only-of-type {\n",
       "        vertical-align: middle;\n",
       "    }\n",
       "\n",
       "    .dataframe tbody tr th {\n",
       "        vertical-align: top;\n",
       "    }\n",
       "\n",
       "    .dataframe thead th {\n",
       "        text-align: right;\n",
       "    }\n",
       "</style>\n",
       "<table border=\"1\" class=\"dataframe\">\n",
       "  <thead>\n",
       "    <tr style=\"text-align: right;\">\n",
       "      <th></th>\n",
       "      <th>pc</th>\n",
       "      <th>variance_ratio</th>\n",
       "      <th>feature</th>\n",
       "      <th>variance_ratio_cumsum</th>\n",
       "    </tr>\n",
       "  </thead>\n",
       "  <tbody>\n",
       "    <tr>\n",
       "      <th>0</th>\n",
       "      <td>1</td>\n",
       "      <td>0.294015</td>\n",
       "      <td>bmi</td>\n",
       "      <td>0.294015</td>\n",
       "    </tr>\n",
       "    <tr>\n",
       "      <th>1</th>\n",
       "      <td>2</td>\n",
       "      <td>0.173517</td>\n",
       "      <td>children</td>\n",
       "      <td>0.467533</td>\n",
       "    </tr>\n",
       "    <tr>\n",
       "      <th>2</th>\n",
       "      <td>3</td>\n",
       "      <td>0.168910</td>\n",
       "      <td>smoker</td>\n",
       "      <td>0.636443</td>\n",
       "    </tr>\n",
       "    <tr>\n",
       "      <th>3</th>\n",
       "      <td>4</td>\n",
       "      <td>0.161335</td>\n",
       "      <td>canton</td>\n",
       "      <td>0.797779</td>\n",
       "    </tr>\n",
       "    <tr>\n",
       "      <th>4</th>\n",
       "      <td>5</td>\n",
       "      <td>0.151148</td>\n",
       "      <td>age</td>\n",
       "      <td>0.948926</td>\n",
       "    </tr>\n",
       "    <tr>\n",
       "      <th>5</th>\n",
       "      <td>6</td>\n",
       "      <td>0.051074</td>\n",
       "      <td>bmi</td>\n",
       "      <td>1.000000</td>\n",
       "    </tr>\n",
       "  </tbody>\n",
       "</table>\n",
       "</div>"
      ],
      "text/plain": [
       "   pc  variance_ratio   feature  variance_ratio_cumsum\n",
       "0   1        0.294015       bmi               0.294015\n",
       "1   2        0.173517  children               0.467533\n",
       "2   3        0.168910    smoker               0.636443\n",
       "3   4        0.161335    canton               0.797779\n",
       "4   5        0.151148       age               0.948926\n",
       "5   6        0.051074       bmi               1.000000"
      ]
     },
     "execution_count": 45,
     "metadata": {},
     "output_type": "execute_result"
    }
   ],
   "source": [
    "features = ['age', 'bmi', 'pbf', 'children', 'smoker', 'canton']\n",
    "\n",
    "x = StandardScaler().fit_transform(data[features])\n",
    "y = StandardScaler().fit_transform(data[['charges']])\n",
    "\n",
    "pca = PCA().fit(x, y)\n",
    "\n",
    "# number of components, sorted by variance ratio\n",
    "n_pcs= pca.components_.shape[0]\n",
    "most_important = [np.abs(pca.components_[i]).argmax() for i in range(n_pcs)]\n",
    "most_important_names = [features[most_important[i]] for i in range(n_pcs)]\n",
    "\n",
    "pca_results = pd.DataFrame([[i+1, \n",
    "                             pca.explained_variance_ratio_[i], \n",
    "                             most_important_names[i]] for i in range(n_pcs)],\n",
    "                           columns = ['pc', 'variance_ratio', 'feature'])\n",
    "\n",
    "# cummulative sum used to find out how many components we need to explain 95% of the variance\n",
    "pca_results['variance_ratio_cumsum'] = pca_results['variance_ratio'].cumsum()\n",
    "pca_results"
   ]
  },
  {
   "cell_type": "markdown",
   "metadata": {},
   "source": [
    "We can explain 95% of variance by using the attributes: bmi, children, smoker y-n, canton and age."
   ]
  },
  {
   "cell_type": "code",
   "execution_count": 46,
   "metadata": {},
   "outputs": [
    {
     "data": {
      "application/vnd.plotly.v1+json": {
       "config": {
        "plotlyServerURL": "https://plot.ly"
       },
       "data": [
        {
         "hovertemplate": "pc=%{x}<br>variance_ratio_cumsum=%{y}<br>feature=%{text}<extra></extra>",
         "legendgroup": "",
         "line": {
          "color": "#636efa",
          "dash": "solid"
         },
         "mode": "lines+markers+text",
         "name": "",
         "orientation": "v",
         "showlegend": false,
         "text": [
          "bmi",
          "children",
          "smoker",
          "canton",
          "age",
          "bmi"
         ],
         "textposition": "top left",
         "type": "scatter",
         "x": [
          1,
          2,
          3,
          4,
          5,
          6
         ],
         "xaxis": "x",
         "y": [
          0.29401546890987257,
          0.4675329189607062,
          0.6364431122080244,
          0.7977785638096354,
          0.9489262152697733,
          0.9999999999999999
         ],
         "yaxis": "y"
        }
       ],
       "layout": {
        "annotations": [
         {
          "showarrow": false,
          "text": "95% cut-off",
          "x": 1,
          "xanchor": "right",
          "xref": "x domain",
          "y": 0.95,
          "yanchor": "bottom",
          "yref": "y"
         }
        ],
        "legend": {
         "tracegroupgap": 0
        },
        "shapes": [
         {
          "line": {
           "color": "red",
           "dash": "dot"
          },
          "type": "line",
          "x0": 0,
          "x1": 1,
          "xref": "x domain",
          "y0": 0.95,
          "y1": 0.95,
          "yref": "y"
         }
        ],
        "template": {
         "data": {
          "bar": [
           {
            "error_x": {
             "color": "#2a3f5f"
            },
            "error_y": {
             "color": "#2a3f5f"
            },
            "marker": {
             "line": {
              "color": "#E5ECF6",
              "width": 0.5
             }
            },
            "type": "bar"
           }
          ],
          "barpolar": [
           {
            "marker": {
             "line": {
              "color": "#E5ECF6",
              "width": 0.5
             }
            },
            "type": "barpolar"
           }
          ],
          "carpet": [
           {
            "aaxis": {
             "endlinecolor": "#2a3f5f",
             "gridcolor": "white",
             "linecolor": "white",
             "minorgridcolor": "white",
             "startlinecolor": "#2a3f5f"
            },
            "baxis": {
             "endlinecolor": "#2a3f5f",
             "gridcolor": "white",
             "linecolor": "white",
             "minorgridcolor": "white",
             "startlinecolor": "#2a3f5f"
            },
            "type": "carpet"
           }
          ],
          "choropleth": [
           {
            "colorbar": {
             "outlinewidth": 0,
             "ticks": ""
            },
            "type": "choropleth"
           }
          ],
          "contour": [
           {
            "colorbar": {
             "outlinewidth": 0,
             "ticks": ""
            },
            "colorscale": [
             [
              0,
              "#0d0887"
             ],
             [
              0.1111111111111111,
              "#46039f"
             ],
             [
              0.2222222222222222,
              "#7201a8"
             ],
             [
              0.3333333333333333,
              "#9c179e"
             ],
             [
              0.4444444444444444,
              "#bd3786"
             ],
             [
              0.5555555555555556,
              "#d8576b"
             ],
             [
              0.6666666666666666,
              "#ed7953"
             ],
             [
              0.7777777777777778,
              "#fb9f3a"
             ],
             [
              0.8888888888888888,
              "#fdca26"
             ],
             [
              1,
              "#f0f921"
             ]
            ],
            "type": "contour"
           }
          ],
          "contourcarpet": [
           {
            "colorbar": {
             "outlinewidth": 0,
             "ticks": ""
            },
            "type": "contourcarpet"
           }
          ],
          "heatmap": [
           {
            "colorbar": {
             "outlinewidth": 0,
             "ticks": ""
            },
            "colorscale": [
             [
              0,
              "#0d0887"
             ],
             [
              0.1111111111111111,
              "#46039f"
             ],
             [
              0.2222222222222222,
              "#7201a8"
             ],
             [
              0.3333333333333333,
              "#9c179e"
             ],
             [
              0.4444444444444444,
              "#bd3786"
             ],
             [
              0.5555555555555556,
              "#d8576b"
             ],
             [
              0.6666666666666666,
              "#ed7953"
             ],
             [
              0.7777777777777778,
              "#fb9f3a"
             ],
             [
              0.8888888888888888,
              "#fdca26"
             ],
             [
              1,
              "#f0f921"
             ]
            ],
            "type": "heatmap"
           }
          ],
          "heatmapgl": [
           {
            "colorbar": {
             "outlinewidth": 0,
             "ticks": ""
            },
            "colorscale": [
             [
              0,
              "#0d0887"
             ],
             [
              0.1111111111111111,
              "#46039f"
             ],
             [
              0.2222222222222222,
              "#7201a8"
             ],
             [
              0.3333333333333333,
              "#9c179e"
             ],
             [
              0.4444444444444444,
              "#bd3786"
             ],
             [
              0.5555555555555556,
              "#d8576b"
             ],
             [
              0.6666666666666666,
              "#ed7953"
             ],
             [
              0.7777777777777778,
              "#fb9f3a"
             ],
             [
              0.8888888888888888,
              "#fdca26"
             ],
             [
              1,
              "#f0f921"
             ]
            ],
            "type": "heatmapgl"
           }
          ],
          "histogram": [
           {
            "marker": {
             "colorbar": {
              "outlinewidth": 0,
              "ticks": ""
             }
            },
            "type": "histogram"
           }
          ],
          "histogram2d": [
           {
            "colorbar": {
             "outlinewidth": 0,
             "ticks": ""
            },
            "colorscale": [
             [
              0,
              "#0d0887"
             ],
             [
              0.1111111111111111,
              "#46039f"
             ],
             [
              0.2222222222222222,
              "#7201a8"
             ],
             [
              0.3333333333333333,
              "#9c179e"
             ],
             [
              0.4444444444444444,
              "#bd3786"
             ],
             [
              0.5555555555555556,
              "#d8576b"
             ],
             [
              0.6666666666666666,
              "#ed7953"
             ],
             [
              0.7777777777777778,
              "#fb9f3a"
             ],
             [
              0.8888888888888888,
              "#fdca26"
             ],
             [
              1,
              "#f0f921"
             ]
            ],
            "type": "histogram2d"
           }
          ],
          "histogram2dcontour": [
           {
            "colorbar": {
             "outlinewidth": 0,
             "ticks": ""
            },
            "colorscale": [
             [
              0,
              "#0d0887"
             ],
             [
              0.1111111111111111,
              "#46039f"
             ],
             [
              0.2222222222222222,
              "#7201a8"
             ],
             [
              0.3333333333333333,
              "#9c179e"
             ],
             [
              0.4444444444444444,
              "#bd3786"
             ],
             [
              0.5555555555555556,
              "#d8576b"
             ],
             [
              0.6666666666666666,
              "#ed7953"
             ],
             [
              0.7777777777777778,
              "#fb9f3a"
             ],
             [
              0.8888888888888888,
              "#fdca26"
             ],
             [
              1,
              "#f0f921"
             ]
            ],
            "type": "histogram2dcontour"
           }
          ],
          "mesh3d": [
           {
            "colorbar": {
             "outlinewidth": 0,
             "ticks": ""
            },
            "type": "mesh3d"
           }
          ],
          "parcoords": [
           {
            "line": {
             "colorbar": {
              "outlinewidth": 0,
              "ticks": ""
             }
            },
            "type": "parcoords"
           }
          ],
          "pie": [
           {
            "automargin": true,
            "type": "pie"
           }
          ],
          "scatter": [
           {
            "marker": {
             "colorbar": {
              "outlinewidth": 0,
              "ticks": ""
             }
            },
            "type": "scatter"
           }
          ],
          "scatter3d": [
           {
            "line": {
             "colorbar": {
              "outlinewidth": 0,
              "ticks": ""
             }
            },
            "marker": {
             "colorbar": {
              "outlinewidth": 0,
              "ticks": ""
             }
            },
            "type": "scatter3d"
           }
          ],
          "scattercarpet": [
           {
            "marker": {
             "colorbar": {
              "outlinewidth": 0,
              "ticks": ""
             }
            },
            "type": "scattercarpet"
           }
          ],
          "scattergeo": [
           {
            "marker": {
             "colorbar": {
              "outlinewidth": 0,
              "ticks": ""
             }
            },
            "type": "scattergeo"
           }
          ],
          "scattergl": [
           {
            "marker": {
             "colorbar": {
              "outlinewidth": 0,
              "ticks": ""
             }
            },
            "type": "scattergl"
           }
          ],
          "scattermapbox": [
           {
            "marker": {
             "colorbar": {
              "outlinewidth": 0,
              "ticks": ""
             }
            },
            "type": "scattermapbox"
           }
          ],
          "scatterpolar": [
           {
            "marker": {
             "colorbar": {
              "outlinewidth": 0,
              "ticks": ""
             }
            },
            "type": "scatterpolar"
           }
          ],
          "scatterpolargl": [
           {
            "marker": {
             "colorbar": {
              "outlinewidth": 0,
              "ticks": ""
             }
            },
            "type": "scatterpolargl"
           }
          ],
          "scatterternary": [
           {
            "marker": {
             "colorbar": {
              "outlinewidth": 0,
              "ticks": ""
             }
            },
            "type": "scatterternary"
           }
          ],
          "surface": [
           {
            "colorbar": {
             "outlinewidth": 0,
             "ticks": ""
            },
            "colorscale": [
             [
              0,
              "#0d0887"
             ],
             [
              0.1111111111111111,
              "#46039f"
             ],
             [
              0.2222222222222222,
              "#7201a8"
             ],
             [
              0.3333333333333333,
              "#9c179e"
             ],
             [
              0.4444444444444444,
              "#bd3786"
             ],
             [
              0.5555555555555556,
              "#d8576b"
             ],
             [
              0.6666666666666666,
              "#ed7953"
             ],
             [
              0.7777777777777778,
              "#fb9f3a"
             ],
             [
              0.8888888888888888,
              "#fdca26"
             ],
             [
              1,
              "#f0f921"
             ]
            ],
            "type": "surface"
           }
          ],
          "table": [
           {
            "cells": {
             "fill": {
              "color": "#EBF0F8"
             },
             "line": {
              "color": "white"
             }
            },
            "header": {
             "fill": {
              "color": "#C8D4E3"
             },
             "line": {
              "color": "white"
             }
            },
            "type": "table"
           }
          ]
         },
         "layout": {
          "annotationdefaults": {
           "arrowcolor": "#2a3f5f",
           "arrowhead": 0,
           "arrowwidth": 1
          },
          "autotypenumbers": "strict",
          "coloraxis": {
           "colorbar": {
            "outlinewidth": 0,
            "ticks": ""
           }
          },
          "colorscale": {
           "diverging": [
            [
             0,
             "#8e0152"
            ],
            [
             0.1,
             "#c51b7d"
            ],
            [
             0.2,
             "#de77ae"
            ],
            [
             0.3,
             "#f1b6da"
            ],
            [
             0.4,
             "#fde0ef"
            ],
            [
             0.5,
             "#f7f7f7"
            ],
            [
             0.6,
             "#e6f5d0"
            ],
            [
             0.7,
             "#b8e186"
            ],
            [
             0.8,
             "#7fbc41"
            ],
            [
             0.9,
             "#4d9221"
            ],
            [
             1,
             "#276419"
            ]
           ],
           "sequential": [
            [
             0,
             "#0d0887"
            ],
            [
             0.1111111111111111,
             "#46039f"
            ],
            [
             0.2222222222222222,
             "#7201a8"
            ],
            [
             0.3333333333333333,
             "#9c179e"
            ],
            [
             0.4444444444444444,
             "#bd3786"
            ],
            [
             0.5555555555555556,
             "#d8576b"
            ],
            [
             0.6666666666666666,
             "#ed7953"
            ],
            [
             0.7777777777777778,
             "#fb9f3a"
            ],
            [
             0.8888888888888888,
             "#fdca26"
            ],
            [
             1,
             "#f0f921"
            ]
           ],
           "sequentialminus": [
            [
             0,
             "#0d0887"
            ],
            [
             0.1111111111111111,
             "#46039f"
            ],
            [
             0.2222222222222222,
             "#7201a8"
            ],
            [
             0.3333333333333333,
             "#9c179e"
            ],
            [
             0.4444444444444444,
             "#bd3786"
            ],
            [
             0.5555555555555556,
             "#d8576b"
            ],
            [
             0.6666666666666666,
             "#ed7953"
            ],
            [
             0.7777777777777778,
             "#fb9f3a"
            ],
            [
             0.8888888888888888,
             "#fdca26"
            ],
            [
             1,
             "#f0f921"
            ]
           ]
          },
          "colorway": [
           "#636efa",
           "#EF553B",
           "#00cc96",
           "#ab63fa",
           "#FFA15A",
           "#19d3f3",
           "#FF6692",
           "#B6E880",
           "#FF97FF",
           "#FECB52"
          ],
          "font": {
           "color": "#2a3f5f"
          },
          "geo": {
           "bgcolor": "white",
           "lakecolor": "white",
           "landcolor": "#E5ECF6",
           "showlakes": true,
           "showland": true,
           "subunitcolor": "white"
          },
          "hoverlabel": {
           "align": "left"
          },
          "hovermode": "closest",
          "mapbox": {
           "style": "light"
          },
          "paper_bgcolor": "white",
          "plot_bgcolor": "#E5ECF6",
          "polar": {
           "angularaxis": {
            "gridcolor": "white",
            "linecolor": "white",
            "ticks": ""
           },
           "bgcolor": "#E5ECF6",
           "radialaxis": {
            "gridcolor": "white",
            "linecolor": "white",
            "ticks": ""
           }
          },
          "scene": {
           "xaxis": {
            "backgroundcolor": "#E5ECF6",
            "gridcolor": "white",
            "gridwidth": 2,
            "linecolor": "white",
            "showbackground": true,
            "ticks": "",
            "zerolinecolor": "white"
           },
           "yaxis": {
            "backgroundcolor": "#E5ECF6",
            "gridcolor": "white",
            "gridwidth": 2,
            "linecolor": "white",
            "showbackground": true,
            "ticks": "",
            "zerolinecolor": "white"
           },
           "zaxis": {
            "backgroundcolor": "#E5ECF6",
            "gridcolor": "white",
            "gridwidth": 2,
            "linecolor": "white",
            "showbackground": true,
            "ticks": "",
            "zerolinecolor": "white"
           }
          },
          "shapedefaults": {
           "line": {
            "color": "#2a3f5f"
           }
          },
          "ternary": {
           "aaxis": {
            "gridcolor": "white",
            "linecolor": "white",
            "ticks": ""
           },
           "baxis": {
            "gridcolor": "white",
            "linecolor": "white",
            "ticks": ""
           },
           "bgcolor": "#E5ECF6",
           "caxis": {
            "gridcolor": "white",
            "linecolor": "white",
            "ticks": ""
           }
          },
          "title": {
           "x": 0.05
          },
          "xaxis": {
           "automargin": true,
           "gridcolor": "white",
           "linecolor": "white",
           "ticks": "",
           "title": {
            "standoff": 15
           },
           "zerolinecolor": "white",
           "zerolinewidth": 2
          },
          "yaxis": {
           "automargin": true,
           "gridcolor": "white",
           "linecolor": "white",
           "ticks": "",
           "title": {
            "standoff": 15
           },
           "zerolinecolor": "white",
           "zerolinewidth": 2
          }
         }
        },
        "title": {
         "text": "The number of components needed to explain variance"
        },
        "xaxis": {
         "anchor": "y",
         "domain": [
          0,
          1
         ],
         "range": [
          0,
          7
         ],
         "title": {
          "text": "Number of components"
         }
        },
        "yaxis": {
         "anchor": "x",
         "domain": [
          0,
          1
         ],
         "range": [
          0,
          1.1
         ],
         "title": {
          "text": "Cumulative variance (%)"
         }
        }
       }
      },
      "text/html": [
       "<div>                            <div id=\"bf7c3347-8ce0-40f7-9a4f-c3f749b76f58\" class=\"plotly-graph-div\" style=\"height:525px; width:100%;\"></div>            <script type=\"text/javascript\">                require([\"plotly\"], function(Plotly) {                    window.PLOTLYENV=window.PLOTLYENV || {};                                    if (document.getElementById(\"bf7c3347-8ce0-40f7-9a4f-c3f749b76f58\")) {                    Plotly.newPlot(                        \"bf7c3347-8ce0-40f7-9a4f-c3f749b76f58\",                        [{\"hovertemplate\": \"pc=%{x}<br>variance_ratio_cumsum=%{y}<br>feature=%{text}<extra></extra>\", \"legendgroup\": \"\", \"line\": {\"color\": \"#636efa\", \"dash\": \"solid\"}, \"mode\": \"lines+markers+text\", \"name\": \"\", \"orientation\": \"v\", \"showlegend\": false, \"text\": [\"bmi\", \"children\", \"smoker\", \"canton\", \"age\", \"bmi\"], \"textposition\": \"top left\", \"type\": \"scatter\", \"x\": [1, 2, 3, 4, 5, 6], \"xaxis\": \"x\", \"y\": [0.29401546890987257, 0.4675329189607062, 0.6364431122080244, 0.7977785638096354, 0.9489262152697733, 0.9999999999999999], \"yaxis\": \"y\"}],                        {\"annotations\": [{\"showarrow\": false, \"text\": \"95% cut-off\", \"x\": 1, \"xanchor\": \"right\", \"xref\": \"x domain\", \"y\": 0.95, \"yanchor\": \"bottom\", \"yref\": \"y\"}], \"legend\": {\"tracegroupgap\": 0}, \"shapes\": [{\"line\": {\"color\": \"red\", \"dash\": \"dot\"}, \"type\": \"line\", \"x0\": 0, \"x1\": 1, \"xref\": \"x domain\", \"y0\": 0.95, \"y1\": 0.95, \"yref\": \"y\"}], \"template\": {\"data\": {\"bar\": [{\"error_x\": {\"color\": \"#2a3f5f\"}, \"error_y\": {\"color\": \"#2a3f5f\"}, \"marker\": {\"line\": {\"color\": \"#E5ECF6\", \"width\": 0.5}}, \"type\": \"bar\"}], \"barpolar\": [{\"marker\": {\"line\": {\"color\": \"#E5ECF6\", \"width\": 0.5}}, \"type\": \"barpolar\"}], \"carpet\": [{\"aaxis\": {\"endlinecolor\": \"#2a3f5f\", \"gridcolor\": \"white\", \"linecolor\": \"white\", \"minorgridcolor\": \"white\", \"startlinecolor\": \"#2a3f5f\"}, \"baxis\": {\"endlinecolor\": \"#2a3f5f\", \"gridcolor\": \"white\", \"linecolor\": \"white\", \"minorgridcolor\": \"white\", \"startlinecolor\": \"#2a3f5f\"}, \"type\": \"carpet\"}], \"choropleth\": [{\"colorbar\": {\"outlinewidth\": 0, \"ticks\": \"\"}, \"type\": \"choropleth\"}], \"contour\": [{\"colorbar\": {\"outlinewidth\": 0, \"ticks\": \"\"}, \"colorscale\": [[0.0, \"#0d0887\"], [0.1111111111111111, \"#46039f\"], [0.2222222222222222, \"#7201a8\"], [0.3333333333333333, \"#9c179e\"], [0.4444444444444444, \"#bd3786\"], [0.5555555555555556, \"#d8576b\"], [0.6666666666666666, \"#ed7953\"], [0.7777777777777778, \"#fb9f3a\"], [0.8888888888888888, \"#fdca26\"], [1.0, \"#f0f921\"]], \"type\": \"contour\"}], \"contourcarpet\": [{\"colorbar\": {\"outlinewidth\": 0, \"ticks\": \"\"}, \"type\": \"contourcarpet\"}], \"heatmap\": [{\"colorbar\": {\"outlinewidth\": 0, \"ticks\": \"\"}, \"colorscale\": [[0.0, \"#0d0887\"], [0.1111111111111111, \"#46039f\"], [0.2222222222222222, \"#7201a8\"], [0.3333333333333333, \"#9c179e\"], [0.4444444444444444, \"#bd3786\"], [0.5555555555555556, \"#d8576b\"], [0.6666666666666666, \"#ed7953\"], [0.7777777777777778, \"#fb9f3a\"], [0.8888888888888888, \"#fdca26\"], [1.0, \"#f0f921\"]], \"type\": \"heatmap\"}], \"heatmapgl\": [{\"colorbar\": {\"outlinewidth\": 0, \"ticks\": \"\"}, \"colorscale\": [[0.0, \"#0d0887\"], [0.1111111111111111, \"#46039f\"], [0.2222222222222222, \"#7201a8\"], [0.3333333333333333, \"#9c179e\"], [0.4444444444444444, \"#bd3786\"], [0.5555555555555556, \"#d8576b\"], [0.6666666666666666, \"#ed7953\"], [0.7777777777777778, \"#fb9f3a\"], [0.8888888888888888, \"#fdca26\"], [1.0, \"#f0f921\"]], \"type\": \"heatmapgl\"}], \"histogram\": [{\"marker\": {\"colorbar\": {\"outlinewidth\": 0, \"ticks\": \"\"}}, \"type\": \"histogram\"}], \"histogram2d\": [{\"colorbar\": {\"outlinewidth\": 0, \"ticks\": \"\"}, \"colorscale\": [[0.0, \"#0d0887\"], [0.1111111111111111, \"#46039f\"], [0.2222222222222222, \"#7201a8\"], [0.3333333333333333, \"#9c179e\"], [0.4444444444444444, \"#bd3786\"], [0.5555555555555556, \"#d8576b\"], [0.6666666666666666, \"#ed7953\"], [0.7777777777777778, \"#fb9f3a\"], [0.8888888888888888, \"#fdca26\"], [1.0, \"#f0f921\"]], \"type\": \"histogram2d\"}], \"histogram2dcontour\": [{\"colorbar\": {\"outlinewidth\": 0, \"ticks\": \"\"}, \"colorscale\": [[0.0, \"#0d0887\"], [0.1111111111111111, \"#46039f\"], [0.2222222222222222, \"#7201a8\"], [0.3333333333333333, \"#9c179e\"], [0.4444444444444444, \"#bd3786\"], [0.5555555555555556, \"#d8576b\"], [0.6666666666666666, \"#ed7953\"], [0.7777777777777778, \"#fb9f3a\"], [0.8888888888888888, \"#fdca26\"], [1.0, \"#f0f921\"]], \"type\": \"histogram2dcontour\"}], \"mesh3d\": [{\"colorbar\": {\"outlinewidth\": 0, \"ticks\": \"\"}, \"type\": \"mesh3d\"}], \"parcoords\": [{\"line\": {\"colorbar\": {\"outlinewidth\": 0, \"ticks\": \"\"}}, \"type\": \"parcoords\"}], \"pie\": [{\"automargin\": true, \"type\": \"pie\"}], \"scatter\": [{\"marker\": {\"colorbar\": {\"outlinewidth\": 0, \"ticks\": \"\"}}, \"type\": \"scatter\"}], \"scatter3d\": [{\"line\": {\"colorbar\": {\"outlinewidth\": 0, \"ticks\": \"\"}}, \"marker\": {\"colorbar\": {\"outlinewidth\": 0, \"ticks\": \"\"}}, \"type\": \"scatter3d\"}], \"scattercarpet\": [{\"marker\": {\"colorbar\": {\"outlinewidth\": 0, \"ticks\": \"\"}}, \"type\": \"scattercarpet\"}], \"scattergeo\": [{\"marker\": {\"colorbar\": {\"outlinewidth\": 0, \"ticks\": \"\"}}, \"type\": \"scattergeo\"}], \"scattergl\": [{\"marker\": {\"colorbar\": {\"outlinewidth\": 0, \"ticks\": \"\"}}, \"type\": \"scattergl\"}], \"scattermapbox\": [{\"marker\": {\"colorbar\": {\"outlinewidth\": 0, \"ticks\": \"\"}}, \"type\": \"scattermapbox\"}], \"scatterpolar\": [{\"marker\": {\"colorbar\": {\"outlinewidth\": 0, \"ticks\": \"\"}}, \"type\": \"scatterpolar\"}], \"scatterpolargl\": [{\"marker\": {\"colorbar\": {\"outlinewidth\": 0, \"ticks\": \"\"}}, \"type\": \"scatterpolargl\"}], \"scatterternary\": [{\"marker\": {\"colorbar\": {\"outlinewidth\": 0, \"ticks\": \"\"}}, \"type\": \"scatterternary\"}], \"surface\": [{\"colorbar\": {\"outlinewidth\": 0, \"ticks\": \"\"}, \"colorscale\": [[0.0, \"#0d0887\"], [0.1111111111111111, \"#46039f\"], [0.2222222222222222, \"#7201a8\"], [0.3333333333333333, \"#9c179e\"], [0.4444444444444444, \"#bd3786\"], [0.5555555555555556, \"#d8576b\"], [0.6666666666666666, \"#ed7953\"], [0.7777777777777778, \"#fb9f3a\"], [0.8888888888888888, \"#fdca26\"], [1.0, \"#f0f921\"]], \"type\": \"surface\"}], \"table\": [{\"cells\": {\"fill\": {\"color\": \"#EBF0F8\"}, \"line\": {\"color\": \"white\"}}, \"header\": {\"fill\": {\"color\": \"#C8D4E3\"}, \"line\": {\"color\": \"white\"}}, \"type\": \"table\"}]}, \"layout\": {\"annotationdefaults\": {\"arrowcolor\": \"#2a3f5f\", \"arrowhead\": 0, \"arrowwidth\": 1}, \"autotypenumbers\": \"strict\", \"coloraxis\": {\"colorbar\": {\"outlinewidth\": 0, \"ticks\": \"\"}}, \"colorscale\": {\"diverging\": [[0, \"#8e0152\"], [0.1, \"#c51b7d\"], [0.2, \"#de77ae\"], [0.3, \"#f1b6da\"], [0.4, \"#fde0ef\"], [0.5, \"#f7f7f7\"], [0.6, \"#e6f5d0\"], [0.7, \"#b8e186\"], [0.8, \"#7fbc41\"], [0.9, \"#4d9221\"], [1, \"#276419\"]], \"sequential\": [[0.0, \"#0d0887\"], [0.1111111111111111, \"#46039f\"], [0.2222222222222222, \"#7201a8\"], [0.3333333333333333, \"#9c179e\"], [0.4444444444444444, \"#bd3786\"], [0.5555555555555556, \"#d8576b\"], [0.6666666666666666, \"#ed7953\"], [0.7777777777777778, \"#fb9f3a\"], [0.8888888888888888, \"#fdca26\"], [1.0, \"#f0f921\"]], \"sequentialminus\": [[0.0, \"#0d0887\"], [0.1111111111111111, \"#46039f\"], [0.2222222222222222, \"#7201a8\"], [0.3333333333333333, \"#9c179e\"], [0.4444444444444444, \"#bd3786\"], [0.5555555555555556, \"#d8576b\"], [0.6666666666666666, \"#ed7953\"], [0.7777777777777778, \"#fb9f3a\"], [0.8888888888888888, \"#fdca26\"], [1.0, \"#f0f921\"]]}, \"colorway\": [\"#636efa\", \"#EF553B\", \"#00cc96\", \"#ab63fa\", \"#FFA15A\", \"#19d3f3\", \"#FF6692\", \"#B6E880\", \"#FF97FF\", \"#FECB52\"], \"font\": {\"color\": \"#2a3f5f\"}, \"geo\": {\"bgcolor\": \"white\", \"lakecolor\": \"white\", \"landcolor\": \"#E5ECF6\", \"showlakes\": true, \"showland\": true, \"subunitcolor\": \"white\"}, \"hoverlabel\": {\"align\": \"left\"}, \"hovermode\": \"closest\", \"mapbox\": {\"style\": \"light\"}, \"paper_bgcolor\": \"white\", \"plot_bgcolor\": \"#E5ECF6\", \"polar\": {\"angularaxis\": {\"gridcolor\": \"white\", \"linecolor\": \"white\", \"ticks\": \"\"}, \"bgcolor\": \"#E5ECF6\", \"radialaxis\": {\"gridcolor\": \"white\", \"linecolor\": \"white\", \"ticks\": \"\"}}, \"scene\": {\"xaxis\": {\"backgroundcolor\": \"#E5ECF6\", \"gridcolor\": \"white\", \"gridwidth\": 2, \"linecolor\": \"white\", \"showbackground\": true, \"ticks\": \"\", \"zerolinecolor\": \"white\"}, \"yaxis\": {\"backgroundcolor\": \"#E5ECF6\", \"gridcolor\": \"white\", \"gridwidth\": 2, \"linecolor\": \"white\", \"showbackground\": true, \"ticks\": \"\", \"zerolinecolor\": \"white\"}, \"zaxis\": {\"backgroundcolor\": \"#E5ECF6\", \"gridcolor\": \"white\", \"gridwidth\": 2, \"linecolor\": \"white\", \"showbackground\": true, \"ticks\": \"\", \"zerolinecolor\": \"white\"}}, \"shapedefaults\": {\"line\": {\"color\": \"#2a3f5f\"}}, \"ternary\": {\"aaxis\": {\"gridcolor\": \"white\", \"linecolor\": \"white\", \"ticks\": \"\"}, \"baxis\": {\"gridcolor\": \"white\", \"linecolor\": \"white\", \"ticks\": \"\"}, \"bgcolor\": \"#E5ECF6\", \"caxis\": {\"gridcolor\": \"white\", \"linecolor\": \"white\", \"ticks\": \"\"}}, \"title\": {\"x\": 0.05}, \"xaxis\": {\"automargin\": true, \"gridcolor\": \"white\", \"linecolor\": \"white\", \"ticks\": \"\", \"title\": {\"standoff\": 15}, \"zerolinecolor\": \"white\", \"zerolinewidth\": 2}, \"yaxis\": {\"automargin\": true, \"gridcolor\": \"white\", \"linecolor\": \"white\", \"ticks\": \"\", \"title\": {\"standoff\": 15}, \"zerolinecolor\": \"white\", \"zerolinewidth\": 2}}}, \"title\": {\"text\": \"The number of components needed to explain variance\"}, \"xaxis\": {\"anchor\": \"y\", \"domain\": [0.0, 1.0], \"range\": [0, 7], \"title\": {\"text\": \"Number of components\"}}, \"yaxis\": {\"anchor\": \"x\", \"domain\": [0.0, 1.0], \"range\": [0, 1.1], \"title\": {\"text\": \"Cumulative variance (%)\"}}},                        {\"responsive\": true}                    ).then(function(){\n",
       "                            \n",
       "var gd = document.getElementById('bf7c3347-8ce0-40f7-9a4f-c3f749b76f58');\n",
       "var x = new MutationObserver(function (mutations, observer) {{\n",
       "        var display = window.getComputedStyle(gd).display;\n",
       "        if (!display || display === 'none') {{\n",
       "            console.log([gd, 'removed!']);\n",
       "            Plotly.purge(gd);\n",
       "            observer.disconnect();\n",
       "        }}\n",
       "}});\n",
       "\n",
       "// Listen for the removal of the full notebook cells\n",
       "var notebookContainer = gd.closest('#notebook-container');\n",
       "if (notebookContainer) {{\n",
       "    x.observe(notebookContainer, {childList: true});\n",
       "}}\n",
       "\n",
       "// Listen for the clearing of the current output cell\n",
       "var outputEl = gd.closest('.output');\n",
       "if (outputEl) {{\n",
       "    x.observe(outputEl, {childList: true});\n",
       "}}\n",
       "\n",
       "                        })                };                });            </script>        </div>"
      ]
     },
     "metadata": {},
     "output_type": "display_data"
    }
   ],
   "source": [
    "# Plot cumulative variance to visualize which attributes to cut off, use only the remaining features as predictors\n",
    "\n",
    "relevant_features = ['bmi', 'children', 'smoker', 'canton', 'age']\n",
    "\n",
    "fig = px.line(pca_results, x='pc', y='variance_ratio_cumsum', text='feature',\n",
    "              title='The number of components needed to explain variance')\n",
    "\n",
    "fig.add_hline(y=0.95, line_color='red', line_dash='dot', annotation_text='95% cut-off')\n",
    "fig.update_xaxes(range=[0, len(pca_results)+1], title_text='Number of components')\n",
    "fig.update_yaxes(range=[0, 1.1], title_text='Cumulative variance (%)')\n",
    "\n",
    "fig.update_traces(textposition='top left')\n",
    "\n",
    "fig.show()"
   ]
  },
  {
   "cell_type": "code",
   "execution_count": 47,
   "metadata": {
    "scrolled": true
   },
   "outputs": [
    {
     "name": "stderr",
     "output_type": "stream",
     "text": [
      "C:\\Users\\kfatur\\anaconda3\\lib\\site-packages\\sklearn\\cluster\\_kmeans.py:881: UserWarning:\n",
      "\n",
      "KMeans is known to have a memory leak on Windows with MKL, when there are less chunks than available threads. You can avoid it by setting the environment variable OMP_NUM_THREADS=6.\n",
      "\n"
     ]
    },
    {
     "data": {
      "application/vnd.plotly.v1+json": {
       "config": {
        "plotlyServerURL": "https://plot.ly"
       },
       "data": [
        {
         "hovertemplate": "n_clusters=%{x}<br>wcss=%{y}<extra></extra>",
         "legendgroup": "",
         "line": {
          "color": "#636efa",
          "dash": "solid"
         },
         "mode": "lines",
         "name": "",
         "orientation": "v",
         "showlegend": false,
         "type": "scatter",
         "x": [
          1,
          2,
          3,
          4,
          5,
          6,
          7,
          8,
          9,
          10,
          11,
          12,
          13,
          14,
          15,
          16,
          17,
          18,
          19,
          20
         ],
         "xaxis": "x",
         "y": [
          7595.2054270192675,
          6053.463926531954,
          5023.219067162996,
          4446.215290658239,
          3992.971555665937,
          3651.0579688670373,
          3367.6259060034736,
          3092.9761636944027,
          2913.3292204335066,
          2749.128365939058,
          2601.90130864029,
          2452.8426691364925,
          2336.982857622393,
          2241.522567000704,
          2144.659433299476,
          2077.7393409705487,
          1986.9912123074255,
          1901.1726933038099,
          1852.7223010014143,
          1794.7543353629926
         ],
         "yaxis": "y"
        }
       ],
       "layout": {
        "legend": {
         "tracegroupgap": 0
        },
        "shapes": [
         {
          "line": {
           "color": "red",
           "dash": "dot"
          },
          "type": "line",
          "x0": 3,
          "x1": 3,
          "xref": "x",
          "y0": 0,
          "y1": 1,
          "yref": "y domain"
         }
        ],
        "template": {
         "data": {
          "bar": [
           {
            "error_x": {
             "color": "#2a3f5f"
            },
            "error_y": {
             "color": "#2a3f5f"
            },
            "marker": {
             "line": {
              "color": "#E5ECF6",
              "width": 0.5
             }
            },
            "type": "bar"
           }
          ],
          "barpolar": [
           {
            "marker": {
             "line": {
              "color": "#E5ECF6",
              "width": 0.5
             }
            },
            "type": "barpolar"
           }
          ],
          "carpet": [
           {
            "aaxis": {
             "endlinecolor": "#2a3f5f",
             "gridcolor": "white",
             "linecolor": "white",
             "minorgridcolor": "white",
             "startlinecolor": "#2a3f5f"
            },
            "baxis": {
             "endlinecolor": "#2a3f5f",
             "gridcolor": "white",
             "linecolor": "white",
             "minorgridcolor": "white",
             "startlinecolor": "#2a3f5f"
            },
            "type": "carpet"
           }
          ],
          "choropleth": [
           {
            "colorbar": {
             "outlinewidth": 0,
             "ticks": ""
            },
            "type": "choropleth"
           }
          ],
          "contour": [
           {
            "colorbar": {
             "outlinewidth": 0,
             "ticks": ""
            },
            "colorscale": [
             [
              0,
              "#0d0887"
             ],
             [
              0.1111111111111111,
              "#46039f"
             ],
             [
              0.2222222222222222,
              "#7201a8"
             ],
             [
              0.3333333333333333,
              "#9c179e"
             ],
             [
              0.4444444444444444,
              "#bd3786"
             ],
             [
              0.5555555555555556,
              "#d8576b"
             ],
             [
              0.6666666666666666,
              "#ed7953"
             ],
             [
              0.7777777777777778,
              "#fb9f3a"
             ],
             [
              0.8888888888888888,
              "#fdca26"
             ],
             [
              1,
              "#f0f921"
             ]
            ],
            "type": "contour"
           }
          ],
          "contourcarpet": [
           {
            "colorbar": {
             "outlinewidth": 0,
             "ticks": ""
            },
            "type": "contourcarpet"
           }
          ],
          "heatmap": [
           {
            "colorbar": {
             "outlinewidth": 0,
             "ticks": ""
            },
            "colorscale": [
             [
              0,
              "#0d0887"
             ],
             [
              0.1111111111111111,
              "#46039f"
             ],
             [
              0.2222222222222222,
              "#7201a8"
             ],
             [
              0.3333333333333333,
              "#9c179e"
             ],
             [
              0.4444444444444444,
              "#bd3786"
             ],
             [
              0.5555555555555556,
              "#d8576b"
             ],
             [
              0.6666666666666666,
              "#ed7953"
             ],
             [
              0.7777777777777778,
              "#fb9f3a"
             ],
             [
              0.8888888888888888,
              "#fdca26"
             ],
             [
              1,
              "#f0f921"
             ]
            ],
            "type": "heatmap"
           }
          ],
          "heatmapgl": [
           {
            "colorbar": {
             "outlinewidth": 0,
             "ticks": ""
            },
            "colorscale": [
             [
              0,
              "#0d0887"
             ],
             [
              0.1111111111111111,
              "#46039f"
             ],
             [
              0.2222222222222222,
              "#7201a8"
             ],
             [
              0.3333333333333333,
              "#9c179e"
             ],
             [
              0.4444444444444444,
              "#bd3786"
             ],
             [
              0.5555555555555556,
              "#d8576b"
             ],
             [
              0.6666666666666666,
              "#ed7953"
             ],
             [
              0.7777777777777778,
              "#fb9f3a"
             ],
             [
              0.8888888888888888,
              "#fdca26"
             ],
             [
              1,
              "#f0f921"
             ]
            ],
            "type": "heatmapgl"
           }
          ],
          "histogram": [
           {
            "marker": {
             "colorbar": {
              "outlinewidth": 0,
              "ticks": ""
             }
            },
            "type": "histogram"
           }
          ],
          "histogram2d": [
           {
            "colorbar": {
             "outlinewidth": 0,
             "ticks": ""
            },
            "colorscale": [
             [
              0,
              "#0d0887"
             ],
             [
              0.1111111111111111,
              "#46039f"
             ],
             [
              0.2222222222222222,
              "#7201a8"
             ],
             [
              0.3333333333333333,
              "#9c179e"
             ],
             [
              0.4444444444444444,
              "#bd3786"
             ],
             [
              0.5555555555555556,
              "#d8576b"
             ],
             [
              0.6666666666666666,
              "#ed7953"
             ],
             [
              0.7777777777777778,
              "#fb9f3a"
             ],
             [
              0.8888888888888888,
              "#fdca26"
             ],
             [
              1,
              "#f0f921"
             ]
            ],
            "type": "histogram2d"
           }
          ],
          "histogram2dcontour": [
           {
            "colorbar": {
             "outlinewidth": 0,
             "ticks": ""
            },
            "colorscale": [
             [
              0,
              "#0d0887"
             ],
             [
              0.1111111111111111,
              "#46039f"
             ],
             [
              0.2222222222222222,
              "#7201a8"
             ],
             [
              0.3333333333333333,
              "#9c179e"
             ],
             [
              0.4444444444444444,
              "#bd3786"
             ],
             [
              0.5555555555555556,
              "#d8576b"
             ],
             [
              0.6666666666666666,
              "#ed7953"
             ],
             [
              0.7777777777777778,
              "#fb9f3a"
             ],
             [
              0.8888888888888888,
              "#fdca26"
             ],
             [
              1,
              "#f0f921"
             ]
            ],
            "type": "histogram2dcontour"
           }
          ],
          "mesh3d": [
           {
            "colorbar": {
             "outlinewidth": 0,
             "ticks": ""
            },
            "type": "mesh3d"
           }
          ],
          "parcoords": [
           {
            "line": {
             "colorbar": {
              "outlinewidth": 0,
              "ticks": ""
             }
            },
            "type": "parcoords"
           }
          ],
          "pie": [
           {
            "automargin": true,
            "type": "pie"
           }
          ],
          "scatter": [
           {
            "marker": {
             "colorbar": {
              "outlinewidth": 0,
              "ticks": ""
             }
            },
            "type": "scatter"
           }
          ],
          "scatter3d": [
           {
            "line": {
             "colorbar": {
              "outlinewidth": 0,
              "ticks": ""
             }
            },
            "marker": {
             "colorbar": {
              "outlinewidth": 0,
              "ticks": ""
             }
            },
            "type": "scatter3d"
           }
          ],
          "scattercarpet": [
           {
            "marker": {
             "colorbar": {
              "outlinewidth": 0,
              "ticks": ""
             }
            },
            "type": "scattercarpet"
           }
          ],
          "scattergeo": [
           {
            "marker": {
             "colorbar": {
              "outlinewidth": 0,
              "ticks": ""
             }
            },
            "type": "scattergeo"
           }
          ],
          "scattergl": [
           {
            "marker": {
             "colorbar": {
              "outlinewidth": 0,
              "ticks": ""
             }
            },
            "type": "scattergl"
           }
          ],
          "scattermapbox": [
           {
            "marker": {
             "colorbar": {
              "outlinewidth": 0,
              "ticks": ""
             }
            },
            "type": "scattermapbox"
           }
          ],
          "scatterpolar": [
           {
            "marker": {
             "colorbar": {
              "outlinewidth": 0,
              "ticks": ""
             }
            },
            "type": "scatterpolar"
           }
          ],
          "scatterpolargl": [
           {
            "marker": {
             "colorbar": {
              "outlinewidth": 0,
              "ticks": ""
             }
            },
            "type": "scatterpolargl"
           }
          ],
          "scatterternary": [
           {
            "marker": {
             "colorbar": {
              "outlinewidth": 0,
              "ticks": ""
             }
            },
            "type": "scatterternary"
           }
          ],
          "surface": [
           {
            "colorbar": {
             "outlinewidth": 0,
             "ticks": ""
            },
            "colorscale": [
             [
              0,
              "#0d0887"
             ],
             [
              0.1111111111111111,
              "#46039f"
             ],
             [
              0.2222222222222222,
              "#7201a8"
             ],
             [
              0.3333333333333333,
              "#9c179e"
             ],
             [
              0.4444444444444444,
              "#bd3786"
             ],
             [
              0.5555555555555556,
              "#d8576b"
             ],
             [
              0.6666666666666666,
              "#ed7953"
             ],
             [
              0.7777777777777778,
              "#fb9f3a"
             ],
             [
              0.8888888888888888,
              "#fdca26"
             ],
             [
              1,
              "#f0f921"
             ]
            ],
            "type": "surface"
           }
          ],
          "table": [
           {
            "cells": {
             "fill": {
              "color": "#EBF0F8"
             },
             "line": {
              "color": "white"
             }
            },
            "header": {
             "fill": {
              "color": "#C8D4E3"
             },
             "line": {
              "color": "white"
             }
            },
            "type": "table"
           }
          ]
         },
         "layout": {
          "annotationdefaults": {
           "arrowcolor": "#2a3f5f",
           "arrowhead": 0,
           "arrowwidth": 1
          },
          "autotypenumbers": "strict",
          "coloraxis": {
           "colorbar": {
            "outlinewidth": 0,
            "ticks": ""
           }
          },
          "colorscale": {
           "diverging": [
            [
             0,
             "#8e0152"
            ],
            [
             0.1,
             "#c51b7d"
            ],
            [
             0.2,
             "#de77ae"
            ],
            [
             0.3,
             "#f1b6da"
            ],
            [
             0.4,
             "#fde0ef"
            ],
            [
             0.5,
             "#f7f7f7"
            ],
            [
             0.6,
             "#e6f5d0"
            ],
            [
             0.7,
             "#b8e186"
            ],
            [
             0.8,
             "#7fbc41"
            ],
            [
             0.9,
             "#4d9221"
            ],
            [
             1,
             "#276419"
            ]
           ],
           "sequential": [
            [
             0,
             "#0d0887"
            ],
            [
             0.1111111111111111,
             "#46039f"
            ],
            [
             0.2222222222222222,
             "#7201a8"
            ],
            [
             0.3333333333333333,
             "#9c179e"
            ],
            [
             0.4444444444444444,
             "#bd3786"
            ],
            [
             0.5555555555555556,
             "#d8576b"
            ],
            [
             0.6666666666666666,
             "#ed7953"
            ],
            [
             0.7777777777777778,
             "#fb9f3a"
            ],
            [
             0.8888888888888888,
             "#fdca26"
            ],
            [
             1,
             "#f0f921"
            ]
           ],
           "sequentialminus": [
            [
             0,
             "#0d0887"
            ],
            [
             0.1111111111111111,
             "#46039f"
            ],
            [
             0.2222222222222222,
             "#7201a8"
            ],
            [
             0.3333333333333333,
             "#9c179e"
            ],
            [
             0.4444444444444444,
             "#bd3786"
            ],
            [
             0.5555555555555556,
             "#d8576b"
            ],
            [
             0.6666666666666666,
             "#ed7953"
            ],
            [
             0.7777777777777778,
             "#fb9f3a"
            ],
            [
             0.8888888888888888,
             "#fdca26"
            ],
            [
             1,
             "#f0f921"
            ]
           ]
          },
          "colorway": [
           "#636efa",
           "#EF553B",
           "#00cc96",
           "#ab63fa",
           "#FFA15A",
           "#19d3f3",
           "#FF6692",
           "#B6E880",
           "#FF97FF",
           "#FECB52"
          ],
          "font": {
           "color": "#2a3f5f"
          },
          "geo": {
           "bgcolor": "white",
           "lakecolor": "white",
           "landcolor": "#E5ECF6",
           "showlakes": true,
           "showland": true,
           "subunitcolor": "white"
          },
          "hoverlabel": {
           "align": "left"
          },
          "hovermode": "closest",
          "mapbox": {
           "style": "light"
          },
          "paper_bgcolor": "white",
          "plot_bgcolor": "#E5ECF6",
          "polar": {
           "angularaxis": {
            "gridcolor": "white",
            "linecolor": "white",
            "ticks": ""
           },
           "bgcolor": "#E5ECF6",
           "radialaxis": {
            "gridcolor": "white",
            "linecolor": "white",
            "ticks": ""
           }
          },
          "scene": {
           "xaxis": {
            "backgroundcolor": "#E5ECF6",
            "gridcolor": "white",
            "gridwidth": 2,
            "linecolor": "white",
            "showbackground": true,
            "ticks": "",
            "zerolinecolor": "white"
           },
           "yaxis": {
            "backgroundcolor": "#E5ECF6",
            "gridcolor": "white",
            "gridwidth": 2,
            "linecolor": "white",
            "showbackground": true,
            "ticks": "",
            "zerolinecolor": "white"
           },
           "zaxis": {
            "backgroundcolor": "#E5ECF6",
            "gridcolor": "white",
            "gridwidth": 2,
            "linecolor": "white",
            "showbackground": true,
            "ticks": "",
            "zerolinecolor": "white"
           }
          },
          "shapedefaults": {
           "line": {
            "color": "#2a3f5f"
           }
          },
          "ternary": {
           "aaxis": {
            "gridcolor": "white",
            "linecolor": "white",
            "ticks": ""
           },
           "baxis": {
            "gridcolor": "white",
            "linecolor": "white",
            "ticks": ""
           },
           "bgcolor": "#E5ECF6",
           "caxis": {
            "gridcolor": "white",
            "linecolor": "white",
            "ticks": ""
           }
          },
          "title": {
           "x": 0.05
          },
          "xaxis": {
           "automargin": true,
           "gridcolor": "white",
           "linecolor": "white",
           "ticks": "",
           "title": {
            "standoff": 15
           },
           "zerolinecolor": "white",
           "zerolinewidth": 2
          },
          "yaxis": {
           "automargin": true,
           "gridcolor": "white",
           "linecolor": "white",
           "ticks": "",
           "title": {
            "standoff": 15
           },
           "zerolinecolor": "white",
           "zerolinewidth": 2
          }
         }
        },
        "title": {
         "text": "K-means with PCA clustering"
        },
        "xaxis": {
         "anchor": "y",
         "domain": [
          0,
          1
         ],
         "title": {
          "text": "n_clusters"
         }
        },
        "yaxis": {
         "anchor": "x",
         "domain": [
          0,
          1
         ],
         "title": {
          "text": "wcss"
         }
        }
       }
      },
      "text/html": [
       "<div>                            <div id=\"8eb61cd4-3100-40fb-b0a6-5904a5ea73f8\" class=\"plotly-graph-div\" style=\"height:525px; width:100%;\"></div>            <script type=\"text/javascript\">                require([\"plotly\"], function(Plotly) {                    window.PLOTLYENV=window.PLOTLYENV || {};                                    if (document.getElementById(\"8eb61cd4-3100-40fb-b0a6-5904a5ea73f8\")) {                    Plotly.newPlot(                        \"8eb61cd4-3100-40fb-b0a6-5904a5ea73f8\",                        [{\"hovertemplate\": \"n_clusters=%{x}<br>wcss=%{y}<extra></extra>\", \"legendgroup\": \"\", \"line\": {\"color\": \"#636efa\", \"dash\": \"solid\"}, \"mode\": \"lines\", \"name\": \"\", \"orientation\": \"v\", \"showlegend\": false, \"type\": \"scatter\", \"x\": [1, 2, 3, 4, 5, 6, 7, 8, 9, 10, 11, 12, 13, 14, 15, 16, 17, 18, 19, 20], \"xaxis\": \"x\", \"y\": [7595.2054270192675, 6053.463926531954, 5023.219067162996, 4446.215290658239, 3992.971555665937, 3651.0579688670373, 3367.6259060034736, 3092.9761636944027, 2913.3292204335066, 2749.128365939058, 2601.90130864029, 2452.8426691364925, 2336.982857622393, 2241.522567000704, 2144.659433299476, 2077.7393409705487, 1986.9912123074255, 1901.1726933038099, 1852.7223010014143, 1794.7543353629926], \"yaxis\": \"y\"}],                        {\"legend\": {\"tracegroupgap\": 0}, \"shapes\": [{\"line\": {\"color\": \"red\", \"dash\": \"dot\"}, \"type\": \"line\", \"x0\": 3, \"x1\": 3, \"xref\": \"x\", \"y0\": 0, \"y1\": 1, \"yref\": \"y domain\"}], \"template\": {\"data\": {\"bar\": [{\"error_x\": {\"color\": \"#2a3f5f\"}, \"error_y\": {\"color\": \"#2a3f5f\"}, \"marker\": {\"line\": {\"color\": \"#E5ECF6\", \"width\": 0.5}}, \"type\": \"bar\"}], \"barpolar\": [{\"marker\": {\"line\": {\"color\": \"#E5ECF6\", \"width\": 0.5}}, \"type\": \"barpolar\"}], \"carpet\": [{\"aaxis\": {\"endlinecolor\": \"#2a3f5f\", \"gridcolor\": \"white\", \"linecolor\": \"white\", \"minorgridcolor\": \"white\", \"startlinecolor\": \"#2a3f5f\"}, \"baxis\": {\"endlinecolor\": \"#2a3f5f\", \"gridcolor\": \"white\", \"linecolor\": \"white\", \"minorgridcolor\": \"white\", \"startlinecolor\": \"#2a3f5f\"}, \"type\": \"carpet\"}], \"choropleth\": [{\"colorbar\": {\"outlinewidth\": 0, \"ticks\": \"\"}, \"type\": \"choropleth\"}], \"contour\": [{\"colorbar\": {\"outlinewidth\": 0, \"ticks\": \"\"}, \"colorscale\": [[0.0, \"#0d0887\"], [0.1111111111111111, \"#46039f\"], [0.2222222222222222, \"#7201a8\"], [0.3333333333333333, \"#9c179e\"], [0.4444444444444444, \"#bd3786\"], [0.5555555555555556, \"#d8576b\"], [0.6666666666666666, \"#ed7953\"], [0.7777777777777778, \"#fb9f3a\"], [0.8888888888888888, \"#fdca26\"], [1.0, \"#f0f921\"]], \"type\": \"contour\"}], \"contourcarpet\": [{\"colorbar\": {\"outlinewidth\": 0, \"ticks\": \"\"}, \"type\": \"contourcarpet\"}], \"heatmap\": [{\"colorbar\": {\"outlinewidth\": 0, \"ticks\": \"\"}, \"colorscale\": [[0.0, \"#0d0887\"], [0.1111111111111111, \"#46039f\"], [0.2222222222222222, \"#7201a8\"], [0.3333333333333333, \"#9c179e\"], [0.4444444444444444, \"#bd3786\"], [0.5555555555555556, \"#d8576b\"], [0.6666666666666666, \"#ed7953\"], [0.7777777777777778, \"#fb9f3a\"], [0.8888888888888888, \"#fdca26\"], [1.0, \"#f0f921\"]], \"type\": \"heatmap\"}], \"heatmapgl\": [{\"colorbar\": {\"outlinewidth\": 0, \"ticks\": \"\"}, \"colorscale\": [[0.0, \"#0d0887\"], [0.1111111111111111, \"#46039f\"], [0.2222222222222222, \"#7201a8\"], [0.3333333333333333, \"#9c179e\"], [0.4444444444444444, \"#bd3786\"], [0.5555555555555556, \"#d8576b\"], [0.6666666666666666, \"#ed7953\"], [0.7777777777777778, \"#fb9f3a\"], [0.8888888888888888, \"#fdca26\"], [1.0, \"#f0f921\"]], \"type\": \"heatmapgl\"}], \"histogram\": [{\"marker\": {\"colorbar\": {\"outlinewidth\": 0, \"ticks\": \"\"}}, \"type\": \"histogram\"}], \"histogram2d\": [{\"colorbar\": {\"outlinewidth\": 0, \"ticks\": \"\"}, \"colorscale\": [[0.0, \"#0d0887\"], [0.1111111111111111, \"#46039f\"], [0.2222222222222222, \"#7201a8\"], [0.3333333333333333, \"#9c179e\"], [0.4444444444444444, \"#bd3786\"], [0.5555555555555556, \"#d8576b\"], [0.6666666666666666, \"#ed7953\"], [0.7777777777777778, \"#fb9f3a\"], [0.8888888888888888, \"#fdca26\"], [1.0, \"#f0f921\"]], \"type\": \"histogram2d\"}], \"histogram2dcontour\": [{\"colorbar\": {\"outlinewidth\": 0, \"ticks\": \"\"}, \"colorscale\": [[0.0, \"#0d0887\"], [0.1111111111111111, \"#46039f\"], [0.2222222222222222, \"#7201a8\"], [0.3333333333333333, \"#9c179e\"], [0.4444444444444444, \"#bd3786\"], [0.5555555555555556, \"#d8576b\"], [0.6666666666666666, \"#ed7953\"], [0.7777777777777778, \"#fb9f3a\"], [0.8888888888888888, \"#fdca26\"], [1.0, \"#f0f921\"]], \"type\": \"histogram2dcontour\"}], \"mesh3d\": [{\"colorbar\": {\"outlinewidth\": 0, \"ticks\": \"\"}, \"type\": \"mesh3d\"}], \"parcoords\": [{\"line\": {\"colorbar\": {\"outlinewidth\": 0, \"ticks\": \"\"}}, \"type\": \"parcoords\"}], \"pie\": [{\"automargin\": true, \"type\": \"pie\"}], \"scatter\": [{\"marker\": {\"colorbar\": {\"outlinewidth\": 0, \"ticks\": \"\"}}, \"type\": \"scatter\"}], \"scatter3d\": [{\"line\": {\"colorbar\": {\"outlinewidth\": 0, \"ticks\": \"\"}}, \"marker\": {\"colorbar\": {\"outlinewidth\": 0, \"ticks\": \"\"}}, \"type\": \"scatter3d\"}], \"scattercarpet\": [{\"marker\": {\"colorbar\": {\"outlinewidth\": 0, \"ticks\": \"\"}}, \"type\": \"scattercarpet\"}], \"scattergeo\": [{\"marker\": {\"colorbar\": {\"outlinewidth\": 0, \"ticks\": \"\"}}, \"type\": \"scattergeo\"}], \"scattergl\": [{\"marker\": {\"colorbar\": {\"outlinewidth\": 0, \"ticks\": \"\"}}, \"type\": \"scattergl\"}], \"scattermapbox\": [{\"marker\": {\"colorbar\": {\"outlinewidth\": 0, \"ticks\": \"\"}}, \"type\": \"scattermapbox\"}], \"scatterpolar\": [{\"marker\": {\"colorbar\": {\"outlinewidth\": 0, \"ticks\": \"\"}}, \"type\": \"scatterpolar\"}], \"scatterpolargl\": [{\"marker\": {\"colorbar\": {\"outlinewidth\": 0, \"ticks\": \"\"}}, \"type\": \"scatterpolargl\"}], \"scatterternary\": [{\"marker\": {\"colorbar\": {\"outlinewidth\": 0, \"ticks\": \"\"}}, \"type\": \"scatterternary\"}], \"surface\": [{\"colorbar\": {\"outlinewidth\": 0, \"ticks\": \"\"}, \"colorscale\": [[0.0, \"#0d0887\"], [0.1111111111111111, \"#46039f\"], [0.2222222222222222, \"#7201a8\"], [0.3333333333333333, \"#9c179e\"], [0.4444444444444444, \"#bd3786\"], [0.5555555555555556, \"#d8576b\"], [0.6666666666666666, \"#ed7953\"], [0.7777777777777778, \"#fb9f3a\"], [0.8888888888888888, \"#fdca26\"], [1.0, \"#f0f921\"]], \"type\": \"surface\"}], \"table\": [{\"cells\": {\"fill\": {\"color\": \"#EBF0F8\"}, \"line\": {\"color\": \"white\"}}, \"header\": {\"fill\": {\"color\": \"#C8D4E3\"}, \"line\": {\"color\": \"white\"}}, \"type\": \"table\"}]}, \"layout\": {\"annotationdefaults\": {\"arrowcolor\": \"#2a3f5f\", \"arrowhead\": 0, \"arrowwidth\": 1}, \"autotypenumbers\": \"strict\", \"coloraxis\": {\"colorbar\": {\"outlinewidth\": 0, \"ticks\": \"\"}}, \"colorscale\": {\"diverging\": [[0, \"#8e0152\"], [0.1, \"#c51b7d\"], [0.2, \"#de77ae\"], [0.3, \"#f1b6da\"], [0.4, \"#fde0ef\"], [0.5, \"#f7f7f7\"], [0.6, \"#e6f5d0\"], [0.7, \"#b8e186\"], [0.8, \"#7fbc41\"], [0.9, \"#4d9221\"], [1, \"#276419\"]], \"sequential\": [[0.0, \"#0d0887\"], [0.1111111111111111, \"#46039f\"], [0.2222222222222222, \"#7201a8\"], [0.3333333333333333, \"#9c179e\"], [0.4444444444444444, \"#bd3786\"], [0.5555555555555556, \"#d8576b\"], [0.6666666666666666, \"#ed7953\"], [0.7777777777777778, \"#fb9f3a\"], [0.8888888888888888, \"#fdca26\"], [1.0, \"#f0f921\"]], \"sequentialminus\": [[0.0, \"#0d0887\"], [0.1111111111111111, \"#46039f\"], [0.2222222222222222, \"#7201a8\"], [0.3333333333333333, \"#9c179e\"], [0.4444444444444444, \"#bd3786\"], [0.5555555555555556, \"#d8576b\"], [0.6666666666666666, \"#ed7953\"], [0.7777777777777778, \"#fb9f3a\"], [0.8888888888888888, \"#fdca26\"], [1.0, \"#f0f921\"]]}, \"colorway\": [\"#636efa\", \"#EF553B\", \"#00cc96\", \"#ab63fa\", \"#FFA15A\", \"#19d3f3\", \"#FF6692\", \"#B6E880\", \"#FF97FF\", \"#FECB52\"], \"font\": {\"color\": \"#2a3f5f\"}, \"geo\": {\"bgcolor\": \"white\", \"lakecolor\": \"white\", \"landcolor\": \"#E5ECF6\", \"showlakes\": true, \"showland\": true, \"subunitcolor\": \"white\"}, \"hoverlabel\": {\"align\": \"left\"}, \"hovermode\": \"closest\", \"mapbox\": {\"style\": \"light\"}, \"paper_bgcolor\": \"white\", \"plot_bgcolor\": \"#E5ECF6\", \"polar\": {\"angularaxis\": {\"gridcolor\": \"white\", \"linecolor\": \"white\", \"ticks\": \"\"}, \"bgcolor\": \"#E5ECF6\", \"radialaxis\": {\"gridcolor\": \"white\", \"linecolor\": \"white\", \"ticks\": \"\"}}, \"scene\": {\"xaxis\": {\"backgroundcolor\": \"#E5ECF6\", \"gridcolor\": \"white\", \"gridwidth\": 2, \"linecolor\": \"white\", \"showbackground\": true, \"ticks\": \"\", \"zerolinecolor\": \"white\"}, \"yaxis\": {\"backgroundcolor\": \"#E5ECF6\", \"gridcolor\": \"white\", \"gridwidth\": 2, \"linecolor\": \"white\", \"showbackground\": true, \"ticks\": \"\", \"zerolinecolor\": \"white\"}, \"zaxis\": {\"backgroundcolor\": \"#E5ECF6\", \"gridcolor\": \"white\", \"gridwidth\": 2, \"linecolor\": \"white\", \"showbackground\": true, \"ticks\": \"\", \"zerolinecolor\": \"white\"}}, \"shapedefaults\": {\"line\": {\"color\": \"#2a3f5f\"}}, \"ternary\": {\"aaxis\": {\"gridcolor\": \"white\", \"linecolor\": \"white\", \"ticks\": \"\"}, \"baxis\": {\"gridcolor\": \"white\", \"linecolor\": \"white\", \"ticks\": \"\"}, \"bgcolor\": \"#E5ECF6\", \"caxis\": {\"gridcolor\": \"white\", \"linecolor\": \"white\", \"ticks\": \"\"}}, \"title\": {\"x\": 0.05}, \"xaxis\": {\"automargin\": true, \"gridcolor\": \"white\", \"linecolor\": \"white\", \"ticks\": \"\", \"title\": {\"standoff\": 15}, \"zerolinecolor\": \"white\", \"zerolinewidth\": 2}, \"yaxis\": {\"automargin\": true, \"gridcolor\": \"white\", \"linecolor\": \"white\", \"ticks\": \"\", \"title\": {\"standoff\": 15}, \"zerolinecolor\": \"white\", \"zerolinewidth\": 2}}}, \"title\": {\"text\": \"K-means with PCA clustering\"}, \"xaxis\": {\"anchor\": \"y\", \"domain\": [0.0, 1.0], \"title\": {\"text\": \"n_clusters\"}}, \"yaxis\": {\"anchor\": \"x\", \"domain\": [0.0, 1.0], \"title\": {\"text\": \"wcss\"}}},                        {\"responsive\": true}                    ).then(function(){\n",
       "                            \n",
       "var gd = document.getElementById('8eb61cd4-3100-40fb-b0a6-5904a5ea73f8');\n",
       "var x = new MutationObserver(function (mutations, observer) {{\n",
       "        var display = window.getComputedStyle(gd).display;\n",
       "        if (!display || display === 'none') {{\n",
       "            console.log([gd, 'removed!']);\n",
       "            Plotly.purge(gd);\n",
       "            observer.disconnect();\n",
       "        }}\n",
       "}});\n",
       "\n",
       "// Listen for the removal of the full notebook cells\n",
       "var notebookContainer = gd.closest('#notebook-container');\n",
       "if (notebookContainer) {{\n",
       "    x.observe(notebookContainer, {childList: true});\n",
       "}}\n",
       "\n",
       "// Listen for the clearing of the current output cell\n",
       "var outputEl = gd.closest('.output');\n",
       "if (outputEl) {{\n",
       "    x.observe(outputEl, {childList: true});\n",
       "}}\n",
       "\n",
       "                        })                };                });            </script>        </div>"
      ]
     },
     "metadata": {},
     "output_type": "display_data"
    }
   ],
   "source": [
    "from sklearn.cluster import KMeans\n",
    "\n",
    "# by reducing the number of features with pca we improve the performance of K-means\n",
    "pca = PCA(len(relevant_features)).fit(x,y)\n",
    "scores_pca = pca.transform(x)\n",
    "\n",
    "wcss = []\n",
    "for i in range(1, 21):\n",
    "    kmeans_pca = KMeans(n_clusters=i, init='k-means++', random_state=42)\n",
    "    kmeans_pca.fit(scores_pca)\n",
    "    wcss.append((i, kmeans_pca.inertia_))\n",
    "    \n",
    "kmeans_scores = pd.DataFrame(wcss, columns=['n_clusters', 'wcss'])\n",
    "\n",
    "fig = px.line(kmeans_scores, x='n_clusters', y='wcss',\n",
    "             title='K-means with PCA clustering')\n",
    "fig.add_vline(x=3, line_color='red', line_dash='dot')\n",
    "fig.show()"
   ]
  },
  {
   "cell_type": "code",
   "execution_count": 48,
   "metadata": {},
   "outputs": [
    {
     "data": {
      "application/vnd.plotly.v1+json": {
       "config": {
        "plotlyServerURL": "https://plot.ly"
       },
       "data": [
        {
         "hovertemplate": "index=%{x}<br>charges=%{y}<br>segment=%{marker.color}<extra></extra>",
         "legendgroup": "",
         "marker": {
          "color": [
           1,
           0,
           0,
           0,
           0,
           0,
           2,
           0,
           0,
           0,
           0,
           1,
           2,
           2,
           1,
           0,
           2,
           0,
           2,
           1,
           2,
           2,
           0,
           1,
           0,
           2,
           0,
           2,
           0,
           1,
           1,
           0,
           0,
           1,
           0,
           2,
           0,
           1,
           1,
           0,
           2,
           0,
           2,
           2,
           2,
           2,
           2,
           0,
           1,
           2,
           2,
           1,
           1,
           0,
           1,
           2,
           1,
           1,
           2,
           0,
           2,
           0,
           0,
           1,
           0,
           2,
           0,
           2,
           1,
           1,
           0,
           2,
           0,
           0,
           2,
           2,
           2,
           2,
           2,
           0,
           2,
           1,
           2,
           1,
           1,
           1,
           2,
           0,
           0,
           2,
           0,
           1,
           2,
           1,
           2,
           2,
           2,
           1,
           2,
           0,
           0,
           1,
           2,
           1,
           0,
           0,
           0,
           1,
           2,
           2,
           0,
           2,
           0,
           0,
           2,
           1,
           0,
           0,
           2,
           0,
           0,
           1,
           2,
           0,
           1,
           2,
           1,
           2,
           0,
           0,
           2,
           0,
           0,
           0,
           2,
           0,
           2,
           2,
           0,
           0,
           1,
           0,
           1,
           2,
           1,
           2,
           2,
           0,
           0,
           0,
           2,
           1,
           0,
           2,
           1,
           1,
           1,
           2,
           1,
           1,
           2,
           2,
           0,
           0,
           2,
           2,
           0,
           2,
           0,
           0,
           2,
           2,
           1,
           0,
           0,
           2,
           2,
           0,
           2,
           0,
           0,
           0,
           1,
           2,
           2,
           2,
           2,
           0,
           0,
           0,
           0,
           0,
           0,
           2,
           2,
           0,
           2,
           2,
           2,
           0,
           1,
           0,
           0,
           0,
           1,
           2,
           2,
           0,
           0,
           0,
           0,
           2,
           2,
           0,
           0,
           2,
           0,
           2,
           2,
           0,
           1,
           1,
           2,
           2,
           2,
           2,
           0,
           2,
           2,
           0,
           0,
           0,
           1,
           0,
           2,
           1,
           2,
           1,
           0,
           2,
           2,
           1,
           0,
           2,
           2,
           0,
           0,
           1,
           1,
           1,
           0,
           1,
           0,
           1,
           2,
           0,
           1,
           0,
           1,
           1,
           1,
           2,
           1,
           1,
           2,
           0,
           0,
           0,
           1,
           2,
           0,
           0,
           0,
           0,
           0,
           0,
           0,
           1,
           1,
           0,
           2,
           2,
           0,
           2,
           0,
           1,
           0,
           2,
           0,
           1,
           0,
           0,
           0,
           1,
           1,
           1,
           0,
           0,
           1,
           2,
           2,
           2,
           0,
           0,
           2,
           2,
           2,
           0,
           0,
           1,
           2,
           1,
           0,
           0,
           0,
           0,
           2,
           0,
           0,
           1,
           2,
           0,
           0,
           0,
           1,
           1,
           2,
           1,
           1,
           2,
           0,
           2,
           2,
           0,
           0,
           1,
           0,
           0,
           0,
           0,
           2,
           2,
           2,
           2,
           0,
           2,
           0,
           0,
           0,
           0,
           0,
           2,
           0,
           2,
           0,
           2,
           0,
           2,
           0,
           1,
           0,
           0,
           2,
           2,
           0,
           0,
           0,
           0,
           0,
           2,
           1,
           0,
           1,
           1,
           1,
           2,
           0,
           1,
           1,
           2,
           2,
           0,
           2,
           2,
           0,
           0,
           2,
           2,
           2,
           0,
           0,
           2,
           0,
           2,
           0,
           0,
           2,
           0,
           2,
           2,
           0,
           0,
           2,
           0,
           0,
           0,
           0,
           0,
           1,
           1,
           0,
           2,
           2,
           2,
           1,
           2,
           1,
           1,
           1,
           1,
           0,
           0,
           0,
           0,
           0,
           0,
           2,
           0,
           0,
           0,
           2,
           0,
           2,
           0,
           0,
           2,
           0,
           2,
           1,
           2,
           2,
           1,
           2,
           0,
           0,
           2,
           2,
           0,
           0,
           0,
           0,
           2,
           2,
           2,
           2,
           2,
           2,
           2,
           1,
           2,
           0,
           0,
           1,
           2,
           2,
           0,
           0,
           0,
           0,
           2,
           2,
           1,
           1,
           1,
           0,
           2,
           0,
           2,
           2,
           2,
           2,
           2,
           0,
           0,
           0,
           1,
           0,
           2,
           0,
           0,
           2,
           1,
           0,
           0,
           0,
           0,
           2,
           1,
           0,
           1,
           1,
           2,
           0,
           0,
           0,
           0,
           2,
           0,
           0,
           0,
           0,
           1,
           2,
           2,
           0,
           2,
           0,
           0,
           2,
           2,
           2,
           1,
           2,
           0,
           0,
           2,
           0,
           1,
           2,
           0,
           2,
           2,
           0,
           2,
           2,
           0,
           0,
           2,
           2,
           2,
           2,
           0,
           1,
           0,
           2,
           0,
           2,
           0,
           0,
           0,
           2,
           2,
           0,
           0,
           2,
           1,
           0,
           0,
           2,
           0,
           2,
           2,
           0,
           2,
           0,
           2,
           1,
           2,
           2,
           2,
           2,
           2,
           0,
           0,
           1,
           0,
           0,
           0,
           0,
           2,
           0,
           0,
           0,
           0,
           1,
           2,
           2,
           2,
           0,
           0,
           1,
           2,
           2,
           2,
           2,
           2,
           2,
           2,
           0,
           0,
           2,
           1,
           2,
           0,
           1,
           0,
           1,
           2,
           2,
           2,
           0,
           2,
           1,
           0,
           1,
           1,
           2,
           0,
           1,
           0,
           1,
           0,
           0,
           0,
           2,
           2,
           1,
           2,
           0,
           2,
           0,
           2,
           2,
           0,
           2,
           1,
           2,
           2,
           1,
           0,
           2,
           2,
           0,
           0,
           0,
           0,
           2,
           2,
           2,
           2,
           2,
           2,
           1,
           2,
           0,
           2,
           2,
           2,
           0,
           2,
           0,
           1,
           1,
           0,
           1,
           1,
           2,
           0,
           0,
           0,
           2,
           2,
           0,
           2,
           1,
           2,
           0,
           0,
           0,
           1,
           0,
           0,
           0,
           0,
           2,
           0,
           1,
           0,
           2,
           0,
           0,
           2,
           2,
           2,
           1,
           2,
           2,
           2,
           2,
           2,
           0,
           2,
           2,
           1,
           0,
           2,
           0,
           2,
           0,
           2,
           2,
           0,
           0,
           0,
           0,
           2,
           2,
           2,
           2,
           2,
           2,
           0,
           1,
           0,
           1,
           2,
           2,
           1,
           0,
           2,
           0,
           2,
           2,
           1,
           0,
           1,
           1,
           0,
           1,
           1,
           0,
           0,
           2,
           0,
           0,
           2,
           0,
           1,
           0,
           2,
           0,
           0,
           0,
           0,
           1,
           2,
           1,
           2,
           2,
           1,
           0,
           0,
           2,
           0,
           2,
           2,
           0,
           2,
           2,
           2,
           1,
           2,
           2,
           0,
           2,
           2,
           0,
           1,
           2,
           2,
           1,
           0,
           2,
           2,
           2,
           0,
           2,
           2,
           0,
           0,
           1,
           2,
           1,
           2,
           0,
           2,
           1,
           0,
           2,
           0,
           1,
           0,
           2,
           2,
           2,
           0,
           0,
           2,
           2,
           0,
           0,
           2,
           2,
           0,
           2,
           1,
           1,
           2,
           0,
           2,
           2,
           0,
           2,
           1,
           1,
           1,
           0,
           2,
           0,
           0,
           2,
           0,
           2,
           0,
           0,
           0,
           2,
           0,
           0,
           1,
           1,
           0,
           1,
           2,
           2,
           0,
           0,
           1,
           0,
           1,
           0,
           1,
           2,
           1,
           1,
           2,
           0,
           2,
           2,
           2,
           0,
           0,
           0,
           2,
           2,
           0,
           0,
           2,
           2,
           0,
           0,
           0,
           0,
           2,
           2,
           0,
           2,
           2,
           0,
           0,
           1,
           0,
           1,
           1,
           0,
           2,
           2,
           1,
           2,
           0,
           1,
           0,
           2,
           1,
           0,
           2,
           0,
           0,
           1,
           0,
           2,
           2,
           0,
           0,
           2,
           2,
           1,
           0,
           1,
           0,
           0,
           0,
           2,
           1,
           1,
           2,
           2,
           0,
           2,
           0,
           2,
           0,
           0,
           0,
           0,
           2,
           2,
           2,
           2,
           0,
           2,
           2,
           2,
           0,
           0,
           0,
           0,
           0,
           2,
           2,
           0,
           2,
           2,
           2,
           1,
           0,
           1,
           0,
           1,
           0,
           1,
           1,
           2,
           1,
           0,
           1,
           2,
           2,
           0,
           2,
           0,
           2,
           0,
           1,
           0,
           0,
           2,
           2,
           0,
           0,
           2,
           2,
           1,
           2,
           0,
           2,
           2,
           0,
           0,
           1,
           0,
           0,
           0,
           0,
           0,
           1,
           0,
           0,
           2,
           0,
           1,
           0,
           2,
           2,
           2,
           0,
           1,
           1,
           0,
           0,
           0,
           0,
           0,
           1,
           0,
           0,
           0,
           1,
           2,
           0,
           0,
           0,
           0,
           2,
           2,
           2,
           2,
           1,
           1,
           0,
           2,
           2,
           1,
           0,
           0,
           0,
           1,
           1,
           0,
           1,
           2,
           0,
           1,
           1,
           0,
           0,
           1,
           0,
           1,
           0,
           2,
           1,
           0,
           2,
           0,
           1,
           2,
           0,
           0,
           1,
           0,
           0,
           2,
           2,
           2,
           0,
           0,
           0,
           1,
           0,
           0,
           0,
           2,
           2,
           0,
           2,
           1,
           0,
           0,
           0,
           0,
           2,
           2,
           0,
           1,
           2,
           0,
           0,
           0,
           0,
           2,
           1,
           0,
           0,
           2,
           0,
           1,
           2,
           0,
           1,
           2,
           2,
           1,
           0,
           2,
           2,
           1,
           0,
           2,
           2,
           0,
           2,
           2,
           0,
           0,
           0,
           2,
           1,
           1,
           0,
           0,
           2,
           0,
           1,
           1,
           0,
           1,
           2,
           1,
           2,
           1,
           0,
           0,
           2,
           0,
           0,
           0,
           2,
           2,
           0,
           0,
           0,
           0,
           0,
           0,
           1,
           2,
           2,
           0,
           0,
           2,
           0,
           1,
           2,
           0,
           2,
           0,
           2,
           1,
           2,
           0,
           0,
           1,
           0,
           0,
           2,
           2,
           2,
           2,
           0,
           0,
           0,
           2,
           0,
           2,
           2,
           1,
           1,
           2,
           0,
           0,
           0,
           1,
           2,
           2,
           1,
           2,
           0,
           2,
           0,
           1,
           0,
           1,
           2,
           1,
           0,
           2,
           0,
           2,
           2,
           0,
           0,
           1,
           0,
           0,
           0,
           0,
           2,
           0,
           0,
           1,
           0,
           2,
           1,
           1,
           2,
           0,
           2,
           0,
           2,
           2,
           2,
           0,
           2,
           1,
           2,
           0,
           0,
           0,
           1,
           0,
           2,
           0,
           2,
           2,
           0,
           1,
           1,
           0,
           0,
           0,
           0,
           0,
           0,
           0,
           2,
           1,
           1,
           0,
           2,
           0,
           0,
           0,
           0,
           2,
           1,
           1,
           0,
           1,
           2,
           0,
           2,
           2,
           0,
           2,
           0,
           0,
           2,
           0,
           2,
           2,
           1,
           2,
           1,
           2,
           0,
           0,
           2,
           0,
           0,
           1,
           0,
           0,
           0,
           1,
           0,
           2,
           1,
           1,
           0,
           1,
           0,
           0,
           0,
           1,
           2,
           0,
           1,
           0,
           0,
           0,
           0,
           0,
           0,
           0,
           0,
           1,
           1,
           0,
           1,
           1,
           0,
           1,
           1,
           1,
           2,
           0,
           0,
           2,
           1,
           1,
           0,
           0,
           2,
           2,
           0,
           0,
           1,
           2,
           1,
           0,
           0,
           2,
           0,
           0,
           2,
           0,
           2,
           2,
           0,
           0,
           2,
           0,
           1
          ],
          "coloraxis": "coloraxis",
          "symbol": "circle"
         },
         "mode": "markers",
         "name": "",
         "showlegend": false,
         "type": "scattergl",
         "x": [
          1,
          2,
          3,
          4,
          5,
          6,
          7,
          8,
          9,
          10,
          11,
          12,
          13,
          14,
          15,
          16,
          17,
          18,
          19,
          20,
          21,
          22,
          23,
          24,
          25,
          26,
          27,
          28,
          29,
          30,
          31,
          32,
          34,
          35,
          36,
          37,
          38,
          39,
          40,
          41,
          42,
          43,
          44,
          45,
          46,
          47,
          48,
          49,
          50,
          51,
          52,
          53,
          54,
          55,
          56,
          57,
          58,
          59,
          60,
          61,
          62,
          63,
          64,
          65,
          66,
          67,
          68,
          69,
          70,
          71,
          72,
          73,
          74,
          75,
          76,
          77,
          78,
          79,
          80,
          81,
          82,
          83,
          84,
          85,
          86,
          87,
          88,
          89,
          90,
          91,
          92,
          93,
          94,
          95,
          96,
          97,
          98,
          99,
          101,
          102,
          103,
          104,
          105,
          106,
          107,
          108,
          109,
          110,
          111,
          112,
          113,
          114,
          115,
          116,
          117,
          118,
          119,
          120,
          121,
          122,
          123,
          124,
          125,
          126,
          127,
          128,
          129,
          130,
          131,
          132,
          133,
          134,
          135,
          136,
          137,
          138,
          139,
          140,
          141,
          142,
          143,
          144,
          145,
          146,
          147,
          148,
          149,
          150,
          151,
          152,
          153,
          154,
          155,
          156,
          157,
          158,
          159,
          160,
          161,
          162,
          163,
          164,
          165,
          166,
          168,
          169,
          170,
          171,
          172,
          173,
          174,
          175,
          176,
          177,
          178,
          179,
          180,
          181,
          182,
          183,
          184,
          185,
          186,
          187,
          188,
          189,
          190,
          191,
          192,
          193,
          194,
          195,
          196,
          197,
          198,
          199,
          200,
          201,
          202,
          203,
          204,
          205,
          206,
          207,
          208,
          209,
          210,
          211,
          212,
          213,
          214,
          215,
          216,
          217,
          218,
          219,
          220,
          221,
          222,
          223,
          224,
          225,
          226,
          227,
          228,
          229,
          230,
          231,
          232,
          233,
          234,
          235,
          236,
          237,
          238,
          239,
          240,
          241,
          242,
          243,
          244,
          245,
          246,
          247,
          248,
          249,
          250,
          251,
          252,
          253,
          254,
          255,
          256,
          257,
          258,
          259,
          260,
          261,
          262,
          263,
          264,
          265,
          266,
          267,
          268,
          269,
          270,
          271,
          272,
          273,
          274,
          275,
          276,
          277,
          278,
          279,
          280,
          281,
          282,
          283,
          284,
          285,
          286,
          287,
          288,
          289,
          290,
          291,
          292,
          293,
          294,
          295,
          296,
          297,
          298,
          299,
          300,
          301,
          302,
          303,
          304,
          305,
          306,
          307,
          308,
          309,
          310,
          311,
          312,
          313,
          314,
          315,
          316,
          317,
          318,
          319,
          320,
          321,
          322,
          323,
          324,
          325,
          326,
          327,
          328,
          329,
          330,
          331,
          332,
          333,
          334,
          335,
          336,
          337,
          338,
          339,
          340,
          341,
          342,
          343,
          344,
          345,
          346,
          347,
          348,
          349,
          350,
          351,
          352,
          353,
          354,
          355,
          356,
          357,
          358,
          359,
          360,
          361,
          362,
          363,
          364,
          365,
          366,
          367,
          368,
          369,
          370,
          371,
          372,
          373,
          374,
          375,
          376,
          377,
          378,
          379,
          380,
          381,
          382,
          383,
          384,
          385,
          386,
          387,
          388,
          389,
          390,
          391,
          392,
          393,
          394,
          395,
          396,
          397,
          398,
          399,
          400,
          401,
          402,
          403,
          404,
          405,
          406,
          407,
          408,
          409,
          410,
          411,
          412,
          413,
          414,
          415,
          416,
          417,
          418,
          419,
          420,
          421,
          422,
          423,
          424,
          425,
          426,
          427,
          428,
          429,
          430,
          431,
          432,
          433,
          434,
          435,
          436,
          437,
          438,
          439,
          440,
          441,
          442,
          443,
          444,
          445,
          446,
          447,
          448,
          449,
          450,
          451,
          452,
          453,
          454,
          455,
          456,
          457,
          458,
          459,
          460,
          461,
          462,
          463,
          464,
          465,
          466,
          467,
          468,
          469,
          470,
          471,
          472,
          473,
          474,
          475,
          476,
          477,
          478,
          479,
          480,
          481,
          482,
          483,
          484,
          485,
          486,
          487,
          488,
          489,
          490,
          491,
          492,
          493,
          494,
          495,
          496,
          497,
          498,
          499,
          500,
          501,
          502,
          503,
          504,
          505,
          506,
          507,
          508,
          509,
          510,
          511,
          512,
          513,
          514,
          515,
          516,
          517,
          518,
          519,
          520,
          521,
          522,
          523,
          524,
          525,
          526,
          527,
          528,
          529,
          530,
          531,
          532,
          533,
          534,
          535,
          536,
          537,
          538,
          539,
          540,
          541,
          542,
          543,
          544,
          545,
          546,
          547,
          548,
          549,
          550,
          551,
          552,
          553,
          554,
          555,
          556,
          557,
          558,
          559,
          560,
          561,
          562,
          563,
          564,
          565,
          566,
          567,
          568,
          569,
          570,
          571,
          572,
          573,
          574,
          575,
          576,
          577,
          578,
          579,
          580,
          581,
          582,
          583,
          584,
          585,
          586,
          587,
          588,
          589,
          590,
          591,
          592,
          593,
          594,
          595,
          596,
          597,
          598,
          599,
          600,
          601,
          602,
          603,
          604,
          605,
          606,
          607,
          608,
          609,
          610,
          611,
          612,
          613,
          614,
          615,
          616,
          617,
          618,
          619,
          620,
          621,
          622,
          623,
          624,
          625,
          626,
          627,
          628,
          629,
          630,
          631,
          632,
          633,
          634,
          635,
          636,
          637,
          638,
          639,
          640,
          641,
          642,
          643,
          644,
          645,
          646,
          647,
          648,
          649,
          650,
          651,
          652,
          653,
          654,
          655,
          656,
          657,
          658,
          659,
          660,
          661,
          662,
          663,
          664,
          665,
          666,
          667,
          668,
          669,
          670,
          671,
          672,
          673,
          674,
          675,
          676,
          677,
          678,
          679,
          680,
          681,
          682,
          683,
          684,
          685,
          686,
          687,
          688,
          689,
          690,
          691,
          692,
          693,
          694,
          695,
          696,
          697,
          698,
          699,
          700,
          701,
          702,
          703,
          704,
          705,
          706,
          707,
          708,
          709,
          710,
          711,
          712,
          713,
          714,
          715,
          716,
          717,
          718,
          719,
          720,
          721,
          722,
          723,
          724,
          725,
          726,
          727,
          728,
          729,
          730,
          731,
          732,
          733,
          734,
          735,
          736,
          737,
          738,
          739,
          740,
          741,
          742,
          743,
          744,
          745,
          746,
          747,
          748,
          749,
          750,
          751,
          752,
          753,
          754,
          755,
          756,
          757,
          758,
          759,
          760,
          761,
          762,
          763,
          764,
          765,
          766,
          767,
          768,
          769,
          770,
          771,
          772,
          773,
          774,
          775,
          776,
          777,
          778,
          779,
          780,
          781,
          782,
          783,
          784,
          785,
          786,
          787,
          788,
          789,
          790,
          791,
          792,
          793,
          794,
          795,
          796,
          797,
          798,
          799,
          800,
          801,
          802,
          803,
          804,
          805,
          806,
          807,
          808,
          809,
          810,
          811,
          812,
          813,
          814,
          815,
          816,
          817,
          818,
          819,
          820,
          821,
          822,
          823,
          824,
          825,
          826,
          827,
          828,
          829,
          830,
          831,
          832,
          833,
          834,
          835,
          836,
          837,
          838,
          839,
          840,
          841,
          842,
          843,
          844,
          845,
          846,
          847,
          848,
          849,
          850,
          851,
          852,
          853,
          854,
          855,
          856,
          857,
          858,
          859,
          860,
          861,
          862,
          863,
          864,
          865,
          866,
          867,
          868,
          869,
          870,
          871,
          872,
          873,
          874,
          875,
          876,
          877,
          878,
          879,
          880,
          881,
          882,
          883,
          884,
          885,
          886,
          887,
          888,
          889,
          890,
          891,
          892,
          893,
          894,
          895,
          896,
          897,
          898,
          899,
          900,
          901,
          902,
          903,
          904,
          905,
          906,
          907,
          908,
          909,
          910,
          911,
          912,
          913,
          914,
          915,
          916,
          917,
          918,
          919,
          920,
          921,
          922,
          923,
          924,
          925,
          926,
          927,
          928,
          929,
          930,
          931,
          932,
          933,
          934,
          935,
          936,
          937,
          938,
          939,
          940,
          941,
          942,
          943,
          944,
          945,
          946,
          947,
          948,
          949,
          950,
          951,
          952,
          953,
          954,
          955,
          956,
          957,
          958,
          959,
          960,
          961,
          962,
          963,
          964,
          965,
          966,
          967,
          968,
          969,
          970,
          971,
          972,
          973,
          974,
          975,
          976,
          977,
          978,
          979,
          980,
          981,
          982,
          983,
          984,
          986,
          987,
          988,
          989,
          990,
          991,
          992,
          993,
          994,
          995,
          996,
          997,
          998,
          999,
          1000,
          1001,
          1002,
          1003,
          1004,
          1005,
          1006,
          1007,
          1008,
          1009,
          1010,
          1011,
          1012,
          1013,
          1014,
          1015,
          1016,
          1017,
          1018,
          1019,
          1020,
          1021,
          1022,
          1023,
          1024,
          1025,
          1026,
          1027,
          1028,
          1029,
          1030,
          1031,
          1032,
          1033,
          1034,
          1035,
          1036,
          1037,
          1038,
          1039,
          1040,
          1041,
          1042,
          1043,
          1044,
          1045,
          1046,
          1047,
          1048,
          1049,
          1050,
          1051,
          1052,
          1053,
          1054,
          1055,
          1056,
          1057,
          1058,
          1059,
          1060,
          1061,
          1062,
          1063,
          1064,
          1065,
          1066,
          1067,
          1068,
          1069,
          1070,
          1071,
          1072,
          1073,
          1074,
          1075,
          1076,
          1077,
          1078,
          1079,
          1080,
          1081,
          1082,
          1083,
          1084,
          1085,
          1086,
          1087,
          1088,
          1089,
          1090,
          1091,
          1092,
          1093,
          1094,
          1095,
          1096,
          1097,
          1098,
          1099,
          1100,
          1101,
          1102,
          1103,
          1104,
          1105,
          1106,
          1107,
          1108,
          1109,
          1110,
          1111,
          1112,
          1113,
          1114,
          1115,
          1116,
          1117,
          1118,
          1119,
          1120,
          1121,
          1122,
          1123,
          1124,
          1125,
          1126,
          1127,
          1128,
          1129,
          1130,
          1131,
          1132,
          1133,
          1134,
          1135,
          1136,
          1137,
          1138,
          1139,
          1140,
          1141,
          1142,
          1143,
          1144,
          1145,
          1146,
          1147,
          1148,
          1149,
          1150,
          1151,
          1152,
          1153,
          1154,
          1155,
          1156,
          1157,
          1158,
          1159,
          1160,
          1161,
          1162,
          1163,
          1164,
          1165,
          1166,
          1167,
          1168,
          1169,
          1170,
          1171,
          1172,
          1173,
          1174,
          1175,
          1176,
          1177,
          1178,
          1179,
          1180,
          1181,
          1182,
          1183,
          1184,
          1185,
          1186,
          1187,
          1188,
          1189,
          1190,
          1191,
          1192,
          1193,
          1194,
          1195,
          1196,
          1197,
          1198,
          1199,
          1200,
          1201,
          1202,
          1203,
          1204,
          1205,
          1206,
          1207,
          1208,
          1209,
          1210,
          1211,
          1212,
          1213,
          1214,
          1215,
          1216,
          1217,
          1218,
          1219,
          1220,
          1221,
          1222,
          1223,
          1224,
          1225,
          1226,
          1227,
          1228,
          1229,
          1230,
          1231,
          1232,
          1233,
          1234,
          1235,
          1236,
          1237,
          1238,
          1239,
          1240,
          1241,
          1242,
          1243,
          1244,
          1245,
          1246,
          1247,
          1248,
          1249,
          1250,
          1251,
          1252,
          1253,
          1254,
          1255,
          1256,
          1257,
          1258,
          1259,
          1260,
          1261,
          1262,
          1263,
          1264,
          1265,
          1266,
          1267,
          1268,
          1269,
          1270,
          1271,
          1272,
          1273,
          1274,
          1275,
          1276,
          1277,
          1278,
          1279,
          1280,
          1281,
          1282,
          1283,
          1284,
          1285,
          1286,
          1287,
          1288,
          1289,
          1290,
          1291,
          1292,
          1293,
          1294,
          1295,
          1296,
          1297,
          1298,
          1299,
          1300,
          1301,
          1302,
          1303,
          1304,
          1305,
          1306,
          1307,
          1308,
          1309,
          1310,
          1311,
          1312,
          1313,
          1314,
          1315,
          1316,
          1317,
          1318,
          1319,
          1320,
          1321,
          1322,
          1323,
          1324,
          1325,
          1326,
          1327,
          1328,
          1329,
          1330,
          1331,
          1332,
          1333,
          1334,
          1335,
          1336,
          1337,
          1338
         ],
         "xaxis": "x",
         "y": [
          4253,
          2494,
          3138,
          1553,
          2768,
          2993,
          5521,
          5299,
          2819,
          5284,
          1655,
          10701,
          3103,
          10490,
          14323,
          1584,
          5575,
          1728,
          11703,
          10355,
          9944,
          5018,
          2559,
          12591,
          3012,
          4717,
          4478,
          9153,
          2263,
          12430,
          7151,
          1630,
          7841,
          10654,
          2021,
          11013,
          1322,
          15499,
          40748,
          3221,
          5725,
          1495,
          4569,
          6025,
          8876,
          4451,
          7173,
          3853,
          11831,
          3363,
          4495,
          9041,
          11110,
          5587,
          36924,
          7011,
          4698,
          6320,
          9250,
          2850,
          2979,
          7864,
          4094,
          4847,
          2084,
          12968,
          2617,
          7182,
          3949,
          4998,
          2877,
          4858,
          6079,
          2579,
          9895,
          3985,
          2761,
          5732,
          7671,
          2017,
          9106,
          8454,
          14988,
          14451,
          7896,
          21043,
          3722,
          4644,
          4356,
          4495,
          4796,
          15735,
          5595,
          19544,
          6453,
          4967,
          9321,
          8887,
          5079,
          1793,
          2076,
          15111,
          4235,
          5428,
          2224,
          2834,
          1585,
          27173,
          8692,
          5174,
          2846,
          5016,
          6051,
          5993,
          22180,
          6017,
          3004,
          4455,
          6766,
          1703,
          3184,
          11718,
          8339,
          3813,
          4035,
          9083,
          9348,
          4301,
          4532,
          4460,
          8144,
          2092,
          2667,
          2469,
          2986,
          2159,
          5306,
          4159,
          1600,
          3087,
          4050,
          2958,
          7784,
          6875,
          13329,
          7610,
          13354,
          1945,
          1906,
          3239,
          8278,
          7235,
          4317,
          10755,
          6015,
          3967,
          9631,
          3756,
          10317,
          6254,
          9984,
          4745,
          3062,
          3463,
          6562,
          3792,
          1928,
          13189,
          4306,
          1854,
          6309,
          5103,
          35880,
          3005,
          4539,
          4126,
          6571,
          6255,
          3548,
          1795,
          4458,
          3515,
          25518,
          4204,
          4434,
          5203,
          6051,
          6022,
          3448,
          1421,
          5391,
          2670,
          2827,
          5578,
          3935,
          3959,
          16416,
          3904,
          5467,
          5257,
          11435,
          1838,
          4313,
          4226,
          6410,
          6919,
          9237,
          2826,
          4038,
          2792,
          3112,
          5032,
          7004,
          4500,
          1171,
          3697,
          2292,
          5594,
          6901,
          2768,
          6810,
          4899,
          6943,
          4538,
          11620,
          5707,
          3002,
          7843,
          4508,
          1766,
          5008,
          2357,
          6358,
          1469,
          4891,
          5847,
          6798,
          11871,
          3840,
          3843,
          5606,
          15580,
          5389,
          10467,
          3231,
          1732,
          2138,
          4576,
          21660,
          19221,
          2416,
          16496,
          4453,
          23041,
          8075,
          4103,
          7010,
          3624,
          3825,
          8201,
          9553,
          8686,
          34466,
          4847,
          7234,
          3341,
          3047,
          2247,
          19125,
          7857,
          3625,
          2208,
          4150,
          2251,
          2378,
          6254,
          3011,
          9435,
          42668,
          2099,
          6374,
          5063,
          2297,
          18420,
          6390,
          33049,
          3838,
          4197,
          2222,
          17617,
          2807,
          1950,
          1772,
          3939,
          5598,
          13331,
          4811,
          2518,
          8136,
          9392,
          4607,
          9840,
          3907,
          3854,
          5150,
          9348,
          6991,
          2950,
          1818,
          16577,
          6098,
          8304,
          6918,
          6960,
          7109,
          4714,
          5147,
          1870,
          4315,
          7104,
          14936,
          1592,
          4664,
          3063,
          23518,
          25698,
          8552,
          37699,
          11404,
          7775,
          4617,
          7737,
          10456,
          4750,
          7951,
          15265,
          3630,
          2786,
          7531,
          5036,
          12716,
          10649,
          4752,
          3827,
          5402,
          3821,
          2182,
          4175,
          3324,
          3858,
          4560,
          3766,
          2833,
          12371,
          5229,
          5431,
          1320,
          5903,
          2642,
          3598,
          2304,
          2394,
          5400,
          7014,
          4639,
          5028,
          2776,
          5418,
          4126,
          6919,
          6556,
          2580,
          7449,
          8238,
          11257,
          8769,
          7801,
          7014,
          15295,
          5989,
          10556,
          2237,
          2765,
          9893,
          4059,
          3477,
          5007,
          7960,
          4471,
          4813,
          4726,
          6015,
          2504,
          6266,
          2034,
          5360,
          3186,
          2572,
          15101,
          11551,
          6244,
          1402,
          11040,
          3021,
          3331,
          1755,
          2149,
          2099,
          7674,
          6508,
          1871,
          4243,
          6410,
          5623,
          6769,
          14071,
          15391,
          24591,
          28000,
          12566,
          2445,
          3649,
          2133,
          3881,
          2297,
          2501,
          5584,
          2698,
          4248,
          2228,
          5754,
          2559,
          7693,
          2413,
          2415,
          17442,
          2128,
          6628,
          10610,
          4501,
          8568,
          12303,
          5599,
          6278,
          4455,
          4225,
          6190,
          3055,
          1827,
          1343,
          2833,
          9519,
          9591,
          5308,
          6945,
          11251,
          5580,
          6874,
          9078,
          13281,
          4233,
          2119,
          7262,
          4845,
          10210,
          3627,
          1523,
          2588,
          2125,
          2387,
          6696,
          8667,
          17726,
          4935,
          4401,
          3825,
          2419,
          20190,
          7245,
          2344,
          10367,
          6685,
          4664,
          4585,
          1900,
          20732,
          6078,
          2728,
          3867,
          1574,
          18782,
          4787,
          2123,
          3564,
          3214,
          3137,
          13625,
          9845,
          2161,
          6139,
          4142,
          3754,
          4090,
          3658,
          2352,
          3279,
          4676,
          7895,
          2958,
          3242,
          2223,
          7822,
          9206,
          2930,
          4517,
          4286,
          2393,
          4408,
          10341,
          7104,
          7241,
          5227,
          2304,
          3039,
          3211,
          9888,
          1872,
          40939,
          8539,
          5189,
          4561,
          14948,
          2422,
          7804,
          4566,
          3476,
          4786,
          7878,
          2886,
          10122,
          59703,
          5659,
          8959,
          4380,
          20556,
          3736,
          35915,
          6626,
          3619,
          4620,
          7458,
          8717,
          1491,
          5399,
          3347,
          15371,
          4241,
          3955,
          6239,
          1987,
          13873,
          2170,
          2989,
          11309,
          4289,
          5862,
          39266,
          4125,
          3230,
          9521,
          12027,
          8625,
          5703,
          1467,
          19130,
          4572,
          3280,
          4846,
          2927,
          11932,
          3180,
          1487,
          4051,
          2148,
          12181,
          10821,
          4922,
          4802,
          3087,
          2432,
          4734,
          7626,
          6917,
          4033,
          6497,
          4443,
          11517,
          3812,
          5335,
          3690,
          14543,
          5388,
          6854,
          3691,
          10129,
          2196,
          14214,
          3883,
          5560,
          2764,
          4140,
          3110,
          21586,
          4759,
          6797,
          5420,
          9383,
          2407,
          11994,
          3170,
          6049,
          7747,
          4443,
          2683,
          7400,
          10087,
          34319,
          8413,
          2023,
          5159,
          2178,
          10139,
          13971,
          2664,
          8304,
          6469,
          7107,
          7658,
          9807,
          9167,
          5052,
          5477,
          5205,
          2366,
          4581,
          2235,
          6993,
          11443,
          9890,
          4767,
          7208,
          7683,
          6783,
          8071,
          3743,
          8148,
          5389,
          11969,
          3326,
          5226,
          2394,
          8529,
          19901,
          3734,
          15084,
          22405,
          3964,
          2595,
          5009,
          2080,
          4146,
          32898,
          2316,
          12437,
          24010,
          9981,
          4434,
          2516,
          1471,
          14061,
          3854,
          3070,
          3815,
          2547,
          8082,
          2913,
          5927,
          1933,
          6585,
          3866,
          1899,
          5720,
          8815,
          6747,
          15422,
          9114,
          5758,
          3210,
          16527,
          11702,
          5099,
          5625,
          5127,
          25929,
          5657,
          5288,
          4580,
          2959,
          2791,
          5885,
          4673,
          2526,
          5218,
          3972,
          5801,
          10541,
          9350,
          12119,
          8941,
          12521,
          3191,
          3632,
          14497,
          3283,
          5945,
          4459,
          6862,
          4981,
          3038,
          3834,
          4020,
          5746,
          8708,
          18646,
          1418,
          7253,
          9543,
          2166,
          4889,
          20367,
          3024,
          3775,
          6266,
          1917,
          2003,
          7230,
          2801,
          7018,
          2623,
          16530,
          3094,
          3463,
          2312,
          3832,
          8187,
          5501,
          7413,
          4812,
          3747,
          4639,
          1806,
          3673,
          7567,
          3939,
          4229,
          12161,
          4404,
          10038,
          3804,
          7444,
          5323,
          5855,
          5259,
          4076,
          9602,
          3846,
          5071,
          4163,
          4251,
          7655,
          9716,
          3593,
          3933,
          10856,
          4385,
          1869,
          4963,
          8878,
          1957,
          2585,
          6765,
          7243,
          6200,
          7986,
          3578,
          6185,
          4525,
          3808,
          9266,
          1516,
          9949,
          1617,
          8986,
          13679,
          4932,
          2075,
          1924,
          4825,
          14239,
          3085,
          1527,
          3815,
          2522,
          3549,
          4674,
          8237,
          16804,
          4554,
          1921,
          2150,
          4209,
          5620,
          8500,
          16515,
          6526,
          10207,
          1846,
          8947,
          4764,
          5012,
          10575,
          5112,
          4914,
          2893,
          4804,
          3212,
          7874,
          2433,
          4864,
          7002,
          13393,
          5280,
          16755,
          6290,
          9710,
          2890,
          7724,
          9978,
          9689,
          21820,
          3930,
          7573,
          2607,
          14984,
          4529,
          3983,
          4631,
          39136,
          4392,
          9264,
          3721,
          2541,
          2934,
          3474,
          16579,
          5359,
          3171,
          6967,
          3517,
          1750,
          3027,
          2474,
          3404,
          3561,
          3032,
          2424,
          4447,
          3509,
          2433,
          2552,
          30586,
          2583,
          6464,
          13667,
          5404,
          4627,
          9660,
          15729,
          4584,
          3241,
          25903,
          8774,
          17131,
          8616,
          2298,
          3631,
          2369,
          2566,
          43749,
          2293,
          7353,
          7525,
          4268,
          3559,
          4973,
          13768,
          6207,
          2609,
          5155,
          6069,
          3215,
          2069,
          3984,
          10241,
          6186,
          5350,
          5679,
          4134,
          7712,
          2650,
          5844,
          1823,
          5532,
          1805,
          3417,
          11727,
          4133,
          7721,
          5533,
          2657,
          6966,
          5011,
          4133,
          3293,
          4473,
          1814,
          3941,
          1510,
          14643,
          4837,
          1917,
          14538,
          8227,
          6204,
          14046,
          4180,
          5059,
          4434,
          38105,
          5116,
          9752,
          6984,
          5449,
          13215,
          2095,
          17975,
          9069,
          5652,
          3233,
          9547,
          2798,
          10796,
          1758,
          9743,
          2688,
          2231,
          5412,
          4096,
          3778,
          2833,
          4557,
          3486,
          3996,
          8975,
          2072,
          10331,
          3829,
          3868,
          1715,
          4898,
          4717,
          3204,
          4581,
          5094,
          4161,
          6178,
          3434,
          4707,
          5347,
          2209,
          7931,
          3819,
          6562,
          10034,
          7778,
          4206,
          5529,
          6593,
          1442,
          3308,
          2666,
          3574,
          2564,
          11662,
          1994,
          4076,
          2657,
          5061,
          6724,
          5467,
          3608,
          5214,
          2367,
          4745,
          10028,
          4604,
          8169,
          5842,
          18602,
          1662,
          13914,
          3435,
          4981,
          2174,
          5408,
          4201,
          9249,
          19540,
          4326,
          4037,
          15312,
          3445,
          8987,
          13413,
          2320,
          2565,
          9210,
          1824,
          5934,
          2786,
          8331,
          8991,
          3647,
          22355,
          3538,
          11923,
          9863,
          6878,
          4255,
          10245,
          4041,
          5300,
          3978,
          4772,
          6496,
          4259,
          2215,
          4745,
          39746,
          2597,
          3939,
          3099,
          6642,
          9503,
          6246,
          5189,
          13955,
          7953,
          2964,
          4913,
          5012,
          4680,
          5352,
          1826,
          6855,
          7894,
          1711,
          2262,
          2162,
          3060,
          8508,
          7263,
          5448,
          7314,
          18879,
          3318,
          19458,
          5439,
          2708,
          7853,
          6551,
          2783,
          23842,
          2745,
          4545,
          4144,
          7080,
          4257,
          5252,
          8822,
          2404,
          5267,
          5612,
          4792,
          2243,
          2101,
          6874,
          17495,
          7828,
          4559,
          1714,
          5498,
          3541,
          6904,
          10470,
          4664,
          6695,
          7297,
          38475,
          5239,
          17449,
          5662,
          4522,
          5988,
          2894,
          1833,
          3513,
          8508,
          13094,
          4478,
          3973,
          4923,
          3650,
          3434,
          2136,
          7507,
          7004,
          4807,
          3201,
          3350,
          5607,
          7277,
          18899,
          3894,
          3534,
          4766,
          1989,
          12096,
          12353,
          8744,
          5134,
          4133,
          13163,
          3389,
          3117,
          8717,
          8187,
          7734,
          4231,
          1826,
          4717,
          3735,
          11408,
          3292,
          4208,
          7157,
          4536,
          9187,
          12868,
          3204,
          3469,
          2457,
          9499,
          4070,
          4794,
          5305,
          12779,
          4900,
          3401,
          4038,
          5492,
          2356,
          9069,
          9200,
          7709,
          3089,
          6505,
          3333,
          6130,
          10461,
          4042,
          3045,
          6206,
          4089,
          3621,
          3727,
          2116,
          12358,
          2984,
          5618,
          3916,
          2233,
          8490,
          10925,
          7583,
          10132,
          3742,
          3720,
          1776,
          6514,
          6037,
          4363,
          1507,
          4566,
          17270,
          6013,
          3697,
          1910,
          2244,
          4070,
          1887,
          8119,
          2293,
          6398,
          7023,
          6520,
          25011,
          3687,
          4600,
          3732,
          3602,
          3074,
          4659,
          5274,
          1889,
          7410,
          34928,
          33258,
          3295,
          4699,
          2464,
          1706,
          3341,
          2400,
          3708,
          10859,
          5451,
          1570,
          3607,
          4435,
          3125,
          7793,
          10723,
          5552,
          13056,
          3338,
          3576,
          4431,
          3545,
          4399,
          6483,
          10107,
          5264,
          6283,
          3385,
          2738,
          3905,
          6142,
          2293,
          1999,
          4405,
          3594,
          3396,
          5519,
          9309,
          4096,
          5238,
          11735,
          4088,
          2032,
          33041,
          3256,
          4045,
          3553,
          9057,
          4554,
          4129,
          6880,
          1445,
          3304,
          4580,
          1670,
          1881,
          3617,
          2506,
          2262,
          8629,
          24995,
          3146,
          7215,
          5701,
          2880,
          6084,
          8229,
          7343,
          3664,
          2989,
          5261,
          8529,
          6797,
          8524,
          2155,
          1737,
          8577,
          8027,
          5264,
          3681,
          14557,
          12081,
          25190,
          2184,
          9654,
          6226,
          4204,
          2793,
          9365,
          3713,
          4084,
          15448,
          5767,
          2547,
          3026,
          2208,
          19007
         ],
         "yaxis": "y"
        }
       ],
       "layout": {
        "coloraxis": {
         "colorbar": {
          "title": {
           "text": "segment"
          }
         },
         "colorscale": [
          [
           0,
           "#0d0887"
          ],
          [
           0.1111111111111111,
           "#46039f"
          ],
          [
           0.2222222222222222,
           "#7201a8"
          ],
          [
           0.3333333333333333,
           "#9c179e"
          ],
          [
           0.4444444444444444,
           "#bd3786"
          ],
          [
           0.5555555555555556,
           "#d8576b"
          ],
          [
           0.6666666666666666,
           "#ed7953"
          ],
          [
           0.7777777777777778,
           "#fb9f3a"
          ],
          [
           0.8888888888888888,
           "#fdca26"
          ],
          [
           1,
           "#f0f921"
          ]
         ]
        },
        "legend": {
         "tracegroupgap": 0
        },
        "margin": {
         "t": 60
        },
        "template": {
         "data": {
          "bar": [
           {
            "error_x": {
             "color": "#2a3f5f"
            },
            "error_y": {
             "color": "#2a3f5f"
            },
            "marker": {
             "line": {
              "color": "#E5ECF6",
              "width": 0.5
             }
            },
            "type": "bar"
           }
          ],
          "barpolar": [
           {
            "marker": {
             "line": {
              "color": "#E5ECF6",
              "width": 0.5
             }
            },
            "type": "barpolar"
           }
          ],
          "carpet": [
           {
            "aaxis": {
             "endlinecolor": "#2a3f5f",
             "gridcolor": "white",
             "linecolor": "white",
             "minorgridcolor": "white",
             "startlinecolor": "#2a3f5f"
            },
            "baxis": {
             "endlinecolor": "#2a3f5f",
             "gridcolor": "white",
             "linecolor": "white",
             "minorgridcolor": "white",
             "startlinecolor": "#2a3f5f"
            },
            "type": "carpet"
           }
          ],
          "choropleth": [
           {
            "colorbar": {
             "outlinewidth": 0,
             "ticks": ""
            },
            "type": "choropleth"
           }
          ],
          "contour": [
           {
            "colorbar": {
             "outlinewidth": 0,
             "ticks": ""
            },
            "colorscale": [
             [
              0,
              "#0d0887"
             ],
             [
              0.1111111111111111,
              "#46039f"
             ],
             [
              0.2222222222222222,
              "#7201a8"
             ],
             [
              0.3333333333333333,
              "#9c179e"
             ],
             [
              0.4444444444444444,
              "#bd3786"
             ],
             [
              0.5555555555555556,
              "#d8576b"
             ],
             [
              0.6666666666666666,
              "#ed7953"
             ],
             [
              0.7777777777777778,
              "#fb9f3a"
             ],
             [
              0.8888888888888888,
              "#fdca26"
             ],
             [
              1,
              "#f0f921"
             ]
            ],
            "type": "contour"
           }
          ],
          "contourcarpet": [
           {
            "colorbar": {
             "outlinewidth": 0,
             "ticks": ""
            },
            "type": "contourcarpet"
           }
          ],
          "heatmap": [
           {
            "colorbar": {
             "outlinewidth": 0,
             "ticks": ""
            },
            "colorscale": [
             [
              0,
              "#0d0887"
             ],
             [
              0.1111111111111111,
              "#46039f"
             ],
             [
              0.2222222222222222,
              "#7201a8"
             ],
             [
              0.3333333333333333,
              "#9c179e"
             ],
             [
              0.4444444444444444,
              "#bd3786"
             ],
             [
              0.5555555555555556,
              "#d8576b"
             ],
             [
              0.6666666666666666,
              "#ed7953"
             ],
             [
              0.7777777777777778,
              "#fb9f3a"
             ],
             [
              0.8888888888888888,
              "#fdca26"
             ],
             [
              1,
              "#f0f921"
             ]
            ],
            "type": "heatmap"
           }
          ],
          "heatmapgl": [
           {
            "colorbar": {
             "outlinewidth": 0,
             "ticks": ""
            },
            "colorscale": [
             [
              0,
              "#0d0887"
             ],
             [
              0.1111111111111111,
              "#46039f"
             ],
             [
              0.2222222222222222,
              "#7201a8"
             ],
             [
              0.3333333333333333,
              "#9c179e"
             ],
             [
              0.4444444444444444,
              "#bd3786"
             ],
             [
              0.5555555555555556,
              "#d8576b"
             ],
             [
              0.6666666666666666,
              "#ed7953"
             ],
             [
              0.7777777777777778,
              "#fb9f3a"
             ],
             [
              0.8888888888888888,
              "#fdca26"
             ],
             [
              1,
              "#f0f921"
             ]
            ],
            "type": "heatmapgl"
           }
          ],
          "histogram": [
           {
            "marker": {
             "colorbar": {
              "outlinewidth": 0,
              "ticks": ""
             }
            },
            "type": "histogram"
           }
          ],
          "histogram2d": [
           {
            "colorbar": {
             "outlinewidth": 0,
             "ticks": ""
            },
            "colorscale": [
             [
              0,
              "#0d0887"
             ],
             [
              0.1111111111111111,
              "#46039f"
             ],
             [
              0.2222222222222222,
              "#7201a8"
             ],
             [
              0.3333333333333333,
              "#9c179e"
             ],
             [
              0.4444444444444444,
              "#bd3786"
             ],
             [
              0.5555555555555556,
              "#d8576b"
             ],
             [
              0.6666666666666666,
              "#ed7953"
             ],
             [
              0.7777777777777778,
              "#fb9f3a"
             ],
             [
              0.8888888888888888,
              "#fdca26"
             ],
             [
              1,
              "#f0f921"
             ]
            ],
            "type": "histogram2d"
           }
          ],
          "histogram2dcontour": [
           {
            "colorbar": {
             "outlinewidth": 0,
             "ticks": ""
            },
            "colorscale": [
             [
              0,
              "#0d0887"
             ],
             [
              0.1111111111111111,
              "#46039f"
             ],
             [
              0.2222222222222222,
              "#7201a8"
             ],
             [
              0.3333333333333333,
              "#9c179e"
             ],
             [
              0.4444444444444444,
              "#bd3786"
             ],
             [
              0.5555555555555556,
              "#d8576b"
             ],
             [
              0.6666666666666666,
              "#ed7953"
             ],
             [
              0.7777777777777778,
              "#fb9f3a"
             ],
             [
              0.8888888888888888,
              "#fdca26"
             ],
             [
              1,
              "#f0f921"
             ]
            ],
            "type": "histogram2dcontour"
           }
          ],
          "mesh3d": [
           {
            "colorbar": {
             "outlinewidth": 0,
             "ticks": ""
            },
            "type": "mesh3d"
           }
          ],
          "parcoords": [
           {
            "line": {
             "colorbar": {
              "outlinewidth": 0,
              "ticks": ""
             }
            },
            "type": "parcoords"
           }
          ],
          "pie": [
           {
            "automargin": true,
            "type": "pie"
           }
          ],
          "scatter": [
           {
            "marker": {
             "colorbar": {
              "outlinewidth": 0,
              "ticks": ""
             }
            },
            "type": "scatter"
           }
          ],
          "scatter3d": [
           {
            "line": {
             "colorbar": {
              "outlinewidth": 0,
              "ticks": ""
             }
            },
            "marker": {
             "colorbar": {
              "outlinewidth": 0,
              "ticks": ""
             }
            },
            "type": "scatter3d"
           }
          ],
          "scattercarpet": [
           {
            "marker": {
             "colorbar": {
              "outlinewidth": 0,
              "ticks": ""
             }
            },
            "type": "scattercarpet"
           }
          ],
          "scattergeo": [
           {
            "marker": {
             "colorbar": {
              "outlinewidth": 0,
              "ticks": ""
             }
            },
            "type": "scattergeo"
           }
          ],
          "scattergl": [
           {
            "marker": {
             "colorbar": {
              "outlinewidth": 0,
              "ticks": ""
             }
            },
            "type": "scattergl"
           }
          ],
          "scattermapbox": [
           {
            "marker": {
             "colorbar": {
              "outlinewidth": 0,
              "ticks": ""
             }
            },
            "type": "scattermapbox"
           }
          ],
          "scatterpolar": [
           {
            "marker": {
             "colorbar": {
              "outlinewidth": 0,
              "ticks": ""
             }
            },
            "type": "scatterpolar"
           }
          ],
          "scatterpolargl": [
           {
            "marker": {
             "colorbar": {
              "outlinewidth": 0,
              "ticks": ""
             }
            },
            "type": "scatterpolargl"
           }
          ],
          "scatterternary": [
           {
            "marker": {
             "colorbar": {
              "outlinewidth": 0,
              "ticks": ""
             }
            },
            "type": "scatterternary"
           }
          ],
          "surface": [
           {
            "colorbar": {
             "outlinewidth": 0,
             "ticks": ""
            },
            "colorscale": [
             [
              0,
              "#0d0887"
             ],
             [
              0.1111111111111111,
              "#46039f"
             ],
             [
              0.2222222222222222,
              "#7201a8"
             ],
             [
              0.3333333333333333,
              "#9c179e"
             ],
             [
              0.4444444444444444,
              "#bd3786"
             ],
             [
              0.5555555555555556,
              "#d8576b"
             ],
             [
              0.6666666666666666,
              "#ed7953"
             ],
             [
              0.7777777777777778,
              "#fb9f3a"
             ],
             [
              0.8888888888888888,
              "#fdca26"
             ],
             [
              1,
              "#f0f921"
             ]
            ],
            "type": "surface"
           }
          ],
          "table": [
           {
            "cells": {
             "fill": {
              "color": "#EBF0F8"
             },
             "line": {
              "color": "white"
             }
            },
            "header": {
             "fill": {
              "color": "#C8D4E3"
             },
             "line": {
              "color": "white"
             }
            },
            "type": "table"
           }
          ]
         },
         "layout": {
          "annotationdefaults": {
           "arrowcolor": "#2a3f5f",
           "arrowhead": 0,
           "arrowwidth": 1
          },
          "autotypenumbers": "strict",
          "coloraxis": {
           "colorbar": {
            "outlinewidth": 0,
            "ticks": ""
           }
          },
          "colorscale": {
           "diverging": [
            [
             0,
             "#8e0152"
            ],
            [
             0.1,
             "#c51b7d"
            ],
            [
             0.2,
             "#de77ae"
            ],
            [
             0.3,
             "#f1b6da"
            ],
            [
             0.4,
             "#fde0ef"
            ],
            [
             0.5,
             "#f7f7f7"
            ],
            [
             0.6,
             "#e6f5d0"
            ],
            [
             0.7,
             "#b8e186"
            ],
            [
             0.8,
             "#7fbc41"
            ],
            [
             0.9,
             "#4d9221"
            ],
            [
             1,
             "#276419"
            ]
           ],
           "sequential": [
            [
             0,
             "#0d0887"
            ],
            [
             0.1111111111111111,
             "#46039f"
            ],
            [
             0.2222222222222222,
             "#7201a8"
            ],
            [
             0.3333333333333333,
             "#9c179e"
            ],
            [
             0.4444444444444444,
             "#bd3786"
            ],
            [
             0.5555555555555556,
             "#d8576b"
            ],
            [
             0.6666666666666666,
             "#ed7953"
            ],
            [
             0.7777777777777778,
             "#fb9f3a"
            ],
            [
             0.8888888888888888,
             "#fdca26"
            ],
            [
             1,
             "#f0f921"
            ]
           ],
           "sequentialminus": [
            [
             0,
             "#0d0887"
            ],
            [
             0.1111111111111111,
             "#46039f"
            ],
            [
             0.2222222222222222,
             "#7201a8"
            ],
            [
             0.3333333333333333,
             "#9c179e"
            ],
            [
             0.4444444444444444,
             "#bd3786"
            ],
            [
             0.5555555555555556,
             "#d8576b"
            ],
            [
             0.6666666666666666,
             "#ed7953"
            ],
            [
             0.7777777777777778,
             "#fb9f3a"
            ],
            [
             0.8888888888888888,
             "#fdca26"
            ],
            [
             1,
             "#f0f921"
            ]
           ]
          },
          "colorway": [
           "#636efa",
           "#EF553B",
           "#00cc96",
           "#ab63fa",
           "#FFA15A",
           "#19d3f3",
           "#FF6692",
           "#B6E880",
           "#FF97FF",
           "#FECB52"
          ],
          "font": {
           "color": "#2a3f5f"
          },
          "geo": {
           "bgcolor": "white",
           "lakecolor": "white",
           "landcolor": "#E5ECF6",
           "showlakes": true,
           "showland": true,
           "subunitcolor": "white"
          },
          "hoverlabel": {
           "align": "left"
          },
          "hovermode": "closest",
          "mapbox": {
           "style": "light"
          },
          "paper_bgcolor": "white",
          "plot_bgcolor": "#E5ECF6",
          "polar": {
           "angularaxis": {
            "gridcolor": "white",
            "linecolor": "white",
            "ticks": ""
           },
           "bgcolor": "#E5ECF6",
           "radialaxis": {
            "gridcolor": "white",
            "linecolor": "white",
            "ticks": ""
           }
          },
          "scene": {
           "xaxis": {
            "backgroundcolor": "#E5ECF6",
            "gridcolor": "white",
            "gridwidth": 2,
            "linecolor": "white",
            "showbackground": true,
            "ticks": "",
            "zerolinecolor": "white"
           },
           "yaxis": {
            "backgroundcolor": "#E5ECF6",
            "gridcolor": "white",
            "gridwidth": 2,
            "linecolor": "white",
            "showbackground": true,
            "ticks": "",
            "zerolinecolor": "white"
           },
           "zaxis": {
            "backgroundcolor": "#E5ECF6",
            "gridcolor": "white",
            "gridwidth": 2,
            "linecolor": "white",
            "showbackground": true,
            "ticks": "",
            "zerolinecolor": "white"
           }
          },
          "shapedefaults": {
           "line": {
            "color": "#2a3f5f"
           }
          },
          "ternary": {
           "aaxis": {
            "gridcolor": "white",
            "linecolor": "white",
            "ticks": ""
           },
           "baxis": {
            "gridcolor": "white",
            "linecolor": "white",
            "ticks": ""
           },
           "bgcolor": "#E5ECF6",
           "caxis": {
            "gridcolor": "white",
            "linecolor": "white",
            "ticks": ""
           }
          },
          "title": {
           "x": 0.05
          },
          "xaxis": {
           "automargin": true,
           "gridcolor": "white",
           "linecolor": "white",
           "ticks": "",
           "title": {
            "standoff": 15
           },
           "zerolinecolor": "white",
           "zerolinewidth": 2
          },
          "yaxis": {
           "automargin": true,
           "gridcolor": "white",
           "linecolor": "white",
           "ticks": "",
           "title": {
            "standoff": 15
           },
           "zerolinecolor": "white",
           "zerolinewidth": 2
          }
         }
        },
        "xaxis": {
         "anchor": "y",
         "domain": [
          0,
          1
         ],
         "title": {
          "text": "index"
         }
        },
        "yaxis": {
         "anchor": "x",
         "domain": [
          0,
          1
         ],
         "title": {
          "text": "charges"
         }
        }
       }
      },
      "text/html": [
       "<div>                            <div id=\"3c7ddd1d-2b6f-4bf1-abaf-e2e907cec4e2\" class=\"plotly-graph-div\" style=\"height:525px; width:100%;\"></div>            <script type=\"text/javascript\">                require([\"plotly\"], function(Plotly) {                    window.PLOTLYENV=window.PLOTLYENV || {};                                    if (document.getElementById(\"3c7ddd1d-2b6f-4bf1-abaf-e2e907cec4e2\")) {                    Plotly.newPlot(                        \"3c7ddd1d-2b6f-4bf1-abaf-e2e907cec4e2\",                        [{\"hovertemplate\": \"index=%{x}<br>charges=%{y}<br>segment=%{marker.color}<extra></extra>\", \"legendgroup\": \"\", \"marker\": {\"color\": [1, 0, 0, 0, 0, 0, 2, 0, 0, 0, 0, 1, 2, 2, 1, 0, 2, 0, 2, 1, 2, 2, 0, 1, 0, 2, 0, 2, 0, 1, 1, 0, 0, 1, 0, 2, 0, 1, 1, 0, 2, 0, 2, 2, 2, 2, 2, 0, 1, 2, 2, 1, 1, 0, 1, 2, 1, 1, 2, 0, 2, 0, 0, 1, 0, 2, 0, 2, 1, 1, 0, 2, 0, 0, 2, 2, 2, 2, 2, 0, 2, 1, 2, 1, 1, 1, 2, 0, 0, 2, 0, 1, 2, 1, 2, 2, 2, 1, 2, 0, 0, 1, 2, 1, 0, 0, 0, 1, 2, 2, 0, 2, 0, 0, 2, 1, 0, 0, 2, 0, 0, 1, 2, 0, 1, 2, 1, 2, 0, 0, 2, 0, 0, 0, 2, 0, 2, 2, 0, 0, 1, 0, 1, 2, 1, 2, 2, 0, 0, 0, 2, 1, 0, 2, 1, 1, 1, 2, 1, 1, 2, 2, 0, 0, 2, 2, 0, 2, 0, 0, 2, 2, 1, 0, 0, 2, 2, 0, 2, 0, 0, 0, 1, 2, 2, 2, 2, 0, 0, 0, 0, 0, 0, 2, 2, 0, 2, 2, 2, 0, 1, 0, 0, 0, 1, 2, 2, 0, 0, 0, 0, 2, 2, 0, 0, 2, 0, 2, 2, 0, 1, 1, 2, 2, 2, 2, 0, 2, 2, 0, 0, 0, 1, 0, 2, 1, 2, 1, 0, 2, 2, 1, 0, 2, 2, 0, 0, 1, 1, 1, 0, 1, 0, 1, 2, 0, 1, 0, 1, 1, 1, 2, 1, 1, 2, 0, 0, 0, 1, 2, 0, 0, 0, 0, 0, 0, 0, 1, 1, 0, 2, 2, 0, 2, 0, 1, 0, 2, 0, 1, 0, 0, 0, 1, 1, 1, 0, 0, 1, 2, 2, 2, 0, 0, 2, 2, 2, 0, 0, 1, 2, 1, 0, 0, 0, 0, 2, 0, 0, 1, 2, 0, 0, 0, 1, 1, 2, 1, 1, 2, 0, 2, 2, 0, 0, 1, 0, 0, 0, 0, 2, 2, 2, 2, 0, 2, 0, 0, 0, 0, 0, 2, 0, 2, 0, 2, 0, 2, 0, 1, 0, 0, 2, 2, 0, 0, 0, 0, 0, 2, 1, 0, 1, 1, 1, 2, 0, 1, 1, 2, 2, 0, 2, 2, 0, 0, 2, 2, 2, 0, 0, 2, 0, 2, 0, 0, 2, 0, 2, 2, 0, 0, 2, 0, 0, 0, 0, 0, 1, 1, 0, 2, 2, 2, 1, 2, 1, 1, 1, 1, 0, 0, 0, 0, 0, 0, 2, 0, 0, 0, 2, 0, 2, 0, 0, 2, 0, 2, 1, 2, 2, 1, 2, 0, 0, 2, 2, 0, 0, 0, 0, 2, 2, 2, 2, 2, 2, 2, 1, 2, 0, 0, 1, 2, 2, 0, 0, 0, 0, 2, 2, 1, 1, 1, 0, 2, 0, 2, 2, 2, 2, 2, 0, 0, 0, 1, 0, 2, 0, 0, 2, 1, 0, 0, 0, 0, 2, 1, 0, 1, 1, 2, 0, 0, 0, 0, 2, 0, 0, 0, 0, 1, 2, 2, 0, 2, 0, 0, 2, 2, 2, 1, 2, 0, 0, 2, 0, 1, 2, 0, 2, 2, 0, 2, 2, 0, 0, 2, 2, 2, 2, 0, 1, 0, 2, 0, 2, 0, 0, 0, 2, 2, 0, 0, 2, 1, 0, 0, 2, 0, 2, 2, 0, 2, 0, 2, 1, 2, 2, 2, 2, 2, 0, 0, 1, 0, 0, 0, 0, 2, 0, 0, 0, 0, 1, 2, 2, 2, 0, 0, 1, 2, 2, 2, 2, 2, 2, 2, 0, 0, 2, 1, 2, 0, 1, 0, 1, 2, 2, 2, 0, 2, 1, 0, 1, 1, 2, 0, 1, 0, 1, 0, 0, 0, 2, 2, 1, 2, 0, 2, 0, 2, 2, 0, 2, 1, 2, 2, 1, 0, 2, 2, 0, 0, 0, 0, 2, 2, 2, 2, 2, 2, 1, 2, 0, 2, 2, 2, 0, 2, 0, 1, 1, 0, 1, 1, 2, 0, 0, 0, 2, 2, 0, 2, 1, 2, 0, 0, 0, 1, 0, 0, 0, 0, 2, 0, 1, 0, 2, 0, 0, 2, 2, 2, 1, 2, 2, 2, 2, 2, 0, 2, 2, 1, 0, 2, 0, 2, 0, 2, 2, 0, 0, 0, 0, 2, 2, 2, 2, 2, 2, 0, 1, 0, 1, 2, 2, 1, 0, 2, 0, 2, 2, 1, 0, 1, 1, 0, 1, 1, 0, 0, 2, 0, 0, 2, 0, 1, 0, 2, 0, 0, 0, 0, 1, 2, 1, 2, 2, 1, 0, 0, 2, 0, 2, 2, 0, 2, 2, 2, 1, 2, 2, 0, 2, 2, 0, 1, 2, 2, 1, 0, 2, 2, 2, 0, 2, 2, 0, 0, 1, 2, 1, 2, 0, 2, 1, 0, 2, 0, 1, 0, 2, 2, 2, 0, 0, 2, 2, 0, 0, 2, 2, 0, 2, 1, 1, 2, 0, 2, 2, 0, 2, 1, 1, 1, 0, 2, 0, 0, 2, 0, 2, 0, 0, 0, 2, 0, 0, 1, 1, 0, 1, 2, 2, 0, 0, 1, 0, 1, 0, 1, 2, 1, 1, 2, 0, 2, 2, 2, 0, 0, 0, 2, 2, 0, 0, 2, 2, 0, 0, 0, 0, 2, 2, 0, 2, 2, 0, 0, 1, 0, 1, 1, 0, 2, 2, 1, 2, 0, 1, 0, 2, 1, 0, 2, 0, 0, 1, 0, 2, 2, 0, 0, 2, 2, 1, 0, 1, 0, 0, 0, 2, 1, 1, 2, 2, 0, 2, 0, 2, 0, 0, 0, 0, 2, 2, 2, 2, 0, 2, 2, 2, 0, 0, 0, 0, 0, 2, 2, 0, 2, 2, 2, 1, 0, 1, 0, 1, 0, 1, 1, 2, 1, 0, 1, 2, 2, 0, 2, 0, 2, 0, 1, 0, 0, 2, 2, 0, 0, 2, 2, 1, 2, 0, 2, 2, 0, 0, 1, 0, 0, 0, 0, 0, 1, 0, 0, 2, 0, 1, 0, 2, 2, 2, 0, 1, 1, 0, 0, 0, 0, 0, 1, 0, 0, 0, 1, 2, 0, 0, 0, 0, 2, 2, 2, 2, 1, 1, 0, 2, 2, 1, 0, 0, 0, 1, 1, 0, 1, 2, 0, 1, 1, 0, 0, 1, 0, 1, 0, 2, 1, 0, 2, 0, 1, 2, 0, 0, 1, 0, 0, 2, 2, 2, 0, 0, 0, 1, 0, 0, 0, 2, 2, 0, 2, 1, 0, 0, 0, 0, 2, 2, 0, 1, 2, 0, 0, 0, 0, 2, 1, 0, 0, 2, 0, 1, 2, 0, 1, 2, 2, 1, 0, 2, 2, 1, 0, 2, 2, 0, 2, 2, 0, 0, 0, 2, 1, 1, 0, 0, 2, 0, 1, 1, 0, 1, 2, 1, 2, 1, 0, 0, 2, 0, 0, 0, 2, 2, 0, 0, 0, 0, 0, 0, 1, 2, 2, 0, 0, 2, 0, 1, 2, 0, 2, 0, 2, 1, 2, 0, 0, 1, 0, 0, 2, 2, 2, 2, 0, 0, 0, 2, 0, 2, 2, 1, 1, 2, 0, 0, 0, 1, 2, 2, 1, 2, 0, 2, 0, 1, 0, 1, 2, 1, 0, 2, 0, 2, 2, 0, 0, 1, 0, 0, 0, 0, 2, 0, 0, 1, 0, 2, 1, 1, 2, 0, 2, 0, 2, 2, 2, 0, 2, 1, 2, 0, 0, 0, 1, 0, 2, 0, 2, 2, 0, 1, 1, 0, 0, 0, 0, 0, 0, 0, 2, 1, 1, 0, 2, 0, 0, 0, 0, 2, 1, 1, 0, 1, 2, 0, 2, 2, 0, 2, 0, 0, 2, 0, 2, 2, 1, 2, 1, 2, 0, 0, 2, 0, 0, 1, 0, 0, 0, 1, 0, 2, 1, 1, 0, 1, 0, 0, 0, 1, 2, 0, 1, 0, 0, 0, 0, 0, 0, 0, 0, 1, 1, 0, 1, 1, 0, 1, 1, 1, 2, 0, 0, 2, 1, 1, 0, 0, 2, 2, 0, 0, 1, 2, 1, 0, 0, 2, 0, 0, 2, 0, 2, 2, 0, 0, 2, 0, 1], \"coloraxis\": \"coloraxis\", \"symbol\": \"circle\"}, \"mode\": \"markers\", \"name\": \"\", \"showlegend\": false, \"type\": \"scattergl\", \"x\": [1, 2, 3, 4, 5, 6, 7, 8, 9, 10, 11, 12, 13, 14, 15, 16, 17, 18, 19, 20, 21, 22, 23, 24, 25, 26, 27, 28, 29, 30, 31, 32, 34, 35, 36, 37, 38, 39, 40, 41, 42, 43, 44, 45, 46, 47, 48, 49, 50, 51, 52, 53, 54, 55, 56, 57, 58, 59, 60, 61, 62, 63, 64, 65, 66, 67, 68, 69, 70, 71, 72, 73, 74, 75, 76, 77, 78, 79, 80, 81, 82, 83, 84, 85, 86, 87, 88, 89, 90, 91, 92, 93, 94, 95, 96, 97, 98, 99, 101, 102, 103, 104, 105, 106, 107, 108, 109, 110, 111, 112, 113, 114, 115, 116, 117, 118, 119, 120, 121, 122, 123, 124, 125, 126, 127, 128, 129, 130, 131, 132, 133, 134, 135, 136, 137, 138, 139, 140, 141, 142, 143, 144, 145, 146, 147, 148, 149, 150, 151, 152, 153, 154, 155, 156, 157, 158, 159, 160, 161, 162, 163, 164, 165, 166, 168, 169, 170, 171, 172, 173, 174, 175, 176, 177, 178, 179, 180, 181, 182, 183, 184, 185, 186, 187, 188, 189, 190, 191, 192, 193, 194, 195, 196, 197, 198, 199, 200, 201, 202, 203, 204, 205, 206, 207, 208, 209, 210, 211, 212, 213, 214, 215, 216, 217, 218, 219, 220, 221, 222, 223, 224, 225, 226, 227, 228, 229, 230, 231, 232, 233, 234, 235, 236, 237, 238, 239, 240, 241, 242, 243, 244, 245, 246, 247, 248, 249, 250, 251, 252, 253, 254, 255, 256, 257, 258, 259, 260, 261, 262, 263, 264, 265, 266, 267, 268, 269, 270, 271, 272, 273, 274, 275, 276, 277, 278, 279, 280, 281, 282, 283, 284, 285, 286, 287, 288, 289, 290, 291, 292, 293, 294, 295, 296, 297, 298, 299, 300, 301, 302, 303, 304, 305, 306, 307, 308, 309, 310, 311, 312, 313, 314, 315, 316, 317, 318, 319, 320, 321, 322, 323, 324, 325, 326, 327, 328, 329, 330, 331, 332, 333, 334, 335, 336, 337, 338, 339, 340, 341, 342, 343, 344, 345, 346, 347, 348, 349, 350, 351, 352, 353, 354, 355, 356, 357, 358, 359, 360, 361, 362, 363, 364, 365, 366, 367, 368, 369, 370, 371, 372, 373, 374, 375, 376, 377, 378, 379, 380, 381, 382, 383, 384, 385, 386, 387, 388, 389, 390, 391, 392, 393, 394, 395, 396, 397, 398, 399, 400, 401, 402, 403, 404, 405, 406, 407, 408, 409, 410, 411, 412, 413, 414, 415, 416, 417, 418, 419, 420, 421, 422, 423, 424, 425, 426, 427, 428, 429, 430, 431, 432, 433, 434, 435, 436, 437, 438, 439, 440, 441, 442, 443, 444, 445, 446, 447, 448, 449, 450, 451, 452, 453, 454, 455, 456, 457, 458, 459, 460, 461, 462, 463, 464, 465, 466, 467, 468, 469, 470, 471, 472, 473, 474, 475, 476, 477, 478, 479, 480, 481, 482, 483, 484, 485, 486, 487, 488, 489, 490, 491, 492, 493, 494, 495, 496, 497, 498, 499, 500, 501, 502, 503, 504, 505, 506, 507, 508, 509, 510, 511, 512, 513, 514, 515, 516, 517, 518, 519, 520, 521, 522, 523, 524, 525, 526, 527, 528, 529, 530, 531, 532, 533, 534, 535, 536, 537, 538, 539, 540, 541, 542, 543, 544, 545, 546, 547, 548, 549, 550, 551, 552, 553, 554, 555, 556, 557, 558, 559, 560, 561, 562, 563, 564, 565, 566, 567, 568, 569, 570, 571, 572, 573, 574, 575, 576, 577, 578, 579, 580, 581, 582, 583, 584, 585, 586, 587, 588, 589, 590, 591, 592, 593, 594, 595, 596, 597, 598, 599, 600, 601, 602, 603, 604, 605, 606, 607, 608, 609, 610, 611, 612, 613, 614, 615, 616, 617, 618, 619, 620, 621, 622, 623, 624, 625, 626, 627, 628, 629, 630, 631, 632, 633, 634, 635, 636, 637, 638, 639, 640, 641, 642, 643, 644, 645, 646, 647, 648, 649, 650, 651, 652, 653, 654, 655, 656, 657, 658, 659, 660, 661, 662, 663, 664, 665, 666, 667, 668, 669, 670, 671, 672, 673, 674, 675, 676, 677, 678, 679, 680, 681, 682, 683, 684, 685, 686, 687, 688, 689, 690, 691, 692, 693, 694, 695, 696, 697, 698, 699, 700, 701, 702, 703, 704, 705, 706, 707, 708, 709, 710, 711, 712, 713, 714, 715, 716, 717, 718, 719, 720, 721, 722, 723, 724, 725, 726, 727, 728, 729, 730, 731, 732, 733, 734, 735, 736, 737, 738, 739, 740, 741, 742, 743, 744, 745, 746, 747, 748, 749, 750, 751, 752, 753, 754, 755, 756, 757, 758, 759, 760, 761, 762, 763, 764, 765, 766, 767, 768, 769, 770, 771, 772, 773, 774, 775, 776, 777, 778, 779, 780, 781, 782, 783, 784, 785, 786, 787, 788, 789, 790, 791, 792, 793, 794, 795, 796, 797, 798, 799, 800, 801, 802, 803, 804, 805, 806, 807, 808, 809, 810, 811, 812, 813, 814, 815, 816, 817, 818, 819, 820, 821, 822, 823, 824, 825, 826, 827, 828, 829, 830, 831, 832, 833, 834, 835, 836, 837, 838, 839, 840, 841, 842, 843, 844, 845, 846, 847, 848, 849, 850, 851, 852, 853, 854, 855, 856, 857, 858, 859, 860, 861, 862, 863, 864, 865, 866, 867, 868, 869, 870, 871, 872, 873, 874, 875, 876, 877, 878, 879, 880, 881, 882, 883, 884, 885, 886, 887, 888, 889, 890, 891, 892, 893, 894, 895, 896, 897, 898, 899, 900, 901, 902, 903, 904, 905, 906, 907, 908, 909, 910, 911, 912, 913, 914, 915, 916, 917, 918, 919, 920, 921, 922, 923, 924, 925, 926, 927, 928, 929, 930, 931, 932, 933, 934, 935, 936, 937, 938, 939, 940, 941, 942, 943, 944, 945, 946, 947, 948, 949, 950, 951, 952, 953, 954, 955, 956, 957, 958, 959, 960, 961, 962, 963, 964, 965, 966, 967, 968, 969, 970, 971, 972, 973, 974, 975, 976, 977, 978, 979, 980, 981, 982, 983, 984, 986, 987, 988, 989, 990, 991, 992, 993, 994, 995, 996, 997, 998, 999, 1000, 1001, 1002, 1003, 1004, 1005, 1006, 1007, 1008, 1009, 1010, 1011, 1012, 1013, 1014, 1015, 1016, 1017, 1018, 1019, 1020, 1021, 1022, 1023, 1024, 1025, 1026, 1027, 1028, 1029, 1030, 1031, 1032, 1033, 1034, 1035, 1036, 1037, 1038, 1039, 1040, 1041, 1042, 1043, 1044, 1045, 1046, 1047, 1048, 1049, 1050, 1051, 1052, 1053, 1054, 1055, 1056, 1057, 1058, 1059, 1060, 1061, 1062, 1063, 1064, 1065, 1066, 1067, 1068, 1069, 1070, 1071, 1072, 1073, 1074, 1075, 1076, 1077, 1078, 1079, 1080, 1081, 1082, 1083, 1084, 1085, 1086, 1087, 1088, 1089, 1090, 1091, 1092, 1093, 1094, 1095, 1096, 1097, 1098, 1099, 1100, 1101, 1102, 1103, 1104, 1105, 1106, 1107, 1108, 1109, 1110, 1111, 1112, 1113, 1114, 1115, 1116, 1117, 1118, 1119, 1120, 1121, 1122, 1123, 1124, 1125, 1126, 1127, 1128, 1129, 1130, 1131, 1132, 1133, 1134, 1135, 1136, 1137, 1138, 1139, 1140, 1141, 1142, 1143, 1144, 1145, 1146, 1147, 1148, 1149, 1150, 1151, 1152, 1153, 1154, 1155, 1156, 1157, 1158, 1159, 1160, 1161, 1162, 1163, 1164, 1165, 1166, 1167, 1168, 1169, 1170, 1171, 1172, 1173, 1174, 1175, 1176, 1177, 1178, 1179, 1180, 1181, 1182, 1183, 1184, 1185, 1186, 1187, 1188, 1189, 1190, 1191, 1192, 1193, 1194, 1195, 1196, 1197, 1198, 1199, 1200, 1201, 1202, 1203, 1204, 1205, 1206, 1207, 1208, 1209, 1210, 1211, 1212, 1213, 1214, 1215, 1216, 1217, 1218, 1219, 1220, 1221, 1222, 1223, 1224, 1225, 1226, 1227, 1228, 1229, 1230, 1231, 1232, 1233, 1234, 1235, 1236, 1237, 1238, 1239, 1240, 1241, 1242, 1243, 1244, 1245, 1246, 1247, 1248, 1249, 1250, 1251, 1252, 1253, 1254, 1255, 1256, 1257, 1258, 1259, 1260, 1261, 1262, 1263, 1264, 1265, 1266, 1267, 1268, 1269, 1270, 1271, 1272, 1273, 1274, 1275, 1276, 1277, 1278, 1279, 1280, 1281, 1282, 1283, 1284, 1285, 1286, 1287, 1288, 1289, 1290, 1291, 1292, 1293, 1294, 1295, 1296, 1297, 1298, 1299, 1300, 1301, 1302, 1303, 1304, 1305, 1306, 1307, 1308, 1309, 1310, 1311, 1312, 1313, 1314, 1315, 1316, 1317, 1318, 1319, 1320, 1321, 1322, 1323, 1324, 1325, 1326, 1327, 1328, 1329, 1330, 1331, 1332, 1333, 1334, 1335, 1336, 1337, 1338], \"xaxis\": \"x\", \"y\": [4253, 2494, 3138, 1553, 2768, 2993, 5521, 5299, 2819, 5284, 1655, 10701, 3103, 10490, 14323, 1584, 5575, 1728, 11703, 10355, 9944, 5018, 2559, 12591, 3012, 4717, 4478, 9153, 2263, 12430, 7151, 1630, 7841, 10654, 2021, 11013, 1322, 15499, 40748, 3221, 5725, 1495, 4569, 6025, 8876, 4451, 7173, 3853, 11831, 3363, 4495, 9041, 11110, 5587, 36924, 7011, 4698, 6320, 9250, 2850, 2979, 7864, 4094, 4847, 2084, 12968, 2617, 7182, 3949, 4998, 2877, 4858, 6079, 2579, 9895, 3985, 2761, 5732, 7671, 2017, 9106, 8454, 14988, 14451, 7896, 21043, 3722, 4644, 4356, 4495, 4796, 15735, 5595, 19544, 6453, 4967, 9321, 8887, 5079, 1793, 2076, 15111, 4235, 5428, 2224, 2834, 1585, 27173, 8692, 5174, 2846, 5016, 6051, 5993, 22180, 6017, 3004, 4455, 6766, 1703, 3184, 11718, 8339, 3813, 4035, 9083, 9348, 4301, 4532, 4460, 8144, 2092, 2667, 2469, 2986, 2159, 5306, 4159, 1600, 3087, 4050, 2958, 7784, 6875, 13329, 7610, 13354, 1945, 1906, 3239, 8278, 7235, 4317, 10755, 6015, 3967, 9631, 3756, 10317, 6254, 9984, 4745, 3062, 3463, 6562, 3792, 1928, 13189, 4306, 1854, 6309, 5103, 35880, 3005, 4539, 4126, 6571, 6255, 3548, 1795, 4458, 3515, 25518, 4204, 4434, 5203, 6051, 6022, 3448, 1421, 5391, 2670, 2827, 5578, 3935, 3959, 16416, 3904, 5467, 5257, 11435, 1838, 4313, 4226, 6410, 6919, 9237, 2826, 4038, 2792, 3112, 5032, 7004, 4500, 1171, 3697, 2292, 5594, 6901, 2768, 6810, 4899, 6943, 4538, 11620, 5707, 3002, 7843, 4508, 1766, 5008, 2357, 6358, 1469, 4891, 5847, 6798, 11871, 3840, 3843, 5606, 15580, 5389, 10467, 3231, 1732, 2138, 4576, 21660, 19221, 2416, 16496, 4453, 23041, 8075, 4103, 7010, 3624, 3825, 8201, 9553, 8686, 34466, 4847, 7234, 3341, 3047, 2247, 19125, 7857, 3625, 2208, 4150, 2251, 2378, 6254, 3011, 9435, 42668, 2099, 6374, 5063, 2297, 18420, 6390, 33049, 3838, 4197, 2222, 17617, 2807, 1950, 1772, 3939, 5598, 13331, 4811, 2518, 8136, 9392, 4607, 9840, 3907, 3854, 5150, 9348, 6991, 2950, 1818, 16577, 6098, 8304, 6918, 6960, 7109, 4714, 5147, 1870, 4315, 7104, 14936, 1592, 4664, 3063, 23518, 25698, 8552, 37699, 11404, 7775, 4617, 7737, 10456, 4750, 7951, 15265, 3630, 2786, 7531, 5036, 12716, 10649, 4752, 3827, 5402, 3821, 2182, 4175, 3324, 3858, 4560, 3766, 2833, 12371, 5229, 5431, 1320, 5903, 2642, 3598, 2304, 2394, 5400, 7014, 4639, 5028, 2776, 5418, 4126, 6919, 6556, 2580, 7449, 8238, 11257, 8769, 7801, 7014, 15295, 5989, 10556, 2237, 2765, 9893, 4059, 3477, 5007, 7960, 4471, 4813, 4726, 6015, 2504, 6266, 2034, 5360, 3186, 2572, 15101, 11551, 6244, 1402, 11040, 3021, 3331, 1755, 2149, 2099, 7674, 6508, 1871, 4243, 6410, 5623, 6769, 14071, 15391, 24591, 28000, 12566, 2445, 3649, 2133, 3881, 2297, 2501, 5584, 2698, 4248, 2228, 5754, 2559, 7693, 2413, 2415, 17442, 2128, 6628, 10610, 4501, 8568, 12303, 5599, 6278, 4455, 4225, 6190, 3055, 1827, 1343, 2833, 9519, 9591, 5308, 6945, 11251, 5580, 6874, 9078, 13281, 4233, 2119, 7262, 4845, 10210, 3627, 1523, 2588, 2125, 2387, 6696, 8667, 17726, 4935, 4401, 3825, 2419, 20190, 7245, 2344, 10367, 6685, 4664, 4585, 1900, 20732, 6078, 2728, 3867, 1574, 18782, 4787, 2123, 3564, 3214, 3137, 13625, 9845, 2161, 6139, 4142, 3754, 4090, 3658, 2352, 3279, 4676, 7895, 2958, 3242, 2223, 7822, 9206, 2930, 4517, 4286, 2393, 4408, 10341, 7104, 7241, 5227, 2304, 3039, 3211, 9888, 1872, 40939, 8539, 5189, 4561, 14948, 2422, 7804, 4566, 3476, 4786, 7878, 2886, 10122, 59703, 5659, 8959, 4380, 20556, 3736, 35915, 6626, 3619, 4620, 7458, 8717, 1491, 5399, 3347, 15371, 4241, 3955, 6239, 1987, 13873, 2170, 2989, 11309, 4289, 5862, 39266, 4125, 3230, 9521, 12027, 8625, 5703, 1467, 19130, 4572, 3280, 4846, 2927, 11932, 3180, 1487, 4051, 2148, 12181, 10821, 4922, 4802, 3087, 2432, 4734, 7626, 6917, 4033, 6497, 4443, 11517, 3812, 5335, 3690, 14543, 5388, 6854, 3691, 10129, 2196, 14214, 3883, 5560, 2764, 4140, 3110, 21586, 4759, 6797, 5420, 9383, 2407, 11994, 3170, 6049, 7747, 4443, 2683, 7400, 10087, 34319, 8413, 2023, 5159, 2178, 10139, 13971, 2664, 8304, 6469, 7107, 7658, 9807, 9167, 5052, 5477, 5205, 2366, 4581, 2235, 6993, 11443, 9890, 4767, 7208, 7683, 6783, 8071, 3743, 8148, 5389, 11969, 3326, 5226, 2394, 8529, 19901, 3734, 15084, 22405, 3964, 2595, 5009, 2080, 4146, 32898, 2316, 12437, 24010, 9981, 4434, 2516, 1471, 14061, 3854, 3070, 3815, 2547, 8082, 2913, 5927, 1933, 6585, 3866, 1899, 5720, 8815, 6747, 15422, 9114, 5758, 3210, 16527, 11702, 5099, 5625, 5127, 25929, 5657, 5288, 4580, 2959, 2791, 5885, 4673, 2526, 5218, 3972, 5801, 10541, 9350, 12119, 8941, 12521, 3191, 3632, 14497, 3283, 5945, 4459, 6862, 4981, 3038, 3834, 4020, 5746, 8708, 18646, 1418, 7253, 9543, 2166, 4889, 20367, 3024, 3775, 6266, 1917, 2003, 7230, 2801, 7018, 2623, 16530, 3094, 3463, 2312, 3832, 8187, 5501, 7413, 4812, 3747, 4639, 1806, 3673, 7567, 3939, 4229, 12161, 4404, 10038, 3804, 7444, 5323, 5855, 5259, 4076, 9602, 3846, 5071, 4163, 4251, 7655, 9716, 3593, 3933, 10856, 4385, 1869, 4963, 8878, 1957, 2585, 6765, 7243, 6200, 7986, 3578, 6185, 4525, 3808, 9266, 1516, 9949, 1617, 8986, 13679, 4932, 2075, 1924, 4825, 14239, 3085, 1527, 3815, 2522, 3549, 4674, 8237, 16804, 4554, 1921, 2150, 4209, 5620, 8500, 16515, 6526, 10207, 1846, 8947, 4764, 5012, 10575, 5112, 4914, 2893, 4804, 3212, 7874, 2433, 4864, 7002, 13393, 5280, 16755, 6290, 9710, 2890, 7724, 9978, 9689, 21820, 3930, 7573, 2607, 14984, 4529, 3983, 4631, 39136, 4392, 9264, 3721, 2541, 2934, 3474, 16579, 5359, 3171, 6967, 3517, 1750, 3027, 2474, 3404, 3561, 3032, 2424, 4447, 3509, 2433, 2552, 30586, 2583, 6464, 13667, 5404, 4627, 9660, 15729, 4584, 3241, 25903, 8774, 17131, 8616, 2298, 3631, 2369, 2566, 43749, 2293, 7353, 7525, 4268, 3559, 4973, 13768, 6207, 2609, 5155, 6069, 3215, 2069, 3984, 10241, 6186, 5350, 5679, 4134, 7712, 2650, 5844, 1823, 5532, 1805, 3417, 11727, 4133, 7721, 5533, 2657, 6966, 5011, 4133, 3293, 4473, 1814, 3941, 1510, 14643, 4837, 1917, 14538, 8227, 6204, 14046, 4180, 5059, 4434, 38105, 5116, 9752, 6984, 5449, 13215, 2095, 17975, 9069, 5652, 3233, 9547, 2798, 10796, 1758, 9743, 2688, 2231, 5412, 4096, 3778, 2833, 4557, 3486, 3996, 8975, 2072, 10331, 3829, 3868, 1715, 4898, 4717, 3204, 4581, 5094, 4161, 6178, 3434, 4707, 5347, 2209, 7931, 3819, 6562, 10034, 7778, 4206, 5529, 6593, 1442, 3308, 2666, 3574, 2564, 11662, 1994, 4076, 2657, 5061, 6724, 5467, 3608, 5214, 2367, 4745, 10028, 4604, 8169, 5842, 18602, 1662, 13914, 3435, 4981, 2174, 5408, 4201, 9249, 19540, 4326, 4037, 15312, 3445, 8987, 13413, 2320, 2565, 9210, 1824, 5934, 2786, 8331, 8991, 3647, 22355, 3538, 11923, 9863, 6878, 4255, 10245, 4041, 5300, 3978, 4772, 6496, 4259, 2215, 4745, 39746, 2597, 3939, 3099, 6642, 9503, 6246, 5189, 13955, 7953, 2964, 4913, 5012, 4680, 5352, 1826, 6855, 7894, 1711, 2262, 2162, 3060, 8508, 7263, 5448, 7314, 18879, 3318, 19458, 5439, 2708, 7853, 6551, 2783, 23842, 2745, 4545, 4144, 7080, 4257, 5252, 8822, 2404, 5267, 5612, 4792, 2243, 2101, 6874, 17495, 7828, 4559, 1714, 5498, 3541, 6904, 10470, 4664, 6695, 7297, 38475, 5239, 17449, 5662, 4522, 5988, 2894, 1833, 3513, 8508, 13094, 4478, 3973, 4923, 3650, 3434, 2136, 7507, 7004, 4807, 3201, 3350, 5607, 7277, 18899, 3894, 3534, 4766, 1989, 12096, 12353, 8744, 5134, 4133, 13163, 3389, 3117, 8717, 8187, 7734, 4231, 1826, 4717, 3735, 11408, 3292, 4208, 7157, 4536, 9187, 12868, 3204, 3469, 2457, 9499, 4070, 4794, 5305, 12779, 4900, 3401, 4038, 5492, 2356, 9069, 9200, 7709, 3089, 6505, 3333, 6130, 10461, 4042, 3045, 6206, 4089, 3621, 3727, 2116, 12358, 2984, 5618, 3916, 2233, 8490, 10925, 7583, 10132, 3742, 3720, 1776, 6514, 6037, 4363, 1507, 4566, 17270, 6013, 3697, 1910, 2244, 4070, 1887, 8119, 2293, 6398, 7023, 6520, 25011, 3687, 4600, 3732, 3602, 3074, 4659, 5274, 1889, 7410, 34928, 33258, 3295, 4699, 2464, 1706, 3341, 2400, 3708, 10859, 5451, 1570, 3607, 4435, 3125, 7793, 10723, 5552, 13056, 3338, 3576, 4431, 3545, 4399, 6483, 10107, 5264, 6283, 3385, 2738, 3905, 6142, 2293, 1999, 4405, 3594, 3396, 5519, 9309, 4096, 5238, 11735, 4088, 2032, 33041, 3256, 4045, 3553, 9057, 4554, 4129, 6880, 1445, 3304, 4580, 1670, 1881, 3617, 2506, 2262, 8629, 24995, 3146, 7215, 5701, 2880, 6084, 8229, 7343, 3664, 2989, 5261, 8529, 6797, 8524, 2155, 1737, 8577, 8027, 5264, 3681, 14557, 12081, 25190, 2184, 9654, 6226, 4204, 2793, 9365, 3713, 4084, 15448, 5767, 2547, 3026, 2208, 19007], \"yaxis\": \"y\"}],                        {\"coloraxis\": {\"colorbar\": {\"title\": {\"text\": \"segment\"}}, \"colorscale\": [[0.0, \"#0d0887\"], [0.1111111111111111, \"#46039f\"], [0.2222222222222222, \"#7201a8\"], [0.3333333333333333, \"#9c179e\"], [0.4444444444444444, \"#bd3786\"], [0.5555555555555556, \"#d8576b\"], [0.6666666666666666, \"#ed7953\"], [0.7777777777777778, \"#fb9f3a\"], [0.8888888888888888, \"#fdca26\"], [1.0, \"#f0f921\"]]}, \"legend\": {\"tracegroupgap\": 0}, \"margin\": {\"t\": 60}, \"template\": {\"data\": {\"bar\": [{\"error_x\": {\"color\": \"#2a3f5f\"}, \"error_y\": {\"color\": \"#2a3f5f\"}, \"marker\": {\"line\": {\"color\": \"#E5ECF6\", \"width\": 0.5}}, \"type\": \"bar\"}], \"barpolar\": [{\"marker\": {\"line\": {\"color\": \"#E5ECF6\", \"width\": 0.5}}, \"type\": \"barpolar\"}], \"carpet\": [{\"aaxis\": {\"endlinecolor\": \"#2a3f5f\", \"gridcolor\": \"white\", \"linecolor\": \"white\", \"minorgridcolor\": \"white\", \"startlinecolor\": \"#2a3f5f\"}, \"baxis\": {\"endlinecolor\": \"#2a3f5f\", \"gridcolor\": \"white\", \"linecolor\": \"white\", \"minorgridcolor\": \"white\", \"startlinecolor\": \"#2a3f5f\"}, \"type\": \"carpet\"}], \"choropleth\": [{\"colorbar\": {\"outlinewidth\": 0, \"ticks\": \"\"}, \"type\": \"choropleth\"}], \"contour\": [{\"colorbar\": {\"outlinewidth\": 0, \"ticks\": \"\"}, \"colorscale\": [[0.0, \"#0d0887\"], [0.1111111111111111, \"#46039f\"], [0.2222222222222222, \"#7201a8\"], [0.3333333333333333, \"#9c179e\"], [0.4444444444444444, \"#bd3786\"], [0.5555555555555556, \"#d8576b\"], [0.6666666666666666, \"#ed7953\"], [0.7777777777777778, \"#fb9f3a\"], [0.8888888888888888, \"#fdca26\"], [1.0, \"#f0f921\"]], \"type\": \"contour\"}], \"contourcarpet\": [{\"colorbar\": {\"outlinewidth\": 0, \"ticks\": \"\"}, \"type\": \"contourcarpet\"}], \"heatmap\": [{\"colorbar\": {\"outlinewidth\": 0, \"ticks\": \"\"}, \"colorscale\": [[0.0, \"#0d0887\"], [0.1111111111111111, \"#46039f\"], [0.2222222222222222, \"#7201a8\"], [0.3333333333333333, \"#9c179e\"], [0.4444444444444444, \"#bd3786\"], [0.5555555555555556, \"#d8576b\"], [0.6666666666666666, \"#ed7953\"], [0.7777777777777778, \"#fb9f3a\"], [0.8888888888888888, \"#fdca26\"], [1.0, \"#f0f921\"]], \"type\": \"heatmap\"}], \"heatmapgl\": [{\"colorbar\": {\"outlinewidth\": 0, \"ticks\": \"\"}, \"colorscale\": [[0.0, \"#0d0887\"], [0.1111111111111111, \"#46039f\"], [0.2222222222222222, \"#7201a8\"], [0.3333333333333333, \"#9c179e\"], [0.4444444444444444, \"#bd3786\"], [0.5555555555555556, \"#d8576b\"], [0.6666666666666666, \"#ed7953\"], [0.7777777777777778, \"#fb9f3a\"], [0.8888888888888888, \"#fdca26\"], [1.0, \"#f0f921\"]], \"type\": \"heatmapgl\"}], \"histogram\": [{\"marker\": {\"colorbar\": {\"outlinewidth\": 0, \"ticks\": \"\"}}, \"type\": \"histogram\"}], \"histogram2d\": [{\"colorbar\": {\"outlinewidth\": 0, \"ticks\": \"\"}, \"colorscale\": [[0.0, \"#0d0887\"], [0.1111111111111111, \"#46039f\"], [0.2222222222222222, \"#7201a8\"], [0.3333333333333333, \"#9c179e\"], [0.4444444444444444, \"#bd3786\"], [0.5555555555555556, \"#d8576b\"], [0.6666666666666666, \"#ed7953\"], [0.7777777777777778, \"#fb9f3a\"], [0.8888888888888888, \"#fdca26\"], [1.0, \"#f0f921\"]], \"type\": \"histogram2d\"}], \"histogram2dcontour\": [{\"colorbar\": {\"outlinewidth\": 0, \"ticks\": \"\"}, \"colorscale\": [[0.0, \"#0d0887\"], [0.1111111111111111, \"#46039f\"], [0.2222222222222222, \"#7201a8\"], [0.3333333333333333, \"#9c179e\"], [0.4444444444444444, \"#bd3786\"], [0.5555555555555556, \"#d8576b\"], [0.6666666666666666, \"#ed7953\"], [0.7777777777777778, \"#fb9f3a\"], [0.8888888888888888, \"#fdca26\"], [1.0, \"#f0f921\"]], \"type\": \"histogram2dcontour\"}], \"mesh3d\": [{\"colorbar\": {\"outlinewidth\": 0, \"ticks\": \"\"}, \"type\": \"mesh3d\"}], \"parcoords\": [{\"line\": {\"colorbar\": {\"outlinewidth\": 0, \"ticks\": \"\"}}, \"type\": \"parcoords\"}], \"pie\": [{\"automargin\": true, \"type\": \"pie\"}], \"scatter\": [{\"marker\": {\"colorbar\": {\"outlinewidth\": 0, \"ticks\": \"\"}}, \"type\": \"scatter\"}], \"scatter3d\": [{\"line\": {\"colorbar\": {\"outlinewidth\": 0, \"ticks\": \"\"}}, \"marker\": {\"colorbar\": {\"outlinewidth\": 0, \"ticks\": \"\"}}, \"type\": \"scatter3d\"}], \"scattercarpet\": [{\"marker\": {\"colorbar\": {\"outlinewidth\": 0, \"ticks\": \"\"}}, \"type\": \"scattercarpet\"}], \"scattergeo\": [{\"marker\": {\"colorbar\": {\"outlinewidth\": 0, \"ticks\": \"\"}}, \"type\": \"scattergeo\"}], \"scattergl\": [{\"marker\": {\"colorbar\": {\"outlinewidth\": 0, \"ticks\": \"\"}}, \"type\": \"scattergl\"}], \"scattermapbox\": [{\"marker\": {\"colorbar\": {\"outlinewidth\": 0, \"ticks\": \"\"}}, \"type\": \"scattermapbox\"}], \"scatterpolar\": [{\"marker\": {\"colorbar\": {\"outlinewidth\": 0, \"ticks\": \"\"}}, \"type\": \"scatterpolar\"}], \"scatterpolargl\": [{\"marker\": {\"colorbar\": {\"outlinewidth\": 0, \"ticks\": \"\"}}, \"type\": \"scatterpolargl\"}], \"scatterternary\": [{\"marker\": {\"colorbar\": {\"outlinewidth\": 0, \"ticks\": \"\"}}, \"type\": \"scatterternary\"}], \"surface\": [{\"colorbar\": {\"outlinewidth\": 0, \"ticks\": \"\"}, \"colorscale\": [[0.0, \"#0d0887\"], [0.1111111111111111, \"#46039f\"], [0.2222222222222222, \"#7201a8\"], [0.3333333333333333, \"#9c179e\"], [0.4444444444444444, \"#bd3786\"], [0.5555555555555556, \"#d8576b\"], [0.6666666666666666, \"#ed7953\"], [0.7777777777777778, \"#fb9f3a\"], [0.8888888888888888, \"#fdca26\"], [1.0, \"#f0f921\"]], \"type\": \"surface\"}], \"table\": [{\"cells\": {\"fill\": {\"color\": \"#EBF0F8\"}, \"line\": {\"color\": \"white\"}}, \"header\": {\"fill\": {\"color\": \"#C8D4E3\"}, \"line\": {\"color\": \"white\"}}, \"type\": \"table\"}]}, \"layout\": {\"annotationdefaults\": {\"arrowcolor\": \"#2a3f5f\", \"arrowhead\": 0, \"arrowwidth\": 1}, \"autotypenumbers\": \"strict\", \"coloraxis\": {\"colorbar\": {\"outlinewidth\": 0, \"ticks\": \"\"}}, \"colorscale\": {\"diverging\": [[0, \"#8e0152\"], [0.1, \"#c51b7d\"], [0.2, \"#de77ae\"], [0.3, \"#f1b6da\"], [0.4, \"#fde0ef\"], [0.5, \"#f7f7f7\"], [0.6, \"#e6f5d0\"], [0.7, \"#b8e186\"], [0.8, \"#7fbc41\"], [0.9, \"#4d9221\"], [1, \"#276419\"]], \"sequential\": [[0.0, \"#0d0887\"], [0.1111111111111111, \"#46039f\"], [0.2222222222222222, \"#7201a8\"], [0.3333333333333333, \"#9c179e\"], [0.4444444444444444, \"#bd3786\"], [0.5555555555555556, \"#d8576b\"], [0.6666666666666666, \"#ed7953\"], [0.7777777777777778, \"#fb9f3a\"], [0.8888888888888888, \"#fdca26\"], [1.0, \"#f0f921\"]], \"sequentialminus\": [[0.0, \"#0d0887\"], [0.1111111111111111, \"#46039f\"], [0.2222222222222222, \"#7201a8\"], [0.3333333333333333, \"#9c179e\"], [0.4444444444444444, \"#bd3786\"], [0.5555555555555556, \"#d8576b\"], [0.6666666666666666, \"#ed7953\"], [0.7777777777777778, \"#fb9f3a\"], [0.8888888888888888, \"#fdca26\"], [1.0, \"#f0f921\"]]}, \"colorway\": [\"#636efa\", \"#EF553B\", \"#00cc96\", \"#ab63fa\", \"#FFA15A\", \"#19d3f3\", \"#FF6692\", \"#B6E880\", \"#FF97FF\", \"#FECB52\"], \"font\": {\"color\": \"#2a3f5f\"}, \"geo\": {\"bgcolor\": \"white\", \"lakecolor\": \"white\", \"landcolor\": \"#E5ECF6\", \"showlakes\": true, \"showland\": true, \"subunitcolor\": \"white\"}, \"hoverlabel\": {\"align\": \"left\"}, \"hovermode\": \"closest\", \"mapbox\": {\"style\": \"light\"}, \"paper_bgcolor\": \"white\", \"plot_bgcolor\": \"#E5ECF6\", \"polar\": {\"angularaxis\": {\"gridcolor\": \"white\", \"linecolor\": \"white\", \"ticks\": \"\"}, \"bgcolor\": \"#E5ECF6\", \"radialaxis\": {\"gridcolor\": \"white\", \"linecolor\": \"white\", \"ticks\": \"\"}}, \"scene\": {\"xaxis\": {\"backgroundcolor\": \"#E5ECF6\", \"gridcolor\": \"white\", \"gridwidth\": 2, \"linecolor\": \"white\", \"showbackground\": true, \"ticks\": \"\", \"zerolinecolor\": \"white\"}, \"yaxis\": {\"backgroundcolor\": \"#E5ECF6\", \"gridcolor\": \"white\", \"gridwidth\": 2, \"linecolor\": \"white\", \"showbackground\": true, \"ticks\": \"\", \"zerolinecolor\": \"white\"}, \"zaxis\": {\"backgroundcolor\": \"#E5ECF6\", \"gridcolor\": \"white\", \"gridwidth\": 2, \"linecolor\": \"white\", \"showbackground\": true, \"ticks\": \"\", \"zerolinecolor\": \"white\"}}, \"shapedefaults\": {\"line\": {\"color\": \"#2a3f5f\"}}, \"ternary\": {\"aaxis\": {\"gridcolor\": \"white\", \"linecolor\": \"white\", \"ticks\": \"\"}, \"baxis\": {\"gridcolor\": \"white\", \"linecolor\": \"white\", \"ticks\": \"\"}, \"bgcolor\": \"#E5ECF6\", \"caxis\": {\"gridcolor\": \"white\", \"linecolor\": \"white\", \"ticks\": \"\"}}, \"title\": {\"x\": 0.05}, \"xaxis\": {\"automargin\": true, \"gridcolor\": \"white\", \"linecolor\": \"white\", \"ticks\": \"\", \"title\": {\"standoff\": 15}, \"zerolinecolor\": \"white\", \"zerolinewidth\": 2}, \"yaxis\": {\"automargin\": true, \"gridcolor\": \"white\", \"linecolor\": \"white\", \"ticks\": \"\", \"title\": {\"standoff\": 15}, \"zerolinecolor\": \"white\", \"zerolinewidth\": 2}}}, \"xaxis\": {\"anchor\": \"y\", \"domain\": [0.0, 1.0], \"title\": {\"text\": \"index\"}}, \"yaxis\": {\"anchor\": \"x\", \"domain\": [0.0, 1.0], \"title\": {\"text\": \"charges\"}}},                        {\"responsive\": true}                    ).then(function(){\n",
       "                            \n",
       "var gd = document.getElementById('3c7ddd1d-2b6f-4bf1-abaf-e2e907cec4e2');\n",
       "var x = new MutationObserver(function (mutations, observer) {{\n",
       "        var display = window.getComputedStyle(gd).display;\n",
       "        if (!display || display === 'none') {{\n",
       "            console.log([gd, 'removed!']);\n",
       "            Plotly.purge(gd);\n",
       "            observer.disconnect();\n",
       "        }}\n",
       "}});\n",
       "\n",
       "// Listen for the removal of the full notebook cells\n",
       "var notebookContainer = gd.closest('#notebook-container');\n",
       "if (notebookContainer) {{\n",
       "    x.observe(notebookContainer, {childList: true});\n",
       "}}\n",
       "\n",
       "// Listen for the clearing of the current output cell\n",
       "var outputEl = gd.closest('.output');\n",
       "if (outputEl) {{\n",
       "    x.observe(outputEl, {childList: true});\n",
       "}}\n",
       "\n",
       "                        })                };                });            </script>        </div>"
      ]
     },
     "metadata": {},
     "output_type": "display_data"
    },
    {
     "data": {
      "text/html": [
       "<div>\n",
       "<style scoped>\n",
       "    .dataframe tbody tr th:only-of-type {\n",
       "        vertical-align: middle;\n",
       "    }\n",
       "\n",
       "    .dataframe tbody tr th {\n",
       "        vertical-align: top;\n",
       "    }\n",
       "\n",
       "    .dataframe thead th {\n",
       "        text-align: right;\n",
       "    }\n",
       "</style>\n",
       "<table border=\"1\" class=\"dataframe\">\n",
       "  <thead>\n",
       "    <tr style=\"text-align: right;\">\n",
       "      <th></th>\n",
       "      <th>pc</th>\n",
       "      <th>variance_ratio</th>\n",
       "      <th>feature</th>\n",
       "      <th>variance_ratio_cumsum</th>\n",
       "    </tr>\n",
       "  </thead>\n",
       "  <tbody>\n",
       "    <tr>\n",
       "      <th>0</th>\n",
       "      <td>1</td>\n",
       "      <td>0.294015</td>\n",
       "      <td>bmi</td>\n",
       "      <td>0.294015</td>\n",
       "    </tr>\n",
       "    <tr>\n",
       "      <th>1</th>\n",
       "      <td>2</td>\n",
       "      <td>0.173517</td>\n",
       "      <td>children</td>\n",
       "      <td>0.467533</td>\n",
       "    </tr>\n",
       "    <tr>\n",
       "      <th>2</th>\n",
       "      <td>3</td>\n",
       "      <td>0.168910</td>\n",
       "      <td>smoker</td>\n",
       "      <td>0.636443</td>\n",
       "    </tr>\n",
       "    <tr>\n",
       "      <th>3</th>\n",
       "      <td>4</td>\n",
       "      <td>0.161335</td>\n",
       "      <td>canton</td>\n",
       "      <td>0.797779</td>\n",
       "    </tr>\n",
       "    <tr>\n",
       "      <th>4</th>\n",
       "      <td>5</td>\n",
       "      <td>0.151148</td>\n",
       "      <td>age</td>\n",
       "      <td>0.948926</td>\n",
       "    </tr>\n",
       "  </tbody>\n",
       "</table>\n",
       "</div>"
      ],
      "text/plain": [
       "   pc  variance_ratio   feature  variance_ratio_cumsum\n",
       "0   1        0.294015       bmi               0.294015\n",
       "1   2        0.173517  children               0.467533\n",
       "2   3        0.168910    smoker               0.636443\n",
       "3   4        0.161335    canton               0.797779\n",
       "4   5        0.151148       age               0.948926"
      ]
     },
     "execution_count": 48,
     "metadata": {},
     "output_type": "execute_result"
    }
   ],
   "source": [
    "# elbow in the graph above indicates that 3 clusters are needed - 3 groups of clients\n",
    "N_CLUSTERS = 3\n",
    "\n",
    "model = KMeans(n_clusters=N_CLUSTERS, init='k-means++', random_state=42)\n",
    "model.fit(x, y)\n",
    "\n",
    "data['segment'] = model.labels_\n",
    "\n",
    "fig = px.scatter(data, y='charges', color='segment')\n",
    "fig.show()\n",
    "\n",
    "n_pcs= pca.components_.shape[0]\n",
    "most_important = [np.abs(pca.components_[i]).argmax() for i in range(n_pcs)]\n",
    "most_important_names = [features[most_important[i]] for i in range(n_pcs)]\n",
    "\n",
    "pca_results = pd.DataFrame([[i+1, \n",
    "                             pca.explained_variance_ratio_[i], \n",
    "                             most_important_names[i]] for i in range(n_pcs)],\n",
    "                           columns = ['pc', 'variance_ratio', 'feature'])\n",
    "\n",
    "pca_results['variance_ratio_cumsum'] = pca_results['variance_ratio'].cumsum()\n",
    "pca_results"
   ]
  },
  {
   "cell_type": "code",
   "execution_count": 49,
   "metadata": {},
   "outputs": [
    {
     "data": {
      "text/html": [
       "<div>\n",
       "<style scoped>\n",
       "    .dataframe tbody tr th:only-of-type {\n",
       "        vertical-align: middle;\n",
       "    }\n",
       "\n",
       "    .dataframe tbody tr th {\n",
       "        vertical-align: top;\n",
       "    }\n",
       "\n",
       "    .dataframe thead th {\n",
       "        text-align: right;\n",
       "    }\n",
       "</style>\n",
       "<table border=\"1\" class=\"dataframe\">\n",
       "  <thead>\n",
       "    <tr style=\"text-align: right;\">\n",
       "      <th></th>\n",
       "      <th>age</th>\n",
       "      <th>sex</th>\n",
       "      <th>bmi</th>\n",
       "      <th>children</th>\n",
       "      <th>smoker</th>\n",
       "      <th>canton</th>\n",
       "      <th>pbf</th>\n",
       "      <th>charges</th>\n",
       "      <th>segment</th>\n",
       "    </tr>\n",
       "  </thead>\n",
       "  <tbody>\n",
       "    <tr>\n",
       "      <th>1</th>\n",
       "      <td>19</td>\n",
       "      <td>0</td>\n",
       "      <td>24.720</td>\n",
       "      <td>0</td>\n",
       "      <td>0</td>\n",
       "      <td>0</td>\n",
       "      <td>35.94</td>\n",
       "      <td>4253</td>\n",
       "      <td>1</td>\n",
       "    </tr>\n",
       "    <tr>\n",
       "      <th>2</th>\n",
       "      <td>18</td>\n",
       "      <td>1</td>\n",
       "      <td>29.416</td>\n",
       "      <td>1</td>\n",
       "      <td>1</td>\n",
       "      <td>1</td>\n",
       "      <td>26.86</td>\n",
       "      <td>2494</td>\n",
       "      <td>0</td>\n",
       "    </tr>\n",
       "    <tr>\n",
       "      <th>3</th>\n",
       "      <td>28</td>\n",
       "      <td>1</td>\n",
       "      <td>28.800</td>\n",
       "      <td>3</td>\n",
       "      <td>1</td>\n",
       "      <td>1</td>\n",
       "      <td>26.92</td>\n",
       "      <td>3138</td>\n",
       "      <td>0</td>\n",
       "    </tr>\n",
       "    <tr>\n",
       "      <th>4</th>\n",
       "      <td>33</td>\n",
       "      <td>1</td>\n",
       "      <td>20.564</td>\n",
       "      <td>0</td>\n",
       "      <td>1</td>\n",
       "      <td>2</td>\n",
       "      <td>7.98</td>\n",
       "      <td>1553</td>\n",
       "      <td>0</td>\n",
       "    </tr>\n",
       "    <tr>\n",
       "      <th>5</th>\n",
       "      <td>32</td>\n",
       "      <td>1</td>\n",
       "      <td>25.504</td>\n",
       "      <td>0</td>\n",
       "      <td>1</td>\n",
       "      <td>2</td>\n",
       "      <td>21.84</td>\n",
       "      <td>2768</td>\n",
       "      <td>0</td>\n",
       "    </tr>\n",
       "  </tbody>\n",
       "</table>\n",
       "</div>"
      ],
      "text/plain": [
       "   age  sex     bmi  children  smoker  canton    pbf  charges  segment\n",
       "1   19    0  24.720         0       0       0  35.94     4253        1\n",
       "2   18    1  29.416         1       1       1  26.86     2494        0\n",
       "3   28    1  28.800         3       1       1  26.92     3138        0\n",
       "4   33    1  20.564         0       1       2   7.98     1553        0\n",
       "5   32    1  25.504         0       1       2  21.84     2768        0"
      ]
     },
     "execution_count": 49,
     "metadata": {},
     "output_type": "execute_result"
    }
   ],
   "source": [
    "data.head()"
   ]
  },
  {
   "cell_type": "code",
   "execution_count": 50,
   "metadata": {},
   "outputs": [
    {
     "data": {
      "application/vnd.plotly.v1+json": {
       "config": {
        "plotlyServerURL": "https://plot.ly"
       },
       "data": [
        {
         "alignmentgroup": "True",
         "hovertemplate": "bmi_group=%{x}<br>charges=%{y}<extra></extra>",
         "legendgroup": "",
         "marker": {
          "color": "#636efa"
         },
         "name": "",
         "notched": false,
         "offsetgroup": "",
         "orientation": "v",
         "showlegend": false,
         "type": "box",
         "x": [
          0,
          2,
          1,
          0,
          1,
          0,
          2,
          0,
          1,
          0,
          0,
          0,
          2,
          2,
          2,
          0,
          1,
          0,
          2,
          2,
          2,
          1,
          2,
          1,
          0,
          0,
          0,
          1,
          0,
          2,
          2,
          0,
          0,
          2,
          0,
          1,
          0,
          2,
          2,
          0,
          2,
          0,
          1,
          2,
          2,
          2,
          2,
          0,
          2,
          2,
          2,
          0,
          2,
          1,
          2,
          1,
          1,
          0,
          2,
          0,
          2,
          0,
          0,
          0,
          1,
          2,
          0,
          2,
          0,
          0,
          0,
          0,
          1,
          0,
          2,
          1,
          2,
          2,
          1,
          0,
          2,
          2,
          2,
          2,
          0,
          1,
          0,
          0,
          0,
          2,
          0,
          1,
          2,
          1,
          2,
          1,
          2,
          0,
          1,
          0,
          1,
          1,
          0,
          0,
          0,
          1,
          0,
          2,
          2,
          1,
          1,
          2,
          1,
          1,
          2,
          0,
          0,
          0,
          2,
          0,
          1,
          1,
          2,
          1,
          0,
          2,
          0,
          2,
          0,
          0,
          2,
          0,
          1,
          0,
          2,
          0,
          1,
          2,
          0,
          1,
          0,
          1,
          1,
          2,
          1,
          2,
          2,
          0,
          0,
          1,
          2,
          0,
          0,
          2,
          0,
          0,
          2,
          0,
          0,
          2,
          2,
          1,
          1,
          0,
          2,
          1,
          0,
          2,
          1,
          0,
          2,
          2,
          2,
          0,
          1,
          1,
          2,
          1,
          2,
          0,
          0,
          1,
          2,
          1,
          1,
          1,
          1,
          1,
          0,
          0,
          0,
          2,
          1,
          1,
          1,
          0,
          2,
          1,
          1,
          0,
          2,
          0,
          1,
          0,
          0,
          1,
          2,
          1,
          1,
          0,
          0,
          1,
          2,
          0,
          0,
          1,
          0,
          2,
          2,
          1,
          2,
          0,
          2,
          2,
          2,
          1,
          0,
          2,
          0,
          0,
          0,
          0,
          0,
          0,
          2,
          1,
          2,
          2,
          0,
          0,
          2,
          0,
          1,
          2,
          2,
          0,
          1,
          0,
          1,
          2,
          1,
          1,
          0,
          2,
          2,
          0,
          1,
          0,
          0,
          0,
          2,
          2,
          2,
          0,
          1,
          1,
          0,
          1,
          2,
          2,
          0,
          0,
          0,
          0,
          0,
          1,
          0,
          0,
          2,
          0,
          1,
          1,
          0,
          2,
          0,
          2,
          0,
          2,
          1,
          2,
          1,
          0,
          0,
          0,
          0,
          2,
          1,
          0,
          0,
          2,
          1,
          2,
          2,
          0,
          2,
          2,
          2,
          0,
          0,
          2,
          2,
          1,
          2,
          1,
          1,
          0,
          2,
          0,
          1,
          1,
          2,
          0,
          2,
          0,
          2,
          2,
          2,
          2,
          0,
          1,
          1,
          2,
          2,
          0,
          0,
          1,
          0,
          0,
          1,
          0,
          2,
          2,
          1,
          2,
          2,
          1,
          0,
          0,
          0,
          0,
          2,
          2,
          0,
          2,
          1,
          2,
          0,
          1,
          1,
          0,
          0,
          0,
          1,
          1,
          0,
          1,
          1,
          0,
          0,
          2,
          1,
          2,
          0,
          0,
          2,
          1,
          1,
          0,
          1,
          1,
          2,
          0,
          2,
          2,
          0,
          0,
          1,
          2,
          2,
          1,
          1,
          1,
          0,
          2,
          1,
          0,
          2,
          0,
          2,
          1,
          1,
          0,
          2,
          0,
          0,
          0,
          1,
          0,
          0,
          0,
          0,
          2,
          2,
          2,
          0,
          2,
          0,
          2,
          2,
          1,
          1,
          1,
          0,
          0,
          1,
          0,
          1,
          2,
          0,
          0,
          1,
          1,
          2,
          1,
          1,
          2,
          1,
          1,
          2,
          2,
          2,
          0,
          2,
          1,
          0,
          1,
          2,
          1,
          0,
          0,
          1,
          2,
          2,
          1,
          1,
          2,
          1,
          2,
          1,
          2,
          0,
          0,
          0,
          1,
          2,
          0,
          0,
          1,
          1,
          1,
          2,
          0,
          0,
          0,
          2,
          2,
          1,
          2,
          2,
          1,
          2,
          2,
          1,
          0,
          1,
          2,
          1,
          1,
          0,
          0,
          2,
          0,
          0,
          0,
          1,
          0,
          2,
          2,
          0,
          0,
          1,
          1,
          1,
          1,
          0,
          0,
          1,
          1,
          2,
          0,
          1,
          0,
          2,
          2,
          1,
          1,
          1,
          0,
          2,
          2,
          2,
          0,
          2,
          1,
          0,
          2,
          0,
          2,
          1,
          1,
          2,
          2,
          0,
          2,
          1,
          0,
          1,
          2,
          1,
          2,
          2,
          1,
          0,
          2,
          2,
          1,
          2,
          1,
          1,
          0,
          1,
          2,
          0,
          2,
          2,
          2,
          2,
          0,
          1,
          1,
          2,
          1,
          1,
          2,
          1,
          1,
          2,
          1,
          2,
          2,
          2,
          2,
          0,
          0,
          2,
          1,
          0,
          0,
          1,
          2,
          0,
          0,
          0,
          0,
          1,
          2,
          1,
          1,
          0,
          1,
          0,
          2,
          2,
          1,
          2,
          1,
          2,
          2,
          1,
          0,
          2,
          0,
          2,
          0,
          0,
          0,
          2,
          1,
          2,
          2,
          0,
          1,
          2,
          1,
          0,
          2,
          2,
          1,
          2,
          0,
          2,
          1,
          0,
          1,
          2,
          2,
          2,
          2,
          1,
          2,
          0,
          2,
          2,
          0,
          2,
          0,
          2,
          2,
          0,
          2,
          2,
          2,
          1,
          0,
          0,
          0,
          1,
          2,
          2,
          1,
          2,
          2,
          0,
          2,
          2,
          2,
          1,
          2,
          0,
          1,
          2,
          0,
          2,
          1,
          1,
          1,
          1,
          1,
          1,
          1,
          1,
          2,
          0,
          2,
          1,
          2,
          0,
          0,
          0,
          2,
          0,
          0,
          0,
          0,
          2,
          0,
          1,
          0,
          2,
          1,
          0,
          2,
          2,
          1,
          2,
          2,
          2,
          2,
          2,
          2,
          0,
          1,
          1,
          2,
          1,
          1,
          0,
          2,
          0,
          1,
          2,
          0,
          1,
          0,
          0,
          2,
          2,
          2,
          2,
          2,
          2,
          0,
          2,
          0,
          0,
          2,
          2,
          0,
          0,
          1,
          0,
          1,
          2,
          2,
          0,
          1,
          2,
          0,
          1,
          2,
          0,
          0,
          1,
          0,
          0,
          2,
          1,
          0,
          1,
          2,
          0,
          2,
          0,
          0,
          0,
          2,
          2,
          2,
          2,
          0,
          0,
          0,
          1,
          1,
          1,
          2,
          0,
          2,
          0,
          2,
          1,
          2,
          2,
          1,
          2,
          2,
          1,
          0,
          2,
          2,
          0,
          1,
          0,
          2,
          2,
          0,
          1,
          2,
          0,
          0,
          0,
          1,
          0,
          2,
          0,
          2,
          0,
          0,
          2,
          0,
          2,
          0,
          2,
          2,
          2,
          1,
          0,
          1,
          2,
          0,
          0,
          2,
          1,
          0,
          2,
          0,
          2,
          2,
          0,
          1,
          1,
          0,
          1,
          1,
          0,
          1,
          0,
          2,
          0,
          0,
          2,
          2,
          2,
          1,
          0,
          0,
          1,
          1,
          0,
          1,
          1,
          1,
          1,
          2,
          2,
          0,
          1,
          1,
          1,
          2,
          0,
          0,
          1,
          2,
          0,
          1,
          0,
          2,
          0,
          2,
          0,
          0,
          1,
          2,
          2,
          0,
          0,
          2,
          1,
          0,
          1,
          0,
          0,
          0,
          2,
          1,
          1,
          2,
          0,
          0,
          2,
          0,
          1,
          1,
          1,
          2,
          2,
          0,
          1,
          0,
          2,
          1,
          2,
          0,
          0,
          2,
          0,
          0,
          2,
          0,
          2,
          2,
          1,
          1,
          1,
          2,
          0,
          0,
          1,
          0,
          0,
          0,
          2,
          0,
          0,
          0,
          2,
          0,
          2,
          1,
          2,
          0,
          1,
          0,
          0,
          2,
          2,
          2,
          1,
          0,
          2,
          2,
          0,
          1,
          0,
          0,
          1,
          0,
          2,
          2,
          0,
          2,
          2,
          2,
          2,
          1,
          1,
          0,
          2,
          0,
          1,
          0,
          2,
          1,
          0,
          2,
          2,
          2,
          0,
          2,
          0,
          2,
          0,
          0,
          0,
          0,
          2,
          0,
          0,
          0,
          2,
          2,
          0,
          2,
          1,
          2,
          1,
          0,
          0,
          0,
          1,
          0,
          1,
          0,
          2,
          0,
          0,
          0,
          1,
          0,
          0,
          0,
          2,
          2,
          2,
          0,
          0,
          1,
          0,
          1,
          0,
          1,
          1,
          0,
          0,
          0,
          0,
          0,
          2,
          1,
          0,
          0,
          0,
          2,
          2,
          1,
          2,
          1,
          2,
          0,
          2,
          2,
          0,
          0,
          1,
          0,
          0,
          2,
          0,
          0,
          2,
          0,
          2,
          1,
          1,
          0,
          0,
          0,
          1,
          0,
          2,
          0,
          0,
          2,
          0,
          1,
          2,
          0,
          1,
          1,
          0,
          0,
          1,
          1,
          2,
          2,
          1,
          0,
          2,
          1,
          0,
          0,
          2,
          2,
          0,
          1,
          2,
          1,
          1,
          1,
          0,
          1,
          1,
          0,
          1,
          2,
          0,
          0,
          0,
          1,
          1,
          0,
          1,
          1,
          2,
          0,
          2,
          1,
          1,
          1,
          2,
          1,
          2,
          2,
          1,
          2,
          0,
          1,
          2,
          2,
          1,
          1,
          1,
          0,
          1,
          0,
          1,
          2,
          0,
          0,
          0,
          1,
          1,
          2,
          2,
          0,
          1,
          2,
          2,
          1,
          2,
          0,
          1,
          2,
          1,
          0,
          0,
          2,
          2,
          0,
          2,
          0,
          0,
          0,
          1,
          1,
          2,
          1,
          0,
          1,
          1,
          1,
          1,
          1,
          0,
          2,
          1,
          2,
          1,
          2,
          0,
          0,
          2,
          0,
          1,
          2,
          2,
          2,
          2,
          0,
          0,
          0,
          2,
          0,
          2,
          2,
          0,
          0,
          2,
          1,
          1,
          0,
          0,
          0,
          2,
          1,
          2,
          1,
          1,
          0,
          0,
          0,
          2,
          1,
          0,
          0,
          1,
          0,
          1,
          2,
          0,
          0,
          1,
          2,
          1,
          0,
          0,
          2,
          1,
          1,
          0,
          0,
          2,
          2,
          0,
          2,
          1,
          2,
          0,
          2,
          1,
          2,
          0,
          2,
          2,
          1,
          0,
          0,
          0,
          0,
          0,
          2,
          0,
          2,
          2,
          1,
          2,
          0,
          0,
          0,
          0,
          1,
          0,
          0,
          0,
          2,
          2,
          2,
          0,
          2,
          2,
          0,
          0,
          1,
          2,
          2,
          1,
          0,
          0,
          1,
          0,
          2,
          2,
          0,
          2,
          0,
          0,
          2,
          0,
          1,
          2,
          0,
          1,
          1,
          2,
          0,
          2,
          2,
          0,
          0,
          0,
          0,
          1,
          1,
          1,
          0,
          2,
          0,
          0,
          1,
          2,
          0,
          0,
          0,
          2,
          2,
          0,
          2,
          0,
          0,
          0,
          0,
          0,
          0,
          0,
          0,
          1,
          1,
          0,
          0,
          0,
          0,
          0,
          0,
          1,
          1,
          0,
          0,
          2,
          2,
          0,
          0,
          0,
          2,
          2,
          0,
          1,
          0,
          2,
          2,
          0,
          2,
          1,
          1,
          0,
          2,
          0,
          2,
          2,
          1,
          1,
          2,
          0,
          1
         ],
         "x0": " ",
         "xaxis": "x",
         "y": [
          4253,
          2494,
          3138,
          1553,
          2768,
          2993,
          5521,
          5299,
          2819,
          5284,
          1655,
          10701,
          3103,
          10490,
          14323,
          1584,
          5575,
          1728,
          11703,
          10355,
          9944,
          5018,
          2559,
          12591,
          3012,
          4717,
          4478,
          9153,
          2263,
          12430,
          7151,
          1630,
          7841,
          10654,
          2021,
          11013,
          1322,
          15499,
          40748,
          3221,
          5725,
          1495,
          4569,
          6025,
          8876,
          4451,
          7173,
          3853,
          11831,
          3363,
          4495,
          9041,
          11110,
          5587,
          36924,
          7011,
          4698,
          6320,
          9250,
          2850,
          2979,
          7864,
          4094,
          4847,
          2084,
          12968,
          2617,
          7182,
          3949,
          4998,
          2877,
          4858,
          6079,
          2579,
          9895,
          3985,
          2761,
          5732,
          7671,
          2017,
          9106,
          8454,
          14988,
          14451,
          7896,
          21043,
          3722,
          4644,
          4356,
          4495,
          4796,
          15735,
          5595,
          19544,
          6453,
          4967,
          9321,
          8887,
          5079,
          1793,
          2076,
          15111,
          4235,
          5428,
          2224,
          2834,
          1585,
          27173,
          8692,
          5174,
          2846,
          5016,
          6051,
          5993,
          22180,
          6017,
          3004,
          4455,
          6766,
          1703,
          3184,
          11718,
          8339,
          3813,
          4035,
          9083,
          9348,
          4301,
          4532,
          4460,
          8144,
          2092,
          2667,
          2469,
          2986,
          2159,
          5306,
          4159,
          1600,
          3087,
          4050,
          2958,
          7784,
          6875,
          13329,
          7610,
          13354,
          1945,
          1906,
          3239,
          8278,
          7235,
          4317,
          10755,
          6015,
          3967,
          9631,
          3756,
          10317,
          6254,
          9984,
          4745,
          3062,
          3463,
          6562,
          3792,
          1928,
          13189,
          4306,
          1854,
          6309,
          5103,
          35880,
          3005,
          4539,
          4126,
          6571,
          6255,
          3548,
          1795,
          4458,
          3515,
          25518,
          4204,
          4434,
          5203,
          6051,
          6022,
          3448,
          1421,
          5391,
          2670,
          2827,
          5578,
          3935,
          3959,
          16416,
          3904,
          5467,
          5257,
          11435,
          1838,
          4313,
          4226,
          6410,
          6919,
          9237,
          2826,
          4038,
          2792,
          3112,
          5032,
          7004,
          4500,
          1171,
          3697,
          2292,
          5594,
          6901,
          2768,
          6810,
          4899,
          6943,
          4538,
          11620,
          5707,
          3002,
          7843,
          4508,
          1766,
          5008,
          2357,
          6358,
          1469,
          4891,
          5847,
          6798,
          11871,
          3840,
          3843,
          5606,
          15580,
          5389,
          10467,
          3231,
          1732,
          2138,
          4576,
          21660,
          19221,
          2416,
          16496,
          4453,
          23041,
          8075,
          4103,
          7010,
          3624,
          3825,
          8201,
          9553,
          8686,
          34466,
          4847,
          7234,
          3341,
          3047,
          2247,
          19125,
          7857,
          3625,
          2208,
          4150,
          2251,
          2378,
          6254,
          3011,
          9435,
          42668,
          2099,
          6374,
          5063,
          2297,
          18420,
          6390,
          33049,
          3838,
          4197,
          2222,
          17617,
          2807,
          1950,
          1772,
          3939,
          5598,
          13331,
          4811,
          2518,
          8136,
          9392,
          4607,
          9840,
          3907,
          3854,
          5150,
          9348,
          6991,
          2950,
          1818,
          16577,
          6098,
          8304,
          6918,
          6960,
          7109,
          4714,
          5147,
          1870,
          4315,
          7104,
          14936,
          1592,
          4664,
          3063,
          23518,
          25698,
          8552,
          37699,
          11404,
          7775,
          4617,
          7737,
          10456,
          4750,
          7951,
          15265,
          3630,
          2786,
          7531,
          5036,
          12716,
          10649,
          4752,
          3827,
          5402,
          3821,
          2182,
          4175,
          3324,
          3858,
          4560,
          3766,
          2833,
          12371,
          5229,
          5431,
          1320,
          5903,
          2642,
          3598,
          2304,
          2394,
          5400,
          7014,
          4639,
          5028,
          2776,
          5418,
          4126,
          6919,
          6556,
          2580,
          7449,
          8238,
          11257,
          8769,
          7801,
          7014,
          15295,
          5989,
          10556,
          2237,
          2765,
          9893,
          4059,
          3477,
          5007,
          7960,
          4471,
          4813,
          4726,
          6015,
          2504,
          6266,
          2034,
          5360,
          3186,
          2572,
          15101,
          11551,
          6244,
          1402,
          11040,
          3021,
          3331,
          1755,
          2149,
          2099,
          7674,
          6508,
          1871,
          4243,
          6410,
          5623,
          6769,
          14071,
          15391,
          24591,
          28000,
          12566,
          2445,
          3649,
          2133,
          3881,
          2297,
          2501,
          5584,
          2698,
          4248,
          2228,
          5754,
          2559,
          7693,
          2413,
          2415,
          17442,
          2128,
          6628,
          10610,
          4501,
          8568,
          12303,
          5599,
          6278,
          4455,
          4225,
          6190,
          3055,
          1827,
          1343,
          2833,
          9519,
          9591,
          5308,
          6945,
          11251,
          5580,
          6874,
          9078,
          13281,
          4233,
          2119,
          7262,
          4845,
          10210,
          3627,
          1523,
          2588,
          2125,
          2387,
          6696,
          8667,
          17726,
          4935,
          4401,
          3825,
          2419,
          20190,
          7245,
          2344,
          10367,
          6685,
          4664,
          4585,
          1900,
          20732,
          6078,
          2728,
          3867,
          1574,
          18782,
          4787,
          2123,
          3564,
          3214,
          3137,
          13625,
          9845,
          2161,
          6139,
          4142,
          3754,
          4090,
          3658,
          2352,
          3279,
          4676,
          7895,
          2958,
          3242,
          2223,
          7822,
          9206,
          2930,
          4517,
          4286,
          2393,
          4408,
          10341,
          7104,
          7241,
          5227,
          2304,
          3039,
          3211,
          9888,
          1872,
          40939,
          8539,
          5189,
          4561,
          14948,
          2422,
          7804,
          4566,
          3476,
          4786,
          7878,
          2886,
          10122,
          59703,
          5659,
          8959,
          4380,
          20556,
          3736,
          35915,
          6626,
          3619,
          4620,
          7458,
          8717,
          1491,
          5399,
          3347,
          15371,
          4241,
          3955,
          6239,
          1987,
          13873,
          2170,
          2989,
          11309,
          4289,
          5862,
          39266,
          4125,
          3230,
          9521,
          12027,
          8625,
          5703,
          1467,
          19130,
          4572,
          3280,
          4846,
          2927,
          11932,
          3180,
          1487,
          4051,
          2148,
          12181,
          10821,
          4922,
          4802,
          3087,
          2432,
          4734,
          7626,
          6917,
          4033,
          6497,
          4443,
          11517,
          3812,
          5335,
          3690,
          14543,
          5388,
          6854,
          3691,
          10129,
          2196,
          14214,
          3883,
          5560,
          2764,
          4140,
          3110,
          21586,
          4759,
          6797,
          5420,
          9383,
          2407,
          11994,
          3170,
          6049,
          7747,
          4443,
          2683,
          7400,
          10087,
          34319,
          8413,
          2023,
          5159,
          2178,
          10139,
          13971,
          2664,
          8304,
          6469,
          7107,
          7658,
          9807,
          9167,
          5052,
          5477,
          5205,
          2366,
          4581,
          2235,
          6993,
          11443,
          9890,
          4767,
          7208,
          7683,
          6783,
          8071,
          3743,
          8148,
          5389,
          11969,
          3326,
          5226,
          2394,
          8529,
          19901,
          3734,
          15084,
          22405,
          3964,
          2595,
          5009,
          2080,
          4146,
          32898,
          2316,
          12437,
          24010,
          9981,
          4434,
          2516,
          1471,
          14061,
          3854,
          3070,
          3815,
          2547,
          8082,
          2913,
          5927,
          1933,
          6585,
          3866,
          1899,
          5720,
          8815,
          6747,
          15422,
          9114,
          5758,
          3210,
          16527,
          11702,
          5099,
          5625,
          5127,
          25929,
          5657,
          5288,
          4580,
          2959,
          2791,
          5885,
          4673,
          2526,
          5218,
          3972,
          5801,
          10541,
          9350,
          12119,
          8941,
          12521,
          3191,
          3632,
          14497,
          3283,
          5945,
          4459,
          6862,
          4981,
          3038,
          3834,
          4020,
          5746,
          8708,
          18646,
          1418,
          7253,
          9543,
          2166,
          4889,
          20367,
          3024,
          3775,
          6266,
          1917,
          2003,
          7230,
          2801,
          7018,
          2623,
          16530,
          3094,
          3463,
          2312,
          3832,
          8187,
          5501,
          7413,
          4812,
          3747,
          4639,
          1806,
          3673,
          7567,
          3939,
          4229,
          12161,
          4404,
          10038,
          3804,
          7444,
          5323,
          5855,
          5259,
          4076,
          9602,
          3846,
          5071,
          4163,
          4251,
          7655,
          9716,
          3593,
          3933,
          10856,
          4385,
          1869,
          4963,
          8878,
          1957,
          2585,
          6765,
          7243,
          6200,
          7986,
          3578,
          6185,
          4525,
          3808,
          9266,
          1516,
          9949,
          1617,
          8986,
          13679,
          4932,
          2075,
          1924,
          4825,
          14239,
          3085,
          1527,
          3815,
          2522,
          3549,
          4674,
          8237,
          16804,
          4554,
          1921,
          2150,
          4209,
          5620,
          8500,
          16515,
          6526,
          10207,
          1846,
          8947,
          4764,
          5012,
          10575,
          5112,
          4914,
          2893,
          4804,
          3212,
          7874,
          2433,
          4864,
          7002,
          13393,
          5280,
          16755,
          6290,
          9710,
          2890,
          7724,
          9978,
          9689,
          21820,
          3930,
          7573,
          2607,
          14984,
          4529,
          3983,
          4631,
          39136,
          4392,
          9264,
          3721,
          2541,
          2934,
          3474,
          16579,
          5359,
          3171,
          6967,
          3517,
          1750,
          3027,
          2474,
          3404,
          3561,
          3032,
          2424,
          4447,
          3509,
          2433,
          2552,
          30586,
          2583,
          6464,
          13667,
          5404,
          4627,
          9660,
          15729,
          4584,
          3241,
          25903,
          8774,
          17131,
          8616,
          2298,
          3631,
          2369,
          2566,
          43749,
          2293,
          7353,
          7525,
          4268,
          3559,
          4973,
          13768,
          6207,
          2609,
          5155,
          6069,
          3215,
          2069,
          3984,
          10241,
          6186,
          5350,
          5679,
          4134,
          7712,
          2650,
          5844,
          1823,
          5532,
          1805,
          3417,
          11727,
          4133,
          7721,
          5533,
          2657,
          6966,
          5011,
          4133,
          3293,
          4473,
          1814,
          3941,
          1510,
          14643,
          4837,
          1917,
          14538,
          8227,
          6204,
          14046,
          4180,
          5059,
          4434,
          38105,
          5116,
          9752,
          6984,
          5449,
          13215,
          2095,
          17975,
          9069,
          5652,
          3233,
          9547,
          2798,
          10796,
          1758,
          9743,
          2688,
          2231,
          5412,
          4096,
          3778,
          2833,
          4557,
          3486,
          3996,
          8975,
          2072,
          10331,
          3829,
          3868,
          1715,
          4898,
          4717,
          3204,
          4581,
          5094,
          4161,
          6178,
          3434,
          4707,
          5347,
          2209,
          7931,
          3819,
          6562,
          10034,
          7778,
          4206,
          5529,
          6593,
          1442,
          3308,
          2666,
          3574,
          2564,
          11662,
          1994,
          4076,
          2657,
          5061,
          6724,
          5467,
          3608,
          5214,
          2367,
          4745,
          10028,
          4604,
          8169,
          5842,
          18602,
          1662,
          13914,
          3435,
          4981,
          2174,
          5408,
          4201,
          9249,
          19540,
          4326,
          4037,
          15312,
          3445,
          8987,
          13413,
          2320,
          2565,
          9210,
          1824,
          5934,
          2786,
          8331,
          8991,
          3647,
          22355,
          3538,
          11923,
          9863,
          6878,
          4255,
          10245,
          4041,
          5300,
          3978,
          4772,
          6496,
          4259,
          2215,
          4745,
          39746,
          2597,
          3939,
          3099,
          6642,
          9503,
          6246,
          5189,
          13955,
          7953,
          2964,
          4913,
          5012,
          4680,
          5352,
          1826,
          6855,
          7894,
          1711,
          2262,
          2162,
          3060,
          8508,
          7263,
          5448,
          7314,
          18879,
          3318,
          19458,
          5439,
          2708,
          7853,
          6551,
          2783,
          23842,
          2745,
          4545,
          4144,
          7080,
          4257,
          5252,
          8822,
          2404,
          5267,
          5612,
          4792,
          2243,
          2101,
          6874,
          17495,
          7828,
          4559,
          1714,
          5498,
          3541,
          6904,
          10470,
          4664,
          6695,
          7297,
          38475,
          5239,
          17449,
          5662,
          4522,
          5988,
          2894,
          1833,
          3513,
          8508,
          13094,
          4478,
          3973,
          4923,
          3650,
          3434,
          2136,
          7507,
          7004,
          4807,
          3201,
          3350,
          5607,
          7277,
          18899,
          3894,
          3534,
          4766,
          1989,
          12096,
          12353,
          8744,
          5134,
          4133,
          13163,
          3389,
          3117,
          8717,
          8187,
          7734,
          4231,
          1826,
          4717,
          3735,
          11408,
          3292,
          4208,
          7157,
          4536,
          9187,
          12868,
          3204,
          3469,
          2457,
          9499,
          4070,
          4794,
          5305,
          12779,
          4900,
          3401,
          4038,
          5492,
          2356,
          9069,
          9200,
          7709,
          3089,
          6505,
          3333,
          6130,
          10461,
          4042,
          3045,
          6206,
          4089,
          3621,
          3727,
          2116,
          12358,
          2984,
          5618,
          3916,
          2233,
          8490,
          10925,
          7583,
          10132,
          3742,
          3720,
          1776,
          6514,
          6037,
          4363,
          1507,
          4566,
          17270,
          6013,
          3697,
          1910,
          2244,
          4070,
          1887,
          8119,
          2293,
          6398,
          7023,
          6520,
          25011,
          3687,
          4600,
          3732,
          3602,
          3074,
          4659,
          5274,
          1889,
          7410,
          34928,
          33258,
          3295,
          4699,
          2464,
          1706,
          3341,
          2400,
          3708,
          10859,
          5451,
          1570,
          3607,
          4435,
          3125,
          7793,
          10723,
          5552,
          13056,
          3338,
          3576,
          4431,
          3545,
          4399,
          6483,
          10107,
          5264,
          6283,
          3385,
          2738,
          3905,
          6142,
          2293,
          1999,
          4405,
          3594,
          3396,
          5519,
          9309,
          4096,
          5238,
          11735,
          4088,
          2032,
          33041,
          3256,
          4045,
          3553,
          9057,
          4554,
          4129,
          6880,
          1445,
          3304,
          4580,
          1670,
          1881,
          3617,
          2506,
          2262,
          8629,
          24995,
          3146,
          7215,
          5701,
          2880,
          6084,
          8229,
          7343,
          3664,
          2989,
          5261,
          8529,
          6797,
          8524,
          2155,
          1737,
          8577,
          8027,
          5264,
          3681,
          14557,
          12081,
          25190,
          2184,
          9654,
          6226,
          4204,
          2793,
          9365,
          3713,
          4084,
          15448,
          5767,
          2547,
          3026,
          2208,
          19007
         ],
         "y0": " ",
         "yaxis": "y"
        }
       ],
       "layout": {
        "boxmode": "group",
        "legend": {
         "tracegroupgap": 0
        },
        "margin": {
         "t": 60
        },
        "template": {
         "data": {
          "bar": [
           {
            "error_x": {
             "color": "#2a3f5f"
            },
            "error_y": {
             "color": "#2a3f5f"
            },
            "marker": {
             "line": {
              "color": "#E5ECF6",
              "width": 0.5
             }
            },
            "type": "bar"
           }
          ],
          "barpolar": [
           {
            "marker": {
             "line": {
              "color": "#E5ECF6",
              "width": 0.5
             }
            },
            "type": "barpolar"
           }
          ],
          "carpet": [
           {
            "aaxis": {
             "endlinecolor": "#2a3f5f",
             "gridcolor": "white",
             "linecolor": "white",
             "minorgridcolor": "white",
             "startlinecolor": "#2a3f5f"
            },
            "baxis": {
             "endlinecolor": "#2a3f5f",
             "gridcolor": "white",
             "linecolor": "white",
             "minorgridcolor": "white",
             "startlinecolor": "#2a3f5f"
            },
            "type": "carpet"
           }
          ],
          "choropleth": [
           {
            "colorbar": {
             "outlinewidth": 0,
             "ticks": ""
            },
            "type": "choropleth"
           }
          ],
          "contour": [
           {
            "colorbar": {
             "outlinewidth": 0,
             "ticks": ""
            },
            "colorscale": [
             [
              0,
              "#0d0887"
             ],
             [
              0.1111111111111111,
              "#46039f"
             ],
             [
              0.2222222222222222,
              "#7201a8"
             ],
             [
              0.3333333333333333,
              "#9c179e"
             ],
             [
              0.4444444444444444,
              "#bd3786"
             ],
             [
              0.5555555555555556,
              "#d8576b"
             ],
             [
              0.6666666666666666,
              "#ed7953"
             ],
             [
              0.7777777777777778,
              "#fb9f3a"
             ],
             [
              0.8888888888888888,
              "#fdca26"
             ],
             [
              1,
              "#f0f921"
             ]
            ],
            "type": "contour"
           }
          ],
          "contourcarpet": [
           {
            "colorbar": {
             "outlinewidth": 0,
             "ticks": ""
            },
            "type": "contourcarpet"
           }
          ],
          "heatmap": [
           {
            "colorbar": {
             "outlinewidth": 0,
             "ticks": ""
            },
            "colorscale": [
             [
              0,
              "#0d0887"
             ],
             [
              0.1111111111111111,
              "#46039f"
             ],
             [
              0.2222222222222222,
              "#7201a8"
             ],
             [
              0.3333333333333333,
              "#9c179e"
             ],
             [
              0.4444444444444444,
              "#bd3786"
             ],
             [
              0.5555555555555556,
              "#d8576b"
             ],
             [
              0.6666666666666666,
              "#ed7953"
             ],
             [
              0.7777777777777778,
              "#fb9f3a"
             ],
             [
              0.8888888888888888,
              "#fdca26"
             ],
             [
              1,
              "#f0f921"
             ]
            ],
            "type": "heatmap"
           }
          ],
          "heatmapgl": [
           {
            "colorbar": {
             "outlinewidth": 0,
             "ticks": ""
            },
            "colorscale": [
             [
              0,
              "#0d0887"
             ],
             [
              0.1111111111111111,
              "#46039f"
             ],
             [
              0.2222222222222222,
              "#7201a8"
             ],
             [
              0.3333333333333333,
              "#9c179e"
             ],
             [
              0.4444444444444444,
              "#bd3786"
             ],
             [
              0.5555555555555556,
              "#d8576b"
             ],
             [
              0.6666666666666666,
              "#ed7953"
             ],
             [
              0.7777777777777778,
              "#fb9f3a"
             ],
             [
              0.8888888888888888,
              "#fdca26"
             ],
             [
              1,
              "#f0f921"
             ]
            ],
            "type": "heatmapgl"
           }
          ],
          "histogram": [
           {
            "marker": {
             "colorbar": {
              "outlinewidth": 0,
              "ticks": ""
             }
            },
            "type": "histogram"
           }
          ],
          "histogram2d": [
           {
            "colorbar": {
             "outlinewidth": 0,
             "ticks": ""
            },
            "colorscale": [
             [
              0,
              "#0d0887"
             ],
             [
              0.1111111111111111,
              "#46039f"
             ],
             [
              0.2222222222222222,
              "#7201a8"
             ],
             [
              0.3333333333333333,
              "#9c179e"
             ],
             [
              0.4444444444444444,
              "#bd3786"
             ],
             [
              0.5555555555555556,
              "#d8576b"
             ],
             [
              0.6666666666666666,
              "#ed7953"
             ],
             [
              0.7777777777777778,
              "#fb9f3a"
             ],
             [
              0.8888888888888888,
              "#fdca26"
             ],
             [
              1,
              "#f0f921"
             ]
            ],
            "type": "histogram2d"
           }
          ],
          "histogram2dcontour": [
           {
            "colorbar": {
             "outlinewidth": 0,
             "ticks": ""
            },
            "colorscale": [
             [
              0,
              "#0d0887"
             ],
             [
              0.1111111111111111,
              "#46039f"
             ],
             [
              0.2222222222222222,
              "#7201a8"
             ],
             [
              0.3333333333333333,
              "#9c179e"
             ],
             [
              0.4444444444444444,
              "#bd3786"
             ],
             [
              0.5555555555555556,
              "#d8576b"
             ],
             [
              0.6666666666666666,
              "#ed7953"
             ],
             [
              0.7777777777777778,
              "#fb9f3a"
             ],
             [
              0.8888888888888888,
              "#fdca26"
             ],
             [
              1,
              "#f0f921"
             ]
            ],
            "type": "histogram2dcontour"
           }
          ],
          "mesh3d": [
           {
            "colorbar": {
             "outlinewidth": 0,
             "ticks": ""
            },
            "type": "mesh3d"
           }
          ],
          "parcoords": [
           {
            "line": {
             "colorbar": {
              "outlinewidth": 0,
              "ticks": ""
             }
            },
            "type": "parcoords"
           }
          ],
          "pie": [
           {
            "automargin": true,
            "type": "pie"
           }
          ],
          "scatter": [
           {
            "marker": {
             "colorbar": {
              "outlinewidth": 0,
              "ticks": ""
             }
            },
            "type": "scatter"
           }
          ],
          "scatter3d": [
           {
            "line": {
             "colorbar": {
              "outlinewidth": 0,
              "ticks": ""
             }
            },
            "marker": {
             "colorbar": {
              "outlinewidth": 0,
              "ticks": ""
             }
            },
            "type": "scatter3d"
           }
          ],
          "scattercarpet": [
           {
            "marker": {
             "colorbar": {
              "outlinewidth": 0,
              "ticks": ""
             }
            },
            "type": "scattercarpet"
           }
          ],
          "scattergeo": [
           {
            "marker": {
             "colorbar": {
              "outlinewidth": 0,
              "ticks": ""
             }
            },
            "type": "scattergeo"
           }
          ],
          "scattergl": [
           {
            "marker": {
             "colorbar": {
              "outlinewidth": 0,
              "ticks": ""
             }
            },
            "type": "scattergl"
           }
          ],
          "scattermapbox": [
           {
            "marker": {
             "colorbar": {
              "outlinewidth": 0,
              "ticks": ""
             }
            },
            "type": "scattermapbox"
           }
          ],
          "scatterpolar": [
           {
            "marker": {
             "colorbar": {
              "outlinewidth": 0,
              "ticks": ""
             }
            },
            "type": "scatterpolar"
           }
          ],
          "scatterpolargl": [
           {
            "marker": {
             "colorbar": {
              "outlinewidth": 0,
              "ticks": ""
             }
            },
            "type": "scatterpolargl"
           }
          ],
          "scatterternary": [
           {
            "marker": {
             "colorbar": {
              "outlinewidth": 0,
              "ticks": ""
             }
            },
            "type": "scatterternary"
           }
          ],
          "surface": [
           {
            "colorbar": {
             "outlinewidth": 0,
             "ticks": ""
            },
            "colorscale": [
             [
              0,
              "#0d0887"
             ],
             [
              0.1111111111111111,
              "#46039f"
             ],
             [
              0.2222222222222222,
              "#7201a8"
             ],
             [
              0.3333333333333333,
              "#9c179e"
             ],
             [
              0.4444444444444444,
              "#bd3786"
             ],
             [
              0.5555555555555556,
              "#d8576b"
             ],
             [
              0.6666666666666666,
              "#ed7953"
             ],
             [
              0.7777777777777778,
              "#fb9f3a"
             ],
             [
              0.8888888888888888,
              "#fdca26"
             ],
             [
              1,
              "#f0f921"
             ]
            ],
            "type": "surface"
           }
          ],
          "table": [
           {
            "cells": {
             "fill": {
              "color": "#EBF0F8"
             },
             "line": {
              "color": "white"
             }
            },
            "header": {
             "fill": {
              "color": "#C8D4E3"
             },
             "line": {
              "color": "white"
             }
            },
            "type": "table"
           }
          ]
         },
         "layout": {
          "annotationdefaults": {
           "arrowcolor": "#2a3f5f",
           "arrowhead": 0,
           "arrowwidth": 1
          },
          "autotypenumbers": "strict",
          "coloraxis": {
           "colorbar": {
            "outlinewidth": 0,
            "ticks": ""
           }
          },
          "colorscale": {
           "diverging": [
            [
             0,
             "#8e0152"
            ],
            [
             0.1,
             "#c51b7d"
            ],
            [
             0.2,
             "#de77ae"
            ],
            [
             0.3,
             "#f1b6da"
            ],
            [
             0.4,
             "#fde0ef"
            ],
            [
             0.5,
             "#f7f7f7"
            ],
            [
             0.6,
             "#e6f5d0"
            ],
            [
             0.7,
             "#b8e186"
            ],
            [
             0.8,
             "#7fbc41"
            ],
            [
             0.9,
             "#4d9221"
            ],
            [
             1,
             "#276419"
            ]
           ],
           "sequential": [
            [
             0,
             "#0d0887"
            ],
            [
             0.1111111111111111,
             "#46039f"
            ],
            [
             0.2222222222222222,
             "#7201a8"
            ],
            [
             0.3333333333333333,
             "#9c179e"
            ],
            [
             0.4444444444444444,
             "#bd3786"
            ],
            [
             0.5555555555555556,
             "#d8576b"
            ],
            [
             0.6666666666666666,
             "#ed7953"
            ],
            [
             0.7777777777777778,
             "#fb9f3a"
            ],
            [
             0.8888888888888888,
             "#fdca26"
            ],
            [
             1,
             "#f0f921"
            ]
           ],
           "sequentialminus": [
            [
             0,
             "#0d0887"
            ],
            [
             0.1111111111111111,
             "#46039f"
            ],
            [
             0.2222222222222222,
             "#7201a8"
            ],
            [
             0.3333333333333333,
             "#9c179e"
            ],
            [
             0.4444444444444444,
             "#bd3786"
            ],
            [
             0.5555555555555556,
             "#d8576b"
            ],
            [
             0.6666666666666666,
             "#ed7953"
            ],
            [
             0.7777777777777778,
             "#fb9f3a"
            ],
            [
             0.8888888888888888,
             "#fdca26"
            ],
            [
             1,
             "#f0f921"
            ]
           ]
          },
          "colorway": [
           "#636efa",
           "#EF553B",
           "#00cc96",
           "#ab63fa",
           "#FFA15A",
           "#19d3f3",
           "#FF6692",
           "#B6E880",
           "#FF97FF",
           "#FECB52"
          ],
          "font": {
           "color": "#2a3f5f"
          },
          "geo": {
           "bgcolor": "white",
           "lakecolor": "white",
           "landcolor": "#E5ECF6",
           "showlakes": true,
           "showland": true,
           "subunitcolor": "white"
          },
          "hoverlabel": {
           "align": "left"
          },
          "hovermode": "closest",
          "mapbox": {
           "style": "light"
          },
          "paper_bgcolor": "white",
          "plot_bgcolor": "#E5ECF6",
          "polar": {
           "angularaxis": {
            "gridcolor": "white",
            "linecolor": "white",
            "ticks": ""
           },
           "bgcolor": "#E5ECF6",
           "radialaxis": {
            "gridcolor": "white",
            "linecolor": "white",
            "ticks": ""
           }
          },
          "scene": {
           "xaxis": {
            "backgroundcolor": "#E5ECF6",
            "gridcolor": "white",
            "gridwidth": 2,
            "linecolor": "white",
            "showbackground": true,
            "ticks": "",
            "zerolinecolor": "white"
           },
           "yaxis": {
            "backgroundcolor": "#E5ECF6",
            "gridcolor": "white",
            "gridwidth": 2,
            "linecolor": "white",
            "showbackground": true,
            "ticks": "",
            "zerolinecolor": "white"
           },
           "zaxis": {
            "backgroundcolor": "#E5ECF6",
            "gridcolor": "white",
            "gridwidth": 2,
            "linecolor": "white",
            "showbackground": true,
            "ticks": "",
            "zerolinecolor": "white"
           }
          },
          "shapedefaults": {
           "line": {
            "color": "#2a3f5f"
           }
          },
          "ternary": {
           "aaxis": {
            "gridcolor": "white",
            "linecolor": "white",
            "ticks": ""
           },
           "baxis": {
            "gridcolor": "white",
            "linecolor": "white",
            "ticks": ""
           },
           "bgcolor": "#E5ECF6",
           "caxis": {
            "gridcolor": "white",
            "linecolor": "white",
            "ticks": ""
           }
          },
          "title": {
           "x": 0.05
          },
          "xaxis": {
           "automargin": true,
           "gridcolor": "white",
           "linecolor": "white",
           "ticks": "",
           "title": {
            "standoff": 15
           },
           "zerolinecolor": "white",
           "zerolinewidth": 2
          },
          "yaxis": {
           "automargin": true,
           "gridcolor": "white",
           "linecolor": "white",
           "ticks": "",
           "title": {
            "standoff": 15
           },
           "zerolinecolor": "white",
           "zerolinewidth": 2
          }
         }
        },
        "xaxis": {
         "anchor": "y",
         "domain": [
          0,
          1
         ],
         "title": {
          "text": "bmi_group"
         }
        },
        "yaxis": {
         "anchor": "x",
         "domain": [
          0,
          1
         ],
         "range": [
          0,
          15000
         ],
         "title": {
          "text": "charges"
         }
        }
       }
      },
      "text/html": [
       "<div>                            <div id=\"3d94e51f-f9c8-40b2-b6b3-91649f2e1ebe\" class=\"plotly-graph-div\" style=\"height:525px; width:100%;\"></div>            <script type=\"text/javascript\">                require([\"plotly\"], function(Plotly) {                    window.PLOTLYENV=window.PLOTLYENV || {};                                    if (document.getElementById(\"3d94e51f-f9c8-40b2-b6b3-91649f2e1ebe\")) {                    Plotly.newPlot(                        \"3d94e51f-f9c8-40b2-b6b3-91649f2e1ebe\",                        [{\"alignmentgroup\": \"True\", \"hovertemplate\": \"bmi_group=%{x}<br>charges=%{y}<extra></extra>\", \"legendgroup\": \"\", \"marker\": {\"color\": \"#636efa\"}, \"name\": \"\", \"notched\": false, \"offsetgroup\": \"\", \"orientation\": \"v\", \"showlegend\": false, \"type\": \"box\", \"x\": [0, 2, 1, 0, 1, 0, 2, 0, 1, 0, 0, 0, 2, 2, 2, 0, 1, 0, 2, 2, 2, 1, 2, 1, 0, 0, 0, 1, 0, 2, 2, 0, 0, 2, 0, 1, 0, 2, 2, 0, 2, 0, 1, 2, 2, 2, 2, 0, 2, 2, 2, 0, 2, 1, 2, 1, 1, 0, 2, 0, 2, 0, 0, 0, 1, 2, 0, 2, 0, 0, 0, 0, 1, 0, 2, 1, 2, 2, 1, 0, 2, 2, 2, 2, 0, 1, 0, 0, 0, 2, 0, 1, 2, 1, 2, 1, 2, 0, 1, 0, 1, 1, 0, 0, 0, 1, 0, 2, 2, 1, 1, 2, 1, 1, 2, 0, 0, 0, 2, 0, 1, 1, 2, 1, 0, 2, 0, 2, 0, 0, 2, 0, 1, 0, 2, 0, 1, 2, 0, 1, 0, 1, 1, 2, 1, 2, 2, 0, 0, 1, 2, 0, 0, 2, 0, 0, 2, 0, 0, 2, 2, 1, 1, 0, 2, 1, 0, 2, 1, 0, 2, 2, 2, 0, 1, 1, 2, 1, 2, 0, 0, 1, 2, 1, 1, 1, 1, 1, 0, 0, 0, 2, 1, 1, 1, 0, 2, 1, 1, 0, 2, 0, 1, 0, 0, 1, 2, 1, 1, 0, 0, 1, 2, 0, 0, 1, 0, 2, 2, 1, 2, 0, 2, 2, 2, 1, 0, 2, 0, 0, 0, 0, 0, 0, 2, 1, 2, 2, 0, 0, 2, 0, 1, 2, 2, 0, 1, 0, 1, 2, 1, 1, 0, 2, 2, 0, 1, 0, 0, 0, 2, 2, 2, 0, 1, 1, 0, 1, 2, 2, 0, 0, 0, 0, 0, 1, 0, 0, 2, 0, 1, 1, 0, 2, 0, 2, 0, 2, 1, 2, 1, 0, 0, 0, 0, 2, 1, 0, 0, 2, 1, 2, 2, 0, 2, 2, 2, 0, 0, 2, 2, 1, 2, 1, 1, 0, 2, 0, 1, 1, 2, 0, 2, 0, 2, 2, 2, 2, 0, 1, 1, 2, 2, 0, 0, 1, 0, 0, 1, 0, 2, 2, 1, 2, 2, 1, 0, 0, 0, 0, 2, 2, 0, 2, 1, 2, 0, 1, 1, 0, 0, 0, 1, 1, 0, 1, 1, 0, 0, 2, 1, 2, 0, 0, 2, 1, 1, 0, 1, 1, 2, 0, 2, 2, 0, 0, 1, 2, 2, 1, 1, 1, 0, 2, 1, 0, 2, 0, 2, 1, 1, 0, 2, 0, 0, 0, 1, 0, 0, 0, 0, 2, 2, 2, 0, 2, 0, 2, 2, 1, 1, 1, 0, 0, 1, 0, 1, 2, 0, 0, 1, 1, 2, 1, 1, 2, 1, 1, 2, 2, 2, 0, 2, 1, 0, 1, 2, 1, 0, 0, 1, 2, 2, 1, 1, 2, 1, 2, 1, 2, 0, 0, 0, 1, 2, 0, 0, 1, 1, 1, 2, 0, 0, 0, 2, 2, 1, 2, 2, 1, 2, 2, 1, 0, 1, 2, 1, 1, 0, 0, 2, 0, 0, 0, 1, 0, 2, 2, 0, 0, 1, 1, 1, 1, 0, 0, 1, 1, 2, 0, 1, 0, 2, 2, 1, 1, 1, 0, 2, 2, 2, 0, 2, 1, 0, 2, 0, 2, 1, 1, 2, 2, 0, 2, 1, 0, 1, 2, 1, 2, 2, 1, 0, 2, 2, 1, 2, 1, 1, 0, 1, 2, 0, 2, 2, 2, 2, 0, 1, 1, 2, 1, 1, 2, 1, 1, 2, 1, 2, 2, 2, 2, 0, 0, 2, 1, 0, 0, 1, 2, 0, 0, 0, 0, 1, 2, 1, 1, 0, 1, 0, 2, 2, 1, 2, 1, 2, 2, 1, 0, 2, 0, 2, 0, 0, 0, 2, 1, 2, 2, 0, 1, 2, 1, 0, 2, 2, 1, 2, 0, 2, 1, 0, 1, 2, 2, 2, 2, 1, 2, 0, 2, 2, 0, 2, 0, 2, 2, 0, 2, 2, 2, 1, 0, 0, 0, 1, 2, 2, 1, 2, 2, 0, 2, 2, 2, 1, 2, 0, 1, 2, 0, 2, 1, 1, 1, 1, 1, 1, 1, 1, 2, 0, 2, 1, 2, 0, 0, 0, 2, 0, 0, 0, 0, 2, 0, 1, 0, 2, 1, 0, 2, 2, 1, 2, 2, 2, 2, 2, 2, 0, 1, 1, 2, 1, 1, 0, 2, 0, 1, 2, 0, 1, 0, 0, 2, 2, 2, 2, 2, 2, 0, 2, 0, 0, 2, 2, 0, 0, 1, 0, 1, 2, 2, 0, 1, 2, 0, 1, 2, 0, 0, 1, 0, 0, 2, 1, 0, 1, 2, 0, 2, 0, 0, 0, 2, 2, 2, 2, 0, 0, 0, 1, 1, 1, 2, 0, 2, 0, 2, 1, 2, 2, 1, 2, 2, 1, 0, 2, 2, 0, 1, 0, 2, 2, 0, 1, 2, 0, 0, 0, 1, 0, 2, 0, 2, 0, 0, 2, 0, 2, 0, 2, 2, 2, 1, 0, 1, 2, 0, 0, 2, 1, 0, 2, 0, 2, 2, 0, 1, 1, 0, 1, 1, 0, 1, 0, 2, 0, 0, 2, 2, 2, 1, 0, 0, 1, 1, 0, 1, 1, 1, 1, 2, 2, 0, 1, 1, 1, 2, 0, 0, 1, 2, 0, 1, 0, 2, 0, 2, 0, 0, 1, 2, 2, 0, 0, 2, 1, 0, 1, 0, 0, 0, 2, 1, 1, 2, 0, 0, 2, 0, 1, 1, 1, 2, 2, 0, 1, 0, 2, 1, 2, 0, 0, 2, 0, 0, 2, 0, 2, 2, 1, 1, 1, 2, 0, 0, 1, 0, 0, 0, 2, 0, 0, 0, 2, 0, 2, 1, 2, 0, 1, 0, 0, 2, 2, 2, 1, 0, 2, 2, 0, 1, 0, 0, 1, 0, 2, 2, 0, 2, 2, 2, 2, 1, 1, 0, 2, 0, 1, 0, 2, 1, 0, 2, 2, 2, 0, 2, 0, 2, 0, 0, 0, 0, 2, 0, 0, 0, 2, 2, 0, 2, 1, 2, 1, 0, 0, 0, 1, 0, 1, 0, 2, 0, 0, 0, 1, 0, 0, 0, 2, 2, 2, 0, 0, 1, 0, 1, 0, 1, 1, 0, 0, 0, 0, 0, 2, 1, 0, 0, 0, 2, 2, 1, 2, 1, 2, 0, 2, 2, 0, 0, 1, 0, 0, 2, 0, 0, 2, 0, 2, 1, 1, 0, 0, 0, 1, 0, 2, 0, 0, 2, 0, 1, 2, 0, 1, 1, 0, 0, 1, 1, 2, 2, 1, 0, 2, 1, 0, 0, 2, 2, 0, 1, 2, 1, 1, 1, 0, 1, 1, 0, 1, 2, 0, 0, 0, 1, 1, 0, 1, 1, 2, 0, 2, 1, 1, 1, 2, 1, 2, 2, 1, 2, 0, 1, 2, 2, 1, 1, 1, 0, 1, 0, 1, 2, 0, 0, 0, 1, 1, 2, 2, 0, 1, 2, 2, 1, 2, 0, 1, 2, 1, 0, 0, 2, 2, 0, 2, 0, 0, 0, 1, 1, 2, 1, 0, 1, 1, 1, 1, 1, 0, 2, 1, 2, 1, 2, 0, 0, 2, 0, 1, 2, 2, 2, 2, 0, 0, 0, 2, 0, 2, 2, 0, 0, 2, 1, 1, 0, 0, 0, 2, 1, 2, 1, 1, 0, 0, 0, 2, 1, 0, 0, 1, 0, 1, 2, 0, 0, 1, 2, 1, 0, 0, 2, 1, 1, 0, 0, 2, 2, 0, 2, 1, 2, 0, 2, 1, 2, 0, 2, 2, 1, 0, 0, 0, 0, 0, 2, 0, 2, 2, 1, 2, 0, 0, 0, 0, 1, 0, 0, 0, 2, 2, 2, 0, 2, 2, 0, 0, 1, 2, 2, 1, 0, 0, 1, 0, 2, 2, 0, 2, 0, 0, 2, 0, 1, 2, 0, 1, 1, 2, 0, 2, 2, 0, 0, 0, 0, 1, 1, 1, 0, 2, 0, 0, 1, 2, 0, 0, 0, 2, 2, 0, 2, 0, 0, 0, 0, 0, 0, 0, 0, 1, 1, 0, 0, 0, 0, 0, 0, 1, 1, 0, 0, 2, 2, 0, 0, 0, 2, 2, 0, 1, 0, 2, 2, 0, 2, 1, 1, 0, 2, 0, 2, 2, 1, 1, 2, 0, 1], \"x0\": \" \", \"xaxis\": \"x\", \"y\": [4253, 2494, 3138, 1553, 2768, 2993, 5521, 5299, 2819, 5284, 1655, 10701, 3103, 10490, 14323, 1584, 5575, 1728, 11703, 10355, 9944, 5018, 2559, 12591, 3012, 4717, 4478, 9153, 2263, 12430, 7151, 1630, 7841, 10654, 2021, 11013, 1322, 15499, 40748, 3221, 5725, 1495, 4569, 6025, 8876, 4451, 7173, 3853, 11831, 3363, 4495, 9041, 11110, 5587, 36924, 7011, 4698, 6320, 9250, 2850, 2979, 7864, 4094, 4847, 2084, 12968, 2617, 7182, 3949, 4998, 2877, 4858, 6079, 2579, 9895, 3985, 2761, 5732, 7671, 2017, 9106, 8454, 14988, 14451, 7896, 21043, 3722, 4644, 4356, 4495, 4796, 15735, 5595, 19544, 6453, 4967, 9321, 8887, 5079, 1793, 2076, 15111, 4235, 5428, 2224, 2834, 1585, 27173, 8692, 5174, 2846, 5016, 6051, 5993, 22180, 6017, 3004, 4455, 6766, 1703, 3184, 11718, 8339, 3813, 4035, 9083, 9348, 4301, 4532, 4460, 8144, 2092, 2667, 2469, 2986, 2159, 5306, 4159, 1600, 3087, 4050, 2958, 7784, 6875, 13329, 7610, 13354, 1945, 1906, 3239, 8278, 7235, 4317, 10755, 6015, 3967, 9631, 3756, 10317, 6254, 9984, 4745, 3062, 3463, 6562, 3792, 1928, 13189, 4306, 1854, 6309, 5103, 35880, 3005, 4539, 4126, 6571, 6255, 3548, 1795, 4458, 3515, 25518, 4204, 4434, 5203, 6051, 6022, 3448, 1421, 5391, 2670, 2827, 5578, 3935, 3959, 16416, 3904, 5467, 5257, 11435, 1838, 4313, 4226, 6410, 6919, 9237, 2826, 4038, 2792, 3112, 5032, 7004, 4500, 1171, 3697, 2292, 5594, 6901, 2768, 6810, 4899, 6943, 4538, 11620, 5707, 3002, 7843, 4508, 1766, 5008, 2357, 6358, 1469, 4891, 5847, 6798, 11871, 3840, 3843, 5606, 15580, 5389, 10467, 3231, 1732, 2138, 4576, 21660, 19221, 2416, 16496, 4453, 23041, 8075, 4103, 7010, 3624, 3825, 8201, 9553, 8686, 34466, 4847, 7234, 3341, 3047, 2247, 19125, 7857, 3625, 2208, 4150, 2251, 2378, 6254, 3011, 9435, 42668, 2099, 6374, 5063, 2297, 18420, 6390, 33049, 3838, 4197, 2222, 17617, 2807, 1950, 1772, 3939, 5598, 13331, 4811, 2518, 8136, 9392, 4607, 9840, 3907, 3854, 5150, 9348, 6991, 2950, 1818, 16577, 6098, 8304, 6918, 6960, 7109, 4714, 5147, 1870, 4315, 7104, 14936, 1592, 4664, 3063, 23518, 25698, 8552, 37699, 11404, 7775, 4617, 7737, 10456, 4750, 7951, 15265, 3630, 2786, 7531, 5036, 12716, 10649, 4752, 3827, 5402, 3821, 2182, 4175, 3324, 3858, 4560, 3766, 2833, 12371, 5229, 5431, 1320, 5903, 2642, 3598, 2304, 2394, 5400, 7014, 4639, 5028, 2776, 5418, 4126, 6919, 6556, 2580, 7449, 8238, 11257, 8769, 7801, 7014, 15295, 5989, 10556, 2237, 2765, 9893, 4059, 3477, 5007, 7960, 4471, 4813, 4726, 6015, 2504, 6266, 2034, 5360, 3186, 2572, 15101, 11551, 6244, 1402, 11040, 3021, 3331, 1755, 2149, 2099, 7674, 6508, 1871, 4243, 6410, 5623, 6769, 14071, 15391, 24591, 28000, 12566, 2445, 3649, 2133, 3881, 2297, 2501, 5584, 2698, 4248, 2228, 5754, 2559, 7693, 2413, 2415, 17442, 2128, 6628, 10610, 4501, 8568, 12303, 5599, 6278, 4455, 4225, 6190, 3055, 1827, 1343, 2833, 9519, 9591, 5308, 6945, 11251, 5580, 6874, 9078, 13281, 4233, 2119, 7262, 4845, 10210, 3627, 1523, 2588, 2125, 2387, 6696, 8667, 17726, 4935, 4401, 3825, 2419, 20190, 7245, 2344, 10367, 6685, 4664, 4585, 1900, 20732, 6078, 2728, 3867, 1574, 18782, 4787, 2123, 3564, 3214, 3137, 13625, 9845, 2161, 6139, 4142, 3754, 4090, 3658, 2352, 3279, 4676, 7895, 2958, 3242, 2223, 7822, 9206, 2930, 4517, 4286, 2393, 4408, 10341, 7104, 7241, 5227, 2304, 3039, 3211, 9888, 1872, 40939, 8539, 5189, 4561, 14948, 2422, 7804, 4566, 3476, 4786, 7878, 2886, 10122, 59703, 5659, 8959, 4380, 20556, 3736, 35915, 6626, 3619, 4620, 7458, 8717, 1491, 5399, 3347, 15371, 4241, 3955, 6239, 1987, 13873, 2170, 2989, 11309, 4289, 5862, 39266, 4125, 3230, 9521, 12027, 8625, 5703, 1467, 19130, 4572, 3280, 4846, 2927, 11932, 3180, 1487, 4051, 2148, 12181, 10821, 4922, 4802, 3087, 2432, 4734, 7626, 6917, 4033, 6497, 4443, 11517, 3812, 5335, 3690, 14543, 5388, 6854, 3691, 10129, 2196, 14214, 3883, 5560, 2764, 4140, 3110, 21586, 4759, 6797, 5420, 9383, 2407, 11994, 3170, 6049, 7747, 4443, 2683, 7400, 10087, 34319, 8413, 2023, 5159, 2178, 10139, 13971, 2664, 8304, 6469, 7107, 7658, 9807, 9167, 5052, 5477, 5205, 2366, 4581, 2235, 6993, 11443, 9890, 4767, 7208, 7683, 6783, 8071, 3743, 8148, 5389, 11969, 3326, 5226, 2394, 8529, 19901, 3734, 15084, 22405, 3964, 2595, 5009, 2080, 4146, 32898, 2316, 12437, 24010, 9981, 4434, 2516, 1471, 14061, 3854, 3070, 3815, 2547, 8082, 2913, 5927, 1933, 6585, 3866, 1899, 5720, 8815, 6747, 15422, 9114, 5758, 3210, 16527, 11702, 5099, 5625, 5127, 25929, 5657, 5288, 4580, 2959, 2791, 5885, 4673, 2526, 5218, 3972, 5801, 10541, 9350, 12119, 8941, 12521, 3191, 3632, 14497, 3283, 5945, 4459, 6862, 4981, 3038, 3834, 4020, 5746, 8708, 18646, 1418, 7253, 9543, 2166, 4889, 20367, 3024, 3775, 6266, 1917, 2003, 7230, 2801, 7018, 2623, 16530, 3094, 3463, 2312, 3832, 8187, 5501, 7413, 4812, 3747, 4639, 1806, 3673, 7567, 3939, 4229, 12161, 4404, 10038, 3804, 7444, 5323, 5855, 5259, 4076, 9602, 3846, 5071, 4163, 4251, 7655, 9716, 3593, 3933, 10856, 4385, 1869, 4963, 8878, 1957, 2585, 6765, 7243, 6200, 7986, 3578, 6185, 4525, 3808, 9266, 1516, 9949, 1617, 8986, 13679, 4932, 2075, 1924, 4825, 14239, 3085, 1527, 3815, 2522, 3549, 4674, 8237, 16804, 4554, 1921, 2150, 4209, 5620, 8500, 16515, 6526, 10207, 1846, 8947, 4764, 5012, 10575, 5112, 4914, 2893, 4804, 3212, 7874, 2433, 4864, 7002, 13393, 5280, 16755, 6290, 9710, 2890, 7724, 9978, 9689, 21820, 3930, 7573, 2607, 14984, 4529, 3983, 4631, 39136, 4392, 9264, 3721, 2541, 2934, 3474, 16579, 5359, 3171, 6967, 3517, 1750, 3027, 2474, 3404, 3561, 3032, 2424, 4447, 3509, 2433, 2552, 30586, 2583, 6464, 13667, 5404, 4627, 9660, 15729, 4584, 3241, 25903, 8774, 17131, 8616, 2298, 3631, 2369, 2566, 43749, 2293, 7353, 7525, 4268, 3559, 4973, 13768, 6207, 2609, 5155, 6069, 3215, 2069, 3984, 10241, 6186, 5350, 5679, 4134, 7712, 2650, 5844, 1823, 5532, 1805, 3417, 11727, 4133, 7721, 5533, 2657, 6966, 5011, 4133, 3293, 4473, 1814, 3941, 1510, 14643, 4837, 1917, 14538, 8227, 6204, 14046, 4180, 5059, 4434, 38105, 5116, 9752, 6984, 5449, 13215, 2095, 17975, 9069, 5652, 3233, 9547, 2798, 10796, 1758, 9743, 2688, 2231, 5412, 4096, 3778, 2833, 4557, 3486, 3996, 8975, 2072, 10331, 3829, 3868, 1715, 4898, 4717, 3204, 4581, 5094, 4161, 6178, 3434, 4707, 5347, 2209, 7931, 3819, 6562, 10034, 7778, 4206, 5529, 6593, 1442, 3308, 2666, 3574, 2564, 11662, 1994, 4076, 2657, 5061, 6724, 5467, 3608, 5214, 2367, 4745, 10028, 4604, 8169, 5842, 18602, 1662, 13914, 3435, 4981, 2174, 5408, 4201, 9249, 19540, 4326, 4037, 15312, 3445, 8987, 13413, 2320, 2565, 9210, 1824, 5934, 2786, 8331, 8991, 3647, 22355, 3538, 11923, 9863, 6878, 4255, 10245, 4041, 5300, 3978, 4772, 6496, 4259, 2215, 4745, 39746, 2597, 3939, 3099, 6642, 9503, 6246, 5189, 13955, 7953, 2964, 4913, 5012, 4680, 5352, 1826, 6855, 7894, 1711, 2262, 2162, 3060, 8508, 7263, 5448, 7314, 18879, 3318, 19458, 5439, 2708, 7853, 6551, 2783, 23842, 2745, 4545, 4144, 7080, 4257, 5252, 8822, 2404, 5267, 5612, 4792, 2243, 2101, 6874, 17495, 7828, 4559, 1714, 5498, 3541, 6904, 10470, 4664, 6695, 7297, 38475, 5239, 17449, 5662, 4522, 5988, 2894, 1833, 3513, 8508, 13094, 4478, 3973, 4923, 3650, 3434, 2136, 7507, 7004, 4807, 3201, 3350, 5607, 7277, 18899, 3894, 3534, 4766, 1989, 12096, 12353, 8744, 5134, 4133, 13163, 3389, 3117, 8717, 8187, 7734, 4231, 1826, 4717, 3735, 11408, 3292, 4208, 7157, 4536, 9187, 12868, 3204, 3469, 2457, 9499, 4070, 4794, 5305, 12779, 4900, 3401, 4038, 5492, 2356, 9069, 9200, 7709, 3089, 6505, 3333, 6130, 10461, 4042, 3045, 6206, 4089, 3621, 3727, 2116, 12358, 2984, 5618, 3916, 2233, 8490, 10925, 7583, 10132, 3742, 3720, 1776, 6514, 6037, 4363, 1507, 4566, 17270, 6013, 3697, 1910, 2244, 4070, 1887, 8119, 2293, 6398, 7023, 6520, 25011, 3687, 4600, 3732, 3602, 3074, 4659, 5274, 1889, 7410, 34928, 33258, 3295, 4699, 2464, 1706, 3341, 2400, 3708, 10859, 5451, 1570, 3607, 4435, 3125, 7793, 10723, 5552, 13056, 3338, 3576, 4431, 3545, 4399, 6483, 10107, 5264, 6283, 3385, 2738, 3905, 6142, 2293, 1999, 4405, 3594, 3396, 5519, 9309, 4096, 5238, 11735, 4088, 2032, 33041, 3256, 4045, 3553, 9057, 4554, 4129, 6880, 1445, 3304, 4580, 1670, 1881, 3617, 2506, 2262, 8629, 24995, 3146, 7215, 5701, 2880, 6084, 8229, 7343, 3664, 2989, 5261, 8529, 6797, 8524, 2155, 1737, 8577, 8027, 5264, 3681, 14557, 12081, 25190, 2184, 9654, 6226, 4204, 2793, 9365, 3713, 4084, 15448, 5767, 2547, 3026, 2208, 19007], \"y0\": \" \", \"yaxis\": \"y\"}],                        {\"boxmode\": \"group\", \"legend\": {\"tracegroupgap\": 0}, \"margin\": {\"t\": 60}, \"template\": {\"data\": {\"bar\": [{\"error_x\": {\"color\": \"#2a3f5f\"}, \"error_y\": {\"color\": \"#2a3f5f\"}, \"marker\": {\"line\": {\"color\": \"#E5ECF6\", \"width\": 0.5}}, \"type\": \"bar\"}], \"barpolar\": [{\"marker\": {\"line\": {\"color\": \"#E5ECF6\", \"width\": 0.5}}, \"type\": \"barpolar\"}], \"carpet\": [{\"aaxis\": {\"endlinecolor\": \"#2a3f5f\", \"gridcolor\": \"white\", \"linecolor\": \"white\", \"minorgridcolor\": \"white\", \"startlinecolor\": \"#2a3f5f\"}, \"baxis\": {\"endlinecolor\": \"#2a3f5f\", \"gridcolor\": \"white\", \"linecolor\": \"white\", \"minorgridcolor\": \"white\", \"startlinecolor\": \"#2a3f5f\"}, \"type\": \"carpet\"}], \"choropleth\": [{\"colorbar\": {\"outlinewidth\": 0, \"ticks\": \"\"}, \"type\": \"choropleth\"}], \"contour\": [{\"colorbar\": {\"outlinewidth\": 0, \"ticks\": \"\"}, \"colorscale\": [[0.0, \"#0d0887\"], [0.1111111111111111, \"#46039f\"], [0.2222222222222222, \"#7201a8\"], [0.3333333333333333, \"#9c179e\"], [0.4444444444444444, \"#bd3786\"], [0.5555555555555556, \"#d8576b\"], [0.6666666666666666, \"#ed7953\"], [0.7777777777777778, \"#fb9f3a\"], [0.8888888888888888, \"#fdca26\"], [1.0, \"#f0f921\"]], \"type\": \"contour\"}], \"contourcarpet\": [{\"colorbar\": {\"outlinewidth\": 0, \"ticks\": \"\"}, \"type\": \"contourcarpet\"}], \"heatmap\": [{\"colorbar\": {\"outlinewidth\": 0, \"ticks\": \"\"}, \"colorscale\": [[0.0, \"#0d0887\"], [0.1111111111111111, \"#46039f\"], [0.2222222222222222, \"#7201a8\"], [0.3333333333333333, \"#9c179e\"], [0.4444444444444444, \"#bd3786\"], [0.5555555555555556, \"#d8576b\"], [0.6666666666666666, \"#ed7953\"], [0.7777777777777778, \"#fb9f3a\"], [0.8888888888888888, \"#fdca26\"], [1.0, \"#f0f921\"]], \"type\": \"heatmap\"}], \"heatmapgl\": [{\"colorbar\": {\"outlinewidth\": 0, \"ticks\": \"\"}, \"colorscale\": [[0.0, \"#0d0887\"], [0.1111111111111111, \"#46039f\"], [0.2222222222222222, \"#7201a8\"], [0.3333333333333333, \"#9c179e\"], [0.4444444444444444, \"#bd3786\"], [0.5555555555555556, \"#d8576b\"], [0.6666666666666666, \"#ed7953\"], [0.7777777777777778, \"#fb9f3a\"], [0.8888888888888888, \"#fdca26\"], [1.0, \"#f0f921\"]], \"type\": \"heatmapgl\"}], \"histogram\": [{\"marker\": {\"colorbar\": {\"outlinewidth\": 0, \"ticks\": \"\"}}, \"type\": \"histogram\"}], \"histogram2d\": [{\"colorbar\": {\"outlinewidth\": 0, \"ticks\": \"\"}, \"colorscale\": [[0.0, \"#0d0887\"], [0.1111111111111111, \"#46039f\"], [0.2222222222222222, \"#7201a8\"], [0.3333333333333333, \"#9c179e\"], [0.4444444444444444, \"#bd3786\"], [0.5555555555555556, \"#d8576b\"], [0.6666666666666666, \"#ed7953\"], [0.7777777777777778, \"#fb9f3a\"], [0.8888888888888888, \"#fdca26\"], [1.0, \"#f0f921\"]], \"type\": \"histogram2d\"}], \"histogram2dcontour\": [{\"colorbar\": {\"outlinewidth\": 0, \"ticks\": \"\"}, \"colorscale\": [[0.0, \"#0d0887\"], [0.1111111111111111, \"#46039f\"], [0.2222222222222222, \"#7201a8\"], [0.3333333333333333, \"#9c179e\"], [0.4444444444444444, \"#bd3786\"], [0.5555555555555556, \"#d8576b\"], [0.6666666666666666, \"#ed7953\"], [0.7777777777777778, \"#fb9f3a\"], [0.8888888888888888, \"#fdca26\"], [1.0, \"#f0f921\"]], \"type\": \"histogram2dcontour\"}], \"mesh3d\": [{\"colorbar\": {\"outlinewidth\": 0, \"ticks\": \"\"}, \"type\": \"mesh3d\"}], \"parcoords\": [{\"line\": {\"colorbar\": {\"outlinewidth\": 0, \"ticks\": \"\"}}, \"type\": \"parcoords\"}], \"pie\": [{\"automargin\": true, \"type\": \"pie\"}], \"scatter\": [{\"marker\": {\"colorbar\": {\"outlinewidth\": 0, \"ticks\": \"\"}}, \"type\": \"scatter\"}], \"scatter3d\": [{\"line\": {\"colorbar\": {\"outlinewidth\": 0, \"ticks\": \"\"}}, \"marker\": {\"colorbar\": {\"outlinewidth\": 0, \"ticks\": \"\"}}, \"type\": \"scatter3d\"}], \"scattercarpet\": [{\"marker\": {\"colorbar\": {\"outlinewidth\": 0, \"ticks\": \"\"}}, \"type\": \"scattercarpet\"}], \"scattergeo\": [{\"marker\": {\"colorbar\": {\"outlinewidth\": 0, \"ticks\": \"\"}}, \"type\": \"scattergeo\"}], \"scattergl\": [{\"marker\": {\"colorbar\": {\"outlinewidth\": 0, \"ticks\": \"\"}}, \"type\": \"scattergl\"}], \"scattermapbox\": [{\"marker\": {\"colorbar\": {\"outlinewidth\": 0, \"ticks\": \"\"}}, \"type\": \"scattermapbox\"}], \"scatterpolar\": [{\"marker\": {\"colorbar\": {\"outlinewidth\": 0, \"ticks\": \"\"}}, \"type\": \"scatterpolar\"}], \"scatterpolargl\": [{\"marker\": {\"colorbar\": {\"outlinewidth\": 0, \"ticks\": \"\"}}, \"type\": \"scatterpolargl\"}], \"scatterternary\": [{\"marker\": {\"colorbar\": {\"outlinewidth\": 0, \"ticks\": \"\"}}, \"type\": \"scatterternary\"}], \"surface\": [{\"colorbar\": {\"outlinewidth\": 0, \"ticks\": \"\"}, \"colorscale\": [[0.0, \"#0d0887\"], [0.1111111111111111, \"#46039f\"], [0.2222222222222222, \"#7201a8\"], [0.3333333333333333, \"#9c179e\"], [0.4444444444444444, \"#bd3786\"], [0.5555555555555556, \"#d8576b\"], [0.6666666666666666, \"#ed7953\"], [0.7777777777777778, \"#fb9f3a\"], [0.8888888888888888, \"#fdca26\"], [1.0, \"#f0f921\"]], \"type\": \"surface\"}], \"table\": [{\"cells\": {\"fill\": {\"color\": \"#EBF0F8\"}, \"line\": {\"color\": \"white\"}}, \"header\": {\"fill\": {\"color\": \"#C8D4E3\"}, \"line\": {\"color\": \"white\"}}, \"type\": \"table\"}]}, \"layout\": {\"annotationdefaults\": {\"arrowcolor\": \"#2a3f5f\", \"arrowhead\": 0, \"arrowwidth\": 1}, \"autotypenumbers\": \"strict\", \"coloraxis\": {\"colorbar\": {\"outlinewidth\": 0, \"ticks\": \"\"}}, \"colorscale\": {\"diverging\": [[0, \"#8e0152\"], [0.1, \"#c51b7d\"], [0.2, \"#de77ae\"], [0.3, \"#f1b6da\"], [0.4, \"#fde0ef\"], [0.5, \"#f7f7f7\"], [0.6, \"#e6f5d0\"], [0.7, \"#b8e186\"], [0.8, \"#7fbc41\"], [0.9, \"#4d9221\"], [1, \"#276419\"]], \"sequential\": [[0.0, \"#0d0887\"], [0.1111111111111111, \"#46039f\"], [0.2222222222222222, \"#7201a8\"], [0.3333333333333333, \"#9c179e\"], [0.4444444444444444, \"#bd3786\"], [0.5555555555555556, \"#d8576b\"], [0.6666666666666666, \"#ed7953\"], [0.7777777777777778, \"#fb9f3a\"], [0.8888888888888888, \"#fdca26\"], [1.0, \"#f0f921\"]], \"sequentialminus\": [[0.0, \"#0d0887\"], [0.1111111111111111, \"#46039f\"], [0.2222222222222222, \"#7201a8\"], [0.3333333333333333, \"#9c179e\"], [0.4444444444444444, \"#bd3786\"], [0.5555555555555556, \"#d8576b\"], [0.6666666666666666, \"#ed7953\"], [0.7777777777777778, \"#fb9f3a\"], [0.8888888888888888, \"#fdca26\"], [1.0, \"#f0f921\"]]}, \"colorway\": [\"#636efa\", \"#EF553B\", \"#00cc96\", \"#ab63fa\", \"#FFA15A\", \"#19d3f3\", \"#FF6692\", \"#B6E880\", \"#FF97FF\", \"#FECB52\"], \"font\": {\"color\": \"#2a3f5f\"}, \"geo\": {\"bgcolor\": \"white\", \"lakecolor\": \"white\", \"landcolor\": \"#E5ECF6\", \"showlakes\": true, \"showland\": true, \"subunitcolor\": \"white\"}, \"hoverlabel\": {\"align\": \"left\"}, \"hovermode\": \"closest\", \"mapbox\": {\"style\": \"light\"}, \"paper_bgcolor\": \"white\", \"plot_bgcolor\": \"#E5ECF6\", \"polar\": {\"angularaxis\": {\"gridcolor\": \"white\", \"linecolor\": \"white\", \"ticks\": \"\"}, \"bgcolor\": \"#E5ECF6\", \"radialaxis\": {\"gridcolor\": \"white\", \"linecolor\": \"white\", \"ticks\": \"\"}}, \"scene\": {\"xaxis\": {\"backgroundcolor\": \"#E5ECF6\", \"gridcolor\": \"white\", \"gridwidth\": 2, \"linecolor\": \"white\", \"showbackground\": true, \"ticks\": \"\", \"zerolinecolor\": \"white\"}, \"yaxis\": {\"backgroundcolor\": \"#E5ECF6\", \"gridcolor\": \"white\", \"gridwidth\": 2, \"linecolor\": \"white\", \"showbackground\": true, \"ticks\": \"\", \"zerolinecolor\": \"white\"}, \"zaxis\": {\"backgroundcolor\": \"#E5ECF6\", \"gridcolor\": \"white\", \"gridwidth\": 2, \"linecolor\": \"white\", \"showbackground\": true, \"ticks\": \"\", \"zerolinecolor\": \"white\"}}, \"shapedefaults\": {\"line\": {\"color\": \"#2a3f5f\"}}, \"ternary\": {\"aaxis\": {\"gridcolor\": \"white\", \"linecolor\": \"white\", \"ticks\": \"\"}, \"baxis\": {\"gridcolor\": \"white\", \"linecolor\": \"white\", \"ticks\": \"\"}, \"bgcolor\": \"#E5ECF6\", \"caxis\": {\"gridcolor\": \"white\", \"linecolor\": \"white\", \"ticks\": \"\"}}, \"title\": {\"x\": 0.05}, \"xaxis\": {\"automargin\": true, \"gridcolor\": \"white\", \"linecolor\": \"white\", \"ticks\": \"\", \"title\": {\"standoff\": 15}, \"zerolinecolor\": \"white\", \"zerolinewidth\": 2}, \"yaxis\": {\"automargin\": true, \"gridcolor\": \"white\", \"linecolor\": \"white\", \"ticks\": \"\", \"title\": {\"standoff\": 15}, \"zerolinecolor\": \"white\", \"zerolinewidth\": 2}}}, \"xaxis\": {\"anchor\": \"y\", \"domain\": [0.0, 1.0], \"title\": {\"text\": \"bmi_group\"}}, \"yaxis\": {\"anchor\": \"x\", \"domain\": [0.0, 1.0], \"range\": [0, 15000], \"title\": {\"text\": \"charges\"}}},                        {\"responsive\": true}                    ).then(function(){\n",
       "                            \n",
       "var gd = document.getElementById('3d94e51f-f9c8-40b2-b6b3-91649f2e1ebe');\n",
       "var x = new MutationObserver(function (mutations, observer) {{\n",
       "        var display = window.getComputedStyle(gd).display;\n",
       "        if (!display || display === 'none') {{\n",
       "            console.log([gd, 'removed!']);\n",
       "            Plotly.purge(gd);\n",
       "            observer.disconnect();\n",
       "        }}\n",
       "}});\n",
       "\n",
       "// Listen for the removal of the full notebook cells\n",
       "var notebookContainer = gd.closest('#notebook-container');\n",
       "if (notebookContainer) {{\n",
       "    x.observe(notebookContainer, {childList: true});\n",
       "}}\n",
       "\n",
       "// Listen for the clearing of the current output cell\n",
       "var outputEl = gd.closest('.output');\n",
       "if (outputEl) {{\n",
       "    x.observe(outputEl, {childList: true});\n",
       "}}\n",
       "\n",
       "                        })                };                });            </script>        </div>"
      ]
     },
     "metadata": {},
     "output_type": "display_data"
    },
    {
     "data": {
      "text/plain": [
       "array([15.168     , 25.25341639, 28.82683667, 44.904     ])"
      ]
     },
     "execution_count": 50,
     "metadata": {},
     "output_type": "execute_result"
    }
   ],
   "source": [
    "# For each of these client groups we calculate the levels for the feature 'bmi'\n",
    "# Group by segment and calculate the mean bmi per segment\n",
    "segments = data.groupby('segment').mean()['bmi'].sort_values().to_numpy()\n",
    "\n",
    "# Calculate the mid point between segment means to get a border between the segments\n",
    "segments_borders = (segments[1:] + segments[:-1])/2\n",
    "\n",
    "# lower border, min value of all bmi values\n",
    "segments_borders = np.insert(segments_borders, 0, data['bmi'].min())\n",
    "# upper border, max value of all bmi values\n",
    "segments_borders = np.append(segments_borders, data['bmi'].max())\n",
    "\n",
    "segments_labels = [x for x in range(len(segments_borders)-1)]\n",
    "\n",
    "# Cut data with segment borders\n",
    "data['bmi_group'] = pd.cut(data['bmi'], segments_borders, labels=segments_labels, include_lowest=True)\n",
    "\n",
    "fig = px.box(data, x='bmi_group', y='charges')\n",
    "fig.update_yaxes(range=[0, 15000])\n",
    "fig.show()\n",
    "\n",
    "# Borders for 0, 1 and 2 level of 'bmi'\n",
    "segments_borders"
   ]
  },
  {
   "cell_type": "markdown",
   "metadata": {},
   "source": [
    "#### BMI  \n",
    "level 0: from 15-25.2 bmi  \n",
    "level 1: 25.3-28.8\n",
    "level 2: 28.9-45"
   ]
  },
  {
   "cell_type": "code",
   "execution_count": 51,
   "metadata": {},
   "outputs": [
    {
     "data": {
      "application/vnd.plotly.v1+json": {
       "config": {
        "plotlyServerURL": "https://plot.ly"
       },
       "data": [
        {
         "alignmentgroup": "True",
         "hovertemplate": "children=%{x}<br>charges=%{y}<extra></extra>",
         "legendgroup": "",
         "marker": {
          "color": "#636efa"
         },
         "name": "",
         "offsetgroup": "",
         "orientation": "v",
         "showlegend": false,
         "textposition": "auto",
         "type": "bar",
         "x": [
          0,
          1,
          2,
          3,
          4,
          5
         ],
         "xaxis": "x",
         "y": [
          6354.104712041885,
          6477.632716049383,
          7363.5625,
          7761.624203821656,
          5747.16,
          4782.2
         ],
         "yaxis": "y"
        }
       ],
       "layout": {
        "barmode": "relative",
        "legend": {
         "tracegroupgap": 0
        },
        "margin": {
         "t": 60
        },
        "template": {
         "data": {
          "bar": [
           {
            "error_x": {
             "color": "#2a3f5f"
            },
            "error_y": {
             "color": "#2a3f5f"
            },
            "marker": {
             "line": {
              "color": "#E5ECF6",
              "width": 0.5
             }
            },
            "type": "bar"
           }
          ],
          "barpolar": [
           {
            "marker": {
             "line": {
              "color": "#E5ECF6",
              "width": 0.5
             }
            },
            "type": "barpolar"
           }
          ],
          "carpet": [
           {
            "aaxis": {
             "endlinecolor": "#2a3f5f",
             "gridcolor": "white",
             "linecolor": "white",
             "minorgridcolor": "white",
             "startlinecolor": "#2a3f5f"
            },
            "baxis": {
             "endlinecolor": "#2a3f5f",
             "gridcolor": "white",
             "linecolor": "white",
             "minorgridcolor": "white",
             "startlinecolor": "#2a3f5f"
            },
            "type": "carpet"
           }
          ],
          "choropleth": [
           {
            "colorbar": {
             "outlinewidth": 0,
             "ticks": ""
            },
            "type": "choropleth"
           }
          ],
          "contour": [
           {
            "colorbar": {
             "outlinewidth": 0,
             "ticks": ""
            },
            "colorscale": [
             [
              0,
              "#0d0887"
             ],
             [
              0.1111111111111111,
              "#46039f"
             ],
             [
              0.2222222222222222,
              "#7201a8"
             ],
             [
              0.3333333333333333,
              "#9c179e"
             ],
             [
              0.4444444444444444,
              "#bd3786"
             ],
             [
              0.5555555555555556,
              "#d8576b"
             ],
             [
              0.6666666666666666,
              "#ed7953"
             ],
             [
              0.7777777777777778,
              "#fb9f3a"
             ],
             [
              0.8888888888888888,
              "#fdca26"
             ],
             [
              1,
              "#f0f921"
             ]
            ],
            "type": "contour"
           }
          ],
          "contourcarpet": [
           {
            "colorbar": {
             "outlinewidth": 0,
             "ticks": ""
            },
            "type": "contourcarpet"
           }
          ],
          "heatmap": [
           {
            "colorbar": {
             "outlinewidth": 0,
             "ticks": ""
            },
            "colorscale": [
             [
              0,
              "#0d0887"
             ],
             [
              0.1111111111111111,
              "#46039f"
             ],
             [
              0.2222222222222222,
              "#7201a8"
             ],
             [
              0.3333333333333333,
              "#9c179e"
             ],
             [
              0.4444444444444444,
              "#bd3786"
             ],
             [
              0.5555555555555556,
              "#d8576b"
             ],
             [
              0.6666666666666666,
              "#ed7953"
             ],
             [
              0.7777777777777778,
              "#fb9f3a"
             ],
             [
              0.8888888888888888,
              "#fdca26"
             ],
             [
              1,
              "#f0f921"
             ]
            ],
            "type": "heatmap"
           }
          ],
          "heatmapgl": [
           {
            "colorbar": {
             "outlinewidth": 0,
             "ticks": ""
            },
            "colorscale": [
             [
              0,
              "#0d0887"
             ],
             [
              0.1111111111111111,
              "#46039f"
             ],
             [
              0.2222222222222222,
              "#7201a8"
             ],
             [
              0.3333333333333333,
              "#9c179e"
             ],
             [
              0.4444444444444444,
              "#bd3786"
             ],
             [
              0.5555555555555556,
              "#d8576b"
             ],
             [
              0.6666666666666666,
              "#ed7953"
             ],
             [
              0.7777777777777778,
              "#fb9f3a"
             ],
             [
              0.8888888888888888,
              "#fdca26"
             ],
             [
              1,
              "#f0f921"
             ]
            ],
            "type": "heatmapgl"
           }
          ],
          "histogram": [
           {
            "marker": {
             "colorbar": {
              "outlinewidth": 0,
              "ticks": ""
             }
            },
            "type": "histogram"
           }
          ],
          "histogram2d": [
           {
            "colorbar": {
             "outlinewidth": 0,
             "ticks": ""
            },
            "colorscale": [
             [
              0,
              "#0d0887"
             ],
             [
              0.1111111111111111,
              "#46039f"
             ],
             [
              0.2222222222222222,
              "#7201a8"
             ],
             [
              0.3333333333333333,
              "#9c179e"
             ],
             [
              0.4444444444444444,
              "#bd3786"
             ],
             [
              0.5555555555555556,
              "#d8576b"
             ],
             [
              0.6666666666666666,
              "#ed7953"
             ],
             [
              0.7777777777777778,
              "#fb9f3a"
             ],
             [
              0.8888888888888888,
              "#fdca26"
             ],
             [
              1,
              "#f0f921"
             ]
            ],
            "type": "histogram2d"
           }
          ],
          "histogram2dcontour": [
           {
            "colorbar": {
             "outlinewidth": 0,
             "ticks": ""
            },
            "colorscale": [
             [
              0,
              "#0d0887"
             ],
             [
              0.1111111111111111,
              "#46039f"
             ],
             [
              0.2222222222222222,
              "#7201a8"
             ],
             [
              0.3333333333333333,
              "#9c179e"
             ],
             [
              0.4444444444444444,
              "#bd3786"
             ],
             [
              0.5555555555555556,
              "#d8576b"
             ],
             [
              0.6666666666666666,
              "#ed7953"
             ],
             [
              0.7777777777777778,
              "#fb9f3a"
             ],
             [
              0.8888888888888888,
              "#fdca26"
             ],
             [
              1,
              "#f0f921"
             ]
            ],
            "type": "histogram2dcontour"
           }
          ],
          "mesh3d": [
           {
            "colorbar": {
             "outlinewidth": 0,
             "ticks": ""
            },
            "type": "mesh3d"
           }
          ],
          "parcoords": [
           {
            "line": {
             "colorbar": {
              "outlinewidth": 0,
              "ticks": ""
             }
            },
            "type": "parcoords"
           }
          ],
          "pie": [
           {
            "automargin": true,
            "type": "pie"
           }
          ],
          "scatter": [
           {
            "marker": {
             "colorbar": {
              "outlinewidth": 0,
              "ticks": ""
             }
            },
            "type": "scatter"
           }
          ],
          "scatter3d": [
           {
            "line": {
             "colorbar": {
              "outlinewidth": 0,
              "ticks": ""
             }
            },
            "marker": {
             "colorbar": {
              "outlinewidth": 0,
              "ticks": ""
             }
            },
            "type": "scatter3d"
           }
          ],
          "scattercarpet": [
           {
            "marker": {
             "colorbar": {
              "outlinewidth": 0,
              "ticks": ""
             }
            },
            "type": "scattercarpet"
           }
          ],
          "scattergeo": [
           {
            "marker": {
             "colorbar": {
              "outlinewidth": 0,
              "ticks": ""
             }
            },
            "type": "scattergeo"
           }
          ],
          "scattergl": [
           {
            "marker": {
             "colorbar": {
              "outlinewidth": 0,
              "ticks": ""
             }
            },
            "type": "scattergl"
           }
          ],
          "scattermapbox": [
           {
            "marker": {
             "colorbar": {
              "outlinewidth": 0,
              "ticks": ""
             }
            },
            "type": "scattermapbox"
           }
          ],
          "scatterpolar": [
           {
            "marker": {
             "colorbar": {
              "outlinewidth": 0,
              "ticks": ""
             }
            },
            "type": "scatterpolar"
           }
          ],
          "scatterpolargl": [
           {
            "marker": {
             "colorbar": {
              "outlinewidth": 0,
              "ticks": ""
             }
            },
            "type": "scatterpolargl"
           }
          ],
          "scatterternary": [
           {
            "marker": {
             "colorbar": {
              "outlinewidth": 0,
              "ticks": ""
             }
            },
            "type": "scatterternary"
           }
          ],
          "surface": [
           {
            "colorbar": {
             "outlinewidth": 0,
             "ticks": ""
            },
            "colorscale": [
             [
              0,
              "#0d0887"
             ],
             [
              0.1111111111111111,
              "#46039f"
             ],
             [
              0.2222222222222222,
              "#7201a8"
             ],
             [
              0.3333333333333333,
              "#9c179e"
             ],
             [
              0.4444444444444444,
              "#bd3786"
             ],
             [
              0.5555555555555556,
              "#d8576b"
             ],
             [
              0.6666666666666666,
              "#ed7953"
             ],
             [
              0.7777777777777778,
              "#fb9f3a"
             ],
             [
              0.8888888888888888,
              "#fdca26"
             ],
             [
              1,
              "#f0f921"
             ]
            ],
            "type": "surface"
           }
          ],
          "table": [
           {
            "cells": {
             "fill": {
              "color": "#EBF0F8"
             },
             "line": {
              "color": "white"
             }
            },
            "header": {
             "fill": {
              "color": "#C8D4E3"
             },
             "line": {
              "color": "white"
             }
            },
            "type": "table"
           }
          ]
         },
         "layout": {
          "annotationdefaults": {
           "arrowcolor": "#2a3f5f",
           "arrowhead": 0,
           "arrowwidth": 1
          },
          "autotypenumbers": "strict",
          "coloraxis": {
           "colorbar": {
            "outlinewidth": 0,
            "ticks": ""
           }
          },
          "colorscale": {
           "diverging": [
            [
             0,
             "#8e0152"
            ],
            [
             0.1,
             "#c51b7d"
            ],
            [
             0.2,
             "#de77ae"
            ],
            [
             0.3,
             "#f1b6da"
            ],
            [
             0.4,
             "#fde0ef"
            ],
            [
             0.5,
             "#f7f7f7"
            ],
            [
             0.6,
             "#e6f5d0"
            ],
            [
             0.7,
             "#b8e186"
            ],
            [
             0.8,
             "#7fbc41"
            ],
            [
             0.9,
             "#4d9221"
            ],
            [
             1,
             "#276419"
            ]
           ],
           "sequential": [
            [
             0,
             "#0d0887"
            ],
            [
             0.1111111111111111,
             "#46039f"
            ],
            [
             0.2222222222222222,
             "#7201a8"
            ],
            [
             0.3333333333333333,
             "#9c179e"
            ],
            [
             0.4444444444444444,
             "#bd3786"
            ],
            [
             0.5555555555555556,
             "#d8576b"
            ],
            [
             0.6666666666666666,
             "#ed7953"
            ],
            [
             0.7777777777777778,
             "#fb9f3a"
            ],
            [
             0.8888888888888888,
             "#fdca26"
            ],
            [
             1,
             "#f0f921"
            ]
           ],
           "sequentialminus": [
            [
             0,
             "#0d0887"
            ],
            [
             0.1111111111111111,
             "#46039f"
            ],
            [
             0.2222222222222222,
             "#7201a8"
            ],
            [
             0.3333333333333333,
             "#9c179e"
            ],
            [
             0.4444444444444444,
             "#bd3786"
            ],
            [
             0.5555555555555556,
             "#d8576b"
            ],
            [
             0.6666666666666666,
             "#ed7953"
            ],
            [
             0.7777777777777778,
             "#fb9f3a"
            ],
            [
             0.8888888888888888,
             "#fdca26"
            ],
            [
             1,
             "#f0f921"
            ]
           ]
          },
          "colorway": [
           "#636efa",
           "#EF553B",
           "#00cc96",
           "#ab63fa",
           "#FFA15A",
           "#19d3f3",
           "#FF6692",
           "#B6E880",
           "#FF97FF",
           "#FECB52"
          ],
          "font": {
           "color": "#2a3f5f"
          },
          "geo": {
           "bgcolor": "white",
           "lakecolor": "white",
           "landcolor": "#E5ECF6",
           "showlakes": true,
           "showland": true,
           "subunitcolor": "white"
          },
          "hoverlabel": {
           "align": "left"
          },
          "hovermode": "closest",
          "mapbox": {
           "style": "light"
          },
          "paper_bgcolor": "white",
          "plot_bgcolor": "#E5ECF6",
          "polar": {
           "angularaxis": {
            "gridcolor": "white",
            "linecolor": "white",
            "ticks": ""
           },
           "bgcolor": "#E5ECF6",
           "radialaxis": {
            "gridcolor": "white",
            "linecolor": "white",
            "ticks": ""
           }
          },
          "scene": {
           "xaxis": {
            "backgroundcolor": "#E5ECF6",
            "gridcolor": "white",
            "gridwidth": 2,
            "linecolor": "white",
            "showbackground": true,
            "ticks": "",
            "zerolinecolor": "white"
           },
           "yaxis": {
            "backgroundcolor": "#E5ECF6",
            "gridcolor": "white",
            "gridwidth": 2,
            "linecolor": "white",
            "showbackground": true,
            "ticks": "",
            "zerolinecolor": "white"
           },
           "zaxis": {
            "backgroundcolor": "#E5ECF6",
            "gridcolor": "white",
            "gridwidth": 2,
            "linecolor": "white",
            "showbackground": true,
            "ticks": "",
            "zerolinecolor": "white"
           }
          },
          "shapedefaults": {
           "line": {
            "color": "#2a3f5f"
           }
          },
          "ternary": {
           "aaxis": {
            "gridcolor": "white",
            "linecolor": "white",
            "ticks": ""
           },
           "baxis": {
            "gridcolor": "white",
            "linecolor": "white",
            "ticks": ""
           },
           "bgcolor": "#E5ECF6",
           "caxis": {
            "gridcolor": "white",
            "linecolor": "white",
            "ticks": ""
           }
          },
          "title": {
           "x": 0.05
          },
          "xaxis": {
           "automargin": true,
           "gridcolor": "white",
           "linecolor": "white",
           "ticks": "",
           "title": {
            "standoff": 15
           },
           "zerolinecolor": "white",
           "zerolinewidth": 2
          },
          "yaxis": {
           "automargin": true,
           "gridcolor": "white",
           "linecolor": "white",
           "ticks": "",
           "title": {
            "standoff": 15
           },
           "zerolinecolor": "white",
           "zerolinewidth": 2
          }
         }
        },
        "xaxis": {
         "anchor": "y",
         "domain": [
          0,
          1
         ],
         "title": {
          "text": "children"
         }
        },
        "yaxis": {
         "anchor": "x",
         "domain": [
          0,
          1
         ],
         "title": {
          "text": "charges"
         }
        }
       }
      },
      "text/html": [
       "<div>                            <div id=\"7eb2480e-2cb5-40c9-b1ff-89aec6962ae7\" class=\"plotly-graph-div\" style=\"height:525px; width:100%;\"></div>            <script type=\"text/javascript\">                require([\"plotly\"], function(Plotly) {                    window.PLOTLYENV=window.PLOTLYENV || {};                                    if (document.getElementById(\"7eb2480e-2cb5-40c9-b1ff-89aec6962ae7\")) {                    Plotly.newPlot(                        \"7eb2480e-2cb5-40c9-b1ff-89aec6962ae7\",                        [{\"alignmentgroup\": \"True\", \"hovertemplate\": \"children=%{x}<br>charges=%{y}<extra></extra>\", \"legendgroup\": \"\", \"marker\": {\"color\": \"#636efa\"}, \"name\": \"\", \"offsetgroup\": \"\", \"orientation\": \"v\", \"showlegend\": false, \"textposition\": \"auto\", \"type\": \"bar\", \"x\": [0, 1, 2, 3, 4, 5], \"xaxis\": \"x\", \"y\": [6354.104712041885, 6477.632716049383, 7363.5625, 7761.624203821656, 5747.16, 4782.2], \"yaxis\": \"y\"}],                        {\"barmode\": \"relative\", \"legend\": {\"tracegroupgap\": 0}, \"margin\": {\"t\": 60}, \"template\": {\"data\": {\"bar\": [{\"error_x\": {\"color\": \"#2a3f5f\"}, \"error_y\": {\"color\": \"#2a3f5f\"}, \"marker\": {\"line\": {\"color\": \"#E5ECF6\", \"width\": 0.5}}, \"type\": \"bar\"}], \"barpolar\": [{\"marker\": {\"line\": {\"color\": \"#E5ECF6\", \"width\": 0.5}}, \"type\": \"barpolar\"}], \"carpet\": [{\"aaxis\": {\"endlinecolor\": \"#2a3f5f\", \"gridcolor\": \"white\", \"linecolor\": \"white\", \"minorgridcolor\": \"white\", \"startlinecolor\": \"#2a3f5f\"}, \"baxis\": {\"endlinecolor\": \"#2a3f5f\", \"gridcolor\": \"white\", \"linecolor\": \"white\", \"minorgridcolor\": \"white\", \"startlinecolor\": \"#2a3f5f\"}, \"type\": \"carpet\"}], \"choropleth\": [{\"colorbar\": {\"outlinewidth\": 0, \"ticks\": \"\"}, \"type\": \"choropleth\"}], \"contour\": [{\"colorbar\": {\"outlinewidth\": 0, \"ticks\": \"\"}, \"colorscale\": [[0.0, \"#0d0887\"], [0.1111111111111111, \"#46039f\"], [0.2222222222222222, \"#7201a8\"], [0.3333333333333333, \"#9c179e\"], [0.4444444444444444, \"#bd3786\"], [0.5555555555555556, \"#d8576b\"], [0.6666666666666666, \"#ed7953\"], [0.7777777777777778, \"#fb9f3a\"], [0.8888888888888888, \"#fdca26\"], [1.0, \"#f0f921\"]], \"type\": \"contour\"}], \"contourcarpet\": [{\"colorbar\": {\"outlinewidth\": 0, \"ticks\": \"\"}, \"type\": \"contourcarpet\"}], \"heatmap\": [{\"colorbar\": {\"outlinewidth\": 0, \"ticks\": \"\"}, \"colorscale\": [[0.0, \"#0d0887\"], [0.1111111111111111, \"#46039f\"], [0.2222222222222222, \"#7201a8\"], [0.3333333333333333, \"#9c179e\"], [0.4444444444444444, \"#bd3786\"], [0.5555555555555556, \"#d8576b\"], [0.6666666666666666, \"#ed7953\"], [0.7777777777777778, \"#fb9f3a\"], [0.8888888888888888, \"#fdca26\"], [1.0, \"#f0f921\"]], \"type\": \"heatmap\"}], \"heatmapgl\": [{\"colorbar\": {\"outlinewidth\": 0, \"ticks\": \"\"}, \"colorscale\": [[0.0, \"#0d0887\"], [0.1111111111111111, \"#46039f\"], [0.2222222222222222, \"#7201a8\"], [0.3333333333333333, \"#9c179e\"], [0.4444444444444444, \"#bd3786\"], [0.5555555555555556, \"#d8576b\"], [0.6666666666666666, \"#ed7953\"], [0.7777777777777778, \"#fb9f3a\"], [0.8888888888888888, \"#fdca26\"], [1.0, \"#f0f921\"]], \"type\": \"heatmapgl\"}], \"histogram\": [{\"marker\": {\"colorbar\": {\"outlinewidth\": 0, \"ticks\": \"\"}}, \"type\": \"histogram\"}], \"histogram2d\": [{\"colorbar\": {\"outlinewidth\": 0, \"ticks\": \"\"}, \"colorscale\": [[0.0, \"#0d0887\"], [0.1111111111111111, \"#46039f\"], [0.2222222222222222, \"#7201a8\"], [0.3333333333333333, \"#9c179e\"], [0.4444444444444444, \"#bd3786\"], [0.5555555555555556, \"#d8576b\"], [0.6666666666666666, \"#ed7953\"], [0.7777777777777778, \"#fb9f3a\"], [0.8888888888888888, \"#fdca26\"], [1.0, \"#f0f921\"]], \"type\": \"histogram2d\"}], \"histogram2dcontour\": [{\"colorbar\": {\"outlinewidth\": 0, \"ticks\": \"\"}, \"colorscale\": [[0.0, \"#0d0887\"], [0.1111111111111111, \"#46039f\"], [0.2222222222222222, \"#7201a8\"], [0.3333333333333333, \"#9c179e\"], [0.4444444444444444, \"#bd3786\"], [0.5555555555555556, \"#d8576b\"], [0.6666666666666666, \"#ed7953\"], [0.7777777777777778, \"#fb9f3a\"], [0.8888888888888888, \"#fdca26\"], [1.0, \"#f0f921\"]], \"type\": \"histogram2dcontour\"}], \"mesh3d\": [{\"colorbar\": {\"outlinewidth\": 0, \"ticks\": \"\"}, \"type\": \"mesh3d\"}], \"parcoords\": [{\"line\": {\"colorbar\": {\"outlinewidth\": 0, \"ticks\": \"\"}}, \"type\": \"parcoords\"}], \"pie\": [{\"automargin\": true, \"type\": \"pie\"}], \"scatter\": [{\"marker\": {\"colorbar\": {\"outlinewidth\": 0, \"ticks\": \"\"}}, \"type\": \"scatter\"}], \"scatter3d\": [{\"line\": {\"colorbar\": {\"outlinewidth\": 0, \"ticks\": \"\"}}, \"marker\": {\"colorbar\": {\"outlinewidth\": 0, \"ticks\": \"\"}}, \"type\": \"scatter3d\"}], \"scattercarpet\": [{\"marker\": {\"colorbar\": {\"outlinewidth\": 0, \"ticks\": \"\"}}, \"type\": \"scattercarpet\"}], \"scattergeo\": [{\"marker\": {\"colorbar\": {\"outlinewidth\": 0, \"ticks\": \"\"}}, \"type\": \"scattergeo\"}], \"scattergl\": [{\"marker\": {\"colorbar\": {\"outlinewidth\": 0, \"ticks\": \"\"}}, \"type\": \"scattergl\"}], \"scattermapbox\": [{\"marker\": {\"colorbar\": {\"outlinewidth\": 0, \"ticks\": \"\"}}, \"type\": \"scattermapbox\"}], \"scatterpolar\": [{\"marker\": {\"colorbar\": {\"outlinewidth\": 0, \"ticks\": \"\"}}, \"type\": \"scatterpolar\"}], \"scatterpolargl\": [{\"marker\": {\"colorbar\": {\"outlinewidth\": 0, \"ticks\": \"\"}}, \"type\": \"scatterpolargl\"}], \"scatterternary\": [{\"marker\": {\"colorbar\": {\"outlinewidth\": 0, \"ticks\": \"\"}}, \"type\": \"scatterternary\"}], \"surface\": [{\"colorbar\": {\"outlinewidth\": 0, \"ticks\": \"\"}, \"colorscale\": [[0.0, \"#0d0887\"], [0.1111111111111111, \"#46039f\"], [0.2222222222222222, \"#7201a8\"], [0.3333333333333333, \"#9c179e\"], [0.4444444444444444, \"#bd3786\"], [0.5555555555555556, \"#d8576b\"], [0.6666666666666666, \"#ed7953\"], [0.7777777777777778, \"#fb9f3a\"], [0.8888888888888888, \"#fdca26\"], [1.0, \"#f0f921\"]], \"type\": \"surface\"}], \"table\": [{\"cells\": {\"fill\": {\"color\": \"#EBF0F8\"}, \"line\": {\"color\": \"white\"}}, \"header\": {\"fill\": {\"color\": \"#C8D4E3\"}, \"line\": {\"color\": \"white\"}}, \"type\": \"table\"}]}, \"layout\": {\"annotationdefaults\": {\"arrowcolor\": \"#2a3f5f\", \"arrowhead\": 0, \"arrowwidth\": 1}, \"autotypenumbers\": \"strict\", \"coloraxis\": {\"colorbar\": {\"outlinewidth\": 0, \"ticks\": \"\"}}, \"colorscale\": {\"diverging\": [[0, \"#8e0152\"], [0.1, \"#c51b7d\"], [0.2, \"#de77ae\"], [0.3, \"#f1b6da\"], [0.4, \"#fde0ef\"], [0.5, \"#f7f7f7\"], [0.6, \"#e6f5d0\"], [0.7, \"#b8e186\"], [0.8, \"#7fbc41\"], [0.9, \"#4d9221\"], [1, \"#276419\"]], \"sequential\": [[0.0, \"#0d0887\"], [0.1111111111111111, \"#46039f\"], [0.2222222222222222, \"#7201a8\"], [0.3333333333333333, \"#9c179e\"], [0.4444444444444444, \"#bd3786\"], [0.5555555555555556, \"#d8576b\"], [0.6666666666666666, \"#ed7953\"], [0.7777777777777778, \"#fb9f3a\"], [0.8888888888888888, \"#fdca26\"], [1.0, \"#f0f921\"]], \"sequentialminus\": [[0.0, \"#0d0887\"], [0.1111111111111111, \"#46039f\"], [0.2222222222222222, \"#7201a8\"], [0.3333333333333333, \"#9c179e\"], [0.4444444444444444, \"#bd3786\"], [0.5555555555555556, \"#d8576b\"], [0.6666666666666666, \"#ed7953\"], [0.7777777777777778, \"#fb9f3a\"], [0.8888888888888888, \"#fdca26\"], [1.0, \"#f0f921\"]]}, \"colorway\": [\"#636efa\", \"#EF553B\", \"#00cc96\", \"#ab63fa\", \"#FFA15A\", \"#19d3f3\", \"#FF6692\", \"#B6E880\", \"#FF97FF\", \"#FECB52\"], \"font\": {\"color\": \"#2a3f5f\"}, \"geo\": {\"bgcolor\": \"white\", \"lakecolor\": \"white\", \"landcolor\": \"#E5ECF6\", \"showlakes\": true, \"showland\": true, \"subunitcolor\": \"white\"}, \"hoverlabel\": {\"align\": \"left\"}, \"hovermode\": \"closest\", \"mapbox\": {\"style\": \"light\"}, \"paper_bgcolor\": \"white\", \"plot_bgcolor\": \"#E5ECF6\", \"polar\": {\"angularaxis\": {\"gridcolor\": \"white\", \"linecolor\": \"white\", \"ticks\": \"\"}, \"bgcolor\": \"#E5ECF6\", \"radialaxis\": {\"gridcolor\": \"white\", \"linecolor\": \"white\", \"ticks\": \"\"}}, \"scene\": {\"xaxis\": {\"backgroundcolor\": \"#E5ECF6\", \"gridcolor\": \"white\", \"gridwidth\": 2, \"linecolor\": \"white\", \"showbackground\": true, \"ticks\": \"\", \"zerolinecolor\": \"white\"}, \"yaxis\": {\"backgroundcolor\": \"#E5ECF6\", \"gridcolor\": \"white\", \"gridwidth\": 2, \"linecolor\": \"white\", \"showbackground\": true, \"ticks\": \"\", \"zerolinecolor\": \"white\"}, \"zaxis\": {\"backgroundcolor\": \"#E5ECF6\", \"gridcolor\": \"white\", \"gridwidth\": 2, \"linecolor\": \"white\", \"showbackground\": true, \"ticks\": \"\", \"zerolinecolor\": \"white\"}}, \"shapedefaults\": {\"line\": {\"color\": \"#2a3f5f\"}}, \"ternary\": {\"aaxis\": {\"gridcolor\": \"white\", \"linecolor\": \"white\", \"ticks\": \"\"}, \"baxis\": {\"gridcolor\": \"white\", \"linecolor\": \"white\", \"ticks\": \"\"}, \"bgcolor\": \"#E5ECF6\", \"caxis\": {\"gridcolor\": \"white\", \"linecolor\": \"white\", \"ticks\": \"\"}}, \"title\": {\"x\": 0.05}, \"xaxis\": {\"automargin\": true, \"gridcolor\": \"white\", \"linecolor\": \"white\", \"ticks\": \"\", \"title\": {\"standoff\": 15}, \"zerolinecolor\": \"white\", \"zerolinewidth\": 2}, \"yaxis\": {\"automargin\": true, \"gridcolor\": \"white\", \"linecolor\": \"white\", \"ticks\": \"\", \"title\": {\"standoff\": 15}, \"zerolinecolor\": \"white\", \"zerolinewidth\": 2}}}, \"xaxis\": {\"anchor\": \"y\", \"domain\": [0.0, 1.0], \"title\": {\"text\": \"children\"}}, \"yaxis\": {\"anchor\": \"x\", \"domain\": [0.0, 1.0], \"title\": {\"text\": \"charges\"}}},                        {\"responsive\": true}                    ).then(function(){\n",
       "                            \n",
       "var gd = document.getElementById('7eb2480e-2cb5-40c9-b1ff-89aec6962ae7');\n",
       "var x = new MutationObserver(function (mutations, observer) {{\n",
       "        var display = window.getComputedStyle(gd).display;\n",
       "        if (!display || display === 'none') {{\n",
       "            console.log([gd, 'removed!']);\n",
       "            Plotly.purge(gd);\n",
       "            observer.disconnect();\n",
       "        }}\n",
       "}});\n",
       "\n",
       "// Listen for the removal of the full notebook cells\n",
       "var notebookContainer = gd.closest('#notebook-container');\n",
       "if (notebookContainer) {{\n",
       "    x.observe(notebookContainer, {childList: true});\n",
       "}}\n",
       "\n",
       "// Listen for the clearing of the current output cell\n",
       "var outputEl = gd.closest('.output');\n",
       "if (outputEl) {{\n",
       "    x.observe(outputEl, {childList: true});\n",
       "}}\n",
       "\n",
       "                        })                };                });            </script>        </div>"
      ]
     },
     "metadata": {},
     "output_type": "display_data"
    }
   ],
   "source": [
    "fig = px.bar(data.groupby('children').mean().reset_index(), x='children', y='charges')\n",
    "fig.show()"
   ]
  },
  {
   "cell_type": "markdown",
   "metadata": {},
   "source": [
    "From the chart above we notice that having 0-1 child results in similar charges, 2-3 children results in similar charges, and having 4-5 children also results to similar charges."
   ]
  },
  {
   "cell_type": "code",
   "execution_count": 52,
   "metadata": {},
   "outputs": [
    {
     "data": {
      "application/vnd.plotly.v1+json": {
       "config": {
        "plotlyServerURL": "https://plot.ly"
       },
       "data": [
        {
         "alignmentgroup": "True",
         "hovertemplate": "children_group=%{x}<br>charges=%{y}<extra></extra>",
         "legendgroup": "",
         "marker": {
          "color": "#636efa"
         },
         "name": "",
         "notched": false,
         "offsetgroup": "",
         "orientation": "v",
         "showlegend": false,
         "type": "box",
         "x": [
          0,
          0,
          1,
          0,
          0,
          0,
          0,
          1,
          0,
          0,
          0,
          0,
          0,
          0,
          0,
          0,
          0,
          0,
          0,
          0,
          0,
          0,
          0,
          0,
          0,
          1,
          0,
          0,
          0,
          0,
          0,
          0,
          0,
          0,
          0,
          1,
          0,
          0,
          0,
          0,
          0,
          0,
          0,
          0,
          0,
          0,
          0,
          0,
          0,
          0,
          0,
          0,
          0,
          1,
          0,
          0,
          0,
          0,
          0,
          1,
          1,
          0,
          0,
          0,
          0,
          0,
          0,
          0,
          1,
          0,
          2,
          1,
          0,
          0,
          0,
          0,
          0,
          0,
          0,
          0,
          0,
          0,
          1,
          0,
          0,
          0,
          0,
          0,
          0,
          0,
          0,
          1,
          0,
          0,
          0,
          1,
          0,
          0,
          0,
          0,
          0,
          1,
          0,
          0,
          0,
          0,
          0,
          0,
          0,
          0,
          0,
          0,
          1,
          0,
          0,
          0,
          0,
          0,
          0,
          0,
          0,
          0,
          1,
          0,
          0,
          0,
          0,
          0,
          0,
          0,
          0,
          0,
          0,
          0,
          0,
          0,
          1,
          0,
          0,
          0,
          0,
          0,
          1,
          1,
          1,
          0,
          0,
          0,
          0,
          0,
          1,
          0,
          0,
          0,
          0,
          0,
          0,
          1,
          0,
          0,
          0,
          0,
          0,
          1,
          1,
          0,
          1,
          0,
          0,
          0,
          0,
          0,
          0,
          0,
          0,
          0,
          1,
          0,
          0,
          1,
          0,
          0,
          1,
          0,
          1,
          0,
          0,
          0,
          0,
          0,
          0,
          0,
          0,
          0,
          0,
          0,
          0,
          0,
          0,
          0,
          0,
          0,
          0,
          0,
          0,
          0,
          0,
          0,
          1,
          0,
          0,
          0,
          0,
          0,
          0,
          0,
          0,
          0,
          0,
          1,
          0,
          0,
          1,
          0,
          0,
          0,
          0,
          0,
          1,
          0,
          0,
          0,
          0,
          0,
          0,
          0,
          0,
          0,
          0,
          0,
          1,
          0,
          0,
          0,
          0,
          0,
          0,
          0,
          0,
          0,
          1,
          0,
          1,
          0,
          0,
          1,
          0,
          0,
          0,
          1,
          0,
          1,
          1,
          0,
          1,
          0,
          0,
          0,
          0,
          0,
          0,
          0,
          0,
          0,
          0,
          0,
          0,
          0,
          1,
          0,
          0,
          0,
          0,
          0,
          0,
          0,
          1,
          0,
          0,
          0,
          0,
          1,
          0,
          0,
          0,
          1,
          0,
          1,
          1,
          0,
          0,
          0,
          0,
          0,
          0,
          0,
          0,
          0,
          0,
          1,
          0,
          0,
          0,
          0,
          0,
          0,
          0,
          0,
          1,
          0,
          0,
          0,
          0,
          0,
          0,
          0,
          0,
          0,
          0,
          0,
          0,
          0,
          0,
          0,
          0,
          0,
          0,
          0,
          0,
          0,
          0,
          1,
          1,
          0,
          0,
          0,
          0,
          0,
          0,
          0,
          0,
          0,
          0,
          1,
          1,
          0,
          0,
          0,
          0,
          0,
          0,
          0,
          0,
          1,
          0,
          0,
          1,
          0,
          0,
          0,
          0,
          0,
          0,
          1,
          0,
          1,
          0,
          0,
          0,
          0,
          0,
          0,
          0,
          0,
          0,
          0,
          1,
          1,
          0,
          0,
          0,
          0,
          0,
          1,
          0,
          0,
          0,
          0,
          0,
          0,
          1,
          0,
          0,
          0,
          0,
          1,
          0,
          0,
          0,
          0,
          2,
          0,
          0,
          0,
          0,
          0,
          0,
          0,
          0,
          0,
          0,
          0,
          2,
          0,
          0,
          0,
          1,
          0,
          0,
          0,
          0,
          0,
          1,
          0,
          1,
          2,
          0,
          0,
          0,
          0,
          0,
          0,
          0,
          0,
          0,
          0,
          0,
          1,
          0,
          0,
          0,
          0,
          0,
          0,
          0,
          0,
          1,
          1,
          0,
          0,
          0,
          0,
          0,
          0,
          0,
          0,
          0,
          0,
          0,
          0,
          0,
          1,
          0,
          0,
          0,
          0,
          0,
          1,
          0,
          0,
          0,
          1,
          0,
          1,
          0,
          0,
          0,
          0,
          0,
          0,
          0,
          1,
          0,
          0,
          0,
          0,
          0,
          0,
          0,
          0,
          0,
          0,
          1,
          0,
          0,
          0,
          0,
          0,
          0,
          0,
          0,
          0,
          0,
          0,
          0,
          0,
          0,
          0,
          0,
          0,
          0,
          0,
          0,
          0,
          0,
          0,
          0,
          0,
          0,
          0,
          0,
          0,
          0,
          1,
          0,
          0,
          0,
          1,
          0,
          0,
          0,
          0,
          0,
          0,
          0,
          0,
          0,
          0,
          0,
          0,
          0,
          0,
          0,
          0,
          0,
          1,
          0,
          0,
          0,
          0,
          0,
          0,
          0,
          0,
          0,
          2,
          0,
          0,
          0,
          0,
          0,
          0,
          0,
          0,
          0,
          0,
          0,
          0,
          0,
          0,
          0,
          0,
          0,
          1,
          0,
          0,
          0,
          0,
          0,
          0,
          0,
          0,
          0,
          0,
          0,
          0,
          0,
          0,
          0,
          0,
          1,
          0,
          0,
          0,
          0,
          0,
          0,
          0,
          0,
          0,
          1,
          0,
          0,
          0,
          0,
          0,
          0,
          0,
          1,
          0,
          0,
          0,
          0,
          1,
          0,
          0,
          0,
          0,
          0,
          0,
          0,
          0,
          0,
          0,
          0,
          0,
          1,
          2,
          1,
          0,
          1,
          0,
          1,
          0,
          1,
          0,
          0,
          0,
          0,
          0,
          0,
          0,
          0,
          0,
          0,
          0,
          1,
          1,
          0,
          0,
          0,
          0,
          0,
          0,
          0,
          0,
          0,
          1,
          0,
          0,
          0,
          0,
          0,
          1,
          1,
          1,
          0,
          0,
          0,
          0,
          0,
          0,
          0,
          0,
          0,
          0,
          0,
          0,
          0,
          0,
          0,
          0,
          0,
          0,
          0,
          0,
          0,
          0,
          0,
          0,
          0,
          0,
          0,
          0,
          1,
          1,
          0,
          0,
          0,
          0,
          0,
          0,
          0,
          0,
          0,
          0,
          0,
          0,
          1,
          0,
          0,
          0,
          1,
          0,
          0,
          0,
          0,
          1,
          0,
          1,
          0,
          1,
          0,
          0,
          0,
          1,
          0,
          0,
          0,
          0,
          0,
          0,
          0,
          0,
          0,
          0,
          0,
          0,
          0,
          0,
          0,
          1,
          0,
          1,
          0,
          1,
          0,
          0,
          0,
          0,
          0,
          0,
          0,
          0,
          0,
          0,
          0,
          1,
          0,
          0,
          0,
          0,
          1,
          0,
          0,
          1,
          0,
          1,
          0,
          0,
          0,
          0,
          1,
          0,
          0,
          1,
          0,
          0,
          0,
          0,
          0,
          0,
          0,
          0,
          0,
          0,
          0,
          0,
          0,
          0,
          0,
          0,
          0,
          0,
          0,
          0,
          0,
          1,
          1,
          0,
          0,
          0,
          0,
          0,
          1,
          0,
          0,
          0,
          0,
          0,
          0,
          0,
          0,
          0,
          0,
          1,
          0,
          0,
          0,
          0,
          0,
          0,
          0,
          0,
          0,
          0,
          0,
          0,
          0,
          0,
          0,
          0,
          0,
          0,
          0,
          0,
          0,
          0,
          0,
          0,
          0,
          1,
          0,
          0,
          0,
          0,
          0,
          0,
          1,
          0,
          0,
          0,
          0,
          0,
          0,
          0,
          1,
          0,
          0,
          0,
          0,
          1,
          0,
          0,
          2,
          0,
          0,
          1,
          0,
          0,
          1,
          1,
          0,
          0,
          0,
          0,
          0,
          0,
          1,
          0,
          0,
          0,
          0,
          0,
          0,
          0,
          0,
          0,
          0,
          1,
          0,
          0,
          0,
          1,
          0,
          1,
          0,
          0,
          0,
          1,
          0,
          0,
          0,
          0,
          0,
          0,
          0,
          0,
          0,
          0,
          0,
          0,
          0,
          0,
          0,
          0,
          0,
          0,
          0,
          2,
          0,
          0,
          0,
          0,
          2,
          0,
          0,
          0,
          0,
          0,
          0,
          0,
          0,
          0,
          0,
          0,
          1,
          0,
          0,
          0,
          0,
          0,
          0,
          0,
          0,
          0,
          0,
          0,
          0,
          0,
          1,
          0,
          0,
          0,
          0,
          0,
          2,
          1,
          0,
          0,
          0,
          0,
          0,
          0,
          0,
          1,
          0,
          0,
          0,
          1,
          0,
          0,
          1,
          0,
          0,
          0,
          0,
          0,
          0,
          0,
          1,
          1,
          1,
          0,
          1,
          0,
          0,
          0,
          0,
          0,
          0,
          0,
          0,
          1,
          0,
          0,
          0,
          0,
          1,
          0,
          0,
          0,
          0,
          0,
          1,
          0,
          0,
          1,
          0,
          0,
          0,
          0,
          0,
          0,
          0,
          0,
          0,
          0,
          0,
          0,
          0,
          1,
          0,
          0,
          0,
          0,
          0,
          0,
          0,
          0,
          0,
          0,
          0,
          0,
          0,
          0,
          0,
          0,
          0,
          1,
          0,
          0,
          0,
          0,
          0,
          0,
          0,
          0,
          0,
          1,
          1,
          0,
          0,
          0,
          0,
          0,
          0,
          0,
          0,
          0,
          0,
          0,
          0,
          0,
          0,
          1,
          0,
          0,
          0,
          0,
          0,
          2,
          0,
          0,
          0,
          0,
          0,
          0,
          1,
          0,
          1,
          1,
          0,
          0,
          0,
          0,
          0,
          1,
          0,
          0,
          0,
          0,
          0,
          0,
          0,
          1,
          0,
          1,
          1,
          1,
          0,
          0,
          2,
          0,
          0,
          1,
          0,
          0,
          1,
          0,
          0,
          0,
          0,
          0,
          0,
          0,
          2,
          0,
          0,
          0,
          0,
          1,
          0,
          0,
          0,
          0,
          0,
          1,
          0,
          0,
          0,
          1,
          0,
          0,
          0,
          0,
          0,
          0,
          1,
          0,
          1,
          1,
          0,
          0,
          0,
          0,
          0,
          0,
          0,
          0,
          0,
          0,
          0,
          0,
          0,
          0,
          0,
          0,
          0,
          0,
          0,
          0,
          0,
          0,
          0,
          0,
          0,
          0,
          0,
          0,
          0,
          0,
          1,
          0,
          0,
          0,
          0,
          0,
          0,
          0,
          0,
          1,
          0,
          0,
          0,
          0,
          0,
          0,
          0,
          0,
          1,
          0,
          0,
          0,
          0,
          0,
          0,
          0,
          0,
          0,
          0,
          0,
          0,
          0,
          0,
          1,
          0,
          0,
          0,
          0,
          0,
          0,
          0,
          0,
          0,
          0,
          1,
          0,
          1,
          0,
          0,
          0,
          0,
          0,
          1,
          0,
          0,
          0,
          1,
          0,
          0,
          2,
          1,
          1,
          0,
          0,
          0,
          0,
          0,
          1,
          0,
          0,
          1,
          0,
          1,
          0,
          0,
          0,
          0,
          0,
          0,
          0,
          0,
          0,
          0,
          1,
          0,
          0,
          2,
          0,
          0,
          0,
          0,
          0,
          0,
          0,
          0,
          0,
          0,
          0,
          0,
          0,
          0,
          0,
          0,
          0,
          0,
          0,
          0,
          1,
          0,
          0,
          0,
          0,
          0,
          0,
          0,
          1,
          0,
          0,
          0,
          0,
          0,
          1,
          0,
          0,
          0,
          0,
          0,
          0,
          1,
          0,
          0,
          0,
          1,
          0,
          1,
          0,
          0,
          0,
          0,
          0,
          0,
          0,
          0,
          0,
          0,
          0,
          1,
          1,
          0,
          0,
          0,
          0
         ],
         "x0": " ",
         "xaxis": "x",
         "y": [
          4253,
          2494,
          3138,
          1553,
          2768,
          2993,
          5521,
          5299,
          2819,
          5284,
          1655,
          10701,
          3103,
          10490,
          14323,
          1584,
          5575,
          1728,
          11703,
          10355,
          9944,
          5018,
          2559,
          12591,
          3012,
          4717,
          4478,
          9153,
          2263,
          12430,
          7151,
          1630,
          7841,
          10654,
          2021,
          11013,
          1322,
          15499,
          40748,
          3221,
          5725,
          1495,
          4569,
          6025,
          8876,
          4451,
          7173,
          3853,
          11831,
          3363,
          4495,
          9041,
          11110,
          5587,
          36924,
          7011,
          4698,
          6320,
          9250,
          2850,
          2979,
          7864,
          4094,
          4847,
          2084,
          12968,
          2617,
          7182,
          3949,
          4998,
          2877,
          4858,
          6079,
          2579,
          9895,
          3985,
          2761,
          5732,
          7671,
          2017,
          9106,
          8454,
          14988,
          14451,
          7896,
          21043,
          3722,
          4644,
          4356,
          4495,
          4796,
          15735,
          5595,
          19544,
          6453,
          4967,
          9321,
          8887,
          5079,
          1793,
          2076,
          15111,
          4235,
          5428,
          2224,
          2834,
          1585,
          27173,
          8692,
          5174,
          2846,
          5016,
          6051,
          5993,
          22180,
          6017,
          3004,
          4455,
          6766,
          1703,
          3184,
          11718,
          8339,
          3813,
          4035,
          9083,
          9348,
          4301,
          4532,
          4460,
          8144,
          2092,
          2667,
          2469,
          2986,
          2159,
          5306,
          4159,
          1600,
          3087,
          4050,
          2958,
          7784,
          6875,
          13329,
          7610,
          13354,
          1945,
          1906,
          3239,
          8278,
          7235,
          4317,
          10755,
          6015,
          3967,
          9631,
          3756,
          10317,
          6254,
          9984,
          4745,
          3062,
          3463,
          6562,
          3792,
          1928,
          13189,
          4306,
          1854,
          6309,
          5103,
          35880,
          3005,
          4539,
          4126,
          6571,
          6255,
          3548,
          1795,
          4458,
          3515,
          25518,
          4204,
          4434,
          5203,
          6051,
          6022,
          3448,
          1421,
          5391,
          2670,
          2827,
          5578,
          3935,
          3959,
          16416,
          3904,
          5467,
          5257,
          11435,
          1838,
          4313,
          4226,
          6410,
          6919,
          9237,
          2826,
          4038,
          2792,
          3112,
          5032,
          7004,
          4500,
          1171,
          3697,
          2292,
          5594,
          6901,
          2768,
          6810,
          4899,
          6943,
          4538,
          11620,
          5707,
          3002,
          7843,
          4508,
          1766,
          5008,
          2357,
          6358,
          1469,
          4891,
          5847,
          6798,
          11871,
          3840,
          3843,
          5606,
          15580,
          5389,
          10467,
          3231,
          1732,
          2138,
          4576,
          21660,
          19221,
          2416,
          16496,
          4453,
          23041,
          8075,
          4103,
          7010,
          3624,
          3825,
          8201,
          9553,
          8686,
          34466,
          4847,
          7234,
          3341,
          3047,
          2247,
          19125,
          7857,
          3625,
          2208,
          4150,
          2251,
          2378,
          6254,
          3011,
          9435,
          42668,
          2099,
          6374,
          5063,
          2297,
          18420,
          6390,
          33049,
          3838,
          4197,
          2222,
          17617,
          2807,
          1950,
          1772,
          3939,
          5598,
          13331,
          4811,
          2518,
          8136,
          9392,
          4607,
          9840,
          3907,
          3854,
          5150,
          9348,
          6991,
          2950,
          1818,
          16577,
          6098,
          8304,
          6918,
          6960,
          7109,
          4714,
          5147,
          1870,
          4315,
          7104,
          14936,
          1592,
          4664,
          3063,
          23518,
          25698,
          8552,
          37699,
          11404,
          7775,
          4617,
          7737,
          10456,
          4750,
          7951,
          15265,
          3630,
          2786,
          7531,
          5036,
          12716,
          10649,
          4752,
          3827,
          5402,
          3821,
          2182,
          4175,
          3324,
          3858,
          4560,
          3766,
          2833,
          12371,
          5229,
          5431,
          1320,
          5903,
          2642,
          3598,
          2304,
          2394,
          5400,
          7014,
          4639,
          5028,
          2776,
          5418,
          4126,
          6919,
          6556,
          2580,
          7449,
          8238,
          11257,
          8769,
          7801,
          7014,
          15295,
          5989,
          10556,
          2237,
          2765,
          9893,
          4059,
          3477,
          5007,
          7960,
          4471,
          4813,
          4726,
          6015,
          2504,
          6266,
          2034,
          5360,
          3186,
          2572,
          15101,
          11551,
          6244,
          1402,
          11040,
          3021,
          3331,
          1755,
          2149,
          2099,
          7674,
          6508,
          1871,
          4243,
          6410,
          5623,
          6769,
          14071,
          15391,
          24591,
          28000,
          12566,
          2445,
          3649,
          2133,
          3881,
          2297,
          2501,
          5584,
          2698,
          4248,
          2228,
          5754,
          2559,
          7693,
          2413,
          2415,
          17442,
          2128,
          6628,
          10610,
          4501,
          8568,
          12303,
          5599,
          6278,
          4455,
          4225,
          6190,
          3055,
          1827,
          1343,
          2833,
          9519,
          9591,
          5308,
          6945,
          11251,
          5580,
          6874,
          9078,
          13281,
          4233,
          2119,
          7262,
          4845,
          10210,
          3627,
          1523,
          2588,
          2125,
          2387,
          6696,
          8667,
          17726,
          4935,
          4401,
          3825,
          2419,
          20190,
          7245,
          2344,
          10367,
          6685,
          4664,
          4585,
          1900,
          20732,
          6078,
          2728,
          3867,
          1574,
          18782,
          4787,
          2123,
          3564,
          3214,
          3137,
          13625,
          9845,
          2161,
          6139,
          4142,
          3754,
          4090,
          3658,
          2352,
          3279,
          4676,
          7895,
          2958,
          3242,
          2223,
          7822,
          9206,
          2930,
          4517,
          4286,
          2393,
          4408,
          10341,
          7104,
          7241,
          5227,
          2304,
          3039,
          3211,
          9888,
          1872,
          40939,
          8539,
          5189,
          4561,
          14948,
          2422,
          7804,
          4566,
          3476,
          4786,
          7878,
          2886,
          10122,
          59703,
          5659,
          8959,
          4380,
          20556,
          3736,
          35915,
          6626,
          3619,
          4620,
          7458,
          8717,
          1491,
          5399,
          3347,
          15371,
          4241,
          3955,
          6239,
          1987,
          13873,
          2170,
          2989,
          11309,
          4289,
          5862,
          39266,
          4125,
          3230,
          9521,
          12027,
          8625,
          5703,
          1467,
          19130,
          4572,
          3280,
          4846,
          2927,
          11932,
          3180,
          1487,
          4051,
          2148,
          12181,
          10821,
          4922,
          4802,
          3087,
          2432,
          4734,
          7626,
          6917,
          4033,
          6497,
          4443,
          11517,
          3812,
          5335,
          3690,
          14543,
          5388,
          6854,
          3691,
          10129,
          2196,
          14214,
          3883,
          5560,
          2764,
          4140,
          3110,
          21586,
          4759,
          6797,
          5420,
          9383,
          2407,
          11994,
          3170,
          6049,
          7747,
          4443,
          2683,
          7400,
          10087,
          34319,
          8413,
          2023,
          5159,
          2178,
          10139,
          13971,
          2664,
          8304,
          6469,
          7107,
          7658,
          9807,
          9167,
          5052,
          5477,
          5205,
          2366,
          4581,
          2235,
          6993,
          11443,
          9890,
          4767,
          7208,
          7683,
          6783,
          8071,
          3743,
          8148,
          5389,
          11969,
          3326,
          5226,
          2394,
          8529,
          19901,
          3734,
          15084,
          22405,
          3964,
          2595,
          5009,
          2080,
          4146,
          32898,
          2316,
          12437,
          24010,
          9981,
          4434,
          2516,
          1471,
          14061,
          3854,
          3070,
          3815,
          2547,
          8082,
          2913,
          5927,
          1933,
          6585,
          3866,
          1899,
          5720,
          8815,
          6747,
          15422,
          9114,
          5758,
          3210,
          16527,
          11702,
          5099,
          5625,
          5127,
          25929,
          5657,
          5288,
          4580,
          2959,
          2791,
          5885,
          4673,
          2526,
          5218,
          3972,
          5801,
          10541,
          9350,
          12119,
          8941,
          12521,
          3191,
          3632,
          14497,
          3283,
          5945,
          4459,
          6862,
          4981,
          3038,
          3834,
          4020,
          5746,
          8708,
          18646,
          1418,
          7253,
          9543,
          2166,
          4889,
          20367,
          3024,
          3775,
          6266,
          1917,
          2003,
          7230,
          2801,
          7018,
          2623,
          16530,
          3094,
          3463,
          2312,
          3832,
          8187,
          5501,
          7413,
          4812,
          3747,
          4639,
          1806,
          3673,
          7567,
          3939,
          4229,
          12161,
          4404,
          10038,
          3804,
          7444,
          5323,
          5855,
          5259,
          4076,
          9602,
          3846,
          5071,
          4163,
          4251,
          7655,
          9716,
          3593,
          3933,
          10856,
          4385,
          1869,
          4963,
          8878,
          1957,
          2585,
          6765,
          7243,
          6200,
          7986,
          3578,
          6185,
          4525,
          3808,
          9266,
          1516,
          9949,
          1617,
          8986,
          13679,
          4932,
          2075,
          1924,
          4825,
          14239,
          3085,
          1527,
          3815,
          2522,
          3549,
          4674,
          8237,
          16804,
          4554,
          1921,
          2150,
          4209,
          5620,
          8500,
          16515,
          6526,
          10207,
          1846,
          8947,
          4764,
          5012,
          10575,
          5112,
          4914,
          2893,
          4804,
          3212,
          7874,
          2433,
          4864,
          7002,
          13393,
          5280,
          16755,
          6290,
          9710,
          2890,
          7724,
          9978,
          9689,
          21820,
          3930,
          7573,
          2607,
          14984,
          4529,
          3983,
          4631,
          39136,
          4392,
          9264,
          3721,
          2541,
          2934,
          3474,
          16579,
          5359,
          3171,
          6967,
          3517,
          1750,
          3027,
          2474,
          3404,
          3561,
          3032,
          2424,
          4447,
          3509,
          2433,
          2552,
          30586,
          2583,
          6464,
          13667,
          5404,
          4627,
          9660,
          15729,
          4584,
          3241,
          25903,
          8774,
          17131,
          8616,
          2298,
          3631,
          2369,
          2566,
          43749,
          2293,
          7353,
          7525,
          4268,
          3559,
          4973,
          13768,
          6207,
          2609,
          5155,
          6069,
          3215,
          2069,
          3984,
          10241,
          6186,
          5350,
          5679,
          4134,
          7712,
          2650,
          5844,
          1823,
          5532,
          1805,
          3417,
          11727,
          4133,
          7721,
          5533,
          2657,
          6966,
          5011,
          4133,
          3293,
          4473,
          1814,
          3941,
          1510,
          14643,
          4837,
          1917,
          14538,
          8227,
          6204,
          14046,
          4180,
          5059,
          4434,
          38105,
          5116,
          9752,
          6984,
          5449,
          13215,
          2095,
          17975,
          9069,
          5652,
          3233,
          9547,
          2798,
          10796,
          1758,
          9743,
          2688,
          2231,
          5412,
          4096,
          3778,
          2833,
          4557,
          3486,
          3996,
          8975,
          2072,
          10331,
          3829,
          3868,
          1715,
          4898,
          4717,
          3204,
          4581,
          5094,
          4161,
          6178,
          3434,
          4707,
          5347,
          2209,
          7931,
          3819,
          6562,
          10034,
          7778,
          4206,
          5529,
          6593,
          1442,
          3308,
          2666,
          3574,
          2564,
          11662,
          1994,
          4076,
          2657,
          5061,
          6724,
          5467,
          3608,
          5214,
          2367,
          4745,
          10028,
          4604,
          8169,
          5842,
          18602,
          1662,
          13914,
          3435,
          4981,
          2174,
          5408,
          4201,
          9249,
          19540,
          4326,
          4037,
          15312,
          3445,
          8987,
          13413,
          2320,
          2565,
          9210,
          1824,
          5934,
          2786,
          8331,
          8991,
          3647,
          22355,
          3538,
          11923,
          9863,
          6878,
          4255,
          10245,
          4041,
          5300,
          3978,
          4772,
          6496,
          4259,
          2215,
          4745,
          39746,
          2597,
          3939,
          3099,
          6642,
          9503,
          6246,
          5189,
          13955,
          7953,
          2964,
          4913,
          5012,
          4680,
          5352,
          1826,
          6855,
          7894,
          1711,
          2262,
          2162,
          3060,
          8508,
          7263,
          5448,
          7314,
          18879,
          3318,
          19458,
          5439,
          2708,
          7853,
          6551,
          2783,
          23842,
          2745,
          4545,
          4144,
          7080,
          4257,
          5252,
          8822,
          2404,
          5267,
          5612,
          4792,
          2243,
          2101,
          6874,
          17495,
          7828,
          4559,
          1714,
          5498,
          3541,
          6904,
          10470,
          4664,
          6695,
          7297,
          38475,
          5239,
          17449,
          5662,
          4522,
          5988,
          2894,
          1833,
          3513,
          8508,
          13094,
          4478,
          3973,
          4923,
          3650,
          3434,
          2136,
          7507,
          7004,
          4807,
          3201,
          3350,
          5607,
          7277,
          18899,
          3894,
          3534,
          4766,
          1989,
          12096,
          12353,
          8744,
          5134,
          4133,
          13163,
          3389,
          3117,
          8717,
          8187,
          7734,
          4231,
          1826,
          4717,
          3735,
          11408,
          3292,
          4208,
          7157,
          4536,
          9187,
          12868,
          3204,
          3469,
          2457,
          9499,
          4070,
          4794,
          5305,
          12779,
          4900,
          3401,
          4038,
          5492,
          2356,
          9069,
          9200,
          7709,
          3089,
          6505,
          3333,
          6130,
          10461,
          4042,
          3045,
          6206,
          4089,
          3621,
          3727,
          2116,
          12358,
          2984,
          5618,
          3916,
          2233,
          8490,
          10925,
          7583,
          10132,
          3742,
          3720,
          1776,
          6514,
          6037,
          4363,
          1507,
          4566,
          17270,
          6013,
          3697,
          1910,
          2244,
          4070,
          1887,
          8119,
          2293,
          6398,
          7023,
          6520,
          25011,
          3687,
          4600,
          3732,
          3602,
          3074,
          4659,
          5274,
          1889,
          7410,
          34928,
          33258,
          3295,
          4699,
          2464,
          1706,
          3341,
          2400,
          3708,
          10859,
          5451,
          1570,
          3607,
          4435,
          3125,
          7793,
          10723,
          5552,
          13056,
          3338,
          3576,
          4431,
          3545,
          4399,
          6483,
          10107,
          5264,
          6283,
          3385,
          2738,
          3905,
          6142,
          2293,
          1999,
          4405,
          3594,
          3396,
          5519,
          9309,
          4096,
          5238,
          11735,
          4088,
          2032,
          33041,
          3256,
          4045,
          3553,
          9057,
          4554,
          4129,
          6880,
          1445,
          3304,
          4580,
          1670,
          1881,
          3617,
          2506,
          2262,
          8629,
          24995,
          3146,
          7215,
          5701,
          2880,
          6084,
          8229,
          7343,
          3664,
          2989,
          5261,
          8529,
          6797,
          8524,
          2155,
          1737,
          8577,
          8027,
          5264,
          3681,
          14557,
          12081,
          25190,
          2184,
          9654,
          6226,
          4204,
          2793,
          9365,
          3713,
          4084,
          15448,
          5767,
          2547,
          3026,
          2208,
          19007
         ],
         "y0": " ",
         "yaxis": "y"
        }
       ],
       "layout": {
        "boxmode": "group",
        "legend": {
         "tracegroupgap": 0
        },
        "margin": {
         "t": 60
        },
        "template": {
         "data": {
          "bar": [
           {
            "error_x": {
             "color": "#2a3f5f"
            },
            "error_y": {
             "color": "#2a3f5f"
            },
            "marker": {
             "line": {
              "color": "#E5ECF6",
              "width": 0.5
             }
            },
            "type": "bar"
           }
          ],
          "barpolar": [
           {
            "marker": {
             "line": {
              "color": "#E5ECF6",
              "width": 0.5
             }
            },
            "type": "barpolar"
           }
          ],
          "carpet": [
           {
            "aaxis": {
             "endlinecolor": "#2a3f5f",
             "gridcolor": "white",
             "linecolor": "white",
             "minorgridcolor": "white",
             "startlinecolor": "#2a3f5f"
            },
            "baxis": {
             "endlinecolor": "#2a3f5f",
             "gridcolor": "white",
             "linecolor": "white",
             "minorgridcolor": "white",
             "startlinecolor": "#2a3f5f"
            },
            "type": "carpet"
           }
          ],
          "choropleth": [
           {
            "colorbar": {
             "outlinewidth": 0,
             "ticks": ""
            },
            "type": "choropleth"
           }
          ],
          "contour": [
           {
            "colorbar": {
             "outlinewidth": 0,
             "ticks": ""
            },
            "colorscale": [
             [
              0,
              "#0d0887"
             ],
             [
              0.1111111111111111,
              "#46039f"
             ],
             [
              0.2222222222222222,
              "#7201a8"
             ],
             [
              0.3333333333333333,
              "#9c179e"
             ],
             [
              0.4444444444444444,
              "#bd3786"
             ],
             [
              0.5555555555555556,
              "#d8576b"
             ],
             [
              0.6666666666666666,
              "#ed7953"
             ],
             [
              0.7777777777777778,
              "#fb9f3a"
             ],
             [
              0.8888888888888888,
              "#fdca26"
             ],
             [
              1,
              "#f0f921"
             ]
            ],
            "type": "contour"
           }
          ],
          "contourcarpet": [
           {
            "colorbar": {
             "outlinewidth": 0,
             "ticks": ""
            },
            "type": "contourcarpet"
           }
          ],
          "heatmap": [
           {
            "colorbar": {
             "outlinewidth": 0,
             "ticks": ""
            },
            "colorscale": [
             [
              0,
              "#0d0887"
             ],
             [
              0.1111111111111111,
              "#46039f"
             ],
             [
              0.2222222222222222,
              "#7201a8"
             ],
             [
              0.3333333333333333,
              "#9c179e"
             ],
             [
              0.4444444444444444,
              "#bd3786"
             ],
             [
              0.5555555555555556,
              "#d8576b"
             ],
             [
              0.6666666666666666,
              "#ed7953"
             ],
             [
              0.7777777777777778,
              "#fb9f3a"
             ],
             [
              0.8888888888888888,
              "#fdca26"
             ],
             [
              1,
              "#f0f921"
             ]
            ],
            "type": "heatmap"
           }
          ],
          "heatmapgl": [
           {
            "colorbar": {
             "outlinewidth": 0,
             "ticks": ""
            },
            "colorscale": [
             [
              0,
              "#0d0887"
             ],
             [
              0.1111111111111111,
              "#46039f"
             ],
             [
              0.2222222222222222,
              "#7201a8"
             ],
             [
              0.3333333333333333,
              "#9c179e"
             ],
             [
              0.4444444444444444,
              "#bd3786"
             ],
             [
              0.5555555555555556,
              "#d8576b"
             ],
             [
              0.6666666666666666,
              "#ed7953"
             ],
             [
              0.7777777777777778,
              "#fb9f3a"
             ],
             [
              0.8888888888888888,
              "#fdca26"
             ],
             [
              1,
              "#f0f921"
             ]
            ],
            "type": "heatmapgl"
           }
          ],
          "histogram": [
           {
            "marker": {
             "colorbar": {
              "outlinewidth": 0,
              "ticks": ""
             }
            },
            "type": "histogram"
           }
          ],
          "histogram2d": [
           {
            "colorbar": {
             "outlinewidth": 0,
             "ticks": ""
            },
            "colorscale": [
             [
              0,
              "#0d0887"
             ],
             [
              0.1111111111111111,
              "#46039f"
             ],
             [
              0.2222222222222222,
              "#7201a8"
             ],
             [
              0.3333333333333333,
              "#9c179e"
             ],
             [
              0.4444444444444444,
              "#bd3786"
             ],
             [
              0.5555555555555556,
              "#d8576b"
             ],
             [
              0.6666666666666666,
              "#ed7953"
             ],
             [
              0.7777777777777778,
              "#fb9f3a"
             ],
             [
              0.8888888888888888,
              "#fdca26"
             ],
             [
              1,
              "#f0f921"
             ]
            ],
            "type": "histogram2d"
           }
          ],
          "histogram2dcontour": [
           {
            "colorbar": {
             "outlinewidth": 0,
             "ticks": ""
            },
            "colorscale": [
             [
              0,
              "#0d0887"
             ],
             [
              0.1111111111111111,
              "#46039f"
             ],
             [
              0.2222222222222222,
              "#7201a8"
             ],
             [
              0.3333333333333333,
              "#9c179e"
             ],
             [
              0.4444444444444444,
              "#bd3786"
             ],
             [
              0.5555555555555556,
              "#d8576b"
             ],
             [
              0.6666666666666666,
              "#ed7953"
             ],
             [
              0.7777777777777778,
              "#fb9f3a"
             ],
             [
              0.8888888888888888,
              "#fdca26"
             ],
             [
              1,
              "#f0f921"
             ]
            ],
            "type": "histogram2dcontour"
           }
          ],
          "mesh3d": [
           {
            "colorbar": {
             "outlinewidth": 0,
             "ticks": ""
            },
            "type": "mesh3d"
           }
          ],
          "parcoords": [
           {
            "line": {
             "colorbar": {
              "outlinewidth": 0,
              "ticks": ""
             }
            },
            "type": "parcoords"
           }
          ],
          "pie": [
           {
            "automargin": true,
            "type": "pie"
           }
          ],
          "scatter": [
           {
            "marker": {
             "colorbar": {
              "outlinewidth": 0,
              "ticks": ""
             }
            },
            "type": "scatter"
           }
          ],
          "scatter3d": [
           {
            "line": {
             "colorbar": {
              "outlinewidth": 0,
              "ticks": ""
             }
            },
            "marker": {
             "colorbar": {
              "outlinewidth": 0,
              "ticks": ""
             }
            },
            "type": "scatter3d"
           }
          ],
          "scattercarpet": [
           {
            "marker": {
             "colorbar": {
              "outlinewidth": 0,
              "ticks": ""
             }
            },
            "type": "scattercarpet"
           }
          ],
          "scattergeo": [
           {
            "marker": {
             "colorbar": {
              "outlinewidth": 0,
              "ticks": ""
             }
            },
            "type": "scattergeo"
           }
          ],
          "scattergl": [
           {
            "marker": {
             "colorbar": {
              "outlinewidth": 0,
              "ticks": ""
             }
            },
            "type": "scattergl"
           }
          ],
          "scattermapbox": [
           {
            "marker": {
             "colorbar": {
              "outlinewidth": 0,
              "ticks": ""
             }
            },
            "type": "scattermapbox"
           }
          ],
          "scatterpolar": [
           {
            "marker": {
             "colorbar": {
              "outlinewidth": 0,
              "ticks": ""
             }
            },
            "type": "scatterpolar"
           }
          ],
          "scatterpolargl": [
           {
            "marker": {
             "colorbar": {
              "outlinewidth": 0,
              "ticks": ""
             }
            },
            "type": "scatterpolargl"
           }
          ],
          "scatterternary": [
           {
            "marker": {
             "colorbar": {
              "outlinewidth": 0,
              "ticks": ""
             }
            },
            "type": "scatterternary"
           }
          ],
          "surface": [
           {
            "colorbar": {
             "outlinewidth": 0,
             "ticks": ""
            },
            "colorscale": [
             [
              0,
              "#0d0887"
             ],
             [
              0.1111111111111111,
              "#46039f"
             ],
             [
              0.2222222222222222,
              "#7201a8"
             ],
             [
              0.3333333333333333,
              "#9c179e"
             ],
             [
              0.4444444444444444,
              "#bd3786"
             ],
             [
              0.5555555555555556,
              "#d8576b"
             ],
             [
              0.6666666666666666,
              "#ed7953"
             ],
             [
              0.7777777777777778,
              "#fb9f3a"
             ],
             [
              0.8888888888888888,
              "#fdca26"
             ],
             [
              1,
              "#f0f921"
             ]
            ],
            "type": "surface"
           }
          ],
          "table": [
           {
            "cells": {
             "fill": {
              "color": "#EBF0F8"
             },
             "line": {
              "color": "white"
             }
            },
            "header": {
             "fill": {
              "color": "#C8D4E3"
             },
             "line": {
              "color": "white"
             }
            },
            "type": "table"
           }
          ]
         },
         "layout": {
          "annotationdefaults": {
           "arrowcolor": "#2a3f5f",
           "arrowhead": 0,
           "arrowwidth": 1
          },
          "autotypenumbers": "strict",
          "coloraxis": {
           "colorbar": {
            "outlinewidth": 0,
            "ticks": ""
           }
          },
          "colorscale": {
           "diverging": [
            [
             0,
             "#8e0152"
            ],
            [
             0.1,
             "#c51b7d"
            ],
            [
             0.2,
             "#de77ae"
            ],
            [
             0.3,
             "#f1b6da"
            ],
            [
             0.4,
             "#fde0ef"
            ],
            [
             0.5,
             "#f7f7f7"
            ],
            [
             0.6,
             "#e6f5d0"
            ],
            [
             0.7,
             "#b8e186"
            ],
            [
             0.8,
             "#7fbc41"
            ],
            [
             0.9,
             "#4d9221"
            ],
            [
             1,
             "#276419"
            ]
           ],
           "sequential": [
            [
             0,
             "#0d0887"
            ],
            [
             0.1111111111111111,
             "#46039f"
            ],
            [
             0.2222222222222222,
             "#7201a8"
            ],
            [
             0.3333333333333333,
             "#9c179e"
            ],
            [
             0.4444444444444444,
             "#bd3786"
            ],
            [
             0.5555555555555556,
             "#d8576b"
            ],
            [
             0.6666666666666666,
             "#ed7953"
            ],
            [
             0.7777777777777778,
             "#fb9f3a"
            ],
            [
             0.8888888888888888,
             "#fdca26"
            ],
            [
             1,
             "#f0f921"
            ]
           ],
           "sequentialminus": [
            [
             0,
             "#0d0887"
            ],
            [
             0.1111111111111111,
             "#46039f"
            ],
            [
             0.2222222222222222,
             "#7201a8"
            ],
            [
             0.3333333333333333,
             "#9c179e"
            ],
            [
             0.4444444444444444,
             "#bd3786"
            ],
            [
             0.5555555555555556,
             "#d8576b"
            ],
            [
             0.6666666666666666,
             "#ed7953"
            ],
            [
             0.7777777777777778,
             "#fb9f3a"
            ],
            [
             0.8888888888888888,
             "#fdca26"
            ],
            [
             1,
             "#f0f921"
            ]
           ]
          },
          "colorway": [
           "#636efa",
           "#EF553B",
           "#00cc96",
           "#ab63fa",
           "#FFA15A",
           "#19d3f3",
           "#FF6692",
           "#B6E880",
           "#FF97FF",
           "#FECB52"
          ],
          "font": {
           "color": "#2a3f5f"
          },
          "geo": {
           "bgcolor": "white",
           "lakecolor": "white",
           "landcolor": "#E5ECF6",
           "showlakes": true,
           "showland": true,
           "subunitcolor": "white"
          },
          "hoverlabel": {
           "align": "left"
          },
          "hovermode": "closest",
          "mapbox": {
           "style": "light"
          },
          "paper_bgcolor": "white",
          "plot_bgcolor": "#E5ECF6",
          "polar": {
           "angularaxis": {
            "gridcolor": "white",
            "linecolor": "white",
            "ticks": ""
           },
           "bgcolor": "#E5ECF6",
           "radialaxis": {
            "gridcolor": "white",
            "linecolor": "white",
            "ticks": ""
           }
          },
          "scene": {
           "xaxis": {
            "backgroundcolor": "#E5ECF6",
            "gridcolor": "white",
            "gridwidth": 2,
            "linecolor": "white",
            "showbackground": true,
            "ticks": "",
            "zerolinecolor": "white"
           },
           "yaxis": {
            "backgroundcolor": "#E5ECF6",
            "gridcolor": "white",
            "gridwidth": 2,
            "linecolor": "white",
            "showbackground": true,
            "ticks": "",
            "zerolinecolor": "white"
           },
           "zaxis": {
            "backgroundcolor": "#E5ECF6",
            "gridcolor": "white",
            "gridwidth": 2,
            "linecolor": "white",
            "showbackground": true,
            "ticks": "",
            "zerolinecolor": "white"
           }
          },
          "shapedefaults": {
           "line": {
            "color": "#2a3f5f"
           }
          },
          "ternary": {
           "aaxis": {
            "gridcolor": "white",
            "linecolor": "white",
            "ticks": ""
           },
           "baxis": {
            "gridcolor": "white",
            "linecolor": "white",
            "ticks": ""
           },
           "bgcolor": "#E5ECF6",
           "caxis": {
            "gridcolor": "white",
            "linecolor": "white",
            "ticks": ""
           }
          },
          "title": {
           "x": 0.05
          },
          "xaxis": {
           "automargin": true,
           "gridcolor": "white",
           "linecolor": "white",
           "ticks": "",
           "title": {
            "standoff": 15
           },
           "zerolinecolor": "white",
           "zerolinewidth": 2
          },
          "yaxis": {
           "automargin": true,
           "gridcolor": "white",
           "linecolor": "white",
           "ticks": "",
           "title": {
            "standoff": 15
           },
           "zerolinecolor": "white",
           "zerolinewidth": 2
          }
         }
        },
        "xaxis": {
         "anchor": "y",
         "domain": [
          0,
          1
         ],
         "title": {
          "text": "children_group"
         }
        },
        "yaxis": {
         "anchor": "x",
         "domain": [
          0,
          1
         ],
         "range": [
          0,
          15000
         ],
         "title": {
          "text": "charges"
         }
        }
       }
      },
      "text/html": [
       "<div>                            <div id=\"080d15da-df51-40f3-a01a-afaafc541e33\" class=\"plotly-graph-div\" style=\"height:525px; width:100%;\"></div>            <script type=\"text/javascript\">                require([\"plotly\"], function(Plotly) {                    window.PLOTLYENV=window.PLOTLYENV || {};                                    if (document.getElementById(\"080d15da-df51-40f3-a01a-afaafc541e33\")) {                    Plotly.newPlot(                        \"080d15da-df51-40f3-a01a-afaafc541e33\",                        [{\"alignmentgroup\": \"True\", \"hovertemplate\": \"children_group=%{x}<br>charges=%{y}<extra></extra>\", \"legendgroup\": \"\", \"marker\": {\"color\": \"#636efa\"}, \"name\": \"\", \"notched\": false, \"offsetgroup\": \"\", \"orientation\": \"v\", \"showlegend\": false, \"type\": \"box\", \"x\": [0, 0, 1, 0, 0, 0, 0, 1, 0, 0, 0, 0, 0, 0, 0, 0, 0, 0, 0, 0, 0, 0, 0, 0, 0, 1, 0, 0, 0, 0, 0, 0, 0, 0, 0, 1, 0, 0, 0, 0, 0, 0, 0, 0, 0, 0, 0, 0, 0, 0, 0, 0, 0, 1, 0, 0, 0, 0, 0, 1, 1, 0, 0, 0, 0, 0, 0, 0, 1, 0, 2, 1, 0, 0, 0, 0, 0, 0, 0, 0, 0, 0, 1, 0, 0, 0, 0, 0, 0, 0, 0, 1, 0, 0, 0, 1, 0, 0, 0, 0, 0, 1, 0, 0, 0, 0, 0, 0, 0, 0, 0, 0, 1, 0, 0, 0, 0, 0, 0, 0, 0, 0, 1, 0, 0, 0, 0, 0, 0, 0, 0, 0, 0, 0, 0, 0, 1, 0, 0, 0, 0, 0, 1, 1, 1, 0, 0, 0, 0, 0, 1, 0, 0, 0, 0, 0, 0, 1, 0, 0, 0, 0, 0, 1, 1, 0, 1, 0, 0, 0, 0, 0, 0, 0, 0, 0, 1, 0, 0, 1, 0, 0, 1, 0, 1, 0, 0, 0, 0, 0, 0, 0, 0, 0, 0, 0, 0, 0, 0, 0, 0, 0, 0, 0, 0, 0, 0, 0, 1, 0, 0, 0, 0, 0, 0, 0, 0, 0, 0, 1, 0, 0, 1, 0, 0, 0, 0, 0, 1, 0, 0, 0, 0, 0, 0, 0, 0, 0, 0, 0, 1, 0, 0, 0, 0, 0, 0, 0, 0, 0, 1, 0, 1, 0, 0, 1, 0, 0, 0, 1, 0, 1, 1, 0, 1, 0, 0, 0, 0, 0, 0, 0, 0, 0, 0, 0, 0, 0, 1, 0, 0, 0, 0, 0, 0, 0, 1, 0, 0, 0, 0, 1, 0, 0, 0, 1, 0, 1, 1, 0, 0, 0, 0, 0, 0, 0, 0, 0, 0, 1, 0, 0, 0, 0, 0, 0, 0, 0, 1, 0, 0, 0, 0, 0, 0, 0, 0, 0, 0, 0, 0, 0, 0, 0, 0, 0, 0, 0, 0, 0, 0, 1, 1, 0, 0, 0, 0, 0, 0, 0, 0, 0, 0, 1, 1, 0, 0, 0, 0, 0, 0, 0, 0, 1, 0, 0, 1, 0, 0, 0, 0, 0, 0, 1, 0, 1, 0, 0, 0, 0, 0, 0, 0, 0, 0, 0, 1, 1, 0, 0, 0, 0, 0, 1, 0, 0, 0, 0, 0, 0, 1, 0, 0, 0, 0, 1, 0, 0, 0, 0, 2, 0, 0, 0, 0, 0, 0, 0, 0, 0, 0, 0, 2, 0, 0, 0, 1, 0, 0, 0, 0, 0, 1, 0, 1, 2, 0, 0, 0, 0, 0, 0, 0, 0, 0, 0, 0, 1, 0, 0, 0, 0, 0, 0, 0, 0, 1, 1, 0, 0, 0, 0, 0, 0, 0, 0, 0, 0, 0, 0, 0, 1, 0, 0, 0, 0, 0, 1, 0, 0, 0, 1, 0, 1, 0, 0, 0, 0, 0, 0, 0, 1, 0, 0, 0, 0, 0, 0, 0, 0, 0, 0, 1, 0, 0, 0, 0, 0, 0, 0, 0, 0, 0, 0, 0, 0, 0, 0, 0, 0, 0, 0, 0, 0, 0, 0, 0, 0, 0, 0, 0, 0, 0, 1, 0, 0, 0, 1, 0, 0, 0, 0, 0, 0, 0, 0, 0, 0, 0, 0, 0, 0, 0, 0, 0, 1, 0, 0, 0, 0, 0, 0, 0, 0, 0, 2, 0, 0, 0, 0, 0, 0, 0, 0, 0, 0, 0, 0, 0, 0, 0, 0, 0, 1, 0, 0, 0, 0, 0, 0, 0, 0, 0, 0, 0, 0, 0, 0, 0, 0, 1, 0, 0, 0, 0, 0, 0, 0, 0, 0, 1, 0, 0, 0, 0, 0, 0, 0, 1, 0, 0, 0, 0, 1, 0, 0, 0, 0, 0, 0, 0, 0, 0, 0, 0, 0, 1, 2, 1, 0, 1, 0, 1, 0, 1, 0, 0, 0, 0, 0, 0, 0, 0, 0, 0, 0, 1, 1, 0, 0, 0, 0, 0, 0, 0, 0, 0, 1, 0, 0, 0, 0, 0, 1, 1, 1, 0, 0, 0, 0, 0, 0, 0, 0, 0, 0, 0, 0, 0, 0, 0, 0, 0, 0, 0, 0, 0, 0, 0, 0, 0, 0, 0, 0, 1, 1, 0, 0, 0, 0, 0, 0, 0, 0, 0, 0, 0, 0, 1, 0, 0, 0, 1, 0, 0, 0, 0, 1, 0, 1, 0, 1, 0, 0, 0, 1, 0, 0, 0, 0, 0, 0, 0, 0, 0, 0, 0, 0, 0, 0, 0, 1, 0, 1, 0, 1, 0, 0, 0, 0, 0, 0, 0, 0, 0, 0, 0, 1, 0, 0, 0, 0, 1, 0, 0, 1, 0, 1, 0, 0, 0, 0, 1, 0, 0, 1, 0, 0, 0, 0, 0, 0, 0, 0, 0, 0, 0, 0, 0, 0, 0, 0, 0, 0, 0, 0, 0, 1, 1, 0, 0, 0, 0, 0, 1, 0, 0, 0, 0, 0, 0, 0, 0, 0, 0, 1, 0, 0, 0, 0, 0, 0, 0, 0, 0, 0, 0, 0, 0, 0, 0, 0, 0, 0, 0, 0, 0, 0, 0, 0, 0, 1, 0, 0, 0, 0, 0, 0, 1, 0, 0, 0, 0, 0, 0, 0, 1, 0, 0, 0, 0, 1, 0, 0, 2, 0, 0, 1, 0, 0, 1, 1, 0, 0, 0, 0, 0, 0, 1, 0, 0, 0, 0, 0, 0, 0, 0, 0, 0, 1, 0, 0, 0, 1, 0, 1, 0, 0, 0, 1, 0, 0, 0, 0, 0, 0, 0, 0, 0, 0, 0, 0, 0, 0, 0, 0, 0, 0, 0, 2, 0, 0, 0, 0, 2, 0, 0, 0, 0, 0, 0, 0, 0, 0, 0, 0, 1, 0, 0, 0, 0, 0, 0, 0, 0, 0, 0, 0, 0, 0, 1, 0, 0, 0, 0, 0, 2, 1, 0, 0, 0, 0, 0, 0, 0, 1, 0, 0, 0, 1, 0, 0, 1, 0, 0, 0, 0, 0, 0, 0, 1, 1, 1, 0, 1, 0, 0, 0, 0, 0, 0, 0, 0, 1, 0, 0, 0, 0, 1, 0, 0, 0, 0, 0, 1, 0, 0, 1, 0, 0, 0, 0, 0, 0, 0, 0, 0, 0, 0, 0, 0, 1, 0, 0, 0, 0, 0, 0, 0, 0, 0, 0, 0, 0, 0, 0, 0, 0, 0, 1, 0, 0, 0, 0, 0, 0, 0, 0, 0, 1, 1, 0, 0, 0, 0, 0, 0, 0, 0, 0, 0, 0, 0, 0, 0, 1, 0, 0, 0, 0, 0, 2, 0, 0, 0, 0, 0, 0, 1, 0, 1, 1, 0, 0, 0, 0, 0, 1, 0, 0, 0, 0, 0, 0, 0, 1, 0, 1, 1, 1, 0, 0, 2, 0, 0, 1, 0, 0, 1, 0, 0, 0, 0, 0, 0, 0, 2, 0, 0, 0, 0, 1, 0, 0, 0, 0, 0, 1, 0, 0, 0, 1, 0, 0, 0, 0, 0, 0, 1, 0, 1, 1, 0, 0, 0, 0, 0, 0, 0, 0, 0, 0, 0, 0, 0, 0, 0, 0, 0, 0, 0, 0, 0, 0, 0, 0, 0, 0, 0, 0, 0, 0, 1, 0, 0, 0, 0, 0, 0, 0, 0, 1, 0, 0, 0, 0, 0, 0, 0, 0, 1, 0, 0, 0, 0, 0, 0, 0, 0, 0, 0, 0, 0, 0, 0, 1, 0, 0, 0, 0, 0, 0, 0, 0, 0, 0, 1, 0, 1, 0, 0, 0, 0, 0, 1, 0, 0, 0, 1, 0, 0, 2, 1, 1, 0, 0, 0, 0, 0, 1, 0, 0, 1, 0, 1, 0, 0, 0, 0, 0, 0, 0, 0, 0, 0, 1, 0, 0, 2, 0, 0, 0, 0, 0, 0, 0, 0, 0, 0, 0, 0, 0, 0, 0, 0, 0, 0, 0, 0, 1, 0, 0, 0, 0, 0, 0, 0, 1, 0, 0, 0, 0, 0, 1, 0, 0, 0, 0, 0, 0, 1, 0, 0, 0, 1, 0, 1, 0, 0, 0, 0, 0, 0, 0, 0, 0, 0, 0, 1, 1, 0, 0, 0, 0], \"x0\": \" \", \"xaxis\": \"x\", \"y\": [4253, 2494, 3138, 1553, 2768, 2993, 5521, 5299, 2819, 5284, 1655, 10701, 3103, 10490, 14323, 1584, 5575, 1728, 11703, 10355, 9944, 5018, 2559, 12591, 3012, 4717, 4478, 9153, 2263, 12430, 7151, 1630, 7841, 10654, 2021, 11013, 1322, 15499, 40748, 3221, 5725, 1495, 4569, 6025, 8876, 4451, 7173, 3853, 11831, 3363, 4495, 9041, 11110, 5587, 36924, 7011, 4698, 6320, 9250, 2850, 2979, 7864, 4094, 4847, 2084, 12968, 2617, 7182, 3949, 4998, 2877, 4858, 6079, 2579, 9895, 3985, 2761, 5732, 7671, 2017, 9106, 8454, 14988, 14451, 7896, 21043, 3722, 4644, 4356, 4495, 4796, 15735, 5595, 19544, 6453, 4967, 9321, 8887, 5079, 1793, 2076, 15111, 4235, 5428, 2224, 2834, 1585, 27173, 8692, 5174, 2846, 5016, 6051, 5993, 22180, 6017, 3004, 4455, 6766, 1703, 3184, 11718, 8339, 3813, 4035, 9083, 9348, 4301, 4532, 4460, 8144, 2092, 2667, 2469, 2986, 2159, 5306, 4159, 1600, 3087, 4050, 2958, 7784, 6875, 13329, 7610, 13354, 1945, 1906, 3239, 8278, 7235, 4317, 10755, 6015, 3967, 9631, 3756, 10317, 6254, 9984, 4745, 3062, 3463, 6562, 3792, 1928, 13189, 4306, 1854, 6309, 5103, 35880, 3005, 4539, 4126, 6571, 6255, 3548, 1795, 4458, 3515, 25518, 4204, 4434, 5203, 6051, 6022, 3448, 1421, 5391, 2670, 2827, 5578, 3935, 3959, 16416, 3904, 5467, 5257, 11435, 1838, 4313, 4226, 6410, 6919, 9237, 2826, 4038, 2792, 3112, 5032, 7004, 4500, 1171, 3697, 2292, 5594, 6901, 2768, 6810, 4899, 6943, 4538, 11620, 5707, 3002, 7843, 4508, 1766, 5008, 2357, 6358, 1469, 4891, 5847, 6798, 11871, 3840, 3843, 5606, 15580, 5389, 10467, 3231, 1732, 2138, 4576, 21660, 19221, 2416, 16496, 4453, 23041, 8075, 4103, 7010, 3624, 3825, 8201, 9553, 8686, 34466, 4847, 7234, 3341, 3047, 2247, 19125, 7857, 3625, 2208, 4150, 2251, 2378, 6254, 3011, 9435, 42668, 2099, 6374, 5063, 2297, 18420, 6390, 33049, 3838, 4197, 2222, 17617, 2807, 1950, 1772, 3939, 5598, 13331, 4811, 2518, 8136, 9392, 4607, 9840, 3907, 3854, 5150, 9348, 6991, 2950, 1818, 16577, 6098, 8304, 6918, 6960, 7109, 4714, 5147, 1870, 4315, 7104, 14936, 1592, 4664, 3063, 23518, 25698, 8552, 37699, 11404, 7775, 4617, 7737, 10456, 4750, 7951, 15265, 3630, 2786, 7531, 5036, 12716, 10649, 4752, 3827, 5402, 3821, 2182, 4175, 3324, 3858, 4560, 3766, 2833, 12371, 5229, 5431, 1320, 5903, 2642, 3598, 2304, 2394, 5400, 7014, 4639, 5028, 2776, 5418, 4126, 6919, 6556, 2580, 7449, 8238, 11257, 8769, 7801, 7014, 15295, 5989, 10556, 2237, 2765, 9893, 4059, 3477, 5007, 7960, 4471, 4813, 4726, 6015, 2504, 6266, 2034, 5360, 3186, 2572, 15101, 11551, 6244, 1402, 11040, 3021, 3331, 1755, 2149, 2099, 7674, 6508, 1871, 4243, 6410, 5623, 6769, 14071, 15391, 24591, 28000, 12566, 2445, 3649, 2133, 3881, 2297, 2501, 5584, 2698, 4248, 2228, 5754, 2559, 7693, 2413, 2415, 17442, 2128, 6628, 10610, 4501, 8568, 12303, 5599, 6278, 4455, 4225, 6190, 3055, 1827, 1343, 2833, 9519, 9591, 5308, 6945, 11251, 5580, 6874, 9078, 13281, 4233, 2119, 7262, 4845, 10210, 3627, 1523, 2588, 2125, 2387, 6696, 8667, 17726, 4935, 4401, 3825, 2419, 20190, 7245, 2344, 10367, 6685, 4664, 4585, 1900, 20732, 6078, 2728, 3867, 1574, 18782, 4787, 2123, 3564, 3214, 3137, 13625, 9845, 2161, 6139, 4142, 3754, 4090, 3658, 2352, 3279, 4676, 7895, 2958, 3242, 2223, 7822, 9206, 2930, 4517, 4286, 2393, 4408, 10341, 7104, 7241, 5227, 2304, 3039, 3211, 9888, 1872, 40939, 8539, 5189, 4561, 14948, 2422, 7804, 4566, 3476, 4786, 7878, 2886, 10122, 59703, 5659, 8959, 4380, 20556, 3736, 35915, 6626, 3619, 4620, 7458, 8717, 1491, 5399, 3347, 15371, 4241, 3955, 6239, 1987, 13873, 2170, 2989, 11309, 4289, 5862, 39266, 4125, 3230, 9521, 12027, 8625, 5703, 1467, 19130, 4572, 3280, 4846, 2927, 11932, 3180, 1487, 4051, 2148, 12181, 10821, 4922, 4802, 3087, 2432, 4734, 7626, 6917, 4033, 6497, 4443, 11517, 3812, 5335, 3690, 14543, 5388, 6854, 3691, 10129, 2196, 14214, 3883, 5560, 2764, 4140, 3110, 21586, 4759, 6797, 5420, 9383, 2407, 11994, 3170, 6049, 7747, 4443, 2683, 7400, 10087, 34319, 8413, 2023, 5159, 2178, 10139, 13971, 2664, 8304, 6469, 7107, 7658, 9807, 9167, 5052, 5477, 5205, 2366, 4581, 2235, 6993, 11443, 9890, 4767, 7208, 7683, 6783, 8071, 3743, 8148, 5389, 11969, 3326, 5226, 2394, 8529, 19901, 3734, 15084, 22405, 3964, 2595, 5009, 2080, 4146, 32898, 2316, 12437, 24010, 9981, 4434, 2516, 1471, 14061, 3854, 3070, 3815, 2547, 8082, 2913, 5927, 1933, 6585, 3866, 1899, 5720, 8815, 6747, 15422, 9114, 5758, 3210, 16527, 11702, 5099, 5625, 5127, 25929, 5657, 5288, 4580, 2959, 2791, 5885, 4673, 2526, 5218, 3972, 5801, 10541, 9350, 12119, 8941, 12521, 3191, 3632, 14497, 3283, 5945, 4459, 6862, 4981, 3038, 3834, 4020, 5746, 8708, 18646, 1418, 7253, 9543, 2166, 4889, 20367, 3024, 3775, 6266, 1917, 2003, 7230, 2801, 7018, 2623, 16530, 3094, 3463, 2312, 3832, 8187, 5501, 7413, 4812, 3747, 4639, 1806, 3673, 7567, 3939, 4229, 12161, 4404, 10038, 3804, 7444, 5323, 5855, 5259, 4076, 9602, 3846, 5071, 4163, 4251, 7655, 9716, 3593, 3933, 10856, 4385, 1869, 4963, 8878, 1957, 2585, 6765, 7243, 6200, 7986, 3578, 6185, 4525, 3808, 9266, 1516, 9949, 1617, 8986, 13679, 4932, 2075, 1924, 4825, 14239, 3085, 1527, 3815, 2522, 3549, 4674, 8237, 16804, 4554, 1921, 2150, 4209, 5620, 8500, 16515, 6526, 10207, 1846, 8947, 4764, 5012, 10575, 5112, 4914, 2893, 4804, 3212, 7874, 2433, 4864, 7002, 13393, 5280, 16755, 6290, 9710, 2890, 7724, 9978, 9689, 21820, 3930, 7573, 2607, 14984, 4529, 3983, 4631, 39136, 4392, 9264, 3721, 2541, 2934, 3474, 16579, 5359, 3171, 6967, 3517, 1750, 3027, 2474, 3404, 3561, 3032, 2424, 4447, 3509, 2433, 2552, 30586, 2583, 6464, 13667, 5404, 4627, 9660, 15729, 4584, 3241, 25903, 8774, 17131, 8616, 2298, 3631, 2369, 2566, 43749, 2293, 7353, 7525, 4268, 3559, 4973, 13768, 6207, 2609, 5155, 6069, 3215, 2069, 3984, 10241, 6186, 5350, 5679, 4134, 7712, 2650, 5844, 1823, 5532, 1805, 3417, 11727, 4133, 7721, 5533, 2657, 6966, 5011, 4133, 3293, 4473, 1814, 3941, 1510, 14643, 4837, 1917, 14538, 8227, 6204, 14046, 4180, 5059, 4434, 38105, 5116, 9752, 6984, 5449, 13215, 2095, 17975, 9069, 5652, 3233, 9547, 2798, 10796, 1758, 9743, 2688, 2231, 5412, 4096, 3778, 2833, 4557, 3486, 3996, 8975, 2072, 10331, 3829, 3868, 1715, 4898, 4717, 3204, 4581, 5094, 4161, 6178, 3434, 4707, 5347, 2209, 7931, 3819, 6562, 10034, 7778, 4206, 5529, 6593, 1442, 3308, 2666, 3574, 2564, 11662, 1994, 4076, 2657, 5061, 6724, 5467, 3608, 5214, 2367, 4745, 10028, 4604, 8169, 5842, 18602, 1662, 13914, 3435, 4981, 2174, 5408, 4201, 9249, 19540, 4326, 4037, 15312, 3445, 8987, 13413, 2320, 2565, 9210, 1824, 5934, 2786, 8331, 8991, 3647, 22355, 3538, 11923, 9863, 6878, 4255, 10245, 4041, 5300, 3978, 4772, 6496, 4259, 2215, 4745, 39746, 2597, 3939, 3099, 6642, 9503, 6246, 5189, 13955, 7953, 2964, 4913, 5012, 4680, 5352, 1826, 6855, 7894, 1711, 2262, 2162, 3060, 8508, 7263, 5448, 7314, 18879, 3318, 19458, 5439, 2708, 7853, 6551, 2783, 23842, 2745, 4545, 4144, 7080, 4257, 5252, 8822, 2404, 5267, 5612, 4792, 2243, 2101, 6874, 17495, 7828, 4559, 1714, 5498, 3541, 6904, 10470, 4664, 6695, 7297, 38475, 5239, 17449, 5662, 4522, 5988, 2894, 1833, 3513, 8508, 13094, 4478, 3973, 4923, 3650, 3434, 2136, 7507, 7004, 4807, 3201, 3350, 5607, 7277, 18899, 3894, 3534, 4766, 1989, 12096, 12353, 8744, 5134, 4133, 13163, 3389, 3117, 8717, 8187, 7734, 4231, 1826, 4717, 3735, 11408, 3292, 4208, 7157, 4536, 9187, 12868, 3204, 3469, 2457, 9499, 4070, 4794, 5305, 12779, 4900, 3401, 4038, 5492, 2356, 9069, 9200, 7709, 3089, 6505, 3333, 6130, 10461, 4042, 3045, 6206, 4089, 3621, 3727, 2116, 12358, 2984, 5618, 3916, 2233, 8490, 10925, 7583, 10132, 3742, 3720, 1776, 6514, 6037, 4363, 1507, 4566, 17270, 6013, 3697, 1910, 2244, 4070, 1887, 8119, 2293, 6398, 7023, 6520, 25011, 3687, 4600, 3732, 3602, 3074, 4659, 5274, 1889, 7410, 34928, 33258, 3295, 4699, 2464, 1706, 3341, 2400, 3708, 10859, 5451, 1570, 3607, 4435, 3125, 7793, 10723, 5552, 13056, 3338, 3576, 4431, 3545, 4399, 6483, 10107, 5264, 6283, 3385, 2738, 3905, 6142, 2293, 1999, 4405, 3594, 3396, 5519, 9309, 4096, 5238, 11735, 4088, 2032, 33041, 3256, 4045, 3553, 9057, 4554, 4129, 6880, 1445, 3304, 4580, 1670, 1881, 3617, 2506, 2262, 8629, 24995, 3146, 7215, 5701, 2880, 6084, 8229, 7343, 3664, 2989, 5261, 8529, 6797, 8524, 2155, 1737, 8577, 8027, 5264, 3681, 14557, 12081, 25190, 2184, 9654, 6226, 4204, 2793, 9365, 3713, 4084, 15448, 5767, 2547, 3026, 2208, 19007], \"y0\": \" \", \"yaxis\": \"y\"}],                        {\"boxmode\": \"group\", \"legend\": {\"tracegroupgap\": 0}, \"margin\": {\"t\": 60}, \"template\": {\"data\": {\"bar\": [{\"error_x\": {\"color\": \"#2a3f5f\"}, \"error_y\": {\"color\": \"#2a3f5f\"}, \"marker\": {\"line\": {\"color\": \"#E5ECF6\", \"width\": 0.5}}, \"type\": \"bar\"}], \"barpolar\": [{\"marker\": {\"line\": {\"color\": \"#E5ECF6\", \"width\": 0.5}}, \"type\": \"barpolar\"}], \"carpet\": [{\"aaxis\": {\"endlinecolor\": \"#2a3f5f\", \"gridcolor\": \"white\", \"linecolor\": \"white\", \"minorgridcolor\": \"white\", \"startlinecolor\": \"#2a3f5f\"}, \"baxis\": {\"endlinecolor\": \"#2a3f5f\", \"gridcolor\": \"white\", \"linecolor\": \"white\", \"minorgridcolor\": \"white\", \"startlinecolor\": \"#2a3f5f\"}, \"type\": \"carpet\"}], \"choropleth\": [{\"colorbar\": {\"outlinewidth\": 0, \"ticks\": \"\"}, \"type\": \"choropleth\"}], \"contour\": [{\"colorbar\": {\"outlinewidth\": 0, \"ticks\": \"\"}, \"colorscale\": [[0.0, \"#0d0887\"], [0.1111111111111111, \"#46039f\"], [0.2222222222222222, \"#7201a8\"], [0.3333333333333333, \"#9c179e\"], [0.4444444444444444, \"#bd3786\"], [0.5555555555555556, \"#d8576b\"], [0.6666666666666666, \"#ed7953\"], [0.7777777777777778, \"#fb9f3a\"], [0.8888888888888888, \"#fdca26\"], [1.0, \"#f0f921\"]], \"type\": \"contour\"}], \"contourcarpet\": [{\"colorbar\": {\"outlinewidth\": 0, \"ticks\": \"\"}, \"type\": \"contourcarpet\"}], \"heatmap\": [{\"colorbar\": {\"outlinewidth\": 0, \"ticks\": \"\"}, \"colorscale\": [[0.0, \"#0d0887\"], [0.1111111111111111, \"#46039f\"], [0.2222222222222222, \"#7201a8\"], [0.3333333333333333, \"#9c179e\"], [0.4444444444444444, \"#bd3786\"], [0.5555555555555556, \"#d8576b\"], [0.6666666666666666, \"#ed7953\"], [0.7777777777777778, \"#fb9f3a\"], [0.8888888888888888, \"#fdca26\"], [1.0, \"#f0f921\"]], \"type\": \"heatmap\"}], \"heatmapgl\": [{\"colorbar\": {\"outlinewidth\": 0, \"ticks\": \"\"}, \"colorscale\": [[0.0, \"#0d0887\"], [0.1111111111111111, \"#46039f\"], [0.2222222222222222, \"#7201a8\"], [0.3333333333333333, \"#9c179e\"], [0.4444444444444444, \"#bd3786\"], [0.5555555555555556, \"#d8576b\"], [0.6666666666666666, \"#ed7953\"], [0.7777777777777778, \"#fb9f3a\"], [0.8888888888888888, \"#fdca26\"], [1.0, \"#f0f921\"]], \"type\": \"heatmapgl\"}], \"histogram\": [{\"marker\": {\"colorbar\": {\"outlinewidth\": 0, \"ticks\": \"\"}}, \"type\": \"histogram\"}], \"histogram2d\": [{\"colorbar\": {\"outlinewidth\": 0, \"ticks\": \"\"}, \"colorscale\": [[0.0, \"#0d0887\"], [0.1111111111111111, \"#46039f\"], [0.2222222222222222, \"#7201a8\"], [0.3333333333333333, \"#9c179e\"], [0.4444444444444444, \"#bd3786\"], [0.5555555555555556, \"#d8576b\"], [0.6666666666666666, \"#ed7953\"], [0.7777777777777778, \"#fb9f3a\"], [0.8888888888888888, \"#fdca26\"], [1.0, \"#f0f921\"]], \"type\": \"histogram2d\"}], \"histogram2dcontour\": [{\"colorbar\": {\"outlinewidth\": 0, \"ticks\": \"\"}, \"colorscale\": [[0.0, \"#0d0887\"], [0.1111111111111111, \"#46039f\"], [0.2222222222222222, \"#7201a8\"], [0.3333333333333333, \"#9c179e\"], [0.4444444444444444, \"#bd3786\"], [0.5555555555555556, \"#d8576b\"], [0.6666666666666666, \"#ed7953\"], [0.7777777777777778, \"#fb9f3a\"], [0.8888888888888888, \"#fdca26\"], [1.0, \"#f0f921\"]], \"type\": \"histogram2dcontour\"}], \"mesh3d\": [{\"colorbar\": {\"outlinewidth\": 0, \"ticks\": \"\"}, \"type\": \"mesh3d\"}], \"parcoords\": [{\"line\": {\"colorbar\": {\"outlinewidth\": 0, \"ticks\": \"\"}}, \"type\": \"parcoords\"}], \"pie\": [{\"automargin\": true, \"type\": \"pie\"}], \"scatter\": [{\"marker\": {\"colorbar\": {\"outlinewidth\": 0, \"ticks\": \"\"}}, \"type\": \"scatter\"}], \"scatter3d\": [{\"line\": {\"colorbar\": {\"outlinewidth\": 0, \"ticks\": \"\"}}, \"marker\": {\"colorbar\": {\"outlinewidth\": 0, \"ticks\": \"\"}}, \"type\": \"scatter3d\"}], \"scattercarpet\": [{\"marker\": {\"colorbar\": {\"outlinewidth\": 0, \"ticks\": \"\"}}, \"type\": \"scattercarpet\"}], \"scattergeo\": [{\"marker\": {\"colorbar\": {\"outlinewidth\": 0, \"ticks\": \"\"}}, \"type\": \"scattergeo\"}], \"scattergl\": [{\"marker\": {\"colorbar\": {\"outlinewidth\": 0, \"ticks\": \"\"}}, \"type\": \"scattergl\"}], \"scattermapbox\": [{\"marker\": {\"colorbar\": {\"outlinewidth\": 0, \"ticks\": \"\"}}, \"type\": \"scattermapbox\"}], \"scatterpolar\": [{\"marker\": {\"colorbar\": {\"outlinewidth\": 0, \"ticks\": \"\"}}, \"type\": \"scatterpolar\"}], \"scatterpolargl\": [{\"marker\": {\"colorbar\": {\"outlinewidth\": 0, \"ticks\": \"\"}}, \"type\": \"scatterpolargl\"}], \"scatterternary\": [{\"marker\": {\"colorbar\": {\"outlinewidth\": 0, \"ticks\": \"\"}}, \"type\": \"scatterternary\"}], \"surface\": [{\"colorbar\": {\"outlinewidth\": 0, \"ticks\": \"\"}, \"colorscale\": [[0.0, \"#0d0887\"], [0.1111111111111111, \"#46039f\"], [0.2222222222222222, \"#7201a8\"], [0.3333333333333333, \"#9c179e\"], [0.4444444444444444, \"#bd3786\"], [0.5555555555555556, \"#d8576b\"], [0.6666666666666666, \"#ed7953\"], [0.7777777777777778, \"#fb9f3a\"], [0.8888888888888888, \"#fdca26\"], [1.0, \"#f0f921\"]], \"type\": \"surface\"}], \"table\": [{\"cells\": {\"fill\": {\"color\": \"#EBF0F8\"}, \"line\": {\"color\": \"white\"}}, \"header\": {\"fill\": {\"color\": \"#C8D4E3\"}, \"line\": {\"color\": \"white\"}}, \"type\": \"table\"}]}, \"layout\": {\"annotationdefaults\": {\"arrowcolor\": \"#2a3f5f\", \"arrowhead\": 0, \"arrowwidth\": 1}, \"autotypenumbers\": \"strict\", \"coloraxis\": {\"colorbar\": {\"outlinewidth\": 0, \"ticks\": \"\"}}, \"colorscale\": {\"diverging\": [[0, \"#8e0152\"], [0.1, \"#c51b7d\"], [0.2, \"#de77ae\"], [0.3, \"#f1b6da\"], [0.4, \"#fde0ef\"], [0.5, \"#f7f7f7\"], [0.6, \"#e6f5d0\"], [0.7, \"#b8e186\"], [0.8, \"#7fbc41\"], [0.9, \"#4d9221\"], [1, \"#276419\"]], \"sequential\": [[0.0, \"#0d0887\"], [0.1111111111111111, \"#46039f\"], [0.2222222222222222, \"#7201a8\"], [0.3333333333333333, \"#9c179e\"], [0.4444444444444444, \"#bd3786\"], [0.5555555555555556, \"#d8576b\"], [0.6666666666666666, \"#ed7953\"], [0.7777777777777778, \"#fb9f3a\"], [0.8888888888888888, \"#fdca26\"], [1.0, \"#f0f921\"]], \"sequentialminus\": [[0.0, \"#0d0887\"], [0.1111111111111111, \"#46039f\"], [0.2222222222222222, \"#7201a8\"], [0.3333333333333333, \"#9c179e\"], [0.4444444444444444, \"#bd3786\"], [0.5555555555555556, \"#d8576b\"], [0.6666666666666666, \"#ed7953\"], [0.7777777777777778, \"#fb9f3a\"], [0.8888888888888888, \"#fdca26\"], [1.0, \"#f0f921\"]]}, \"colorway\": [\"#636efa\", \"#EF553B\", \"#00cc96\", \"#ab63fa\", \"#FFA15A\", \"#19d3f3\", \"#FF6692\", \"#B6E880\", \"#FF97FF\", \"#FECB52\"], \"font\": {\"color\": \"#2a3f5f\"}, \"geo\": {\"bgcolor\": \"white\", \"lakecolor\": \"white\", \"landcolor\": \"#E5ECF6\", \"showlakes\": true, \"showland\": true, \"subunitcolor\": \"white\"}, \"hoverlabel\": {\"align\": \"left\"}, \"hovermode\": \"closest\", \"mapbox\": {\"style\": \"light\"}, \"paper_bgcolor\": \"white\", \"plot_bgcolor\": \"#E5ECF6\", \"polar\": {\"angularaxis\": {\"gridcolor\": \"white\", \"linecolor\": \"white\", \"ticks\": \"\"}, \"bgcolor\": \"#E5ECF6\", \"radialaxis\": {\"gridcolor\": \"white\", \"linecolor\": \"white\", \"ticks\": \"\"}}, \"scene\": {\"xaxis\": {\"backgroundcolor\": \"#E5ECF6\", \"gridcolor\": \"white\", \"gridwidth\": 2, \"linecolor\": \"white\", \"showbackground\": true, \"ticks\": \"\", \"zerolinecolor\": \"white\"}, \"yaxis\": {\"backgroundcolor\": \"#E5ECF6\", \"gridcolor\": \"white\", \"gridwidth\": 2, \"linecolor\": \"white\", \"showbackground\": true, \"ticks\": \"\", \"zerolinecolor\": \"white\"}, \"zaxis\": {\"backgroundcolor\": \"#E5ECF6\", \"gridcolor\": \"white\", \"gridwidth\": 2, \"linecolor\": \"white\", \"showbackground\": true, \"ticks\": \"\", \"zerolinecolor\": \"white\"}}, \"shapedefaults\": {\"line\": {\"color\": \"#2a3f5f\"}}, \"ternary\": {\"aaxis\": {\"gridcolor\": \"white\", \"linecolor\": \"white\", \"ticks\": \"\"}, \"baxis\": {\"gridcolor\": \"white\", \"linecolor\": \"white\", \"ticks\": \"\"}, \"bgcolor\": \"#E5ECF6\", \"caxis\": {\"gridcolor\": \"white\", \"linecolor\": \"white\", \"ticks\": \"\"}}, \"title\": {\"x\": 0.05}, \"xaxis\": {\"automargin\": true, \"gridcolor\": \"white\", \"linecolor\": \"white\", \"ticks\": \"\", \"title\": {\"standoff\": 15}, \"zerolinecolor\": \"white\", \"zerolinewidth\": 2}, \"yaxis\": {\"automargin\": true, \"gridcolor\": \"white\", \"linecolor\": \"white\", \"ticks\": \"\", \"title\": {\"standoff\": 15}, \"zerolinecolor\": \"white\", \"zerolinewidth\": 2}}}, \"xaxis\": {\"anchor\": \"y\", \"domain\": [0.0, 1.0], \"title\": {\"text\": \"children_group\"}}, \"yaxis\": {\"anchor\": \"x\", \"domain\": [0.0, 1.0], \"range\": [0, 15000], \"title\": {\"text\": \"charges\"}}},                        {\"responsive\": true}                    ).then(function(){\n",
       "                            \n",
       "var gd = document.getElementById('080d15da-df51-40f3-a01a-afaafc541e33');\n",
       "var x = new MutationObserver(function (mutations, observer) {{\n",
       "        var display = window.getComputedStyle(gd).display;\n",
       "        if (!display || display === 'none') {{\n",
       "            console.log([gd, 'removed!']);\n",
       "            Plotly.purge(gd);\n",
       "            observer.disconnect();\n",
       "        }}\n",
       "}});\n",
       "\n",
       "// Listen for the removal of the full notebook cells\n",
       "var notebookContainer = gd.closest('#notebook-container');\n",
       "if (notebookContainer) {{\n",
       "    x.observe(notebookContainer, {childList: true});\n",
       "}}\n",
       "\n",
       "// Listen for the clearing of the current output cell\n",
       "var outputEl = gd.closest('.output');\n",
       "if (outputEl) {{\n",
       "    x.observe(outputEl, {childList: true});\n",
       "}}\n",
       "\n",
       "                        })                };                });            </script>        </div>"
      ]
     },
     "metadata": {},
     "output_type": "display_data"
    }
   ],
   "source": [
    "# number of children as borders between segments\n",
    "segments_borders = [0,2,4,6]\n",
    "segments_labels = list(range(len(segments_borders)-1))\n",
    "data['children_group'] = pd.cut(data['children'], segments_borders, labels=segments_labels, include_lowest=True)\n",
    "\n",
    "fig = px.box(data, x='children_group', y='charges')\n",
    "fig.update_yaxes(range=[0, 15000])\n",
    "fig.show()"
   ]
  },
  {
   "cell_type": "code",
   "execution_count": 53,
   "metadata": {},
   "outputs": [
    {
     "data": {
      "application/vnd.plotly.v1+json": {
       "config": {
        "plotlyServerURL": "https://plot.ly"
       },
       "data": [
        {
         "alignmentgroup": "True",
         "hovertemplate": "smoker=%{x}<br>charges=%{y}<extra></extra>",
         "legendgroup": "",
         "marker": {
          "color": "#636efa"
         },
         "name": "",
         "offsetgroup": "",
         "orientation": "v",
         "showlegend": false,
         "textposition": "auto",
         "type": "bar",
         "x": [
          0,
          1
         ],
         "xaxis": "x",
         "y": [
          12788.89010989011,
          5136.2205466541
         ],
         "yaxis": "y"
        }
       ],
       "layout": {
        "barmode": "relative",
        "legend": {
         "tracegroupgap": 0
        },
        "margin": {
         "t": 60
        },
        "template": {
         "data": {
          "bar": [
           {
            "error_x": {
             "color": "#2a3f5f"
            },
            "error_y": {
             "color": "#2a3f5f"
            },
            "marker": {
             "line": {
              "color": "#E5ECF6",
              "width": 0.5
             }
            },
            "type": "bar"
           }
          ],
          "barpolar": [
           {
            "marker": {
             "line": {
              "color": "#E5ECF6",
              "width": 0.5
             }
            },
            "type": "barpolar"
           }
          ],
          "carpet": [
           {
            "aaxis": {
             "endlinecolor": "#2a3f5f",
             "gridcolor": "white",
             "linecolor": "white",
             "minorgridcolor": "white",
             "startlinecolor": "#2a3f5f"
            },
            "baxis": {
             "endlinecolor": "#2a3f5f",
             "gridcolor": "white",
             "linecolor": "white",
             "minorgridcolor": "white",
             "startlinecolor": "#2a3f5f"
            },
            "type": "carpet"
           }
          ],
          "choropleth": [
           {
            "colorbar": {
             "outlinewidth": 0,
             "ticks": ""
            },
            "type": "choropleth"
           }
          ],
          "contour": [
           {
            "colorbar": {
             "outlinewidth": 0,
             "ticks": ""
            },
            "colorscale": [
             [
              0,
              "#0d0887"
             ],
             [
              0.1111111111111111,
              "#46039f"
             ],
             [
              0.2222222222222222,
              "#7201a8"
             ],
             [
              0.3333333333333333,
              "#9c179e"
             ],
             [
              0.4444444444444444,
              "#bd3786"
             ],
             [
              0.5555555555555556,
              "#d8576b"
             ],
             [
              0.6666666666666666,
              "#ed7953"
             ],
             [
              0.7777777777777778,
              "#fb9f3a"
             ],
             [
              0.8888888888888888,
              "#fdca26"
             ],
             [
              1,
              "#f0f921"
             ]
            ],
            "type": "contour"
           }
          ],
          "contourcarpet": [
           {
            "colorbar": {
             "outlinewidth": 0,
             "ticks": ""
            },
            "type": "contourcarpet"
           }
          ],
          "heatmap": [
           {
            "colorbar": {
             "outlinewidth": 0,
             "ticks": ""
            },
            "colorscale": [
             [
              0,
              "#0d0887"
             ],
             [
              0.1111111111111111,
              "#46039f"
             ],
             [
              0.2222222222222222,
              "#7201a8"
             ],
             [
              0.3333333333333333,
              "#9c179e"
             ],
             [
              0.4444444444444444,
              "#bd3786"
             ],
             [
              0.5555555555555556,
              "#d8576b"
             ],
             [
              0.6666666666666666,
              "#ed7953"
             ],
             [
              0.7777777777777778,
              "#fb9f3a"
             ],
             [
              0.8888888888888888,
              "#fdca26"
             ],
             [
              1,
              "#f0f921"
             ]
            ],
            "type": "heatmap"
           }
          ],
          "heatmapgl": [
           {
            "colorbar": {
             "outlinewidth": 0,
             "ticks": ""
            },
            "colorscale": [
             [
              0,
              "#0d0887"
             ],
             [
              0.1111111111111111,
              "#46039f"
             ],
             [
              0.2222222222222222,
              "#7201a8"
             ],
             [
              0.3333333333333333,
              "#9c179e"
             ],
             [
              0.4444444444444444,
              "#bd3786"
             ],
             [
              0.5555555555555556,
              "#d8576b"
             ],
             [
              0.6666666666666666,
              "#ed7953"
             ],
             [
              0.7777777777777778,
              "#fb9f3a"
             ],
             [
              0.8888888888888888,
              "#fdca26"
             ],
             [
              1,
              "#f0f921"
             ]
            ],
            "type": "heatmapgl"
           }
          ],
          "histogram": [
           {
            "marker": {
             "colorbar": {
              "outlinewidth": 0,
              "ticks": ""
             }
            },
            "type": "histogram"
           }
          ],
          "histogram2d": [
           {
            "colorbar": {
             "outlinewidth": 0,
             "ticks": ""
            },
            "colorscale": [
             [
              0,
              "#0d0887"
             ],
             [
              0.1111111111111111,
              "#46039f"
             ],
             [
              0.2222222222222222,
              "#7201a8"
             ],
             [
              0.3333333333333333,
              "#9c179e"
             ],
             [
              0.4444444444444444,
              "#bd3786"
             ],
             [
              0.5555555555555556,
              "#d8576b"
             ],
             [
              0.6666666666666666,
              "#ed7953"
             ],
             [
              0.7777777777777778,
              "#fb9f3a"
             ],
             [
              0.8888888888888888,
              "#fdca26"
             ],
             [
              1,
              "#f0f921"
             ]
            ],
            "type": "histogram2d"
           }
          ],
          "histogram2dcontour": [
           {
            "colorbar": {
             "outlinewidth": 0,
             "ticks": ""
            },
            "colorscale": [
             [
              0,
              "#0d0887"
             ],
             [
              0.1111111111111111,
              "#46039f"
             ],
             [
              0.2222222222222222,
              "#7201a8"
             ],
             [
              0.3333333333333333,
              "#9c179e"
             ],
             [
              0.4444444444444444,
              "#bd3786"
             ],
             [
              0.5555555555555556,
              "#d8576b"
             ],
             [
              0.6666666666666666,
              "#ed7953"
             ],
             [
              0.7777777777777778,
              "#fb9f3a"
             ],
             [
              0.8888888888888888,
              "#fdca26"
             ],
             [
              1,
              "#f0f921"
             ]
            ],
            "type": "histogram2dcontour"
           }
          ],
          "mesh3d": [
           {
            "colorbar": {
             "outlinewidth": 0,
             "ticks": ""
            },
            "type": "mesh3d"
           }
          ],
          "parcoords": [
           {
            "line": {
             "colorbar": {
              "outlinewidth": 0,
              "ticks": ""
             }
            },
            "type": "parcoords"
           }
          ],
          "pie": [
           {
            "automargin": true,
            "type": "pie"
           }
          ],
          "scatter": [
           {
            "marker": {
             "colorbar": {
              "outlinewidth": 0,
              "ticks": ""
             }
            },
            "type": "scatter"
           }
          ],
          "scatter3d": [
           {
            "line": {
             "colorbar": {
              "outlinewidth": 0,
              "ticks": ""
             }
            },
            "marker": {
             "colorbar": {
              "outlinewidth": 0,
              "ticks": ""
             }
            },
            "type": "scatter3d"
           }
          ],
          "scattercarpet": [
           {
            "marker": {
             "colorbar": {
              "outlinewidth": 0,
              "ticks": ""
             }
            },
            "type": "scattercarpet"
           }
          ],
          "scattergeo": [
           {
            "marker": {
             "colorbar": {
              "outlinewidth": 0,
              "ticks": ""
             }
            },
            "type": "scattergeo"
           }
          ],
          "scattergl": [
           {
            "marker": {
             "colorbar": {
              "outlinewidth": 0,
              "ticks": ""
             }
            },
            "type": "scattergl"
           }
          ],
          "scattermapbox": [
           {
            "marker": {
             "colorbar": {
              "outlinewidth": 0,
              "ticks": ""
             }
            },
            "type": "scattermapbox"
           }
          ],
          "scatterpolar": [
           {
            "marker": {
             "colorbar": {
              "outlinewidth": 0,
              "ticks": ""
             }
            },
            "type": "scatterpolar"
           }
          ],
          "scatterpolargl": [
           {
            "marker": {
             "colorbar": {
              "outlinewidth": 0,
              "ticks": ""
             }
            },
            "type": "scatterpolargl"
           }
          ],
          "scatterternary": [
           {
            "marker": {
             "colorbar": {
              "outlinewidth": 0,
              "ticks": ""
             }
            },
            "type": "scatterternary"
           }
          ],
          "surface": [
           {
            "colorbar": {
             "outlinewidth": 0,
             "ticks": ""
            },
            "colorscale": [
             [
              0,
              "#0d0887"
             ],
             [
              0.1111111111111111,
              "#46039f"
             ],
             [
              0.2222222222222222,
              "#7201a8"
             ],
             [
              0.3333333333333333,
              "#9c179e"
             ],
             [
              0.4444444444444444,
              "#bd3786"
             ],
             [
              0.5555555555555556,
              "#d8576b"
             ],
             [
              0.6666666666666666,
              "#ed7953"
             ],
             [
              0.7777777777777778,
              "#fb9f3a"
             ],
             [
              0.8888888888888888,
              "#fdca26"
             ],
             [
              1,
              "#f0f921"
             ]
            ],
            "type": "surface"
           }
          ],
          "table": [
           {
            "cells": {
             "fill": {
              "color": "#EBF0F8"
             },
             "line": {
              "color": "white"
             }
            },
            "header": {
             "fill": {
              "color": "#C8D4E3"
             },
             "line": {
              "color": "white"
             }
            },
            "type": "table"
           }
          ]
         },
         "layout": {
          "annotationdefaults": {
           "arrowcolor": "#2a3f5f",
           "arrowhead": 0,
           "arrowwidth": 1
          },
          "autotypenumbers": "strict",
          "coloraxis": {
           "colorbar": {
            "outlinewidth": 0,
            "ticks": ""
           }
          },
          "colorscale": {
           "diverging": [
            [
             0,
             "#8e0152"
            ],
            [
             0.1,
             "#c51b7d"
            ],
            [
             0.2,
             "#de77ae"
            ],
            [
             0.3,
             "#f1b6da"
            ],
            [
             0.4,
             "#fde0ef"
            ],
            [
             0.5,
             "#f7f7f7"
            ],
            [
             0.6,
             "#e6f5d0"
            ],
            [
             0.7,
             "#b8e186"
            ],
            [
             0.8,
             "#7fbc41"
            ],
            [
             0.9,
             "#4d9221"
            ],
            [
             1,
             "#276419"
            ]
           ],
           "sequential": [
            [
             0,
             "#0d0887"
            ],
            [
             0.1111111111111111,
             "#46039f"
            ],
            [
             0.2222222222222222,
             "#7201a8"
            ],
            [
             0.3333333333333333,
             "#9c179e"
            ],
            [
             0.4444444444444444,
             "#bd3786"
            ],
            [
             0.5555555555555556,
             "#d8576b"
            ],
            [
             0.6666666666666666,
             "#ed7953"
            ],
            [
             0.7777777777777778,
             "#fb9f3a"
            ],
            [
             0.8888888888888888,
             "#fdca26"
            ],
            [
             1,
             "#f0f921"
            ]
           ],
           "sequentialminus": [
            [
             0,
             "#0d0887"
            ],
            [
             0.1111111111111111,
             "#46039f"
            ],
            [
             0.2222222222222222,
             "#7201a8"
            ],
            [
             0.3333333333333333,
             "#9c179e"
            ],
            [
             0.4444444444444444,
             "#bd3786"
            ],
            [
             0.5555555555555556,
             "#d8576b"
            ],
            [
             0.6666666666666666,
             "#ed7953"
            ],
            [
             0.7777777777777778,
             "#fb9f3a"
            ],
            [
             0.8888888888888888,
             "#fdca26"
            ],
            [
             1,
             "#f0f921"
            ]
           ]
          },
          "colorway": [
           "#636efa",
           "#EF553B",
           "#00cc96",
           "#ab63fa",
           "#FFA15A",
           "#19d3f3",
           "#FF6692",
           "#B6E880",
           "#FF97FF",
           "#FECB52"
          ],
          "font": {
           "color": "#2a3f5f"
          },
          "geo": {
           "bgcolor": "white",
           "lakecolor": "white",
           "landcolor": "#E5ECF6",
           "showlakes": true,
           "showland": true,
           "subunitcolor": "white"
          },
          "hoverlabel": {
           "align": "left"
          },
          "hovermode": "closest",
          "mapbox": {
           "style": "light"
          },
          "paper_bgcolor": "white",
          "plot_bgcolor": "#E5ECF6",
          "polar": {
           "angularaxis": {
            "gridcolor": "white",
            "linecolor": "white",
            "ticks": ""
           },
           "bgcolor": "#E5ECF6",
           "radialaxis": {
            "gridcolor": "white",
            "linecolor": "white",
            "ticks": ""
           }
          },
          "scene": {
           "xaxis": {
            "backgroundcolor": "#E5ECF6",
            "gridcolor": "white",
            "gridwidth": 2,
            "linecolor": "white",
            "showbackground": true,
            "ticks": "",
            "zerolinecolor": "white"
           },
           "yaxis": {
            "backgroundcolor": "#E5ECF6",
            "gridcolor": "white",
            "gridwidth": 2,
            "linecolor": "white",
            "showbackground": true,
            "ticks": "",
            "zerolinecolor": "white"
           },
           "zaxis": {
            "backgroundcolor": "#E5ECF6",
            "gridcolor": "white",
            "gridwidth": 2,
            "linecolor": "white",
            "showbackground": true,
            "ticks": "",
            "zerolinecolor": "white"
           }
          },
          "shapedefaults": {
           "line": {
            "color": "#2a3f5f"
           }
          },
          "ternary": {
           "aaxis": {
            "gridcolor": "white",
            "linecolor": "white",
            "ticks": ""
           },
           "baxis": {
            "gridcolor": "white",
            "linecolor": "white",
            "ticks": ""
           },
           "bgcolor": "#E5ECF6",
           "caxis": {
            "gridcolor": "white",
            "linecolor": "white",
            "ticks": ""
           }
          },
          "title": {
           "x": 0.05
          },
          "xaxis": {
           "automargin": true,
           "gridcolor": "white",
           "linecolor": "white",
           "ticks": "",
           "title": {
            "standoff": 15
           },
           "zerolinecolor": "white",
           "zerolinewidth": 2
          },
          "yaxis": {
           "automargin": true,
           "gridcolor": "white",
           "linecolor": "white",
           "ticks": "",
           "title": {
            "standoff": 15
           },
           "zerolinecolor": "white",
           "zerolinewidth": 2
          }
         }
        },
        "xaxis": {
         "anchor": "y",
         "domain": [
          0,
          1
         ],
         "title": {
          "text": "smoker"
         }
        },
        "yaxis": {
         "anchor": "x",
         "domain": [
          0,
          1
         ],
         "title": {
          "text": "charges"
         }
        }
       }
      },
      "text/html": [
       "<div>                            <div id=\"6bf33e79-ec28-4e39-b79e-d67000022775\" class=\"plotly-graph-div\" style=\"height:525px; width:100%;\"></div>            <script type=\"text/javascript\">                require([\"plotly\"], function(Plotly) {                    window.PLOTLYENV=window.PLOTLYENV || {};                                    if (document.getElementById(\"6bf33e79-ec28-4e39-b79e-d67000022775\")) {                    Plotly.newPlot(                        \"6bf33e79-ec28-4e39-b79e-d67000022775\",                        [{\"alignmentgroup\": \"True\", \"hovertemplate\": \"smoker=%{x}<br>charges=%{y}<extra></extra>\", \"legendgroup\": \"\", \"marker\": {\"color\": \"#636efa\"}, \"name\": \"\", \"offsetgroup\": \"\", \"orientation\": \"v\", \"showlegend\": false, \"textposition\": \"auto\", \"type\": \"bar\", \"x\": [0, 1], \"xaxis\": \"x\", \"y\": [12788.89010989011, 5136.2205466541], \"yaxis\": \"y\"}],                        {\"barmode\": \"relative\", \"legend\": {\"tracegroupgap\": 0}, \"margin\": {\"t\": 60}, \"template\": {\"data\": {\"bar\": [{\"error_x\": {\"color\": \"#2a3f5f\"}, \"error_y\": {\"color\": \"#2a3f5f\"}, \"marker\": {\"line\": {\"color\": \"#E5ECF6\", \"width\": 0.5}}, \"type\": \"bar\"}], \"barpolar\": [{\"marker\": {\"line\": {\"color\": \"#E5ECF6\", \"width\": 0.5}}, \"type\": \"barpolar\"}], \"carpet\": [{\"aaxis\": {\"endlinecolor\": \"#2a3f5f\", \"gridcolor\": \"white\", \"linecolor\": \"white\", \"minorgridcolor\": \"white\", \"startlinecolor\": \"#2a3f5f\"}, \"baxis\": {\"endlinecolor\": \"#2a3f5f\", \"gridcolor\": \"white\", \"linecolor\": \"white\", \"minorgridcolor\": \"white\", \"startlinecolor\": \"#2a3f5f\"}, \"type\": \"carpet\"}], \"choropleth\": [{\"colorbar\": {\"outlinewidth\": 0, \"ticks\": \"\"}, \"type\": \"choropleth\"}], \"contour\": [{\"colorbar\": {\"outlinewidth\": 0, \"ticks\": \"\"}, \"colorscale\": [[0.0, \"#0d0887\"], [0.1111111111111111, \"#46039f\"], [0.2222222222222222, \"#7201a8\"], [0.3333333333333333, \"#9c179e\"], [0.4444444444444444, \"#bd3786\"], [0.5555555555555556, \"#d8576b\"], [0.6666666666666666, \"#ed7953\"], [0.7777777777777778, \"#fb9f3a\"], [0.8888888888888888, \"#fdca26\"], [1.0, \"#f0f921\"]], \"type\": \"contour\"}], \"contourcarpet\": [{\"colorbar\": {\"outlinewidth\": 0, \"ticks\": \"\"}, \"type\": \"contourcarpet\"}], \"heatmap\": [{\"colorbar\": {\"outlinewidth\": 0, \"ticks\": \"\"}, \"colorscale\": [[0.0, \"#0d0887\"], [0.1111111111111111, \"#46039f\"], [0.2222222222222222, \"#7201a8\"], [0.3333333333333333, \"#9c179e\"], [0.4444444444444444, \"#bd3786\"], [0.5555555555555556, \"#d8576b\"], [0.6666666666666666, \"#ed7953\"], [0.7777777777777778, \"#fb9f3a\"], [0.8888888888888888, \"#fdca26\"], [1.0, \"#f0f921\"]], \"type\": \"heatmap\"}], \"heatmapgl\": [{\"colorbar\": {\"outlinewidth\": 0, \"ticks\": \"\"}, \"colorscale\": [[0.0, \"#0d0887\"], [0.1111111111111111, \"#46039f\"], [0.2222222222222222, \"#7201a8\"], [0.3333333333333333, \"#9c179e\"], [0.4444444444444444, \"#bd3786\"], [0.5555555555555556, \"#d8576b\"], [0.6666666666666666, \"#ed7953\"], [0.7777777777777778, \"#fb9f3a\"], [0.8888888888888888, \"#fdca26\"], [1.0, \"#f0f921\"]], \"type\": \"heatmapgl\"}], \"histogram\": [{\"marker\": {\"colorbar\": {\"outlinewidth\": 0, \"ticks\": \"\"}}, \"type\": \"histogram\"}], \"histogram2d\": [{\"colorbar\": {\"outlinewidth\": 0, \"ticks\": \"\"}, \"colorscale\": [[0.0, \"#0d0887\"], [0.1111111111111111, \"#46039f\"], [0.2222222222222222, \"#7201a8\"], [0.3333333333333333, \"#9c179e\"], [0.4444444444444444, \"#bd3786\"], [0.5555555555555556, \"#d8576b\"], [0.6666666666666666, \"#ed7953\"], [0.7777777777777778, \"#fb9f3a\"], [0.8888888888888888, \"#fdca26\"], [1.0, \"#f0f921\"]], \"type\": \"histogram2d\"}], \"histogram2dcontour\": [{\"colorbar\": {\"outlinewidth\": 0, \"ticks\": \"\"}, \"colorscale\": [[0.0, \"#0d0887\"], [0.1111111111111111, \"#46039f\"], [0.2222222222222222, \"#7201a8\"], [0.3333333333333333, \"#9c179e\"], [0.4444444444444444, \"#bd3786\"], [0.5555555555555556, \"#d8576b\"], [0.6666666666666666, \"#ed7953\"], [0.7777777777777778, \"#fb9f3a\"], [0.8888888888888888, \"#fdca26\"], [1.0, \"#f0f921\"]], \"type\": \"histogram2dcontour\"}], \"mesh3d\": [{\"colorbar\": {\"outlinewidth\": 0, \"ticks\": \"\"}, \"type\": \"mesh3d\"}], \"parcoords\": [{\"line\": {\"colorbar\": {\"outlinewidth\": 0, \"ticks\": \"\"}}, \"type\": \"parcoords\"}], \"pie\": [{\"automargin\": true, \"type\": \"pie\"}], \"scatter\": [{\"marker\": {\"colorbar\": {\"outlinewidth\": 0, \"ticks\": \"\"}}, \"type\": \"scatter\"}], \"scatter3d\": [{\"line\": {\"colorbar\": {\"outlinewidth\": 0, \"ticks\": \"\"}}, \"marker\": {\"colorbar\": {\"outlinewidth\": 0, \"ticks\": \"\"}}, \"type\": \"scatter3d\"}], \"scattercarpet\": [{\"marker\": {\"colorbar\": {\"outlinewidth\": 0, \"ticks\": \"\"}}, \"type\": \"scattercarpet\"}], \"scattergeo\": [{\"marker\": {\"colorbar\": {\"outlinewidth\": 0, \"ticks\": \"\"}}, \"type\": \"scattergeo\"}], \"scattergl\": [{\"marker\": {\"colorbar\": {\"outlinewidth\": 0, \"ticks\": \"\"}}, \"type\": \"scattergl\"}], \"scattermapbox\": [{\"marker\": {\"colorbar\": {\"outlinewidth\": 0, \"ticks\": \"\"}}, \"type\": \"scattermapbox\"}], \"scatterpolar\": [{\"marker\": {\"colorbar\": {\"outlinewidth\": 0, \"ticks\": \"\"}}, \"type\": \"scatterpolar\"}], \"scatterpolargl\": [{\"marker\": {\"colorbar\": {\"outlinewidth\": 0, \"ticks\": \"\"}}, \"type\": \"scatterpolargl\"}], \"scatterternary\": [{\"marker\": {\"colorbar\": {\"outlinewidth\": 0, \"ticks\": \"\"}}, \"type\": \"scatterternary\"}], \"surface\": [{\"colorbar\": {\"outlinewidth\": 0, \"ticks\": \"\"}, \"colorscale\": [[0.0, \"#0d0887\"], [0.1111111111111111, \"#46039f\"], [0.2222222222222222, \"#7201a8\"], [0.3333333333333333, \"#9c179e\"], [0.4444444444444444, \"#bd3786\"], [0.5555555555555556, \"#d8576b\"], [0.6666666666666666, \"#ed7953\"], [0.7777777777777778, \"#fb9f3a\"], [0.8888888888888888, \"#fdca26\"], [1.0, \"#f0f921\"]], \"type\": \"surface\"}], \"table\": [{\"cells\": {\"fill\": {\"color\": \"#EBF0F8\"}, \"line\": {\"color\": \"white\"}}, \"header\": {\"fill\": {\"color\": \"#C8D4E3\"}, \"line\": {\"color\": \"white\"}}, \"type\": \"table\"}]}, \"layout\": {\"annotationdefaults\": {\"arrowcolor\": \"#2a3f5f\", \"arrowhead\": 0, \"arrowwidth\": 1}, \"autotypenumbers\": \"strict\", \"coloraxis\": {\"colorbar\": {\"outlinewidth\": 0, \"ticks\": \"\"}}, \"colorscale\": {\"diverging\": [[0, \"#8e0152\"], [0.1, \"#c51b7d\"], [0.2, \"#de77ae\"], [0.3, \"#f1b6da\"], [0.4, \"#fde0ef\"], [0.5, \"#f7f7f7\"], [0.6, \"#e6f5d0\"], [0.7, \"#b8e186\"], [0.8, \"#7fbc41\"], [0.9, \"#4d9221\"], [1, \"#276419\"]], \"sequential\": [[0.0, \"#0d0887\"], [0.1111111111111111, \"#46039f\"], [0.2222222222222222, \"#7201a8\"], [0.3333333333333333, \"#9c179e\"], [0.4444444444444444, \"#bd3786\"], [0.5555555555555556, \"#d8576b\"], [0.6666666666666666, \"#ed7953\"], [0.7777777777777778, \"#fb9f3a\"], [0.8888888888888888, \"#fdca26\"], [1.0, \"#f0f921\"]], \"sequentialminus\": [[0.0, \"#0d0887\"], [0.1111111111111111, \"#46039f\"], [0.2222222222222222, \"#7201a8\"], [0.3333333333333333, \"#9c179e\"], [0.4444444444444444, \"#bd3786\"], [0.5555555555555556, \"#d8576b\"], [0.6666666666666666, \"#ed7953\"], [0.7777777777777778, \"#fb9f3a\"], [0.8888888888888888, \"#fdca26\"], [1.0, \"#f0f921\"]]}, \"colorway\": [\"#636efa\", \"#EF553B\", \"#00cc96\", \"#ab63fa\", \"#FFA15A\", \"#19d3f3\", \"#FF6692\", \"#B6E880\", \"#FF97FF\", \"#FECB52\"], \"font\": {\"color\": \"#2a3f5f\"}, \"geo\": {\"bgcolor\": \"white\", \"lakecolor\": \"white\", \"landcolor\": \"#E5ECF6\", \"showlakes\": true, \"showland\": true, \"subunitcolor\": \"white\"}, \"hoverlabel\": {\"align\": \"left\"}, \"hovermode\": \"closest\", \"mapbox\": {\"style\": \"light\"}, \"paper_bgcolor\": \"white\", \"plot_bgcolor\": \"#E5ECF6\", \"polar\": {\"angularaxis\": {\"gridcolor\": \"white\", \"linecolor\": \"white\", \"ticks\": \"\"}, \"bgcolor\": \"#E5ECF6\", \"radialaxis\": {\"gridcolor\": \"white\", \"linecolor\": \"white\", \"ticks\": \"\"}}, \"scene\": {\"xaxis\": {\"backgroundcolor\": \"#E5ECF6\", \"gridcolor\": \"white\", \"gridwidth\": 2, \"linecolor\": \"white\", \"showbackground\": true, \"ticks\": \"\", \"zerolinecolor\": \"white\"}, \"yaxis\": {\"backgroundcolor\": \"#E5ECF6\", \"gridcolor\": \"white\", \"gridwidth\": 2, \"linecolor\": \"white\", \"showbackground\": true, \"ticks\": \"\", \"zerolinecolor\": \"white\"}, \"zaxis\": {\"backgroundcolor\": \"#E5ECF6\", \"gridcolor\": \"white\", \"gridwidth\": 2, \"linecolor\": \"white\", \"showbackground\": true, \"ticks\": \"\", \"zerolinecolor\": \"white\"}}, \"shapedefaults\": {\"line\": {\"color\": \"#2a3f5f\"}}, \"ternary\": {\"aaxis\": {\"gridcolor\": \"white\", \"linecolor\": \"white\", \"ticks\": \"\"}, \"baxis\": {\"gridcolor\": \"white\", \"linecolor\": \"white\", \"ticks\": \"\"}, \"bgcolor\": \"#E5ECF6\", \"caxis\": {\"gridcolor\": \"white\", \"linecolor\": \"white\", \"ticks\": \"\"}}, \"title\": {\"x\": 0.05}, \"xaxis\": {\"automargin\": true, \"gridcolor\": \"white\", \"linecolor\": \"white\", \"ticks\": \"\", \"title\": {\"standoff\": 15}, \"zerolinecolor\": \"white\", \"zerolinewidth\": 2}, \"yaxis\": {\"automargin\": true, \"gridcolor\": \"white\", \"linecolor\": \"white\", \"ticks\": \"\", \"title\": {\"standoff\": 15}, \"zerolinecolor\": \"white\", \"zerolinewidth\": 2}}}, \"xaxis\": {\"anchor\": \"y\", \"domain\": [0.0, 1.0], \"title\": {\"text\": \"smoker\"}}, \"yaxis\": {\"anchor\": \"x\", \"domain\": [0.0, 1.0], \"title\": {\"text\": \"charges\"}}},                        {\"responsive\": true}                    ).then(function(){\n",
       "                            \n",
       "var gd = document.getElementById('6bf33e79-ec28-4e39-b79e-d67000022775');\n",
       "var x = new MutationObserver(function (mutations, observer) {{\n",
       "        var display = window.getComputedStyle(gd).display;\n",
       "        if (!display || display === 'none') {{\n",
       "            console.log([gd, 'removed!']);\n",
       "            Plotly.purge(gd);\n",
       "            observer.disconnect();\n",
       "        }}\n",
       "}});\n",
       "\n",
       "// Listen for the removal of the full notebook cells\n",
       "var notebookContainer = gd.closest('#notebook-container');\n",
       "if (notebookContainer) {{\n",
       "    x.observe(notebookContainer, {childList: true});\n",
       "}}\n",
       "\n",
       "// Listen for the clearing of the current output cell\n",
       "var outputEl = gd.closest('.output');\n",
       "if (outputEl) {{\n",
       "    x.observe(outputEl, {childList: true});\n",
       "}}\n",
       "\n",
       "                        })                };                });            </script>        </div>"
      ]
     },
     "metadata": {},
     "output_type": "display_data"
    }
   ],
   "source": [
    "fig = px.bar(data.groupby('smoker').mean().reset_index(), x='smoker', y='charges')\n",
    "fig.show()\n",
    "# 0 = smoker, 1 = non-smoker"
   ]
  },
  {
   "cell_type": "code",
   "execution_count": 54,
   "metadata": {},
   "outputs": [
    {
     "data": {
      "application/vnd.plotly.v1+json": {
       "config": {
        "plotlyServerURL": "https://plot.ly"
       },
       "data": [
        {
         "alignmentgroup": "True",
         "hovertemplate": "canton=%{x}<br>charges=%{y}<extra></extra>",
         "legendgroup": "",
         "marker": {
          "color": "#636efa"
         },
         "name": "",
         "offsetgroup": "",
         "orientation": "v",
         "showlegend": false,
         "textposition": "auto",
         "type": "bar",
         "x": [
          0,
          1,
          2,
          3
         ],
         "xaxis": "x",
         "y": [
          6007.180124223602,
          7643.0467032967035,
          6750.307692307692,
          6286.891640866873
         ],
         "yaxis": "y"
        }
       ],
       "layout": {
        "barmode": "relative",
        "legend": {
         "tracegroupgap": 0
        },
        "margin": {
         "t": 60
        },
        "template": {
         "data": {
          "bar": [
           {
            "error_x": {
             "color": "#2a3f5f"
            },
            "error_y": {
             "color": "#2a3f5f"
            },
            "marker": {
             "line": {
              "color": "#E5ECF6",
              "width": 0.5
             }
            },
            "type": "bar"
           }
          ],
          "barpolar": [
           {
            "marker": {
             "line": {
              "color": "#E5ECF6",
              "width": 0.5
             }
            },
            "type": "barpolar"
           }
          ],
          "carpet": [
           {
            "aaxis": {
             "endlinecolor": "#2a3f5f",
             "gridcolor": "white",
             "linecolor": "white",
             "minorgridcolor": "white",
             "startlinecolor": "#2a3f5f"
            },
            "baxis": {
             "endlinecolor": "#2a3f5f",
             "gridcolor": "white",
             "linecolor": "white",
             "minorgridcolor": "white",
             "startlinecolor": "#2a3f5f"
            },
            "type": "carpet"
           }
          ],
          "choropleth": [
           {
            "colorbar": {
             "outlinewidth": 0,
             "ticks": ""
            },
            "type": "choropleth"
           }
          ],
          "contour": [
           {
            "colorbar": {
             "outlinewidth": 0,
             "ticks": ""
            },
            "colorscale": [
             [
              0,
              "#0d0887"
             ],
             [
              0.1111111111111111,
              "#46039f"
             ],
             [
              0.2222222222222222,
              "#7201a8"
             ],
             [
              0.3333333333333333,
              "#9c179e"
             ],
             [
              0.4444444444444444,
              "#bd3786"
             ],
             [
              0.5555555555555556,
              "#d8576b"
             ],
             [
              0.6666666666666666,
              "#ed7953"
             ],
             [
              0.7777777777777778,
              "#fb9f3a"
             ],
             [
              0.8888888888888888,
              "#fdca26"
             ],
             [
              1,
              "#f0f921"
             ]
            ],
            "type": "contour"
           }
          ],
          "contourcarpet": [
           {
            "colorbar": {
             "outlinewidth": 0,
             "ticks": ""
            },
            "type": "contourcarpet"
           }
          ],
          "heatmap": [
           {
            "colorbar": {
             "outlinewidth": 0,
             "ticks": ""
            },
            "colorscale": [
             [
              0,
              "#0d0887"
             ],
             [
              0.1111111111111111,
              "#46039f"
             ],
             [
              0.2222222222222222,
              "#7201a8"
             ],
             [
              0.3333333333333333,
              "#9c179e"
             ],
             [
              0.4444444444444444,
              "#bd3786"
             ],
             [
              0.5555555555555556,
              "#d8576b"
             ],
             [
              0.6666666666666666,
              "#ed7953"
             ],
             [
              0.7777777777777778,
              "#fb9f3a"
             ],
             [
              0.8888888888888888,
              "#fdca26"
             ],
             [
              1,
              "#f0f921"
             ]
            ],
            "type": "heatmap"
           }
          ],
          "heatmapgl": [
           {
            "colorbar": {
             "outlinewidth": 0,
             "ticks": ""
            },
            "colorscale": [
             [
              0,
              "#0d0887"
             ],
             [
              0.1111111111111111,
              "#46039f"
             ],
             [
              0.2222222222222222,
              "#7201a8"
             ],
             [
              0.3333333333333333,
              "#9c179e"
             ],
             [
              0.4444444444444444,
              "#bd3786"
             ],
             [
              0.5555555555555556,
              "#d8576b"
             ],
             [
              0.6666666666666666,
              "#ed7953"
             ],
             [
              0.7777777777777778,
              "#fb9f3a"
             ],
             [
              0.8888888888888888,
              "#fdca26"
             ],
             [
              1,
              "#f0f921"
             ]
            ],
            "type": "heatmapgl"
           }
          ],
          "histogram": [
           {
            "marker": {
             "colorbar": {
              "outlinewidth": 0,
              "ticks": ""
             }
            },
            "type": "histogram"
           }
          ],
          "histogram2d": [
           {
            "colorbar": {
             "outlinewidth": 0,
             "ticks": ""
            },
            "colorscale": [
             [
              0,
              "#0d0887"
             ],
             [
              0.1111111111111111,
              "#46039f"
             ],
             [
              0.2222222222222222,
              "#7201a8"
             ],
             [
              0.3333333333333333,
              "#9c179e"
             ],
             [
              0.4444444444444444,
              "#bd3786"
             ],
             [
              0.5555555555555556,
              "#d8576b"
             ],
             [
              0.6666666666666666,
              "#ed7953"
             ],
             [
              0.7777777777777778,
              "#fb9f3a"
             ],
             [
              0.8888888888888888,
              "#fdca26"
             ],
             [
              1,
              "#f0f921"
             ]
            ],
            "type": "histogram2d"
           }
          ],
          "histogram2dcontour": [
           {
            "colorbar": {
             "outlinewidth": 0,
             "ticks": ""
            },
            "colorscale": [
             [
              0,
              "#0d0887"
             ],
             [
              0.1111111111111111,
              "#46039f"
             ],
             [
              0.2222222222222222,
              "#7201a8"
             ],
             [
              0.3333333333333333,
              "#9c179e"
             ],
             [
              0.4444444444444444,
              "#bd3786"
             ],
             [
              0.5555555555555556,
              "#d8576b"
             ],
             [
              0.6666666666666666,
              "#ed7953"
             ],
             [
              0.7777777777777778,
              "#fb9f3a"
             ],
             [
              0.8888888888888888,
              "#fdca26"
             ],
             [
              1,
              "#f0f921"
             ]
            ],
            "type": "histogram2dcontour"
           }
          ],
          "mesh3d": [
           {
            "colorbar": {
             "outlinewidth": 0,
             "ticks": ""
            },
            "type": "mesh3d"
           }
          ],
          "parcoords": [
           {
            "line": {
             "colorbar": {
              "outlinewidth": 0,
              "ticks": ""
             }
            },
            "type": "parcoords"
           }
          ],
          "pie": [
           {
            "automargin": true,
            "type": "pie"
           }
          ],
          "scatter": [
           {
            "marker": {
             "colorbar": {
              "outlinewidth": 0,
              "ticks": ""
             }
            },
            "type": "scatter"
           }
          ],
          "scatter3d": [
           {
            "line": {
             "colorbar": {
              "outlinewidth": 0,
              "ticks": ""
             }
            },
            "marker": {
             "colorbar": {
              "outlinewidth": 0,
              "ticks": ""
             }
            },
            "type": "scatter3d"
           }
          ],
          "scattercarpet": [
           {
            "marker": {
             "colorbar": {
              "outlinewidth": 0,
              "ticks": ""
             }
            },
            "type": "scattercarpet"
           }
          ],
          "scattergeo": [
           {
            "marker": {
             "colorbar": {
              "outlinewidth": 0,
              "ticks": ""
             }
            },
            "type": "scattergeo"
           }
          ],
          "scattergl": [
           {
            "marker": {
             "colorbar": {
              "outlinewidth": 0,
              "ticks": ""
             }
            },
            "type": "scattergl"
           }
          ],
          "scattermapbox": [
           {
            "marker": {
             "colorbar": {
              "outlinewidth": 0,
              "ticks": ""
             }
            },
            "type": "scattermapbox"
           }
          ],
          "scatterpolar": [
           {
            "marker": {
             "colorbar": {
              "outlinewidth": 0,
              "ticks": ""
             }
            },
            "type": "scatterpolar"
           }
          ],
          "scatterpolargl": [
           {
            "marker": {
             "colorbar": {
              "outlinewidth": 0,
              "ticks": ""
             }
            },
            "type": "scatterpolargl"
           }
          ],
          "scatterternary": [
           {
            "marker": {
             "colorbar": {
              "outlinewidth": 0,
              "ticks": ""
             }
            },
            "type": "scatterternary"
           }
          ],
          "surface": [
           {
            "colorbar": {
             "outlinewidth": 0,
             "ticks": ""
            },
            "colorscale": [
             [
              0,
              "#0d0887"
             ],
             [
              0.1111111111111111,
              "#46039f"
             ],
             [
              0.2222222222222222,
              "#7201a8"
             ],
             [
              0.3333333333333333,
              "#9c179e"
             ],
             [
              0.4444444444444444,
              "#bd3786"
             ],
             [
              0.5555555555555556,
              "#d8576b"
             ],
             [
              0.6666666666666666,
              "#ed7953"
             ],
             [
              0.7777777777777778,
              "#fb9f3a"
             ],
             [
              0.8888888888888888,
              "#fdca26"
             ],
             [
              1,
              "#f0f921"
             ]
            ],
            "type": "surface"
           }
          ],
          "table": [
           {
            "cells": {
             "fill": {
              "color": "#EBF0F8"
             },
             "line": {
              "color": "white"
             }
            },
            "header": {
             "fill": {
              "color": "#C8D4E3"
             },
             "line": {
              "color": "white"
             }
            },
            "type": "table"
           }
          ]
         },
         "layout": {
          "annotationdefaults": {
           "arrowcolor": "#2a3f5f",
           "arrowhead": 0,
           "arrowwidth": 1
          },
          "autotypenumbers": "strict",
          "coloraxis": {
           "colorbar": {
            "outlinewidth": 0,
            "ticks": ""
           }
          },
          "colorscale": {
           "diverging": [
            [
             0,
             "#8e0152"
            ],
            [
             0.1,
             "#c51b7d"
            ],
            [
             0.2,
             "#de77ae"
            ],
            [
             0.3,
             "#f1b6da"
            ],
            [
             0.4,
             "#fde0ef"
            ],
            [
             0.5,
             "#f7f7f7"
            ],
            [
             0.6,
             "#e6f5d0"
            ],
            [
             0.7,
             "#b8e186"
            ],
            [
             0.8,
             "#7fbc41"
            ],
            [
             0.9,
             "#4d9221"
            ],
            [
             1,
             "#276419"
            ]
           ],
           "sequential": [
            [
             0,
             "#0d0887"
            ],
            [
             0.1111111111111111,
             "#46039f"
            ],
            [
             0.2222222222222222,
             "#7201a8"
            ],
            [
             0.3333333333333333,
             "#9c179e"
            ],
            [
             0.4444444444444444,
             "#bd3786"
            ],
            [
             0.5555555555555556,
             "#d8576b"
            ],
            [
             0.6666666666666666,
             "#ed7953"
            ],
            [
             0.7777777777777778,
             "#fb9f3a"
            ],
            [
             0.8888888888888888,
             "#fdca26"
            ],
            [
             1,
             "#f0f921"
            ]
           ],
           "sequentialminus": [
            [
             0,
             "#0d0887"
            ],
            [
             0.1111111111111111,
             "#46039f"
            ],
            [
             0.2222222222222222,
             "#7201a8"
            ],
            [
             0.3333333333333333,
             "#9c179e"
            ],
            [
             0.4444444444444444,
             "#bd3786"
            ],
            [
             0.5555555555555556,
             "#d8576b"
            ],
            [
             0.6666666666666666,
             "#ed7953"
            ],
            [
             0.7777777777777778,
             "#fb9f3a"
            ],
            [
             0.8888888888888888,
             "#fdca26"
            ],
            [
             1,
             "#f0f921"
            ]
           ]
          },
          "colorway": [
           "#636efa",
           "#EF553B",
           "#00cc96",
           "#ab63fa",
           "#FFA15A",
           "#19d3f3",
           "#FF6692",
           "#B6E880",
           "#FF97FF",
           "#FECB52"
          ],
          "font": {
           "color": "#2a3f5f"
          },
          "geo": {
           "bgcolor": "white",
           "lakecolor": "white",
           "landcolor": "#E5ECF6",
           "showlakes": true,
           "showland": true,
           "subunitcolor": "white"
          },
          "hoverlabel": {
           "align": "left"
          },
          "hovermode": "closest",
          "mapbox": {
           "style": "light"
          },
          "paper_bgcolor": "white",
          "plot_bgcolor": "#E5ECF6",
          "polar": {
           "angularaxis": {
            "gridcolor": "white",
            "linecolor": "white",
            "ticks": ""
           },
           "bgcolor": "#E5ECF6",
           "radialaxis": {
            "gridcolor": "white",
            "linecolor": "white",
            "ticks": ""
           }
          },
          "scene": {
           "xaxis": {
            "backgroundcolor": "#E5ECF6",
            "gridcolor": "white",
            "gridwidth": 2,
            "linecolor": "white",
            "showbackground": true,
            "ticks": "",
            "zerolinecolor": "white"
           },
           "yaxis": {
            "backgroundcolor": "#E5ECF6",
            "gridcolor": "white",
            "gridwidth": 2,
            "linecolor": "white",
            "showbackground": true,
            "ticks": "",
            "zerolinecolor": "white"
           },
           "zaxis": {
            "backgroundcolor": "#E5ECF6",
            "gridcolor": "white",
            "gridwidth": 2,
            "linecolor": "white",
            "showbackground": true,
            "ticks": "",
            "zerolinecolor": "white"
           }
          },
          "shapedefaults": {
           "line": {
            "color": "#2a3f5f"
           }
          },
          "ternary": {
           "aaxis": {
            "gridcolor": "white",
            "linecolor": "white",
            "ticks": ""
           },
           "baxis": {
            "gridcolor": "white",
            "linecolor": "white",
            "ticks": ""
           },
           "bgcolor": "#E5ECF6",
           "caxis": {
            "gridcolor": "white",
            "linecolor": "white",
            "ticks": ""
           }
          },
          "title": {
           "x": 0.05
          },
          "xaxis": {
           "automargin": true,
           "gridcolor": "white",
           "linecolor": "white",
           "ticks": "",
           "title": {
            "standoff": 15
           },
           "zerolinecolor": "white",
           "zerolinewidth": 2
          },
          "yaxis": {
           "automargin": true,
           "gridcolor": "white",
           "linecolor": "white",
           "ticks": "",
           "title": {
            "standoff": 15
           },
           "zerolinecolor": "white",
           "zerolinewidth": 2
          }
         }
        },
        "xaxis": {
         "anchor": "y",
         "domain": [
          0,
          1
         ],
         "title": {
          "text": "canton"
         }
        },
        "yaxis": {
         "anchor": "x",
         "domain": [
          0,
          1
         ],
         "title": {
          "text": "charges"
         }
        }
       }
      },
      "text/html": [
       "<div>                            <div id=\"4811e131-2751-44e4-abd9-684f2a83c337\" class=\"plotly-graph-div\" style=\"height:525px; width:100%;\"></div>            <script type=\"text/javascript\">                require([\"plotly\"], function(Plotly) {                    window.PLOTLYENV=window.PLOTLYENV || {};                                    if (document.getElementById(\"4811e131-2751-44e4-abd9-684f2a83c337\")) {                    Plotly.newPlot(                        \"4811e131-2751-44e4-abd9-684f2a83c337\",                        [{\"alignmentgroup\": \"True\", \"hovertemplate\": \"canton=%{x}<br>charges=%{y}<extra></extra>\", \"legendgroup\": \"\", \"marker\": {\"color\": \"#636efa\"}, \"name\": \"\", \"offsetgroup\": \"\", \"orientation\": \"v\", \"showlegend\": false, \"textposition\": \"auto\", \"type\": \"bar\", \"x\": [0, 1, 2, 3], \"xaxis\": \"x\", \"y\": [6007.180124223602, 7643.0467032967035, 6750.307692307692, 6286.891640866873], \"yaxis\": \"y\"}],                        {\"barmode\": \"relative\", \"legend\": {\"tracegroupgap\": 0}, \"margin\": {\"t\": 60}, \"template\": {\"data\": {\"bar\": [{\"error_x\": {\"color\": \"#2a3f5f\"}, \"error_y\": {\"color\": \"#2a3f5f\"}, \"marker\": {\"line\": {\"color\": \"#E5ECF6\", \"width\": 0.5}}, \"type\": \"bar\"}], \"barpolar\": [{\"marker\": {\"line\": {\"color\": \"#E5ECF6\", \"width\": 0.5}}, \"type\": \"barpolar\"}], \"carpet\": [{\"aaxis\": {\"endlinecolor\": \"#2a3f5f\", \"gridcolor\": \"white\", \"linecolor\": \"white\", \"minorgridcolor\": \"white\", \"startlinecolor\": \"#2a3f5f\"}, \"baxis\": {\"endlinecolor\": \"#2a3f5f\", \"gridcolor\": \"white\", \"linecolor\": \"white\", \"minorgridcolor\": \"white\", \"startlinecolor\": \"#2a3f5f\"}, \"type\": \"carpet\"}], \"choropleth\": [{\"colorbar\": {\"outlinewidth\": 0, \"ticks\": \"\"}, \"type\": \"choropleth\"}], \"contour\": [{\"colorbar\": {\"outlinewidth\": 0, \"ticks\": \"\"}, \"colorscale\": [[0.0, \"#0d0887\"], [0.1111111111111111, \"#46039f\"], [0.2222222222222222, \"#7201a8\"], [0.3333333333333333, \"#9c179e\"], [0.4444444444444444, \"#bd3786\"], [0.5555555555555556, \"#d8576b\"], [0.6666666666666666, \"#ed7953\"], [0.7777777777777778, \"#fb9f3a\"], [0.8888888888888888, \"#fdca26\"], [1.0, \"#f0f921\"]], \"type\": \"contour\"}], \"contourcarpet\": [{\"colorbar\": {\"outlinewidth\": 0, \"ticks\": \"\"}, \"type\": \"contourcarpet\"}], \"heatmap\": [{\"colorbar\": {\"outlinewidth\": 0, \"ticks\": \"\"}, \"colorscale\": [[0.0, \"#0d0887\"], [0.1111111111111111, \"#46039f\"], [0.2222222222222222, \"#7201a8\"], [0.3333333333333333, \"#9c179e\"], [0.4444444444444444, \"#bd3786\"], [0.5555555555555556, \"#d8576b\"], [0.6666666666666666, \"#ed7953\"], [0.7777777777777778, \"#fb9f3a\"], [0.8888888888888888, \"#fdca26\"], [1.0, \"#f0f921\"]], \"type\": \"heatmap\"}], \"heatmapgl\": [{\"colorbar\": {\"outlinewidth\": 0, \"ticks\": \"\"}, \"colorscale\": [[0.0, \"#0d0887\"], [0.1111111111111111, \"#46039f\"], [0.2222222222222222, \"#7201a8\"], [0.3333333333333333, \"#9c179e\"], [0.4444444444444444, \"#bd3786\"], [0.5555555555555556, \"#d8576b\"], [0.6666666666666666, \"#ed7953\"], [0.7777777777777778, \"#fb9f3a\"], [0.8888888888888888, \"#fdca26\"], [1.0, \"#f0f921\"]], \"type\": \"heatmapgl\"}], \"histogram\": [{\"marker\": {\"colorbar\": {\"outlinewidth\": 0, \"ticks\": \"\"}}, \"type\": \"histogram\"}], \"histogram2d\": [{\"colorbar\": {\"outlinewidth\": 0, \"ticks\": \"\"}, \"colorscale\": [[0.0, \"#0d0887\"], [0.1111111111111111, \"#46039f\"], [0.2222222222222222, \"#7201a8\"], [0.3333333333333333, \"#9c179e\"], [0.4444444444444444, \"#bd3786\"], [0.5555555555555556, \"#d8576b\"], [0.6666666666666666, \"#ed7953\"], [0.7777777777777778, \"#fb9f3a\"], [0.8888888888888888, \"#fdca26\"], [1.0, \"#f0f921\"]], \"type\": \"histogram2d\"}], \"histogram2dcontour\": [{\"colorbar\": {\"outlinewidth\": 0, \"ticks\": \"\"}, \"colorscale\": [[0.0, \"#0d0887\"], [0.1111111111111111, \"#46039f\"], [0.2222222222222222, \"#7201a8\"], [0.3333333333333333, \"#9c179e\"], [0.4444444444444444, \"#bd3786\"], [0.5555555555555556, \"#d8576b\"], [0.6666666666666666, \"#ed7953\"], [0.7777777777777778, \"#fb9f3a\"], [0.8888888888888888, \"#fdca26\"], [1.0, \"#f0f921\"]], \"type\": \"histogram2dcontour\"}], \"mesh3d\": [{\"colorbar\": {\"outlinewidth\": 0, \"ticks\": \"\"}, \"type\": \"mesh3d\"}], \"parcoords\": [{\"line\": {\"colorbar\": {\"outlinewidth\": 0, \"ticks\": \"\"}}, \"type\": \"parcoords\"}], \"pie\": [{\"automargin\": true, \"type\": \"pie\"}], \"scatter\": [{\"marker\": {\"colorbar\": {\"outlinewidth\": 0, \"ticks\": \"\"}}, \"type\": \"scatter\"}], \"scatter3d\": [{\"line\": {\"colorbar\": {\"outlinewidth\": 0, \"ticks\": \"\"}}, \"marker\": {\"colorbar\": {\"outlinewidth\": 0, \"ticks\": \"\"}}, \"type\": \"scatter3d\"}], \"scattercarpet\": [{\"marker\": {\"colorbar\": {\"outlinewidth\": 0, \"ticks\": \"\"}}, \"type\": \"scattercarpet\"}], \"scattergeo\": [{\"marker\": {\"colorbar\": {\"outlinewidth\": 0, \"ticks\": \"\"}}, \"type\": \"scattergeo\"}], \"scattergl\": [{\"marker\": {\"colorbar\": {\"outlinewidth\": 0, \"ticks\": \"\"}}, \"type\": \"scattergl\"}], \"scattermapbox\": [{\"marker\": {\"colorbar\": {\"outlinewidth\": 0, \"ticks\": \"\"}}, \"type\": \"scattermapbox\"}], \"scatterpolar\": [{\"marker\": {\"colorbar\": {\"outlinewidth\": 0, \"ticks\": \"\"}}, \"type\": \"scatterpolar\"}], \"scatterpolargl\": [{\"marker\": {\"colorbar\": {\"outlinewidth\": 0, \"ticks\": \"\"}}, \"type\": \"scatterpolargl\"}], \"scatterternary\": [{\"marker\": {\"colorbar\": {\"outlinewidth\": 0, \"ticks\": \"\"}}, \"type\": \"scatterternary\"}], \"surface\": [{\"colorbar\": {\"outlinewidth\": 0, \"ticks\": \"\"}, \"colorscale\": [[0.0, \"#0d0887\"], [0.1111111111111111, \"#46039f\"], [0.2222222222222222, \"#7201a8\"], [0.3333333333333333, \"#9c179e\"], [0.4444444444444444, \"#bd3786\"], [0.5555555555555556, \"#d8576b\"], [0.6666666666666666, \"#ed7953\"], [0.7777777777777778, \"#fb9f3a\"], [0.8888888888888888, \"#fdca26\"], [1.0, \"#f0f921\"]], \"type\": \"surface\"}], \"table\": [{\"cells\": {\"fill\": {\"color\": \"#EBF0F8\"}, \"line\": {\"color\": \"white\"}}, \"header\": {\"fill\": {\"color\": \"#C8D4E3\"}, \"line\": {\"color\": \"white\"}}, \"type\": \"table\"}]}, \"layout\": {\"annotationdefaults\": {\"arrowcolor\": \"#2a3f5f\", \"arrowhead\": 0, \"arrowwidth\": 1}, \"autotypenumbers\": \"strict\", \"coloraxis\": {\"colorbar\": {\"outlinewidth\": 0, \"ticks\": \"\"}}, \"colorscale\": {\"diverging\": [[0, \"#8e0152\"], [0.1, \"#c51b7d\"], [0.2, \"#de77ae\"], [0.3, \"#f1b6da\"], [0.4, \"#fde0ef\"], [0.5, \"#f7f7f7\"], [0.6, \"#e6f5d0\"], [0.7, \"#b8e186\"], [0.8, \"#7fbc41\"], [0.9, \"#4d9221\"], [1, \"#276419\"]], \"sequential\": [[0.0, \"#0d0887\"], [0.1111111111111111, \"#46039f\"], [0.2222222222222222, \"#7201a8\"], [0.3333333333333333, \"#9c179e\"], [0.4444444444444444, \"#bd3786\"], [0.5555555555555556, \"#d8576b\"], [0.6666666666666666, \"#ed7953\"], [0.7777777777777778, \"#fb9f3a\"], [0.8888888888888888, \"#fdca26\"], [1.0, \"#f0f921\"]], \"sequentialminus\": [[0.0, \"#0d0887\"], [0.1111111111111111, \"#46039f\"], [0.2222222222222222, \"#7201a8\"], [0.3333333333333333, \"#9c179e\"], [0.4444444444444444, \"#bd3786\"], [0.5555555555555556, \"#d8576b\"], [0.6666666666666666, \"#ed7953\"], [0.7777777777777778, \"#fb9f3a\"], [0.8888888888888888, \"#fdca26\"], [1.0, \"#f0f921\"]]}, \"colorway\": [\"#636efa\", \"#EF553B\", \"#00cc96\", \"#ab63fa\", \"#FFA15A\", \"#19d3f3\", \"#FF6692\", \"#B6E880\", \"#FF97FF\", \"#FECB52\"], \"font\": {\"color\": \"#2a3f5f\"}, \"geo\": {\"bgcolor\": \"white\", \"lakecolor\": \"white\", \"landcolor\": \"#E5ECF6\", \"showlakes\": true, \"showland\": true, \"subunitcolor\": \"white\"}, \"hoverlabel\": {\"align\": \"left\"}, \"hovermode\": \"closest\", \"mapbox\": {\"style\": \"light\"}, \"paper_bgcolor\": \"white\", \"plot_bgcolor\": \"#E5ECF6\", \"polar\": {\"angularaxis\": {\"gridcolor\": \"white\", \"linecolor\": \"white\", \"ticks\": \"\"}, \"bgcolor\": \"#E5ECF6\", \"radialaxis\": {\"gridcolor\": \"white\", \"linecolor\": \"white\", \"ticks\": \"\"}}, \"scene\": {\"xaxis\": {\"backgroundcolor\": \"#E5ECF6\", \"gridcolor\": \"white\", \"gridwidth\": 2, \"linecolor\": \"white\", \"showbackground\": true, \"ticks\": \"\", \"zerolinecolor\": \"white\"}, \"yaxis\": {\"backgroundcolor\": \"#E5ECF6\", \"gridcolor\": \"white\", \"gridwidth\": 2, \"linecolor\": \"white\", \"showbackground\": true, \"ticks\": \"\", \"zerolinecolor\": \"white\"}, \"zaxis\": {\"backgroundcolor\": \"#E5ECF6\", \"gridcolor\": \"white\", \"gridwidth\": 2, \"linecolor\": \"white\", \"showbackground\": true, \"ticks\": \"\", \"zerolinecolor\": \"white\"}}, \"shapedefaults\": {\"line\": {\"color\": \"#2a3f5f\"}}, \"ternary\": {\"aaxis\": {\"gridcolor\": \"white\", \"linecolor\": \"white\", \"ticks\": \"\"}, \"baxis\": {\"gridcolor\": \"white\", \"linecolor\": \"white\", \"ticks\": \"\"}, \"bgcolor\": \"#E5ECF6\", \"caxis\": {\"gridcolor\": \"white\", \"linecolor\": \"white\", \"ticks\": \"\"}}, \"title\": {\"x\": 0.05}, \"xaxis\": {\"automargin\": true, \"gridcolor\": \"white\", \"linecolor\": \"white\", \"ticks\": \"\", \"title\": {\"standoff\": 15}, \"zerolinecolor\": \"white\", \"zerolinewidth\": 2}, \"yaxis\": {\"automargin\": true, \"gridcolor\": \"white\", \"linecolor\": \"white\", \"ticks\": \"\", \"title\": {\"standoff\": 15}, \"zerolinecolor\": \"white\", \"zerolinewidth\": 2}}}, \"xaxis\": {\"anchor\": \"y\", \"domain\": [0.0, 1.0], \"title\": {\"text\": \"canton\"}}, \"yaxis\": {\"anchor\": \"x\", \"domain\": [0.0, 1.0], \"title\": {\"text\": \"charges\"}}},                        {\"responsive\": true}                    ).then(function(){\n",
       "                            \n",
       "var gd = document.getElementById('4811e131-2751-44e4-abd9-684f2a83c337');\n",
       "var x = new MutationObserver(function (mutations, observer) {{\n",
       "        var display = window.getComputedStyle(gd).display;\n",
       "        if (!display || display === 'none') {{\n",
       "            console.log([gd, 'removed!']);\n",
       "            Plotly.purge(gd);\n",
       "            observer.disconnect();\n",
       "        }}\n",
       "}});\n",
       "\n",
       "// Listen for the removal of the full notebook cells\n",
       "var notebookContainer = gd.closest('#notebook-container');\n",
       "if (notebookContainer) {{\n",
       "    x.observe(notebookContainer, {childList: true});\n",
       "}}\n",
       "\n",
       "// Listen for the clearing of the current output cell\n",
       "var outputEl = gd.closest('.output');\n",
       "if (outputEl) {{\n",
       "    x.observe(outputEl, {childList: true});\n",
       "}}\n",
       "\n",
       "                        })                };                });            </script>        </div>"
      ]
     },
     "metadata": {},
     "output_type": "display_data"
    }
   ],
   "source": [
    "fig = px.bar(data.groupby('canton').mean().reset_index(), x='canton', y='charges')\n",
    "fig.show()"
   ]
  },
  {
   "cell_type": "code",
   "execution_count": 55,
   "metadata": {},
   "outputs": [
    {
     "data": {
      "application/vnd.plotly.v1+json": {
       "config": {
        "plotlyServerURL": "https://plot.ly"
       },
       "data": [
        {
         "hovertemplate": "age=%{x}<br>charges=%{y}<extra></extra>",
         "legendgroup": "",
         "marker": {
          "color": "#636efa",
          "symbol": "circle"
         },
         "mode": "markers",
         "name": "",
         "orientation": "v",
         "showlegend": false,
         "type": "scatter",
         "x": [
          18,
          19,
          20,
          21,
          22,
          23,
          24,
          25,
          26,
          27,
          28,
          29,
          30,
          31,
          32,
          33,
          34,
          35,
          36,
          37,
          38,
          39,
          40,
          41,
          42,
          43,
          44,
          45,
          46,
          47,
          48,
          49,
          50,
          51,
          52,
          53,
          54,
          55,
          56,
          57,
          58,
          59,
          60,
          61,
          62,
          63,
          64
         ],
         "xaxis": "x",
         "y": [
          3161.608695652174,
          3560.7611940298507,
          3808.4814814814813,
          2990.25,
          4566.107142857143,
          4974.821428571428,
          3966.3214285714284,
          4344.535714285715,
          3955.8214285714284,
          5095.25,
          4187.107142857143,
          4473.925925925926,
          5917.037037037037,
          5138.407407407408,
          5642.346153846154,
          5906.884615384615,
          5383.884615384615,
          5953.12,
          5766.48,
          8228.12,
          4979.833333333333,
          6055.92,
          5791.851851851852,
          5459.555555555556,
          6474,
          8478.777777777777,
          8023.962962962963,
          6080.172413793103,
          8040.517241379311,
          8585.310344827587,
          7646.758620689655,
          6059.107142857143,
          7242.103448275862,
          9622.275862068966,
          9737.896551724138,
          8030.321428571428,
          10284.607142857143,
          7685.576923076923,
          8538.846153846154,
          9658.884615384615,
          9043.32,
          9251.36,
          11275.95652173913,
          13440.04347826087,
          11008.869565217392,
          12124.565217391304,
          14033.636363636364
         ],
         "yaxis": "y"
        },
        {
         "hovertemplate": "<b>OLS trendline</b><br>charges = 179.577 * age + -348.268<br>R<sup>2</sup>=0.830599<br><br>age=%{x}<br>charges=%{y} <b>(trend)</b><extra></extra>",
         "legendgroup": "",
         "marker": {
          "color": "#636efa",
          "symbol": "circle"
         },
         "mode": "lines",
         "name": "",
         "showlegend": false,
         "type": "scatter",
         "x": [
          18,
          19,
          20,
          21,
          22,
          23,
          24,
          25,
          26,
          27,
          28,
          29,
          30,
          31,
          32,
          33,
          34,
          35,
          36,
          37,
          38,
          39,
          40,
          41,
          42,
          43,
          44,
          45,
          46,
          47,
          48,
          49,
          50,
          51,
          52,
          53,
          54,
          55,
          56,
          57,
          58,
          59,
          60,
          61,
          62,
          63,
          64
         ],
         "xaxis": "x",
         "y": [
          2884.108625376089,
          3063.6851254096377,
          3243.261625443186,
          3422.8381254767346,
          3602.4146255102833,
          3781.991125543832,
          3961.5676255773806,
          4141.144125610928,
          4320.720625644477,
          4500.297125678026,
          4679.873625711574,
          4859.450125745123,
          5039.026625778671,
          5218.603125812219,
          5398.179625845768,
          5577.756125879317,
          5757.332625912865,
          5936.909125946413,
          6116.485625979962,
          6296.06212601351,
          6475.638626047059,
          6655.215126080608,
          6834.791626114155,
          7014.368126147704,
          7193.944626181253,
          7373.521126214801,
          7553.09762624835,
          7732.674126281899,
          7912.250626315447,
          8091.827126348996,
          8271.403626382544,
          8450.98012641609,
          8630.55662644964,
          8810.133126483188,
          8989.709626516737,
          9169.286126550285,
          9348.862626583834,
          9528.439126617382,
          9708.015626650931,
          9887.59212668448,
          10067.168626718028,
          10246.745126751575,
          10426.321626785124,
          10605.898126818673,
          10785.474626852221,
          10965.05112688577,
          11144.627626919319
         ],
         "yaxis": "y"
        }
       ],
       "layout": {
        "legend": {
         "tracegroupgap": 0
        },
        "template": {
         "data": {
          "bar": [
           {
            "error_x": {
             "color": "#2a3f5f"
            },
            "error_y": {
             "color": "#2a3f5f"
            },
            "marker": {
             "line": {
              "color": "#E5ECF6",
              "width": 0.5
             }
            },
            "type": "bar"
           }
          ],
          "barpolar": [
           {
            "marker": {
             "line": {
              "color": "#E5ECF6",
              "width": 0.5
             }
            },
            "type": "barpolar"
           }
          ],
          "carpet": [
           {
            "aaxis": {
             "endlinecolor": "#2a3f5f",
             "gridcolor": "white",
             "linecolor": "white",
             "minorgridcolor": "white",
             "startlinecolor": "#2a3f5f"
            },
            "baxis": {
             "endlinecolor": "#2a3f5f",
             "gridcolor": "white",
             "linecolor": "white",
             "minorgridcolor": "white",
             "startlinecolor": "#2a3f5f"
            },
            "type": "carpet"
           }
          ],
          "choropleth": [
           {
            "colorbar": {
             "outlinewidth": 0,
             "ticks": ""
            },
            "type": "choropleth"
           }
          ],
          "contour": [
           {
            "colorbar": {
             "outlinewidth": 0,
             "ticks": ""
            },
            "colorscale": [
             [
              0,
              "#0d0887"
             ],
             [
              0.1111111111111111,
              "#46039f"
             ],
             [
              0.2222222222222222,
              "#7201a8"
             ],
             [
              0.3333333333333333,
              "#9c179e"
             ],
             [
              0.4444444444444444,
              "#bd3786"
             ],
             [
              0.5555555555555556,
              "#d8576b"
             ],
             [
              0.6666666666666666,
              "#ed7953"
             ],
             [
              0.7777777777777778,
              "#fb9f3a"
             ],
             [
              0.8888888888888888,
              "#fdca26"
             ],
             [
              1,
              "#f0f921"
             ]
            ],
            "type": "contour"
           }
          ],
          "contourcarpet": [
           {
            "colorbar": {
             "outlinewidth": 0,
             "ticks": ""
            },
            "type": "contourcarpet"
           }
          ],
          "heatmap": [
           {
            "colorbar": {
             "outlinewidth": 0,
             "ticks": ""
            },
            "colorscale": [
             [
              0,
              "#0d0887"
             ],
             [
              0.1111111111111111,
              "#46039f"
             ],
             [
              0.2222222222222222,
              "#7201a8"
             ],
             [
              0.3333333333333333,
              "#9c179e"
             ],
             [
              0.4444444444444444,
              "#bd3786"
             ],
             [
              0.5555555555555556,
              "#d8576b"
             ],
             [
              0.6666666666666666,
              "#ed7953"
             ],
             [
              0.7777777777777778,
              "#fb9f3a"
             ],
             [
              0.8888888888888888,
              "#fdca26"
             ],
             [
              1,
              "#f0f921"
             ]
            ],
            "type": "heatmap"
           }
          ],
          "heatmapgl": [
           {
            "colorbar": {
             "outlinewidth": 0,
             "ticks": ""
            },
            "colorscale": [
             [
              0,
              "#0d0887"
             ],
             [
              0.1111111111111111,
              "#46039f"
             ],
             [
              0.2222222222222222,
              "#7201a8"
             ],
             [
              0.3333333333333333,
              "#9c179e"
             ],
             [
              0.4444444444444444,
              "#bd3786"
             ],
             [
              0.5555555555555556,
              "#d8576b"
             ],
             [
              0.6666666666666666,
              "#ed7953"
             ],
             [
              0.7777777777777778,
              "#fb9f3a"
             ],
             [
              0.8888888888888888,
              "#fdca26"
             ],
             [
              1,
              "#f0f921"
             ]
            ],
            "type": "heatmapgl"
           }
          ],
          "histogram": [
           {
            "marker": {
             "colorbar": {
              "outlinewidth": 0,
              "ticks": ""
             }
            },
            "type": "histogram"
           }
          ],
          "histogram2d": [
           {
            "colorbar": {
             "outlinewidth": 0,
             "ticks": ""
            },
            "colorscale": [
             [
              0,
              "#0d0887"
             ],
             [
              0.1111111111111111,
              "#46039f"
             ],
             [
              0.2222222222222222,
              "#7201a8"
             ],
             [
              0.3333333333333333,
              "#9c179e"
             ],
             [
              0.4444444444444444,
              "#bd3786"
             ],
             [
              0.5555555555555556,
              "#d8576b"
             ],
             [
              0.6666666666666666,
              "#ed7953"
             ],
             [
              0.7777777777777778,
              "#fb9f3a"
             ],
             [
              0.8888888888888888,
              "#fdca26"
             ],
             [
              1,
              "#f0f921"
             ]
            ],
            "type": "histogram2d"
           }
          ],
          "histogram2dcontour": [
           {
            "colorbar": {
             "outlinewidth": 0,
             "ticks": ""
            },
            "colorscale": [
             [
              0,
              "#0d0887"
             ],
             [
              0.1111111111111111,
              "#46039f"
             ],
             [
              0.2222222222222222,
              "#7201a8"
             ],
             [
              0.3333333333333333,
              "#9c179e"
             ],
             [
              0.4444444444444444,
              "#bd3786"
             ],
             [
              0.5555555555555556,
              "#d8576b"
             ],
             [
              0.6666666666666666,
              "#ed7953"
             ],
             [
              0.7777777777777778,
              "#fb9f3a"
             ],
             [
              0.8888888888888888,
              "#fdca26"
             ],
             [
              1,
              "#f0f921"
             ]
            ],
            "type": "histogram2dcontour"
           }
          ],
          "mesh3d": [
           {
            "colorbar": {
             "outlinewidth": 0,
             "ticks": ""
            },
            "type": "mesh3d"
           }
          ],
          "parcoords": [
           {
            "line": {
             "colorbar": {
              "outlinewidth": 0,
              "ticks": ""
             }
            },
            "type": "parcoords"
           }
          ],
          "pie": [
           {
            "automargin": true,
            "type": "pie"
           }
          ],
          "scatter": [
           {
            "marker": {
             "colorbar": {
              "outlinewidth": 0,
              "ticks": ""
             }
            },
            "type": "scatter"
           }
          ],
          "scatter3d": [
           {
            "line": {
             "colorbar": {
              "outlinewidth": 0,
              "ticks": ""
             }
            },
            "marker": {
             "colorbar": {
              "outlinewidth": 0,
              "ticks": ""
             }
            },
            "type": "scatter3d"
           }
          ],
          "scattercarpet": [
           {
            "marker": {
             "colorbar": {
              "outlinewidth": 0,
              "ticks": ""
             }
            },
            "type": "scattercarpet"
           }
          ],
          "scattergeo": [
           {
            "marker": {
             "colorbar": {
              "outlinewidth": 0,
              "ticks": ""
             }
            },
            "type": "scattergeo"
           }
          ],
          "scattergl": [
           {
            "marker": {
             "colorbar": {
              "outlinewidth": 0,
              "ticks": ""
             }
            },
            "type": "scattergl"
           }
          ],
          "scattermapbox": [
           {
            "marker": {
             "colorbar": {
              "outlinewidth": 0,
              "ticks": ""
             }
            },
            "type": "scattermapbox"
           }
          ],
          "scatterpolar": [
           {
            "marker": {
             "colorbar": {
              "outlinewidth": 0,
              "ticks": ""
             }
            },
            "type": "scatterpolar"
           }
          ],
          "scatterpolargl": [
           {
            "marker": {
             "colorbar": {
              "outlinewidth": 0,
              "ticks": ""
             }
            },
            "type": "scatterpolargl"
           }
          ],
          "scatterternary": [
           {
            "marker": {
             "colorbar": {
              "outlinewidth": 0,
              "ticks": ""
             }
            },
            "type": "scatterternary"
           }
          ],
          "surface": [
           {
            "colorbar": {
             "outlinewidth": 0,
             "ticks": ""
            },
            "colorscale": [
             [
              0,
              "#0d0887"
             ],
             [
              0.1111111111111111,
              "#46039f"
             ],
             [
              0.2222222222222222,
              "#7201a8"
             ],
             [
              0.3333333333333333,
              "#9c179e"
             ],
             [
              0.4444444444444444,
              "#bd3786"
             ],
             [
              0.5555555555555556,
              "#d8576b"
             ],
             [
              0.6666666666666666,
              "#ed7953"
             ],
             [
              0.7777777777777778,
              "#fb9f3a"
             ],
             [
              0.8888888888888888,
              "#fdca26"
             ],
             [
              1,
              "#f0f921"
             ]
            ],
            "type": "surface"
           }
          ],
          "table": [
           {
            "cells": {
             "fill": {
              "color": "#EBF0F8"
             },
             "line": {
              "color": "white"
             }
            },
            "header": {
             "fill": {
              "color": "#C8D4E3"
             },
             "line": {
              "color": "white"
             }
            },
            "type": "table"
           }
          ]
         },
         "layout": {
          "annotationdefaults": {
           "arrowcolor": "#2a3f5f",
           "arrowhead": 0,
           "arrowwidth": 1
          },
          "autotypenumbers": "strict",
          "coloraxis": {
           "colorbar": {
            "outlinewidth": 0,
            "ticks": ""
           }
          },
          "colorscale": {
           "diverging": [
            [
             0,
             "#8e0152"
            ],
            [
             0.1,
             "#c51b7d"
            ],
            [
             0.2,
             "#de77ae"
            ],
            [
             0.3,
             "#f1b6da"
            ],
            [
             0.4,
             "#fde0ef"
            ],
            [
             0.5,
             "#f7f7f7"
            ],
            [
             0.6,
             "#e6f5d0"
            ],
            [
             0.7,
             "#b8e186"
            ],
            [
             0.8,
             "#7fbc41"
            ],
            [
             0.9,
             "#4d9221"
            ],
            [
             1,
             "#276419"
            ]
           ],
           "sequential": [
            [
             0,
             "#0d0887"
            ],
            [
             0.1111111111111111,
             "#46039f"
            ],
            [
             0.2222222222222222,
             "#7201a8"
            ],
            [
             0.3333333333333333,
             "#9c179e"
            ],
            [
             0.4444444444444444,
             "#bd3786"
            ],
            [
             0.5555555555555556,
             "#d8576b"
            ],
            [
             0.6666666666666666,
             "#ed7953"
            ],
            [
             0.7777777777777778,
             "#fb9f3a"
            ],
            [
             0.8888888888888888,
             "#fdca26"
            ],
            [
             1,
             "#f0f921"
            ]
           ],
           "sequentialminus": [
            [
             0,
             "#0d0887"
            ],
            [
             0.1111111111111111,
             "#46039f"
            ],
            [
             0.2222222222222222,
             "#7201a8"
            ],
            [
             0.3333333333333333,
             "#9c179e"
            ],
            [
             0.4444444444444444,
             "#bd3786"
            ],
            [
             0.5555555555555556,
             "#d8576b"
            ],
            [
             0.6666666666666666,
             "#ed7953"
            ],
            [
             0.7777777777777778,
             "#fb9f3a"
            ],
            [
             0.8888888888888888,
             "#fdca26"
            ],
            [
             1,
             "#f0f921"
            ]
           ]
          },
          "colorway": [
           "#636efa",
           "#EF553B",
           "#00cc96",
           "#ab63fa",
           "#FFA15A",
           "#19d3f3",
           "#FF6692",
           "#B6E880",
           "#FF97FF",
           "#FECB52"
          ],
          "font": {
           "color": "#2a3f5f"
          },
          "geo": {
           "bgcolor": "white",
           "lakecolor": "white",
           "landcolor": "#E5ECF6",
           "showlakes": true,
           "showland": true,
           "subunitcolor": "white"
          },
          "hoverlabel": {
           "align": "left"
          },
          "hovermode": "closest",
          "mapbox": {
           "style": "light"
          },
          "paper_bgcolor": "white",
          "plot_bgcolor": "#E5ECF6",
          "polar": {
           "angularaxis": {
            "gridcolor": "white",
            "linecolor": "white",
            "ticks": ""
           },
           "bgcolor": "#E5ECF6",
           "radialaxis": {
            "gridcolor": "white",
            "linecolor": "white",
            "ticks": ""
           }
          },
          "scene": {
           "xaxis": {
            "backgroundcolor": "#E5ECF6",
            "gridcolor": "white",
            "gridwidth": 2,
            "linecolor": "white",
            "showbackground": true,
            "ticks": "",
            "zerolinecolor": "white"
           },
           "yaxis": {
            "backgroundcolor": "#E5ECF6",
            "gridcolor": "white",
            "gridwidth": 2,
            "linecolor": "white",
            "showbackground": true,
            "ticks": "",
            "zerolinecolor": "white"
           },
           "zaxis": {
            "backgroundcolor": "#E5ECF6",
            "gridcolor": "white",
            "gridwidth": 2,
            "linecolor": "white",
            "showbackground": true,
            "ticks": "",
            "zerolinecolor": "white"
           }
          },
          "shapedefaults": {
           "line": {
            "color": "#2a3f5f"
           }
          },
          "ternary": {
           "aaxis": {
            "gridcolor": "white",
            "linecolor": "white",
            "ticks": ""
           },
           "baxis": {
            "gridcolor": "white",
            "linecolor": "white",
            "ticks": ""
           },
           "bgcolor": "#E5ECF6",
           "caxis": {
            "gridcolor": "white",
            "linecolor": "white",
            "ticks": ""
           }
          },
          "title": {
           "x": 0.05
          },
          "xaxis": {
           "automargin": true,
           "gridcolor": "white",
           "linecolor": "white",
           "ticks": "",
           "title": {
            "standoff": 15
           },
           "zerolinecolor": "white",
           "zerolinewidth": 2
          },
          "yaxis": {
           "automargin": true,
           "gridcolor": "white",
           "linecolor": "white",
           "ticks": "",
           "title": {
            "standoff": 15
           },
           "zerolinecolor": "white",
           "zerolinewidth": 2
          }
         }
        },
        "title": {
         "text": "Age and medical costs"
        },
        "xaxis": {
         "anchor": "y",
         "domain": [
          0,
          1
         ],
         "title": {
          "text": "age"
         }
        },
        "yaxis": {
         "anchor": "x",
         "domain": [
          0,
          1
         ],
         "title": {
          "text": "charges"
         }
        }
       }
      },
      "text/html": [
       "<div>                            <div id=\"7a820cdf-2046-4ec7-af1e-fa4a341ef664\" class=\"plotly-graph-div\" style=\"height:525px; width:100%;\"></div>            <script type=\"text/javascript\">                require([\"plotly\"], function(Plotly) {                    window.PLOTLYENV=window.PLOTLYENV || {};                                    if (document.getElementById(\"7a820cdf-2046-4ec7-af1e-fa4a341ef664\")) {                    Plotly.newPlot(                        \"7a820cdf-2046-4ec7-af1e-fa4a341ef664\",                        [{\"hovertemplate\": \"age=%{x}<br>charges=%{y}<extra></extra>\", \"legendgroup\": \"\", \"marker\": {\"color\": \"#636efa\", \"symbol\": \"circle\"}, \"mode\": \"markers\", \"name\": \"\", \"orientation\": \"v\", \"showlegend\": false, \"type\": \"scatter\", \"x\": [18, 19, 20, 21, 22, 23, 24, 25, 26, 27, 28, 29, 30, 31, 32, 33, 34, 35, 36, 37, 38, 39, 40, 41, 42, 43, 44, 45, 46, 47, 48, 49, 50, 51, 52, 53, 54, 55, 56, 57, 58, 59, 60, 61, 62, 63, 64], \"xaxis\": \"x\", \"y\": [3161.608695652174, 3560.7611940298507, 3808.4814814814813, 2990.25, 4566.107142857143, 4974.821428571428, 3966.3214285714284, 4344.535714285715, 3955.8214285714284, 5095.25, 4187.107142857143, 4473.925925925926, 5917.037037037037, 5138.407407407408, 5642.346153846154, 5906.884615384615, 5383.884615384615, 5953.12, 5766.48, 8228.12, 4979.833333333333, 6055.92, 5791.851851851852, 5459.555555555556, 6474.0, 8478.777777777777, 8023.962962962963, 6080.172413793103, 8040.517241379311, 8585.310344827587, 7646.758620689655, 6059.107142857143, 7242.103448275862, 9622.275862068966, 9737.896551724138, 8030.321428571428, 10284.607142857143, 7685.576923076923, 8538.846153846154, 9658.884615384615, 9043.32, 9251.36, 11275.95652173913, 13440.04347826087, 11008.869565217392, 12124.565217391304, 14033.636363636364], \"yaxis\": \"y\"}, {\"hovertemplate\": \"<b>OLS trendline</b><br>charges = 179.577 * age + -348.268<br>R<sup>2</sup>=0.830599<br><br>age=%{x}<br>charges=%{y} <b>(trend)</b><extra></extra>\", \"legendgroup\": \"\", \"marker\": {\"color\": \"#636efa\", \"symbol\": \"circle\"}, \"mode\": \"lines\", \"name\": \"\", \"showlegend\": false, \"type\": \"scatter\", \"x\": [18, 19, 20, 21, 22, 23, 24, 25, 26, 27, 28, 29, 30, 31, 32, 33, 34, 35, 36, 37, 38, 39, 40, 41, 42, 43, 44, 45, 46, 47, 48, 49, 50, 51, 52, 53, 54, 55, 56, 57, 58, 59, 60, 61, 62, 63, 64], \"xaxis\": \"x\", \"y\": [2884.108625376089, 3063.6851254096377, 3243.261625443186, 3422.8381254767346, 3602.4146255102833, 3781.991125543832, 3961.5676255773806, 4141.144125610928, 4320.720625644477, 4500.297125678026, 4679.873625711574, 4859.450125745123, 5039.026625778671, 5218.603125812219, 5398.179625845768, 5577.756125879317, 5757.332625912865, 5936.909125946413, 6116.485625979962, 6296.06212601351, 6475.638626047059, 6655.215126080608, 6834.791626114155, 7014.368126147704, 7193.944626181253, 7373.521126214801, 7553.09762624835, 7732.674126281899, 7912.250626315447, 8091.827126348996, 8271.403626382544, 8450.98012641609, 8630.55662644964, 8810.133126483188, 8989.709626516737, 9169.286126550285, 9348.862626583834, 9528.439126617382, 9708.015626650931, 9887.59212668448, 10067.168626718028, 10246.745126751575, 10426.321626785124, 10605.898126818673, 10785.474626852221, 10965.05112688577, 11144.627626919319], \"yaxis\": \"y\"}],                        {\"legend\": {\"tracegroupgap\": 0}, \"template\": {\"data\": {\"bar\": [{\"error_x\": {\"color\": \"#2a3f5f\"}, \"error_y\": {\"color\": \"#2a3f5f\"}, \"marker\": {\"line\": {\"color\": \"#E5ECF6\", \"width\": 0.5}}, \"type\": \"bar\"}], \"barpolar\": [{\"marker\": {\"line\": {\"color\": \"#E5ECF6\", \"width\": 0.5}}, \"type\": \"barpolar\"}], \"carpet\": [{\"aaxis\": {\"endlinecolor\": \"#2a3f5f\", \"gridcolor\": \"white\", \"linecolor\": \"white\", \"minorgridcolor\": \"white\", \"startlinecolor\": \"#2a3f5f\"}, \"baxis\": {\"endlinecolor\": \"#2a3f5f\", \"gridcolor\": \"white\", \"linecolor\": \"white\", \"minorgridcolor\": \"white\", \"startlinecolor\": \"#2a3f5f\"}, \"type\": \"carpet\"}], \"choropleth\": [{\"colorbar\": {\"outlinewidth\": 0, \"ticks\": \"\"}, \"type\": \"choropleth\"}], \"contour\": [{\"colorbar\": {\"outlinewidth\": 0, \"ticks\": \"\"}, \"colorscale\": [[0.0, \"#0d0887\"], [0.1111111111111111, \"#46039f\"], [0.2222222222222222, \"#7201a8\"], [0.3333333333333333, \"#9c179e\"], [0.4444444444444444, \"#bd3786\"], [0.5555555555555556, \"#d8576b\"], [0.6666666666666666, \"#ed7953\"], [0.7777777777777778, \"#fb9f3a\"], [0.8888888888888888, \"#fdca26\"], [1.0, \"#f0f921\"]], \"type\": \"contour\"}], \"contourcarpet\": [{\"colorbar\": {\"outlinewidth\": 0, \"ticks\": \"\"}, \"type\": \"contourcarpet\"}], \"heatmap\": [{\"colorbar\": {\"outlinewidth\": 0, \"ticks\": \"\"}, \"colorscale\": [[0.0, \"#0d0887\"], [0.1111111111111111, \"#46039f\"], [0.2222222222222222, \"#7201a8\"], [0.3333333333333333, \"#9c179e\"], [0.4444444444444444, \"#bd3786\"], [0.5555555555555556, \"#d8576b\"], [0.6666666666666666, \"#ed7953\"], [0.7777777777777778, \"#fb9f3a\"], [0.8888888888888888, \"#fdca26\"], [1.0, \"#f0f921\"]], \"type\": \"heatmap\"}], \"heatmapgl\": [{\"colorbar\": {\"outlinewidth\": 0, \"ticks\": \"\"}, \"colorscale\": [[0.0, \"#0d0887\"], [0.1111111111111111, \"#46039f\"], [0.2222222222222222, \"#7201a8\"], [0.3333333333333333, \"#9c179e\"], [0.4444444444444444, \"#bd3786\"], [0.5555555555555556, \"#d8576b\"], [0.6666666666666666, \"#ed7953\"], [0.7777777777777778, \"#fb9f3a\"], [0.8888888888888888, \"#fdca26\"], [1.0, \"#f0f921\"]], \"type\": \"heatmapgl\"}], \"histogram\": [{\"marker\": {\"colorbar\": {\"outlinewidth\": 0, \"ticks\": \"\"}}, \"type\": \"histogram\"}], \"histogram2d\": [{\"colorbar\": {\"outlinewidth\": 0, \"ticks\": \"\"}, \"colorscale\": [[0.0, \"#0d0887\"], [0.1111111111111111, \"#46039f\"], [0.2222222222222222, \"#7201a8\"], [0.3333333333333333, \"#9c179e\"], [0.4444444444444444, \"#bd3786\"], [0.5555555555555556, \"#d8576b\"], [0.6666666666666666, \"#ed7953\"], [0.7777777777777778, \"#fb9f3a\"], [0.8888888888888888, \"#fdca26\"], [1.0, \"#f0f921\"]], \"type\": \"histogram2d\"}], \"histogram2dcontour\": [{\"colorbar\": {\"outlinewidth\": 0, \"ticks\": \"\"}, \"colorscale\": [[0.0, \"#0d0887\"], [0.1111111111111111, \"#46039f\"], [0.2222222222222222, \"#7201a8\"], [0.3333333333333333, \"#9c179e\"], [0.4444444444444444, \"#bd3786\"], [0.5555555555555556, \"#d8576b\"], [0.6666666666666666, \"#ed7953\"], [0.7777777777777778, \"#fb9f3a\"], [0.8888888888888888, \"#fdca26\"], [1.0, \"#f0f921\"]], \"type\": \"histogram2dcontour\"}], \"mesh3d\": [{\"colorbar\": {\"outlinewidth\": 0, \"ticks\": \"\"}, \"type\": \"mesh3d\"}], \"parcoords\": [{\"line\": {\"colorbar\": {\"outlinewidth\": 0, \"ticks\": \"\"}}, \"type\": \"parcoords\"}], \"pie\": [{\"automargin\": true, \"type\": \"pie\"}], \"scatter\": [{\"marker\": {\"colorbar\": {\"outlinewidth\": 0, \"ticks\": \"\"}}, \"type\": \"scatter\"}], \"scatter3d\": [{\"line\": {\"colorbar\": {\"outlinewidth\": 0, \"ticks\": \"\"}}, \"marker\": {\"colorbar\": {\"outlinewidth\": 0, \"ticks\": \"\"}}, \"type\": \"scatter3d\"}], \"scattercarpet\": [{\"marker\": {\"colorbar\": {\"outlinewidth\": 0, \"ticks\": \"\"}}, \"type\": \"scattercarpet\"}], \"scattergeo\": [{\"marker\": {\"colorbar\": {\"outlinewidth\": 0, \"ticks\": \"\"}}, \"type\": \"scattergeo\"}], \"scattergl\": [{\"marker\": {\"colorbar\": {\"outlinewidth\": 0, \"ticks\": \"\"}}, \"type\": \"scattergl\"}], \"scattermapbox\": [{\"marker\": {\"colorbar\": {\"outlinewidth\": 0, \"ticks\": \"\"}}, \"type\": \"scattermapbox\"}], \"scatterpolar\": [{\"marker\": {\"colorbar\": {\"outlinewidth\": 0, \"ticks\": \"\"}}, \"type\": \"scatterpolar\"}], \"scatterpolargl\": [{\"marker\": {\"colorbar\": {\"outlinewidth\": 0, \"ticks\": \"\"}}, \"type\": \"scatterpolargl\"}], \"scatterternary\": [{\"marker\": {\"colorbar\": {\"outlinewidth\": 0, \"ticks\": \"\"}}, \"type\": \"scatterternary\"}], \"surface\": [{\"colorbar\": {\"outlinewidth\": 0, \"ticks\": \"\"}, \"colorscale\": [[0.0, \"#0d0887\"], [0.1111111111111111, \"#46039f\"], [0.2222222222222222, \"#7201a8\"], [0.3333333333333333, \"#9c179e\"], [0.4444444444444444, \"#bd3786\"], [0.5555555555555556, \"#d8576b\"], [0.6666666666666666, \"#ed7953\"], [0.7777777777777778, \"#fb9f3a\"], [0.8888888888888888, \"#fdca26\"], [1.0, \"#f0f921\"]], \"type\": \"surface\"}], \"table\": [{\"cells\": {\"fill\": {\"color\": \"#EBF0F8\"}, \"line\": {\"color\": \"white\"}}, \"header\": {\"fill\": {\"color\": \"#C8D4E3\"}, \"line\": {\"color\": \"white\"}}, \"type\": \"table\"}]}, \"layout\": {\"annotationdefaults\": {\"arrowcolor\": \"#2a3f5f\", \"arrowhead\": 0, \"arrowwidth\": 1}, \"autotypenumbers\": \"strict\", \"coloraxis\": {\"colorbar\": {\"outlinewidth\": 0, \"ticks\": \"\"}}, \"colorscale\": {\"diverging\": [[0, \"#8e0152\"], [0.1, \"#c51b7d\"], [0.2, \"#de77ae\"], [0.3, \"#f1b6da\"], [0.4, \"#fde0ef\"], [0.5, \"#f7f7f7\"], [0.6, \"#e6f5d0\"], [0.7, \"#b8e186\"], [0.8, \"#7fbc41\"], [0.9, \"#4d9221\"], [1, \"#276419\"]], \"sequential\": [[0.0, \"#0d0887\"], [0.1111111111111111, \"#46039f\"], [0.2222222222222222, \"#7201a8\"], [0.3333333333333333, \"#9c179e\"], [0.4444444444444444, \"#bd3786\"], [0.5555555555555556, \"#d8576b\"], [0.6666666666666666, \"#ed7953\"], [0.7777777777777778, \"#fb9f3a\"], [0.8888888888888888, \"#fdca26\"], [1.0, \"#f0f921\"]], \"sequentialminus\": [[0.0, \"#0d0887\"], [0.1111111111111111, \"#46039f\"], [0.2222222222222222, \"#7201a8\"], [0.3333333333333333, \"#9c179e\"], [0.4444444444444444, \"#bd3786\"], [0.5555555555555556, \"#d8576b\"], [0.6666666666666666, \"#ed7953\"], [0.7777777777777778, \"#fb9f3a\"], [0.8888888888888888, \"#fdca26\"], [1.0, \"#f0f921\"]]}, \"colorway\": [\"#636efa\", \"#EF553B\", \"#00cc96\", \"#ab63fa\", \"#FFA15A\", \"#19d3f3\", \"#FF6692\", \"#B6E880\", \"#FF97FF\", \"#FECB52\"], \"font\": {\"color\": \"#2a3f5f\"}, \"geo\": {\"bgcolor\": \"white\", \"lakecolor\": \"white\", \"landcolor\": \"#E5ECF6\", \"showlakes\": true, \"showland\": true, \"subunitcolor\": \"white\"}, \"hoverlabel\": {\"align\": \"left\"}, \"hovermode\": \"closest\", \"mapbox\": {\"style\": \"light\"}, \"paper_bgcolor\": \"white\", \"plot_bgcolor\": \"#E5ECF6\", \"polar\": {\"angularaxis\": {\"gridcolor\": \"white\", \"linecolor\": \"white\", \"ticks\": \"\"}, \"bgcolor\": \"#E5ECF6\", \"radialaxis\": {\"gridcolor\": \"white\", \"linecolor\": \"white\", \"ticks\": \"\"}}, \"scene\": {\"xaxis\": {\"backgroundcolor\": \"#E5ECF6\", \"gridcolor\": \"white\", \"gridwidth\": 2, \"linecolor\": \"white\", \"showbackground\": true, \"ticks\": \"\", \"zerolinecolor\": \"white\"}, \"yaxis\": {\"backgroundcolor\": \"#E5ECF6\", \"gridcolor\": \"white\", \"gridwidth\": 2, \"linecolor\": \"white\", \"showbackground\": true, \"ticks\": \"\", \"zerolinecolor\": \"white\"}, \"zaxis\": {\"backgroundcolor\": \"#E5ECF6\", \"gridcolor\": \"white\", \"gridwidth\": 2, \"linecolor\": \"white\", \"showbackground\": true, \"ticks\": \"\", \"zerolinecolor\": \"white\"}}, \"shapedefaults\": {\"line\": {\"color\": \"#2a3f5f\"}}, \"ternary\": {\"aaxis\": {\"gridcolor\": \"white\", \"linecolor\": \"white\", \"ticks\": \"\"}, \"baxis\": {\"gridcolor\": \"white\", \"linecolor\": \"white\", \"ticks\": \"\"}, \"bgcolor\": \"#E5ECF6\", \"caxis\": {\"gridcolor\": \"white\", \"linecolor\": \"white\", \"ticks\": \"\"}}, \"title\": {\"x\": 0.05}, \"xaxis\": {\"automargin\": true, \"gridcolor\": \"white\", \"linecolor\": \"white\", \"ticks\": \"\", \"title\": {\"standoff\": 15}, \"zerolinecolor\": \"white\", \"zerolinewidth\": 2}, \"yaxis\": {\"automargin\": true, \"gridcolor\": \"white\", \"linecolor\": \"white\", \"ticks\": \"\", \"title\": {\"standoff\": 15}, \"zerolinecolor\": \"white\", \"zerolinewidth\": 2}}}, \"title\": {\"text\": \"Age and medical costs\"}, \"xaxis\": {\"anchor\": \"y\", \"domain\": [0.0, 1.0], \"title\": {\"text\": \"age\"}}, \"yaxis\": {\"anchor\": \"x\", \"domain\": [0.0, 1.0], \"title\": {\"text\": \"charges\"}}},                        {\"responsive\": true}                    ).then(function(){\n",
       "                            \n",
       "var gd = document.getElementById('7a820cdf-2046-4ec7-af1e-fa4a341ef664');\n",
       "var x = new MutationObserver(function (mutations, observer) {{\n",
       "        var display = window.getComputedStyle(gd).display;\n",
       "        if (!display || display === 'none') {{\n",
       "            console.log([gd, 'removed!']);\n",
       "            Plotly.purge(gd);\n",
       "            observer.disconnect();\n",
       "        }}\n",
       "}});\n",
       "\n",
       "// Listen for the removal of the full notebook cells\n",
       "var notebookContainer = gd.closest('#notebook-container');\n",
       "if (notebookContainer) {{\n",
       "    x.observe(notebookContainer, {childList: true});\n",
       "}}\n",
       "\n",
       "// Listen for the clearing of the current output cell\n",
       "var outputEl = gd.closest('.output');\n",
       "if (outputEl) {{\n",
       "    x.observe(outputEl, {childList: true});\n",
       "}}\n",
       "\n",
       "                        })                };                });            </script>        </div>"
      ]
     },
     "metadata": {},
     "output_type": "display_data"
    }
   ],
   "source": [
    "# Age-charges link, averge per patient\n",
    "fig = px.scatter(data.groupby('age').mean().reset_index(),  \n",
    "             x = 'age',\n",
    "             y = 'charges',\n",
    "             trendline = 'ols',\n",
    "             title = 'Age and medical costs')\n",
    "fig.show()"
   ]
  },
  {
   "cell_type": "markdown",
   "metadata": {},
   "source": [
    "With regards only to age would be the lr formula for premium: 179.577*age + (-348.268), R^2 being 0.83. The regression model accounts for a lot of the variance (we see that from the data points being mostly close to the regression line)."
   ]
  },
  {
   "cell_type": "code",
   "execution_count": 56,
   "metadata": {},
   "outputs": [
    {
     "data": {
      "application/vnd.plotly.v1+json": {
       "config": {
        "plotlyServerURL": "https://plot.ly"
       },
       "data": [
        {
         "alignmentgroup": "True",
         "hovertemplate": "age_group=%{x}<br>charges=%{y}<extra></extra>",
         "legendgroup": "",
         "marker": {
          "color": "#636efa"
         },
         "name": "",
         "notched": false,
         "offsetgroup": "",
         "orientation": "v",
         "showlegend": false,
         "type": "box",
         "x": [
          0,
          0,
          0,
          0,
          0,
          0,
          2,
          0,
          0,
          2,
          0,
          2,
          0,
          2,
          0,
          0,
          2,
          0,
          2,
          0,
          2,
          0,
          0,
          0,
          0,
          2,
          2,
          2,
          0,
          0,
          0,
          0,
          2,
          0,
          0,
          2,
          0,
          0,
          2,
          0,
          0,
          2,
          0,
          1,
          2,
          0,
          0,
          2,
          0,
          0,
          0,
          2,
          0,
          1,
          2,
          2,
          0,
          2,
          0,
          2,
          0,
          2,
          0,
          0,
          0,
          2,
          1,
          1,
          0,
          0,
          0,
          2,
          2,
          2,
          2,
          0,
          0,
          0,
          2,
          0,
          2,
          0,
          2,
          0,
          2,
          2,
          2,
          2,
          2,
          0,
          2,
          2,
          0,
          2,
          0,
          2,
          2,
          2,
          2,
          0,
          0,
          2,
          0,
          0,
          0,
          0,
          0,
          2,
          2,
          2,
          0,
          0,
          2,
          2,
          2,
          0,
          2,
          0,
          2,
          0,
          0,
          2,
          2,
          0,
          0,
          2,
          0,
          1,
          2,
          2,
          2,
          0,
          0,
          0,
          0,
          0,
          2,
          0,
          0,
          0,
          0,
          0,
          0,
          0,
          2,
          2,
          2,
          0,
          0,
          2,
          0,
          2,
          1,
          2,
          2,
          0,
          0,
          2,
          2,
          0,
          2,
          0,
          0,
          2,
          0,
          0,
          0,
          2,
          2,
          0,
          0,
          0,
          2,
          1,
          2,
          2,
          2,
          2,
          0,
          0,
          2,
          2,
          0,
          0,
          0,
          2,
          0,
          2,
          0,
          0,
          2,
          0,
          0,
          1,
          2,
          2,
          2,
          0,
          2,
          2,
          0,
          2,
          0,
          2,
          0,
          2,
          1,
          0,
          1,
          0,
          0,
          2,
          2,
          2,
          0,
          0,
          0,
          0,
          2,
          0,
          0,
          2,
          2,
          0,
          2,
          2,
          2,
          2,
          2,
          0,
          2,
          1,
          1,
          0,
          0,
          0,
          2,
          0,
          0,
          2,
          1,
          2,
          2,
          2,
          0,
          0,
          0,
          0,
          2,
          2,
          0,
          2,
          2,
          2,
          1,
          2,
          0,
          2,
          0,
          2,
          0,
          2,
          2,
          1,
          2,
          2,
          2,
          0,
          2,
          2,
          2,
          0,
          2,
          0,
          0,
          2,
          2,
          1,
          2,
          0,
          2,
          2,
          2,
          2,
          2,
          2,
          2,
          0,
          0,
          0,
          0,
          0,
          0,
          0,
          2,
          0,
          2,
          0,
          2,
          2,
          0,
          2,
          0,
          0,
          0,
          2,
          2,
          2,
          0,
          2,
          2,
          0,
          2,
          2,
          2,
          2,
          0,
          0,
          0,
          0,
          2,
          0,
          1,
          0,
          2,
          2,
          2,
          2,
          2,
          2,
          2,
          2,
          2,
          2,
          2,
          2,
          2,
          0,
          2,
          2,
          2,
          2,
          0,
          0,
          2,
          0,
          0,
          2,
          2,
          0,
          0,
          0,
          2,
          2,
          2,
          0,
          0,
          2,
          0,
          0,
          0,
          0,
          2,
          2,
          2,
          2,
          0,
          2,
          2,
          2,
          0,
          0,
          0,
          1,
          0,
          2,
          2,
          0,
          2,
          2,
          0,
          2,
          0,
          2,
          2,
          0,
          0,
          2,
          0,
          2,
          2,
          2,
          2,
          2,
          0,
          2,
          0,
          2,
          2,
          2,
          2,
          0,
          2,
          0,
          2,
          1,
          0,
          0,
          2,
          0,
          0,
          0,
          2,
          2,
          0,
          2,
          2,
          2,
          2,
          1,
          0,
          2,
          2,
          1,
          0,
          0,
          0,
          0,
          0,
          2,
          2,
          0,
          2,
          0,
          0,
          2,
          0,
          0,
          0,
          0,
          2,
          2,
          2,
          2,
          2,
          1,
          0,
          1,
          0,
          0,
          0,
          0,
          2,
          2,
          2,
          2,
          1,
          2,
          2,
          2,
          2,
          0,
          0,
          2,
          2,
          0,
          0,
          0,
          0,
          0,
          2,
          2,
          2,
          0,
          0,
          0,
          0,
          2,
          2,
          0,
          2,
          2,
          0,
          2,
          0,
          2,
          2,
          0,
          2,
          0,
          2,
          0,
          0,
          0,
          2,
          2,
          2,
          0,
          2,
          2,
          0,
          1,
          0,
          0,
          0,
          0,
          2,
          2,
          0,
          2,
          0,
          1,
          2,
          0,
          2,
          0,
          0,
          2,
          0,
          2,
          1,
          2,
          0,
          0,
          2,
          2,
          0,
          2,
          2,
          2,
          0,
          2,
          1,
          0,
          2,
          2,
          2,
          0,
          0,
          2,
          2,
          2,
          2,
          0,
          2,
          0,
          2,
          2,
          0,
          2,
          2,
          0,
          0,
          2,
          0,
          0,
          0,
          2,
          2,
          0,
          2,
          0,
          0,
          1,
          2,
          2,
          2,
          0,
          0,
          0,
          2,
          2,
          2,
          0,
          0,
          2,
          0,
          2,
          0,
          1,
          0,
          0,
          0,
          0,
          0,
          2,
          1,
          2,
          2,
          0,
          0,
          2,
          2,
          2,
          0,
          2,
          2,
          0,
          2,
          2,
          2,
          0,
          2,
          0,
          2,
          0,
          0,
          2,
          1,
          0,
          0,
          0,
          2,
          2,
          2,
          0,
          2,
          0,
          0,
          2,
          0,
          2,
          0,
          0,
          0,
          2,
          2,
          2,
          0,
          0,
          1,
          2,
          2,
          0,
          0,
          1,
          2,
          0,
          2,
          2,
          0,
          2,
          2,
          1,
          1,
          0,
          2,
          2,
          2,
          2,
          2,
          2,
          2,
          0,
          0,
          2,
          2,
          0,
          2,
          0,
          0,
          2,
          2,
          2,
          1,
          2,
          1,
          0,
          0,
          0,
          2,
          2,
          2,
          2,
          2,
          2,
          2,
          0,
          0,
          1,
          2,
          0,
          2,
          2,
          1,
          2,
          0,
          0,
          2,
          0,
          0,
          0,
          0,
          2,
          2,
          2,
          0,
          0,
          2,
          2,
          0,
          2,
          0,
          2,
          2,
          0,
          0,
          0,
          2,
          2,
          0,
          0,
          2,
          2,
          2,
          2,
          2,
          2,
          2,
          2,
          0,
          2,
          0,
          2,
          0,
          0,
          2,
          0,
          2,
          0,
          2,
          2,
          2,
          0,
          0,
          0,
          0,
          2,
          0,
          2,
          0,
          2,
          2,
          0,
          0,
          2,
          0,
          0,
          0,
          2,
          2,
          0,
          0,
          1,
          2,
          0,
          0,
          0,
          0,
          0,
          0,
          2,
          2,
          2,
          2,
          2,
          1,
          2,
          2,
          2,
          0,
          2,
          2,
          1,
          2,
          0,
          2,
          0,
          0,
          2,
          2,
          0,
          0,
          2,
          0,
          0,
          2,
          1,
          0,
          0,
          2,
          1,
          0,
          0,
          0,
          2,
          0,
          2,
          2,
          0,
          0,
          0,
          2,
          1,
          0,
          0,
          0,
          2,
          0,
          2,
          0,
          0,
          0,
          0,
          0,
          2,
          0,
          2,
          0,
          0,
          2,
          2,
          2,
          2,
          0,
          2,
          1,
          2,
          0,
          0,
          2,
          0,
          2,
          0,
          2,
          0,
          2,
          0,
          2,
          0,
          2,
          2,
          2,
          2,
          0,
          0,
          2,
          0,
          2,
          2,
          2,
          2,
          0,
          2,
          0,
          0,
          2,
          0,
          1,
          2,
          0,
          2,
          1,
          0,
          2,
          2,
          0,
          2,
          0,
          2,
          2,
          2,
          0,
          2,
          0,
          2,
          0,
          0,
          0,
          0,
          2,
          0,
          0,
          2,
          0,
          0,
          2,
          2,
          0,
          2,
          2,
          2,
          2,
          2,
          0,
          0,
          0,
          2,
          2,
          0,
          2,
          2,
          0,
          0,
          2,
          2,
          0,
          0,
          0,
          2,
          2,
          0,
          0,
          2,
          2,
          2,
          0,
          2,
          2,
          1,
          0,
          2,
          2,
          0,
          2,
          2,
          2,
          0,
          1,
          2,
          2,
          0,
          2,
          2,
          1,
          0,
          2,
          0,
          2,
          0,
          0,
          2,
          2,
          2,
          0,
          2,
          0,
          2,
          2,
          0,
          2,
          0,
          0,
          2,
          0,
          2,
          2,
          0,
          0,
          2,
          2,
          2,
          0,
          2,
          2,
          0,
          1,
          2,
          0,
          0,
          0,
          0,
          0,
          2,
          0,
          2,
          0,
          2,
          0,
          0,
          0,
          2,
          2,
          2,
          0,
          0,
          0,
          1,
          2,
          1,
          0,
          1,
          1,
          2,
          0,
          0,
          0,
          0,
          0,
          2,
          2,
          0,
          0,
          2,
          0,
          2,
          2,
          2,
          2,
          2,
          1,
          2,
          0,
          0,
          2,
          0,
          2,
          0,
          2,
          0,
          2,
          0,
          0,
          0,
          2,
          0,
          2,
          2,
          0,
          0,
          2,
          2,
          0,
          2,
          0,
          0,
          0,
          0,
          0,
          0,
          2,
          2,
          2,
          0,
          0,
          2,
          2,
          2,
          2,
          2,
          0,
          2,
          2,
          2,
          0,
          0,
          0,
          2,
          2,
          0,
          0,
          2,
          2,
          1,
          2,
          2,
          0,
          2,
          0,
          2,
          2,
          0,
          2,
          0,
          0,
          2,
          0,
          0,
          1,
          0,
          2,
          1,
          2,
          2,
          2,
          2,
          2,
          2,
          0,
          0,
          2,
          0,
          2,
          0,
          2,
          0,
          0,
          2,
          0,
          2,
          0,
          2,
          2,
          2,
          0,
          2,
          2,
          1,
          2,
          0,
          0,
          2,
          2,
          0,
          0,
          0,
          0,
          2,
          2,
          0,
          0,
          2,
          2,
          0,
          0,
          0,
          1,
          0,
          2,
          2,
          0,
          2,
          2,
          0,
          0,
          0,
          2,
          2,
          2,
          1,
          2,
          2,
          2,
          0,
          2,
          2,
          0,
          2,
          2,
          0,
          2,
          0,
          0,
          0,
          0,
          0,
          2,
          0,
          0,
          0,
          2,
          0,
          2,
          0,
          0,
          0,
          0,
          2,
          2,
          1,
          0,
          0,
          2,
          1,
          0,
          0,
          2,
          0,
          0,
          2,
          0,
          2,
          0,
          2,
          2,
          0,
          0,
          2,
          2,
          2,
          0,
          0,
          0,
          2,
          1,
          0,
          0,
          2,
          0,
          2,
          0,
          0,
          2,
          0,
          0,
          2,
          0,
          1,
          0,
          2,
          0,
          0,
          1,
          0,
          2,
          1,
          0,
          1,
          2,
          0,
          2,
          0,
          1,
          2,
          2,
          2,
          2,
          0,
          2,
          2,
          2,
          0,
          2,
          2,
          0,
          0,
          2,
          2,
          0,
          0,
          0,
          0,
          2,
          0,
          0,
          0,
          0,
          0,
          0,
          1,
          0,
          2,
          2,
          2,
          2,
          2,
          0,
          0,
          2,
          2,
          2,
          2,
          2,
          0,
          0,
          2,
          0,
          0,
          2,
          0,
          0,
          2,
          0,
          0,
          1,
          0,
          2,
          2,
          0,
          0,
          2,
          2,
          0,
          0,
          0,
          2,
          1,
          0,
          0,
          2,
          2,
          0,
          0,
          0,
          0,
          0,
          2,
          2,
          0,
          2,
          2,
          0,
          0,
          0,
          0,
          2,
          2,
          0,
          0,
          0,
          0,
          0,
          0,
          0,
          0,
          1,
          0,
          2,
          2,
          2,
          0,
          2,
          2,
          2,
          0,
          2,
          2,
          0,
          2,
          2,
          0,
          0,
          0,
          2
         ],
         "x0": " ",
         "xaxis": "x",
         "y": [
          4253,
          2494,
          3138,
          1553,
          2768,
          2993,
          5521,
          5299,
          2819,
          5284,
          1655,
          10701,
          3103,
          10490,
          14323,
          1584,
          5575,
          1728,
          11703,
          10355,
          9944,
          5018,
          2559,
          12591,
          3012,
          4717,
          4478,
          9153,
          2263,
          12430,
          7151,
          1630,
          7841,
          10654,
          2021,
          11013,
          1322,
          15499,
          40748,
          3221,
          5725,
          1495,
          4569,
          6025,
          8876,
          4451,
          7173,
          3853,
          11831,
          3363,
          4495,
          9041,
          11110,
          5587,
          36924,
          7011,
          4698,
          6320,
          9250,
          2850,
          2979,
          7864,
          4094,
          4847,
          2084,
          12968,
          2617,
          7182,
          3949,
          4998,
          2877,
          4858,
          6079,
          2579,
          9895,
          3985,
          2761,
          5732,
          7671,
          2017,
          9106,
          8454,
          14988,
          14451,
          7896,
          21043,
          3722,
          4644,
          4356,
          4495,
          4796,
          15735,
          5595,
          19544,
          6453,
          4967,
          9321,
          8887,
          5079,
          1793,
          2076,
          15111,
          4235,
          5428,
          2224,
          2834,
          1585,
          27173,
          8692,
          5174,
          2846,
          5016,
          6051,
          5993,
          22180,
          6017,
          3004,
          4455,
          6766,
          1703,
          3184,
          11718,
          8339,
          3813,
          4035,
          9083,
          9348,
          4301,
          4532,
          4460,
          8144,
          2092,
          2667,
          2469,
          2986,
          2159,
          5306,
          4159,
          1600,
          3087,
          4050,
          2958,
          7784,
          6875,
          13329,
          7610,
          13354,
          1945,
          1906,
          3239,
          8278,
          7235,
          4317,
          10755,
          6015,
          3967,
          9631,
          3756,
          10317,
          6254,
          9984,
          4745,
          3062,
          3463,
          6562,
          3792,
          1928,
          13189,
          4306,
          1854,
          6309,
          5103,
          35880,
          3005,
          4539,
          4126,
          6571,
          6255,
          3548,
          1795,
          4458,
          3515,
          25518,
          4204,
          4434,
          5203,
          6051,
          6022,
          3448,
          1421,
          5391,
          2670,
          2827,
          5578,
          3935,
          3959,
          16416,
          3904,
          5467,
          5257,
          11435,
          1838,
          4313,
          4226,
          6410,
          6919,
          9237,
          2826,
          4038,
          2792,
          3112,
          5032,
          7004,
          4500,
          1171,
          3697,
          2292,
          5594,
          6901,
          2768,
          6810,
          4899,
          6943,
          4538,
          11620,
          5707,
          3002,
          7843,
          4508,
          1766,
          5008,
          2357,
          6358,
          1469,
          4891,
          5847,
          6798,
          11871,
          3840,
          3843,
          5606,
          15580,
          5389,
          10467,
          3231,
          1732,
          2138,
          4576,
          21660,
          19221,
          2416,
          16496,
          4453,
          23041,
          8075,
          4103,
          7010,
          3624,
          3825,
          8201,
          9553,
          8686,
          34466,
          4847,
          7234,
          3341,
          3047,
          2247,
          19125,
          7857,
          3625,
          2208,
          4150,
          2251,
          2378,
          6254,
          3011,
          9435,
          42668,
          2099,
          6374,
          5063,
          2297,
          18420,
          6390,
          33049,
          3838,
          4197,
          2222,
          17617,
          2807,
          1950,
          1772,
          3939,
          5598,
          13331,
          4811,
          2518,
          8136,
          9392,
          4607,
          9840,
          3907,
          3854,
          5150,
          9348,
          6991,
          2950,
          1818,
          16577,
          6098,
          8304,
          6918,
          6960,
          7109,
          4714,
          5147,
          1870,
          4315,
          7104,
          14936,
          1592,
          4664,
          3063,
          23518,
          25698,
          8552,
          37699,
          11404,
          7775,
          4617,
          7737,
          10456,
          4750,
          7951,
          15265,
          3630,
          2786,
          7531,
          5036,
          12716,
          10649,
          4752,
          3827,
          5402,
          3821,
          2182,
          4175,
          3324,
          3858,
          4560,
          3766,
          2833,
          12371,
          5229,
          5431,
          1320,
          5903,
          2642,
          3598,
          2304,
          2394,
          5400,
          7014,
          4639,
          5028,
          2776,
          5418,
          4126,
          6919,
          6556,
          2580,
          7449,
          8238,
          11257,
          8769,
          7801,
          7014,
          15295,
          5989,
          10556,
          2237,
          2765,
          9893,
          4059,
          3477,
          5007,
          7960,
          4471,
          4813,
          4726,
          6015,
          2504,
          6266,
          2034,
          5360,
          3186,
          2572,
          15101,
          11551,
          6244,
          1402,
          11040,
          3021,
          3331,
          1755,
          2149,
          2099,
          7674,
          6508,
          1871,
          4243,
          6410,
          5623,
          6769,
          14071,
          15391,
          24591,
          28000,
          12566,
          2445,
          3649,
          2133,
          3881,
          2297,
          2501,
          5584,
          2698,
          4248,
          2228,
          5754,
          2559,
          7693,
          2413,
          2415,
          17442,
          2128,
          6628,
          10610,
          4501,
          8568,
          12303,
          5599,
          6278,
          4455,
          4225,
          6190,
          3055,
          1827,
          1343,
          2833,
          9519,
          9591,
          5308,
          6945,
          11251,
          5580,
          6874,
          9078,
          13281,
          4233,
          2119,
          7262,
          4845,
          10210,
          3627,
          1523,
          2588,
          2125,
          2387,
          6696,
          8667,
          17726,
          4935,
          4401,
          3825,
          2419,
          20190,
          7245,
          2344,
          10367,
          6685,
          4664,
          4585,
          1900,
          20732,
          6078,
          2728,
          3867,
          1574,
          18782,
          4787,
          2123,
          3564,
          3214,
          3137,
          13625,
          9845,
          2161,
          6139,
          4142,
          3754,
          4090,
          3658,
          2352,
          3279,
          4676,
          7895,
          2958,
          3242,
          2223,
          7822,
          9206,
          2930,
          4517,
          4286,
          2393,
          4408,
          10341,
          7104,
          7241,
          5227,
          2304,
          3039,
          3211,
          9888,
          1872,
          40939,
          8539,
          5189,
          4561,
          14948,
          2422,
          7804,
          4566,
          3476,
          4786,
          7878,
          2886,
          10122,
          59703,
          5659,
          8959,
          4380,
          20556,
          3736,
          35915,
          6626,
          3619,
          4620,
          7458,
          8717,
          1491,
          5399,
          3347,
          15371,
          4241,
          3955,
          6239,
          1987,
          13873,
          2170,
          2989,
          11309,
          4289,
          5862,
          39266,
          4125,
          3230,
          9521,
          12027,
          8625,
          5703,
          1467,
          19130,
          4572,
          3280,
          4846,
          2927,
          11932,
          3180,
          1487,
          4051,
          2148,
          12181,
          10821,
          4922,
          4802,
          3087,
          2432,
          4734,
          7626,
          6917,
          4033,
          6497,
          4443,
          11517,
          3812,
          5335,
          3690,
          14543,
          5388,
          6854,
          3691,
          10129,
          2196,
          14214,
          3883,
          5560,
          2764,
          4140,
          3110,
          21586,
          4759,
          6797,
          5420,
          9383,
          2407,
          11994,
          3170,
          6049,
          7747,
          4443,
          2683,
          7400,
          10087,
          34319,
          8413,
          2023,
          5159,
          2178,
          10139,
          13971,
          2664,
          8304,
          6469,
          7107,
          7658,
          9807,
          9167,
          5052,
          5477,
          5205,
          2366,
          4581,
          2235,
          6993,
          11443,
          9890,
          4767,
          7208,
          7683,
          6783,
          8071,
          3743,
          8148,
          5389,
          11969,
          3326,
          5226,
          2394,
          8529,
          19901,
          3734,
          15084,
          22405,
          3964,
          2595,
          5009,
          2080,
          4146,
          32898,
          2316,
          12437,
          24010,
          9981,
          4434,
          2516,
          1471,
          14061,
          3854,
          3070,
          3815,
          2547,
          8082,
          2913,
          5927,
          1933,
          6585,
          3866,
          1899,
          5720,
          8815,
          6747,
          15422,
          9114,
          5758,
          3210,
          16527,
          11702,
          5099,
          5625,
          5127,
          25929,
          5657,
          5288,
          4580,
          2959,
          2791,
          5885,
          4673,
          2526,
          5218,
          3972,
          5801,
          10541,
          9350,
          12119,
          8941,
          12521,
          3191,
          3632,
          14497,
          3283,
          5945,
          4459,
          6862,
          4981,
          3038,
          3834,
          4020,
          5746,
          8708,
          18646,
          1418,
          7253,
          9543,
          2166,
          4889,
          20367,
          3024,
          3775,
          6266,
          1917,
          2003,
          7230,
          2801,
          7018,
          2623,
          16530,
          3094,
          3463,
          2312,
          3832,
          8187,
          5501,
          7413,
          4812,
          3747,
          4639,
          1806,
          3673,
          7567,
          3939,
          4229,
          12161,
          4404,
          10038,
          3804,
          7444,
          5323,
          5855,
          5259,
          4076,
          9602,
          3846,
          5071,
          4163,
          4251,
          7655,
          9716,
          3593,
          3933,
          10856,
          4385,
          1869,
          4963,
          8878,
          1957,
          2585,
          6765,
          7243,
          6200,
          7986,
          3578,
          6185,
          4525,
          3808,
          9266,
          1516,
          9949,
          1617,
          8986,
          13679,
          4932,
          2075,
          1924,
          4825,
          14239,
          3085,
          1527,
          3815,
          2522,
          3549,
          4674,
          8237,
          16804,
          4554,
          1921,
          2150,
          4209,
          5620,
          8500,
          16515,
          6526,
          10207,
          1846,
          8947,
          4764,
          5012,
          10575,
          5112,
          4914,
          2893,
          4804,
          3212,
          7874,
          2433,
          4864,
          7002,
          13393,
          5280,
          16755,
          6290,
          9710,
          2890,
          7724,
          9978,
          9689,
          21820,
          3930,
          7573,
          2607,
          14984,
          4529,
          3983,
          4631,
          39136,
          4392,
          9264,
          3721,
          2541,
          2934,
          3474,
          16579,
          5359,
          3171,
          6967,
          3517,
          1750,
          3027,
          2474,
          3404,
          3561,
          3032,
          2424,
          4447,
          3509,
          2433,
          2552,
          30586,
          2583,
          6464,
          13667,
          5404,
          4627,
          9660,
          15729,
          4584,
          3241,
          25903,
          8774,
          17131,
          8616,
          2298,
          3631,
          2369,
          2566,
          43749,
          2293,
          7353,
          7525,
          4268,
          3559,
          4973,
          13768,
          6207,
          2609,
          5155,
          6069,
          3215,
          2069,
          3984,
          10241,
          6186,
          5350,
          5679,
          4134,
          7712,
          2650,
          5844,
          1823,
          5532,
          1805,
          3417,
          11727,
          4133,
          7721,
          5533,
          2657,
          6966,
          5011,
          4133,
          3293,
          4473,
          1814,
          3941,
          1510,
          14643,
          4837,
          1917,
          14538,
          8227,
          6204,
          14046,
          4180,
          5059,
          4434,
          38105,
          5116,
          9752,
          6984,
          5449,
          13215,
          2095,
          17975,
          9069,
          5652,
          3233,
          9547,
          2798,
          10796,
          1758,
          9743,
          2688,
          2231,
          5412,
          4096,
          3778,
          2833,
          4557,
          3486,
          3996,
          8975,
          2072,
          10331,
          3829,
          3868,
          1715,
          4898,
          4717,
          3204,
          4581,
          5094,
          4161,
          6178,
          3434,
          4707,
          5347,
          2209,
          7931,
          3819,
          6562,
          10034,
          7778,
          4206,
          5529,
          6593,
          1442,
          3308,
          2666,
          3574,
          2564,
          11662,
          1994,
          4076,
          2657,
          5061,
          6724,
          5467,
          3608,
          5214,
          2367,
          4745,
          10028,
          4604,
          8169,
          5842,
          18602,
          1662,
          13914,
          3435,
          4981,
          2174,
          5408,
          4201,
          9249,
          19540,
          4326,
          4037,
          15312,
          3445,
          8987,
          13413,
          2320,
          2565,
          9210,
          1824,
          5934,
          2786,
          8331,
          8991,
          3647,
          22355,
          3538,
          11923,
          9863,
          6878,
          4255,
          10245,
          4041,
          5300,
          3978,
          4772,
          6496,
          4259,
          2215,
          4745,
          39746,
          2597,
          3939,
          3099,
          6642,
          9503,
          6246,
          5189,
          13955,
          7953,
          2964,
          4913,
          5012,
          4680,
          5352,
          1826,
          6855,
          7894,
          1711,
          2262,
          2162,
          3060,
          8508,
          7263,
          5448,
          7314,
          18879,
          3318,
          19458,
          5439,
          2708,
          7853,
          6551,
          2783,
          23842,
          2745,
          4545,
          4144,
          7080,
          4257,
          5252,
          8822,
          2404,
          5267,
          5612,
          4792,
          2243,
          2101,
          6874,
          17495,
          7828,
          4559,
          1714,
          5498,
          3541,
          6904,
          10470,
          4664,
          6695,
          7297,
          38475,
          5239,
          17449,
          5662,
          4522,
          5988,
          2894,
          1833,
          3513,
          8508,
          13094,
          4478,
          3973,
          4923,
          3650,
          3434,
          2136,
          7507,
          7004,
          4807,
          3201,
          3350,
          5607,
          7277,
          18899,
          3894,
          3534,
          4766,
          1989,
          12096,
          12353,
          8744,
          5134,
          4133,
          13163,
          3389,
          3117,
          8717,
          8187,
          7734,
          4231,
          1826,
          4717,
          3735,
          11408,
          3292,
          4208,
          7157,
          4536,
          9187,
          12868,
          3204,
          3469,
          2457,
          9499,
          4070,
          4794,
          5305,
          12779,
          4900,
          3401,
          4038,
          5492,
          2356,
          9069,
          9200,
          7709,
          3089,
          6505,
          3333,
          6130,
          10461,
          4042,
          3045,
          6206,
          4089,
          3621,
          3727,
          2116,
          12358,
          2984,
          5618,
          3916,
          2233,
          8490,
          10925,
          7583,
          10132,
          3742,
          3720,
          1776,
          6514,
          6037,
          4363,
          1507,
          4566,
          17270,
          6013,
          3697,
          1910,
          2244,
          4070,
          1887,
          8119,
          2293,
          6398,
          7023,
          6520,
          25011,
          3687,
          4600,
          3732,
          3602,
          3074,
          4659,
          5274,
          1889,
          7410,
          34928,
          33258,
          3295,
          4699,
          2464,
          1706,
          3341,
          2400,
          3708,
          10859,
          5451,
          1570,
          3607,
          4435,
          3125,
          7793,
          10723,
          5552,
          13056,
          3338,
          3576,
          4431,
          3545,
          4399,
          6483,
          10107,
          5264,
          6283,
          3385,
          2738,
          3905,
          6142,
          2293,
          1999,
          4405,
          3594,
          3396,
          5519,
          9309,
          4096,
          5238,
          11735,
          4088,
          2032,
          33041,
          3256,
          4045,
          3553,
          9057,
          4554,
          4129,
          6880,
          1445,
          3304,
          4580,
          1670,
          1881,
          3617,
          2506,
          2262,
          8629,
          24995,
          3146,
          7215,
          5701,
          2880,
          6084,
          8229,
          7343,
          3664,
          2989,
          5261,
          8529,
          6797,
          8524,
          2155,
          1737,
          8577,
          8027,
          5264,
          3681,
          14557,
          12081,
          25190,
          2184,
          9654,
          6226,
          4204,
          2793,
          9365,
          3713,
          4084,
          15448,
          5767,
          2547,
          3026,
          2208,
          19007
         ],
         "y0": " ",
         "yaxis": "y"
        }
       ],
       "layout": {
        "boxmode": "group",
        "legend": {
         "tracegroupgap": 0
        },
        "margin": {
         "t": 60
        },
        "template": {
         "data": {
          "bar": [
           {
            "error_x": {
             "color": "#2a3f5f"
            },
            "error_y": {
             "color": "#2a3f5f"
            },
            "marker": {
             "line": {
              "color": "#E5ECF6",
              "width": 0.5
             }
            },
            "type": "bar"
           }
          ],
          "barpolar": [
           {
            "marker": {
             "line": {
              "color": "#E5ECF6",
              "width": 0.5
             }
            },
            "type": "barpolar"
           }
          ],
          "carpet": [
           {
            "aaxis": {
             "endlinecolor": "#2a3f5f",
             "gridcolor": "white",
             "linecolor": "white",
             "minorgridcolor": "white",
             "startlinecolor": "#2a3f5f"
            },
            "baxis": {
             "endlinecolor": "#2a3f5f",
             "gridcolor": "white",
             "linecolor": "white",
             "minorgridcolor": "white",
             "startlinecolor": "#2a3f5f"
            },
            "type": "carpet"
           }
          ],
          "choropleth": [
           {
            "colorbar": {
             "outlinewidth": 0,
             "ticks": ""
            },
            "type": "choropleth"
           }
          ],
          "contour": [
           {
            "colorbar": {
             "outlinewidth": 0,
             "ticks": ""
            },
            "colorscale": [
             [
              0,
              "#0d0887"
             ],
             [
              0.1111111111111111,
              "#46039f"
             ],
             [
              0.2222222222222222,
              "#7201a8"
             ],
             [
              0.3333333333333333,
              "#9c179e"
             ],
             [
              0.4444444444444444,
              "#bd3786"
             ],
             [
              0.5555555555555556,
              "#d8576b"
             ],
             [
              0.6666666666666666,
              "#ed7953"
             ],
             [
              0.7777777777777778,
              "#fb9f3a"
             ],
             [
              0.8888888888888888,
              "#fdca26"
             ],
             [
              1,
              "#f0f921"
             ]
            ],
            "type": "contour"
           }
          ],
          "contourcarpet": [
           {
            "colorbar": {
             "outlinewidth": 0,
             "ticks": ""
            },
            "type": "contourcarpet"
           }
          ],
          "heatmap": [
           {
            "colorbar": {
             "outlinewidth": 0,
             "ticks": ""
            },
            "colorscale": [
             [
              0,
              "#0d0887"
             ],
             [
              0.1111111111111111,
              "#46039f"
             ],
             [
              0.2222222222222222,
              "#7201a8"
             ],
             [
              0.3333333333333333,
              "#9c179e"
             ],
             [
              0.4444444444444444,
              "#bd3786"
             ],
             [
              0.5555555555555556,
              "#d8576b"
             ],
             [
              0.6666666666666666,
              "#ed7953"
             ],
             [
              0.7777777777777778,
              "#fb9f3a"
             ],
             [
              0.8888888888888888,
              "#fdca26"
             ],
             [
              1,
              "#f0f921"
             ]
            ],
            "type": "heatmap"
           }
          ],
          "heatmapgl": [
           {
            "colorbar": {
             "outlinewidth": 0,
             "ticks": ""
            },
            "colorscale": [
             [
              0,
              "#0d0887"
             ],
             [
              0.1111111111111111,
              "#46039f"
             ],
             [
              0.2222222222222222,
              "#7201a8"
             ],
             [
              0.3333333333333333,
              "#9c179e"
             ],
             [
              0.4444444444444444,
              "#bd3786"
             ],
             [
              0.5555555555555556,
              "#d8576b"
             ],
             [
              0.6666666666666666,
              "#ed7953"
             ],
             [
              0.7777777777777778,
              "#fb9f3a"
             ],
             [
              0.8888888888888888,
              "#fdca26"
             ],
             [
              1,
              "#f0f921"
             ]
            ],
            "type": "heatmapgl"
           }
          ],
          "histogram": [
           {
            "marker": {
             "colorbar": {
              "outlinewidth": 0,
              "ticks": ""
             }
            },
            "type": "histogram"
           }
          ],
          "histogram2d": [
           {
            "colorbar": {
             "outlinewidth": 0,
             "ticks": ""
            },
            "colorscale": [
             [
              0,
              "#0d0887"
             ],
             [
              0.1111111111111111,
              "#46039f"
             ],
             [
              0.2222222222222222,
              "#7201a8"
             ],
             [
              0.3333333333333333,
              "#9c179e"
             ],
             [
              0.4444444444444444,
              "#bd3786"
             ],
             [
              0.5555555555555556,
              "#d8576b"
             ],
             [
              0.6666666666666666,
              "#ed7953"
             ],
             [
              0.7777777777777778,
              "#fb9f3a"
             ],
             [
              0.8888888888888888,
              "#fdca26"
             ],
             [
              1,
              "#f0f921"
             ]
            ],
            "type": "histogram2d"
           }
          ],
          "histogram2dcontour": [
           {
            "colorbar": {
             "outlinewidth": 0,
             "ticks": ""
            },
            "colorscale": [
             [
              0,
              "#0d0887"
             ],
             [
              0.1111111111111111,
              "#46039f"
             ],
             [
              0.2222222222222222,
              "#7201a8"
             ],
             [
              0.3333333333333333,
              "#9c179e"
             ],
             [
              0.4444444444444444,
              "#bd3786"
             ],
             [
              0.5555555555555556,
              "#d8576b"
             ],
             [
              0.6666666666666666,
              "#ed7953"
             ],
             [
              0.7777777777777778,
              "#fb9f3a"
             ],
             [
              0.8888888888888888,
              "#fdca26"
             ],
             [
              1,
              "#f0f921"
             ]
            ],
            "type": "histogram2dcontour"
           }
          ],
          "mesh3d": [
           {
            "colorbar": {
             "outlinewidth": 0,
             "ticks": ""
            },
            "type": "mesh3d"
           }
          ],
          "parcoords": [
           {
            "line": {
             "colorbar": {
              "outlinewidth": 0,
              "ticks": ""
             }
            },
            "type": "parcoords"
           }
          ],
          "pie": [
           {
            "automargin": true,
            "type": "pie"
           }
          ],
          "scatter": [
           {
            "marker": {
             "colorbar": {
              "outlinewidth": 0,
              "ticks": ""
             }
            },
            "type": "scatter"
           }
          ],
          "scatter3d": [
           {
            "line": {
             "colorbar": {
              "outlinewidth": 0,
              "ticks": ""
             }
            },
            "marker": {
             "colorbar": {
              "outlinewidth": 0,
              "ticks": ""
             }
            },
            "type": "scatter3d"
           }
          ],
          "scattercarpet": [
           {
            "marker": {
             "colorbar": {
              "outlinewidth": 0,
              "ticks": ""
             }
            },
            "type": "scattercarpet"
           }
          ],
          "scattergeo": [
           {
            "marker": {
             "colorbar": {
              "outlinewidth": 0,
              "ticks": ""
             }
            },
            "type": "scattergeo"
           }
          ],
          "scattergl": [
           {
            "marker": {
             "colorbar": {
              "outlinewidth": 0,
              "ticks": ""
             }
            },
            "type": "scattergl"
           }
          ],
          "scattermapbox": [
           {
            "marker": {
             "colorbar": {
              "outlinewidth": 0,
              "ticks": ""
             }
            },
            "type": "scattermapbox"
           }
          ],
          "scatterpolar": [
           {
            "marker": {
             "colorbar": {
              "outlinewidth": 0,
              "ticks": ""
             }
            },
            "type": "scatterpolar"
           }
          ],
          "scatterpolargl": [
           {
            "marker": {
             "colorbar": {
              "outlinewidth": 0,
              "ticks": ""
             }
            },
            "type": "scatterpolargl"
           }
          ],
          "scatterternary": [
           {
            "marker": {
             "colorbar": {
              "outlinewidth": 0,
              "ticks": ""
             }
            },
            "type": "scatterternary"
           }
          ],
          "surface": [
           {
            "colorbar": {
             "outlinewidth": 0,
             "ticks": ""
            },
            "colorscale": [
             [
              0,
              "#0d0887"
             ],
             [
              0.1111111111111111,
              "#46039f"
             ],
             [
              0.2222222222222222,
              "#7201a8"
             ],
             [
              0.3333333333333333,
              "#9c179e"
             ],
             [
              0.4444444444444444,
              "#bd3786"
             ],
             [
              0.5555555555555556,
              "#d8576b"
             ],
             [
              0.6666666666666666,
              "#ed7953"
             ],
             [
              0.7777777777777778,
              "#fb9f3a"
             ],
             [
              0.8888888888888888,
              "#fdca26"
             ],
             [
              1,
              "#f0f921"
             ]
            ],
            "type": "surface"
           }
          ],
          "table": [
           {
            "cells": {
             "fill": {
              "color": "#EBF0F8"
             },
             "line": {
              "color": "white"
             }
            },
            "header": {
             "fill": {
              "color": "#C8D4E3"
             },
             "line": {
              "color": "white"
             }
            },
            "type": "table"
           }
          ]
         },
         "layout": {
          "annotationdefaults": {
           "arrowcolor": "#2a3f5f",
           "arrowhead": 0,
           "arrowwidth": 1
          },
          "autotypenumbers": "strict",
          "coloraxis": {
           "colorbar": {
            "outlinewidth": 0,
            "ticks": ""
           }
          },
          "colorscale": {
           "diverging": [
            [
             0,
             "#8e0152"
            ],
            [
             0.1,
             "#c51b7d"
            ],
            [
             0.2,
             "#de77ae"
            ],
            [
             0.3,
             "#f1b6da"
            ],
            [
             0.4,
             "#fde0ef"
            ],
            [
             0.5,
             "#f7f7f7"
            ],
            [
             0.6,
             "#e6f5d0"
            ],
            [
             0.7,
             "#b8e186"
            ],
            [
             0.8,
             "#7fbc41"
            ],
            [
             0.9,
             "#4d9221"
            ],
            [
             1,
             "#276419"
            ]
           ],
           "sequential": [
            [
             0,
             "#0d0887"
            ],
            [
             0.1111111111111111,
             "#46039f"
            ],
            [
             0.2222222222222222,
             "#7201a8"
            ],
            [
             0.3333333333333333,
             "#9c179e"
            ],
            [
             0.4444444444444444,
             "#bd3786"
            ],
            [
             0.5555555555555556,
             "#d8576b"
            ],
            [
             0.6666666666666666,
             "#ed7953"
            ],
            [
             0.7777777777777778,
             "#fb9f3a"
            ],
            [
             0.8888888888888888,
             "#fdca26"
            ],
            [
             1,
             "#f0f921"
            ]
           ],
           "sequentialminus": [
            [
             0,
             "#0d0887"
            ],
            [
             0.1111111111111111,
             "#46039f"
            ],
            [
             0.2222222222222222,
             "#7201a8"
            ],
            [
             0.3333333333333333,
             "#9c179e"
            ],
            [
             0.4444444444444444,
             "#bd3786"
            ],
            [
             0.5555555555555556,
             "#d8576b"
            ],
            [
             0.6666666666666666,
             "#ed7953"
            ],
            [
             0.7777777777777778,
             "#fb9f3a"
            ],
            [
             0.8888888888888888,
             "#fdca26"
            ],
            [
             1,
             "#f0f921"
            ]
           ]
          },
          "colorway": [
           "#636efa",
           "#EF553B",
           "#00cc96",
           "#ab63fa",
           "#FFA15A",
           "#19d3f3",
           "#FF6692",
           "#B6E880",
           "#FF97FF",
           "#FECB52"
          ],
          "font": {
           "color": "#2a3f5f"
          },
          "geo": {
           "bgcolor": "white",
           "lakecolor": "white",
           "landcolor": "#E5ECF6",
           "showlakes": true,
           "showland": true,
           "subunitcolor": "white"
          },
          "hoverlabel": {
           "align": "left"
          },
          "hovermode": "closest",
          "mapbox": {
           "style": "light"
          },
          "paper_bgcolor": "white",
          "plot_bgcolor": "#E5ECF6",
          "polar": {
           "angularaxis": {
            "gridcolor": "white",
            "linecolor": "white",
            "ticks": ""
           },
           "bgcolor": "#E5ECF6",
           "radialaxis": {
            "gridcolor": "white",
            "linecolor": "white",
            "ticks": ""
           }
          },
          "scene": {
           "xaxis": {
            "backgroundcolor": "#E5ECF6",
            "gridcolor": "white",
            "gridwidth": 2,
            "linecolor": "white",
            "showbackground": true,
            "ticks": "",
            "zerolinecolor": "white"
           },
           "yaxis": {
            "backgroundcolor": "#E5ECF6",
            "gridcolor": "white",
            "gridwidth": 2,
            "linecolor": "white",
            "showbackground": true,
            "ticks": "",
            "zerolinecolor": "white"
           },
           "zaxis": {
            "backgroundcolor": "#E5ECF6",
            "gridcolor": "white",
            "gridwidth": 2,
            "linecolor": "white",
            "showbackground": true,
            "ticks": "",
            "zerolinecolor": "white"
           }
          },
          "shapedefaults": {
           "line": {
            "color": "#2a3f5f"
           }
          },
          "ternary": {
           "aaxis": {
            "gridcolor": "white",
            "linecolor": "white",
            "ticks": ""
           },
           "baxis": {
            "gridcolor": "white",
            "linecolor": "white",
            "ticks": ""
           },
           "bgcolor": "#E5ECF6",
           "caxis": {
            "gridcolor": "white",
            "linecolor": "white",
            "ticks": ""
           }
          },
          "title": {
           "x": 0.05
          },
          "xaxis": {
           "automargin": true,
           "gridcolor": "white",
           "linecolor": "white",
           "ticks": "",
           "title": {
            "standoff": 15
           },
           "zerolinecolor": "white",
           "zerolinewidth": 2
          },
          "yaxis": {
           "automargin": true,
           "gridcolor": "white",
           "linecolor": "white",
           "ticks": "",
           "title": {
            "standoff": 15
           },
           "zerolinecolor": "white",
           "zerolinewidth": 2
          }
         }
        },
        "xaxis": {
         "anchor": "y",
         "domain": [
          0,
          1
         ],
         "title": {
          "text": "age_group"
         }
        },
        "yaxis": {
         "anchor": "x",
         "domain": [
          0,
          1
         ],
         "range": [
          0,
          15000
         ],
         "title": {
          "text": "charges"
         }
        }
       }
      },
      "text/html": [
       "<div>                            <div id=\"bb7f195d-b1d7-4103-b93c-04ee34907df4\" class=\"plotly-graph-div\" style=\"height:525px; width:100%;\"></div>            <script type=\"text/javascript\">                require([\"plotly\"], function(Plotly) {                    window.PLOTLYENV=window.PLOTLYENV || {};                                    if (document.getElementById(\"bb7f195d-b1d7-4103-b93c-04ee34907df4\")) {                    Plotly.newPlot(                        \"bb7f195d-b1d7-4103-b93c-04ee34907df4\",                        [{\"alignmentgroup\": \"True\", \"hovertemplate\": \"age_group=%{x}<br>charges=%{y}<extra></extra>\", \"legendgroup\": \"\", \"marker\": {\"color\": \"#636efa\"}, \"name\": \"\", \"notched\": false, \"offsetgroup\": \"\", \"orientation\": \"v\", \"showlegend\": false, \"type\": \"box\", \"x\": [0, 0, 0, 0, 0, 0, 2, 0, 0, 2, 0, 2, 0, 2, 0, 0, 2, 0, 2, 0, 2, 0, 0, 0, 0, 2, 2, 2, 0, 0, 0, 0, 2, 0, 0, 2, 0, 0, 2, 0, 0, 2, 0, 1, 2, 0, 0, 2, 0, 0, 0, 2, 0, 1, 2, 2, 0, 2, 0, 2, 0, 2, 0, 0, 0, 2, 1, 1, 0, 0, 0, 2, 2, 2, 2, 0, 0, 0, 2, 0, 2, 0, 2, 0, 2, 2, 2, 2, 2, 0, 2, 2, 0, 2, 0, 2, 2, 2, 2, 0, 0, 2, 0, 0, 0, 0, 0, 2, 2, 2, 0, 0, 2, 2, 2, 0, 2, 0, 2, 0, 0, 2, 2, 0, 0, 2, 0, 1, 2, 2, 2, 0, 0, 0, 0, 0, 2, 0, 0, 0, 0, 0, 0, 0, 2, 2, 2, 0, 0, 2, 0, 2, 1, 2, 2, 0, 0, 2, 2, 0, 2, 0, 0, 2, 0, 0, 0, 2, 2, 0, 0, 0, 2, 1, 2, 2, 2, 2, 0, 0, 2, 2, 0, 0, 0, 2, 0, 2, 0, 0, 2, 0, 0, 1, 2, 2, 2, 0, 2, 2, 0, 2, 0, 2, 0, 2, 1, 0, 1, 0, 0, 2, 2, 2, 0, 0, 0, 0, 2, 0, 0, 2, 2, 0, 2, 2, 2, 2, 2, 0, 2, 1, 1, 0, 0, 0, 2, 0, 0, 2, 1, 2, 2, 2, 0, 0, 0, 0, 2, 2, 0, 2, 2, 2, 1, 2, 0, 2, 0, 2, 0, 2, 2, 1, 2, 2, 2, 0, 2, 2, 2, 0, 2, 0, 0, 2, 2, 1, 2, 0, 2, 2, 2, 2, 2, 2, 2, 0, 0, 0, 0, 0, 0, 0, 2, 0, 2, 0, 2, 2, 0, 2, 0, 0, 0, 2, 2, 2, 0, 2, 2, 0, 2, 2, 2, 2, 0, 0, 0, 0, 2, 0, 1, 0, 2, 2, 2, 2, 2, 2, 2, 2, 2, 2, 2, 2, 2, 0, 2, 2, 2, 2, 0, 0, 2, 0, 0, 2, 2, 0, 0, 0, 2, 2, 2, 0, 0, 2, 0, 0, 0, 0, 2, 2, 2, 2, 0, 2, 2, 2, 0, 0, 0, 1, 0, 2, 2, 0, 2, 2, 0, 2, 0, 2, 2, 0, 0, 2, 0, 2, 2, 2, 2, 2, 0, 2, 0, 2, 2, 2, 2, 0, 2, 0, 2, 1, 0, 0, 2, 0, 0, 0, 2, 2, 0, 2, 2, 2, 2, 1, 0, 2, 2, 1, 0, 0, 0, 0, 0, 2, 2, 0, 2, 0, 0, 2, 0, 0, 0, 0, 2, 2, 2, 2, 2, 1, 0, 1, 0, 0, 0, 0, 2, 2, 2, 2, 1, 2, 2, 2, 2, 0, 0, 2, 2, 0, 0, 0, 0, 0, 2, 2, 2, 0, 0, 0, 0, 2, 2, 0, 2, 2, 0, 2, 0, 2, 2, 0, 2, 0, 2, 0, 0, 0, 2, 2, 2, 0, 2, 2, 0, 1, 0, 0, 0, 0, 2, 2, 0, 2, 0, 1, 2, 0, 2, 0, 0, 2, 0, 2, 1, 2, 0, 0, 2, 2, 0, 2, 2, 2, 0, 2, 1, 0, 2, 2, 2, 0, 0, 2, 2, 2, 2, 0, 2, 0, 2, 2, 0, 2, 2, 0, 0, 2, 0, 0, 0, 2, 2, 0, 2, 0, 0, 1, 2, 2, 2, 0, 0, 0, 2, 2, 2, 0, 0, 2, 0, 2, 0, 1, 0, 0, 0, 0, 0, 2, 1, 2, 2, 0, 0, 2, 2, 2, 0, 2, 2, 0, 2, 2, 2, 0, 2, 0, 2, 0, 0, 2, 1, 0, 0, 0, 2, 2, 2, 0, 2, 0, 0, 2, 0, 2, 0, 0, 0, 2, 2, 2, 0, 0, 1, 2, 2, 0, 0, 1, 2, 0, 2, 2, 0, 2, 2, 1, 1, 0, 2, 2, 2, 2, 2, 2, 2, 0, 0, 2, 2, 0, 2, 0, 0, 2, 2, 2, 1, 2, 1, 0, 0, 0, 2, 2, 2, 2, 2, 2, 2, 0, 0, 1, 2, 0, 2, 2, 1, 2, 0, 0, 2, 0, 0, 0, 0, 2, 2, 2, 0, 0, 2, 2, 0, 2, 0, 2, 2, 0, 0, 0, 2, 2, 0, 0, 2, 2, 2, 2, 2, 2, 2, 2, 0, 2, 0, 2, 0, 0, 2, 0, 2, 0, 2, 2, 2, 0, 0, 0, 0, 2, 0, 2, 0, 2, 2, 0, 0, 2, 0, 0, 0, 2, 2, 0, 0, 1, 2, 0, 0, 0, 0, 0, 0, 2, 2, 2, 2, 2, 1, 2, 2, 2, 0, 2, 2, 1, 2, 0, 2, 0, 0, 2, 2, 0, 0, 2, 0, 0, 2, 1, 0, 0, 2, 1, 0, 0, 0, 2, 0, 2, 2, 0, 0, 0, 2, 1, 0, 0, 0, 2, 0, 2, 0, 0, 0, 0, 0, 2, 0, 2, 0, 0, 2, 2, 2, 2, 0, 2, 1, 2, 0, 0, 2, 0, 2, 0, 2, 0, 2, 0, 2, 0, 2, 2, 2, 2, 0, 0, 2, 0, 2, 2, 2, 2, 0, 2, 0, 0, 2, 0, 1, 2, 0, 2, 1, 0, 2, 2, 0, 2, 0, 2, 2, 2, 0, 2, 0, 2, 0, 0, 0, 0, 2, 0, 0, 2, 0, 0, 2, 2, 0, 2, 2, 2, 2, 2, 0, 0, 0, 2, 2, 0, 2, 2, 0, 0, 2, 2, 0, 0, 0, 2, 2, 0, 0, 2, 2, 2, 0, 2, 2, 1, 0, 2, 2, 0, 2, 2, 2, 0, 1, 2, 2, 0, 2, 2, 1, 0, 2, 0, 2, 0, 0, 2, 2, 2, 0, 2, 0, 2, 2, 0, 2, 0, 0, 2, 0, 2, 2, 0, 0, 2, 2, 2, 0, 2, 2, 0, 1, 2, 0, 0, 0, 0, 0, 2, 0, 2, 0, 2, 0, 0, 0, 2, 2, 2, 0, 0, 0, 1, 2, 1, 0, 1, 1, 2, 0, 0, 0, 0, 0, 2, 2, 0, 0, 2, 0, 2, 2, 2, 2, 2, 1, 2, 0, 0, 2, 0, 2, 0, 2, 0, 2, 0, 0, 0, 2, 0, 2, 2, 0, 0, 2, 2, 0, 2, 0, 0, 0, 0, 0, 0, 2, 2, 2, 0, 0, 2, 2, 2, 2, 2, 0, 2, 2, 2, 0, 0, 0, 2, 2, 0, 0, 2, 2, 1, 2, 2, 0, 2, 0, 2, 2, 0, 2, 0, 0, 2, 0, 0, 1, 0, 2, 1, 2, 2, 2, 2, 2, 2, 0, 0, 2, 0, 2, 0, 2, 0, 0, 2, 0, 2, 0, 2, 2, 2, 0, 2, 2, 1, 2, 0, 0, 2, 2, 0, 0, 0, 0, 2, 2, 0, 0, 2, 2, 0, 0, 0, 1, 0, 2, 2, 0, 2, 2, 0, 0, 0, 2, 2, 2, 1, 2, 2, 2, 0, 2, 2, 0, 2, 2, 0, 2, 0, 0, 0, 0, 0, 2, 0, 0, 0, 2, 0, 2, 0, 0, 0, 0, 2, 2, 1, 0, 0, 2, 1, 0, 0, 2, 0, 0, 2, 0, 2, 0, 2, 2, 0, 0, 2, 2, 2, 0, 0, 0, 2, 1, 0, 0, 2, 0, 2, 0, 0, 2, 0, 0, 2, 0, 1, 0, 2, 0, 0, 1, 0, 2, 1, 0, 1, 2, 0, 2, 0, 1, 2, 2, 2, 2, 0, 2, 2, 2, 0, 2, 2, 0, 0, 2, 2, 0, 0, 0, 0, 2, 0, 0, 0, 0, 0, 0, 1, 0, 2, 2, 2, 2, 2, 0, 0, 2, 2, 2, 2, 2, 0, 0, 2, 0, 0, 2, 0, 0, 2, 0, 0, 1, 0, 2, 2, 0, 0, 2, 2, 0, 0, 0, 2, 1, 0, 0, 2, 2, 0, 0, 0, 0, 0, 2, 2, 0, 2, 2, 0, 0, 0, 0, 2, 2, 0, 0, 0, 0, 0, 0, 0, 0, 1, 0, 2, 2, 2, 0, 2, 2, 2, 0, 2, 2, 0, 2, 2, 0, 0, 0, 2], \"x0\": \" \", \"xaxis\": \"x\", \"y\": [4253, 2494, 3138, 1553, 2768, 2993, 5521, 5299, 2819, 5284, 1655, 10701, 3103, 10490, 14323, 1584, 5575, 1728, 11703, 10355, 9944, 5018, 2559, 12591, 3012, 4717, 4478, 9153, 2263, 12430, 7151, 1630, 7841, 10654, 2021, 11013, 1322, 15499, 40748, 3221, 5725, 1495, 4569, 6025, 8876, 4451, 7173, 3853, 11831, 3363, 4495, 9041, 11110, 5587, 36924, 7011, 4698, 6320, 9250, 2850, 2979, 7864, 4094, 4847, 2084, 12968, 2617, 7182, 3949, 4998, 2877, 4858, 6079, 2579, 9895, 3985, 2761, 5732, 7671, 2017, 9106, 8454, 14988, 14451, 7896, 21043, 3722, 4644, 4356, 4495, 4796, 15735, 5595, 19544, 6453, 4967, 9321, 8887, 5079, 1793, 2076, 15111, 4235, 5428, 2224, 2834, 1585, 27173, 8692, 5174, 2846, 5016, 6051, 5993, 22180, 6017, 3004, 4455, 6766, 1703, 3184, 11718, 8339, 3813, 4035, 9083, 9348, 4301, 4532, 4460, 8144, 2092, 2667, 2469, 2986, 2159, 5306, 4159, 1600, 3087, 4050, 2958, 7784, 6875, 13329, 7610, 13354, 1945, 1906, 3239, 8278, 7235, 4317, 10755, 6015, 3967, 9631, 3756, 10317, 6254, 9984, 4745, 3062, 3463, 6562, 3792, 1928, 13189, 4306, 1854, 6309, 5103, 35880, 3005, 4539, 4126, 6571, 6255, 3548, 1795, 4458, 3515, 25518, 4204, 4434, 5203, 6051, 6022, 3448, 1421, 5391, 2670, 2827, 5578, 3935, 3959, 16416, 3904, 5467, 5257, 11435, 1838, 4313, 4226, 6410, 6919, 9237, 2826, 4038, 2792, 3112, 5032, 7004, 4500, 1171, 3697, 2292, 5594, 6901, 2768, 6810, 4899, 6943, 4538, 11620, 5707, 3002, 7843, 4508, 1766, 5008, 2357, 6358, 1469, 4891, 5847, 6798, 11871, 3840, 3843, 5606, 15580, 5389, 10467, 3231, 1732, 2138, 4576, 21660, 19221, 2416, 16496, 4453, 23041, 8075, 4103, 7010, 3624, 3825, 8201, 9553, 8686, 34466, 4847, 7234, 3341, 3047, 2247, 19125, 7857, 3625, 2208, 4150, 2251, 2378, 6254, 3011, 9435, 42668, 2099, 6374, 5063, 2297, 18420, 6390, 33049, 3838, 4197, 2222, 17617, 2807, 1950, 1772, 3939, 5598, 13331, 4811, 2518, 8136, 9392, 4607, 9840, 3907, 3854, 5150, 9348, 6991, 2950, 1818, 16577, 6098, 8304, 6918, 6960, 7109, 4714, 5147, 1870, 4315, 7104, 14936, 1592, 4664, 3063, 23518, 25698, 8552, 37699, 11404, 7775, 4617, 7737, 10456, 4750, 7951, 15265, 3630, 2786, 7531, 5036, 12716, 10649, 4752, 3827, 5402, 3821, 2182, 4175, 3324, 3858, 4560, 3766, 2833, 12371, 5229, 5431, 1320, 5903, 2642, 3598, 2304, 2394, 5400, 7014, 4639, 5028, 2776, 5418, 4126, 6919, 6556, 2580, 7449, 8238, 11257, 8769, 7801, 7014, 15295, 5989, 10556, 2237, 2765, 9893, 4059, 3477, 5007, 7960, 4471, 4813, 4726, 6015, 2504, 6266, 2034, 5360, 3186, 2572, 15101, 11551, 6244, 1402, 11040, 3021, 3331, 1755, 2149, 2099, 7674, 6508, 1871, 4243, 6410, 5623, 6769, 14071, 15391, 24591, 28000, 12566, 2445, 3649, 2133, 3881, 2297, 2501, 5584, 2698, 4248, 2228, 5754, 2559, 7693, 2413, 2415, 17442, 2128, 6628, 10610, 4501, 8568, 12303, 5599, 6278, 4455, 4225, 6190, 3055, 1827, 1343, 2833, 9519, 9591, 5308, 6945, 11251, 5580, 6874, 9078, 13281, 4233, 2119, 7262, 4845, 10210, 3627, 1523, 2588, 2125, 2387, 6696, 8667, 17726, 4935, 4401, 3825, 2419, 20190, 7245, 2344, 10367, 6685, 4664, 4585, 1900, 20732, 6078, 2728, 3867, 1574, 18782, 4787, 2123, 3564, 3214, 3137, 13625, 9845, 2161, 6139, 4142, 3754, 4090, 3658, 2352, 3279, 4676, 7895, 2958, 3242, 2223, 7822, 9206, 2930, 4517, 4286, 2393, 4408, 10341, 7104, 7241, 5227, 2304, 3039, 3211, 9888, 1872, 40939, 8539, 5189, 4561, 14948, 2422, 7804, 4566, 3476, 4786, 7878, 2886, 10122, 59703, 5659, 8959, 4380, 20556, 3736, 35915, 6626, 3619, 4620, 7458, 8717, 1491, 5399, 3347, 15371, 4241, 3955, 6239, 1987, 13873, 2170, 2989, 11309, 4289, 5862, 39266, 4125, 3230, 9521, 12027, 8625, 5703, 1467, 19130, 4572, 3280, 4846, 2927, 11932, 3180, 1487, 4051, 2148, 12181, 10821, 4922, 4802, 3087, 2432, 4734, 7626, 6917, 4033, 6497, 4443, 11517, 3812, 5335, 3690, 14543, 5388, 6854, 3691, 10129, 2196, 14214, 3883, 5560, 2764, 4140, 3110, 21586, 4759, 6797, 5420, 9383, 2407, 11994, 3170, 6049, 7747, 4443, 2683, 7400, 10087, 34319, 8413, 2023, 5159, 2178, 10139, 13971, 2664, 8304, 6469, 7107, 7658, 9807, 9167, 5052, 5477, 5205, 2366, 4581, 2235, 6993, 11443, 9890, 4767, 7208, 7683, 6783, 8071, 3743, 8148, 5389, 11969, 3326, 5226, 2394, 8529, 19901, 3734, 15084, 22405, 3964, 2595, 5009, 2080, 4146, 32898, 2316, 12437, 24010, 9981, 4434, 2516, 1471, 14061, 3854, 3070, 3815, 2547, 8082, 2913, 5927, 1933, 6585, 3866, 1899, 5720, 8815, 6747, 15422, 9114, 5758, 3210, 16527, 11702, 5099, 5625, 5127, 25929, 5657, 5288, 4580, 2959, 2791, 5885, 4673, 2526, 5218, 3972, 5801, 10541, 9350, 12119, 8941, 12521, 3191, 3632, 14497, 3283, 5945, 4459, 6862, 4981, 3038, 3834, 4020, 5746, 8708, 18646, 1418, 7253, 9543, 2166, 4889, 20367, 3024, 3775, 6266, 1917, 2003, 7230, 2801, 7018, 2623, 16530, 3094, 3463, 2312, 3832, 8187, 5501, 7413, 4812, 3747, 4639, 1806, 3673, 7567, 3939, 4229, 12161, 4404, 10038, 3804, 7444, 5323, 5855, 5259, 4076, 9602, 3846, 5071, 4163, 4251, 7655, 9716, 3593, 3933, 10856, 4385, 1869, 4963, 8878, 1957, 2585, 6765, 7243, 6200, 7986, 3578, 6185, 4525, 3808, 9266, 1516, 9949, 1617, 8986, 13679, 4932, 2075, 1924, 4825, 14239, 3085, 1527, 3815, 2522, 3549, 4674, 8237, 16804, 4554, 1921, 2150, 4209, 5620, 8500, 16515, 6526, 10207, 1846, 8947, 4764, 5012, 10575, 5112, 4914, 2893, 4804, 3212, 7874, 2433, 4864, 7002, 13393, 5280, 16755, 6290, 9710, 2890, 7724, 9978, 9689, 21820, 3930, 7573, 2607, 14984, 4529, 3983, 4631, 39136, 4392, 9264, 3721, 2541, 2934, 3474, 16579, 5359, 3171, 6967, 3517, 1750, 3027, 2474, 3404, 3561, 3032, 2424, 4447, 3509, 2433, 2552, 30586, 2583, 6464, 13667, 5404, 4627, 9660, 15729, 4584, 3241, 25903, 8774, 17131, 8616, 2298, 3631, 2369, 2566, 43749, 2293, 7353, 7525, 4268, 3559, 4973, 13768, 6207, 2609, 5155, 6069, 3215, 2069, 3984, 10241, 6186, 5350, 5679, 4134, 7712, 2650, 5844, 1823, 5532, 1805, 3417, 11727, 4133, 7721, 5533, 2657, 6966, 5011, 4133, 3293, 4473, 1814, 3941, 1510, 14643, 4837, 1917, 14538, 8227, 6204, 14046, 4180, 5059, 4434, 38105, 5116, 9752, 6984, 5449, 13215, 2095, 17975, 9069, 5652, 3233, 9547, 2798, 10796, 1758, 9743, 2688, 2231, 5412, 4096, 3778, 2833, 4557, 3486, 3996, 8975, 2072, 10331, 3829, 3868, 1715, 4898, 4717, 3204, 4581, 5094, 4161, 6178, 3434, 4707, 5347, 2209, 7931, 3819, 6562, 10034, 7778, 4206, 5529, 6593, 1442, 3308, 2666, 3574, 2564, 11662, 1994, 4076, 2657, 5061, 6724, 5467, 3608, 5214, 2367, 4745, 10028, 4604, 8169, 5842, 18602, 1662, 13914, 3435, 4981, 2174, 5408, 4201, 9249, 19540, 4326, 4037, 15312, 3445, 8987, 13413, 2320, 2565, 9210, 1824, 5934, 2786, 8331, 8991, 3647, 22355, 3538, 11923, 9863, 6878, 4255, 10245, 4041, 5300, 3978, 4772, 6496, 4259, 2215, 4745, 39746, 2597, 3939, 3099, 6642, 9503, 6246, 5189, 13955, 7953, 2964, 4913, 5012, 4680, 5352, 1826, 6855, 7894, 1711, 2262, 2162, 3060, 8508, 7263, 5448, 7314, 18879, 3318, 19458, 5439, 2708, 7853, 6551, 2783, 23842, 2745, 4545, 4144, 7080, 4257, 5252, 8822, 2404, 5267, 5612, 4792, 2243, 2101, 6874, 17495, 7828, 4559, 1714, 5498, 3541, 6904, 10470, 4664, 6695, 7297, 38475, 5239, 17449, 5662, 4522, 5988, 2894, 1833, 3513, 8508, 13094, 4478, 3973, 4923, 3650, 3434, 2136, 7507, 7004, 4807, 3201, 3350, 5607, 7277, 18899, 3894, 3534, 4766, 1989, 12096, 12353, 8744, 5134, 4133, 13163, 3389, 3117, 8717, 8187, 7734, 4231, 1826, 4717, 3735, 11408, 3292, 4208, 7157, 4536, 9187, 12868, 3204, 3469, 2457, 9499, 4070, 4794, 5305, 12779, 4900, 3401, 4038, 5492, 2356, 9069, 9200, 7709, 3089, 6505, 3333, 6130, 10461, 4042, 3045, 6206, 4089, 3621, 3727, 2116, 12358, 2984, 5618, 3916, 2233, 8490, 10925, 7583, 10132, 3742, 3720, 1776, 6514, 6037, 4363, 1507, 4566, 17270, 6013, 3697, 1910, 2244, 4070, 1887, 8119, 2293, 6398, 7023, 6520, 25011, 3687, 4600, 3732, 3602, 3074, 4659, 5274, 1889, 7410, 34928, 33258, 3295, 4699, 2464, 1706, 3341, 2400, 3708, 10859, 5451, 1570, 3607, 4435, 3125, 7793, 10723, 5552, 13056, 3338, 3576, 4431, 3545, 4399, 6483, 10107, 5264, 6283, 3385, 2738, 3905, 6142, 2293, 1999, 4405, 3594, 3396, 5519, 9309, 4096, 5238, 11735, 4088, 2032, 33041, 3256, 4045, 3553, 9057, 4554, 4129, 6880, 1445, 3304, 4580, 1670, 1881, 3617, 2506, 2262, 8629, 24995, 3146, 7215, 5701, 2880, 6084, 8229, 7343, 3664, 2989, 5261, 8529, 6797, 8524, 2155, 1737, 8577, 8027, 5264, 3681, 14557, 12081, 25190, 2184, 9654, 6226, 4204, 2793, 9365, 3713, 4084, 15448, 5767, 2547, 3026, 2208, 19007], \"y0\": \" \", \"yaxis\": \"y\"}],                        {\"boxmode\": \"group\", \"legend\": {\"tracegroupgap\": 0}, \"margin\": {\"t\": 60}, \"template\": {\"data\": {\"bar\": [{\"error_x\": {\"color\": \"#2a3f5f\"}, \"error_y\": {\"color\": \"#2a3f5f\"}, \"marker\": {\"line\": {\"color\": \"#E5ECF6\", \"width\": 0.5}}, \"type\": \"bar\"}], \"barpolar\": [{\"marker\": {\"line\": {\"color\": \"#E5ECF6\", \"width\": 0.5}}, \"type\": \"barpolar\"}], \"carpet\": [{\"aaxis\": {\"endlinecolor\": \"#2a3f5f\", \"gridcolor\": \"white\", \"linecolor\": \"white\", \"minorgridcolor\": \"white\", \"startlinecolor\": \"#2a3f5f\"}, \"baxis\": {\"endlinecolor\": \"#2a3f5f\", \"gridcolor\": \"white\", \"linecolor\": \"white\", \"minorgridcolor\": \"white\", \"startlinecolor\": \"#2a3f5f\"}, \"type\": \"carpet\"}], \"choropleth\": [{\"colorbar\": {\"outlinewidth\": 0, \"ticks\": \"\"}, \"type\": \"choropleth\"}], \"contour\": [{\"colorbar\": {\"outlinewidth\": 0, \"ticks\": \"\"}, \"colorscale\": [[0.0, \"#0d0887\"], [0.1111111111111111, \"#46039f\"], [0.2222222222222222, \"#7201a8\"], [0.3333333333333333, \"#9c179e\"], [0.4444444444444444, \"#bd3786\"], [0.5555555555555556, \"#d8576b\"], [0.6666666666666666, \"#ed7953\"], [0.7777777777777778, \"#fb9f3a\"], [0.8888888888888888, \"#fdca26\"], [1.0, \"#f0f921\"]], \"type\": \"contour\"}], \"contourcarpet\": [{\"colorbar\": {\"outlinewidth\": 0, \"ticks\": \"\"}, \"type\": \"contourcarpet\"}], \"heatmap\": [{\"colorbar\": {\"outlinewidth\": 0, \"ticks\": \"\"}, \"colorscale\": [[0.0, \"#0d0887\"], [0.1111111111111111, \"#46039f\"], [0.2222222222222222, \"#7201a8\"], [0.3333333333333333, \"#9c179e\"], [0.4444444444444444, \"#bd3786\"], [0.5555555555555556, \"#d8576b\"], [0.6666666666666666, \"#ed7953\"], [0.7777777777777778, \"#fb9f3a\"], [0.8888888888888888, \"#fdca26\"], [1.0, \"#f0f921\"]], \"type\": \"heatmap\"}], \"heatmapgl\": [{\"colorbar\": {\"outlinewidth\": 0, \"ticks\": \"\"}, \"colorscale\": [[0.0, \"#0d0887\"], [0.1111111111111111, \"#46039f\"], [0.2222222222222222, \"#7201a8\"], [0.3333333333333333, \"#9c179e\"], [0.4444444444444444, \"#bd3786\"], [0.5555555555555556, \"#d8576b\"], [0.6666666666666666, \"#ed7953\"], [0.7777777777777778, \"#fb9f3a\"], [0.8888888888888888, \"#fdca26\"], [1.0, \"#f0f921\"]], \"type\": \"heatmapgl\"}], \"histogram\": [{\"marker\": {\"colorbar\": {\"outlinewidth\": 0, \"ticks\": \"\"}}, \"type\": \"histogram\"}], \"histogram2d\": [{\"colorbar\": {\"outlinewidth\": 0, \"ticks\": \"\"}, \"colorscale\": [[0.0, \"#0d0887\"], [0.1111111111111111, \"#46039f\"], [0.2222222222222222, \"#7201a8\"], [0.3333333333333333, \"#9c179e\"], [0.4444444444444444, \"#bd3786\"], [0.5555555555555556, \"#d8576b\"], [0.6666666666666666, \"#ed7953\"], [0.7777777777777778, \"#fb9f3a\"], [0.8888888888888888, \"#fdca26\"], [1.0, \"#f0f921\"]], \"type\": \"histogram2d\"}], \"histogram2dcontour\": [{\"colorbar\": {\"outlinewidth\": 0, \"ticks\": \"\"}, \"colorscale\": [[0.0, \"#0d0887\"], [0.1111111111111111, \"#46039f\"], [0.2222222222222222, \"#7201a8\"], [0.3333333333333333, \"#9c179e\"], [0.4444444444444444, \"#bd3786\"], [0.5555555555555556, \"#d8576b\"], [0.6666666666666666, \"#ed7953\"], [0.7777777777777778, \"#fb9f3a\"], [0.8888888888888888, \"#fdca26\"], [1.0, \"#f0f921\"]], \"type\": \"histogram2dcontour\"}], \"mesh3d\": [{\"colorbar\": {\"outlinewidth\": 0, \"ticks\": \"\"}, \"type\": \"mesh3d\"}], \"parcoords\": [{\"line\": {\"colorbar\": {\"outlinewidth\": 0, \"ticks\": \"\"}}, \"type\": \"parcoords\"}], \"pie\": [{\"automargin\": true, \"type\": \"pie\"}], \"scatter\": [{\"marker\": {\"colorbar\": {\"outlinewidth\": 0, \"ticks\": \"\"}}, \"type\": \"scatter\"}], \"scatter3d\": [{\"line\": {\"colorbar\": {\"outlinewidth\": 0, \"ticks\": \"\"}}, \"marker\": {\"colorbar\": {\"outlinewidth\": 0, \"ticks\": \"\"}}, \"type\": \"scatter3d\"}], \"scattercarpet\": [{\"marker\": {\"colorbar\": {\"outlinewidth\": 0, \"ticks\": \"\"}}, \"type\": \"scattercarpet\"}], \"scattergeo\": [{\"marker\": {\"colorbar\": {\"outlinewidth\": 0, \"ticks\": \"\"}}, \"type\": \"scattergeo\"}], \"scattergl\": [{\"marker\": {\"colorbar\": {\"outlinewidth\": 0, \"ticks\": \"\"}}, \"type\": \"scattergl\"}], \"scattermapbox\": [{\"marker\": {\"colorbar\": {\"outlinewidth\": 0, \"ticks\": \"\"}}, \"type\": \"scattermapbox\"}], \"scatterpolar\": [{\"marker\": {\"colorbar\": {\"outlinewidth\": 0, \"ticks\": \"\"}}, \"type\": \"scatterpolar\"}], \"scatterpolargl\": [{\"marker\": {\"colorbar\": {\"outlinewidth\": 0, \"ticks\": \"\"}}, \"type\": \"scatterpolargl\"}], \"scatterternary\": [{\"marker\": {\"colorbar\": {\"outlinewidth\": 0, \"ticks\": \"\"}}, \"type\": \"scatterternary\"}], \"surface\": [{\"colorbar\": {\"outlinewidth\": 0, \"ticks\": \"\"}, \"colorscale\": [[0.0, \"#0d0887\"], [0.1111111111111111, \"#46039f\"], [0.2222222222222222, \"#7201a8\"], [0.3333333333333333, \"#9c179e\"], [0.4444444444444444, \"#bd3786\"], [0.5555555555555556, \"#d8576b\"], [0.6666666666666666, \"#ed7953\"], [0.7777777777777778, \"#fb9f3a\"], [0.8888888888888888, \"#fdca26\"], [1.0, \"#f0f921\"]], \"type\": \"surface\"}], \"table\": [{\"cells\": {\"fill\": {\"color\": \"#EBF0F8\"}, \"line\": {\"color\": \"white\"}}, \"header\": {\"fill\": {\"color\": \"#C8D4E3\"}, \"line\": {\"color\": \"white\"}}, \"type\": \"table\"}]}, \"layout\": {\"annotationdefaults\": {\"arrowcolor\": \"#2a3f5f\", \"arrowhead\": 0, \"arrowwidth\": 1}, \"autotypenumbers\": \"strict\", \"coloraxis\": {\"colorbar\": {\"outlinewidth\": 0, \"ticks\": \"\"}}, \"colorscale\": {\"diverging\": [[0, \"#8e0152\"], [0.1, \"#c51b7d\"], [0.2, \"#de77ae\"], [0.3, \"#f1b6da\"], [0.4, \"#fde0ef\"], [0.5, \"#f7f7f7\"], [0.6, \"#e6f5d0\"], [0.7, \"#b8e186\"], [0.8, \"#7fbc41\"], [0.9, \"#4d9221\"], [1, \"#276419\"]], \"sequential\": [[0.0, \"#0d0887\"], [0.1111111111111111, \"#46039f\"], [0.2222222222222222, \"#7201a8\"], [0.3333333333333333, \"#9c179e\"], [0.4444444444444444, \"#bd3786\"], [0.5555555555555556, \"#d8576b\"], [0.6666666666666666, \"#ed7953\"], [0.7777777777777778, \"#fb9f3a\"], [0.8888888888888888, \"#fdca26\"], [1.0, \"#f0f921\"]], \"sequentialminus\": [[0.0, \"#0d0887\"], [0.1111111111111111, \"#46039f\"], [0.2222222222222222, \"#7201a8\"], [0.3333333333333333, \"#9c179e\"], [0.4444444444444444, \"#bd3786\"], [0.5555555555555556, \"#d8576b\"], [0.6666666666666666, \"#ed7953\"], [0.7777777777777778, \"#fb9f3a\"], [0.8888888888888888, \"#fdca26\"], [1.0, \"#f0f921\"]]}, \"colorway\": [\"#636efa\", \"#EF553B\", \"#00cc96\", \"#ab63fa\", \"#FFA15A\", \"#19d3f3\", \"#FF6692\", \"#B6E880\", \"#FF97FF\", \"#FECB52\"], \"font\": {\"color\": \"#2a3f5f\"}, \"geo\": {\"bgcolor\": \"white\", \"lakecolor\": \"white\", \"landcolor\": \"#E5ECF6\", \"showlakes\": true, \"showland\": true, \"subunitcolor\": \"white\"}, \"hoverlabel\": {\"align\": \"left\"}, \"hovermode\": \"closest\", \"mapbox\": {\"style\": \"light\"}, \"paper_bgcolor\": \"white\", \"plot_bgcolor\": \"#E5ECF6\", \"polar\": {\"angularaxis\": {\"gridcolor\": \"white\", \"linecolor\": \"white\", \"ticks\": \"\"}, \"bgcolor\": \"#E5ECF6\", \"radialaxis\": {\"gridcolor\": \"white\", \"linecolor\": \"white\", \"ticks\": \"\"}}, \"scene\": {\"xaxis\": {\"backgroundcolor\": \"#E5ECF6\", \"gridcolor\": \"white\", \"gridwidth\": 2, \"linecolor\": \"white\", \"showbackground\": true, \"ticks\": \"\", \"zerolinecolor\": \"white\"}, \"yaxis\": {\"backgroundcolor\": \"#E5ECF6\", \"gridcolor\": \"white\", \"gridwidth\": 2, \"linecolor\": \"white\", \"showbackground\": true, \"ticks\": \"\", \"zerolinecolor\": \"white\"}, \"zaxis\": {\"backgroundcolor\": \"#E5ECF6\", \"gridcolor\": \"white\", \"gridwidth\": 2, \"linecolor\": \"white\", \"showbackground\": true, \"ticks\": \"\", \"zerolinecolor\": \"white\"}}, \"shapedefaults\": {\"line\": {\"color\": \"#2a3f5f\"}}, \"ternary\": {\"aaxis\": {\"gridcolor\": \"white\", \"linecolor\": \"white\", \"ticks\": \"\"}, \"baxis\": {\"gridcolor\": \"white\", \"linecolor\": \"white\", \"ticks\": \"\"}, \"bgcolor\": \"#E5ECF6\", \"caxis\": {\"gridcolor\": \"white\", \"linecolor\": \"white\", \"ticks\": \"\"}}, \"title\": {\"x\": 0.05}, \"xaxis\": {\"automargin\": true, \"gridcolor\": \"white\", \"linecolor\": \"white\", \"ticks\": \"\", \"title\": {\"standoff\": 15}, \"zerolinecolor\": \"white\", \"zerolinewidth\": 2}, \"yaxis\": {\"automargin\": true, \"gridcolor\": \"white\", \"linecolor\": \"white\", \"ticks\": \"\", \"title\": {\"standoff\": 15}, \"zerolinecolor\": \"white\", \"zerolinewidth\": 2}}}, \"xaxis\": {\"anchor\": \"y\", \"domain\": [0.0, 1.0], \"title\": {\"text\": \"age_group\"}}, \"yaxis\": {\"anchor\": \"x\", \"domain\": [0.0, 1.0], \"range\": [0, 15000], \"title\": {\"text\": \"charges\"}}},                        {\"responsive\": true}                    ).then(function(){\n",
       "                            \n",
       "var gd = document.getElementById('bb7f195d-b1d7-4103-b93c-04ee34907df4');\n",
       "var x = new MutationObserver(function (mutations, observer) {{\n",
       "        var display = window.getComputedStyle(gd).display;\n",
       "        if (!display || display === 'none') {{\n",
       "            console.log([gd, 'removed!']);\n",
       "            Plotly.purge(gd);\n",
       "            observer.disconnect();\n",
       "        }}\n",
       "}});\n",
       "\n",
       "// Listen for the removal of the full notebook cells\n",
       "var notebookContainer = gd.closest('#notebook-container');\n",
       "if (notebookContainer) {{\n",
       "    x.observe(notebookContainer, {childList: true});\n",
       "}}\n",
       "\n",
       "// Listen for the clearing of the current output cell\n",
       "var outputEl = gd.closest('.output');\n",
       "if (outputEl) {{\n",
       "    x.observe(outputEl, {childList: true});\n",
       "}}\n",
       "\n",
       "                        })                };                });            </script>        </div>"
      ]
     },
     "metadata": {},
     "output_type": "display_data"
    },
    {
     "data": {
      "text/plain": [
       "array([18.        , 37.77431751, 40.41592066, 64.        ])"
      ]
     },
     "execution_count": 56,
     "metadata": {},
     "output_type": "execute_result"
    }
   ],
   "source": [
    "# Group by segment and calculate the mean age per segment\n",
    "segments = data.groupby('segment').mean()['age'].sort_values().to_numpy()\n",
    "\n",
    "# Calculate the mid point between segment means to get a border between the age segments\n",
    "segments_borders = (segments[1:] + segments[:-1])/2\n",
    "\n",
    "# lower border, min value of all bmi values\n",
    "segments_borders = np.insert(segments_borders, 0, data['age'].min())\n",
    "# upper border, max value of all bmi values\n",
    "segments_borders = np.append(segments_borders, data['age'].max())\n",
    "\n",
    "segments_labels = [x for x in range(len(segments_borders)-1)]\n",
    "\n",
    "# Cut data with segment borders\n",
    "data['age_group'] = pd.cut(data['age'], segments_borders, labels=segments_labels, include_lowest=True)\n",
    "\n",
    "fig = px.box(data, x='age_group', y='charges')\n",
    "fig.update_yaxes(range=[0, 15000])\n",
    "fig.show()\n",
    "\n",
    "segments_borders"
   ]
  },
  {
   "cell_type": "markdown",
   "metadata": {},
   "source": [
    "Age segments:\n",
    "\n",
    "    0 = 18-37.8 y\n",
    "    1 = 37.9-40.4 y\n",
    "    2 = 40.5-64 y"
   ]
  },
  {
   "cell_type": "code",
   "execution_count": 57,
   "metadata": {},
   "outputs": [
    {
     "data": {
      "text/html": [
       "<div>\n",
       "<style scoped>\n",
       "    .dataframe tbody tr th:only-of-type {\n",
       "        vertical-align: middle;\n",
       "    }\n",
       "\n",
       "    .dataframe tbody tr th {\n",
       "        vertical-align: top;\n",
       "    }\n",
       "\n",
       "    .dataframe thead th {\n",
       "        text-align: right;\n",
       "    }\n",
       "</style>\n",
       "<table border=\"1\" class=\"dataframe\">\n",
       "  <thead>\n",
       "    <tr style=\"text-align: right;\">\n",
       "      <th></th>\n",
       "      <th>age</th>\n",
       "      <th>sex</th>\n",
       "      <th>bmi</th>\n",
       "      <th>children</th>\n",
       "      <th>smoker</th>\n",
       "      <th>canton</th>\n",
       "      <th>pbf</th>\n",
       "      <th>charges</th>\n",
       "      <th>segment</th>\n",
       "      <th>bmi_group</th>\n",
       "      <th>...</th>\n",
       "      <th>bmi_group_charges_scaled</th>\n",
       "      <th>children_group_charges_mean</th>\n",
       "      <th>children_group_charges_scaled</th>\n",
       "      <th>smoker_charges_mean</th>\n",
       "      <th>smoker_charges_scaled</th>\n",
       "      <th>canton_charges_mean</th>\n",
       "      <th>canton_charges_scaled</th>\n",
       "      <th>age_charges_mean</th>\n",
       "      <th>age_charges_scaled</th>\n",
       "      <th>premium</th>\n",
       "    </tr>\n",
       "  </thead>\n",
       "  <tbody>\n",
       "    <tr>\n",
       "      <th>1</th>\n",
       "      <td>19</td>\n",
       "      <td>0</td>\n",
       "      <td>24.720</td>\n",
       "      <td>0</td>\n",
       "      <td>0</td>\n",
       "      <td>0</td>\n",
       "      <td>35.94</td>\n",
       "      <td>4253</td>\n",
       "      <td>1</td>\n",
       "      <td>0</td>\n",
       "      <td>...</td>\n",
       "      <td>1264.508001</td>\n",
       "      <td>6602.383465</td>\n",
       "      <td>1207.289592</td>\n",
       "      <td>12788.890110</td>\n",
       "      <td>2276.440323</td>\n",
       "      <td>6007.180124</td>\n",
       "      <td>1021.334539</td>\n",
       "      <td>4624.869565</td>\n",
       "      <td>736.662305</td>\n",
       "      <td>6506.234759</td>\n",
       "    </tr>\n",
       "    <tr>\n",
       "      <th>2</th>\n",
       "      <td>18</td>\n",
       "      <td>1</td>\n",
       "      <td>29.416</td>\n",
       "      <td>1</td>\n",
       "      <td>1</td>\n",
       "      <td>1</td>\n",
       "      <td>26.86</td>\n",
       "      <td>2494</td>\n",
       "      <td>0</td>\n",
       "      <td>2</td>\n",
       "      <td>...</td>\n",
       "      <td>3261.675994</td>\n",
       "      <td>6602.383465</td>\n",
       "      <td>1207.289592</td>\n",
       "      <td>5136.220547</td>\n",
       "      <td>914.254440</td>\n",
       "      <td>7643.046703</td>\n",
       "      <td>1299.462879</td>\n",
       "      <td>4624.869565</td>\n",
       "      <td>736.662305</td>\n",
       "      <td>7419.345209</td>\n",
       "    </tr>\n",
       "    <tr>\n",
       "      <th>3</th>\n",
       "      <td>28</td>\n",
       "      <td>1</td>\n",
       "      <td>28.800</td>\n",
       "      <td>3</td>\n",
       "      <td>1</td>\n",
       "      <td>1</td>\n",
       "      <td>26.92</td>\n",
       "      <td>3138</td>\n",
       "      <td>0</td>\n",
       "      <td>1</td>\n",
       "      <td>...</td>\n",
       "      <td>1740.486262</td>\n",
       "      <td>7484.912088</td>\n",
       "      <td>1368.665802</td>\n",
       "      <td>5136.220547</td>\n",
       "      <td>914.254440</td>\n",
       "      <td>7643.046703</td>\n",
       "      <td>1299.462879</td>\n",
       "      <td>4624.869565</td>\n",
       "      <td>736.662305</td>\n",
       "      <td>6059.531688</td>\n",
       "    </tr>\n",
       "    <tr>\n",
       "      <th>4</th>\n",
       "      <td>33</td>\n",
       "      <td>1</td>\n",
       "      <td>20.564</td>\n",
       "      <td>0</td>\n",
       "      <td>1</td>\n",
       "      <td>2</td>\n",
       "      <td>7.98</td>\n",
       "      <td>1553</td>\n",
       "      <td>0</td>\n",
       "      <td>0</td>\n",
       "      <td>...</td>\n",
       "      <td>1264.508001</td>\n",
       "      <td>6602.383465</td>\n",
       "      <td>1207.289592</td>\n",
       "      <td>5136.220547</td>\n",
       "      <td>914.254440</td>\n",
       "      <td>6750.307692</td>\n",
       "      <td>1147.680317</td>\n",
       "      <td>4624.869565</td>\n",
       "      <td>736.662305</td>\n",
       "      <td>5270.394655</td>\n",
       "    </tr>\n",
       "    <tr>\n",
       "      <th>5</th>\n",
       "      <td>32</td>\n",
       "      <td>1</td>\n",
       "      <td>25.504</td>\n",
       "      <td>0</td>\n",
       "      <td>1</td>\n",
       "      <td>2</td>\n",
       "      <td>21.84</td>\n",
       "      <td>2768</td>\n",
       "      <td>0</td>\n",
       "      <td>1</td>\n",
       "      <td>...</td>\n",
       "      <td>1740.486262</td>\n",
       "      <td>6602.383465</td>\n",
       "      <td>1207.289592</td>\n",
       "      <td>5136.220547</td>\n",
       "      <td>914.254440</td>\n",
       "      <td>6750.307692</td>\n",
       "      <td>1147.680317</td>\n",
       "      <td>4624.869565</td>\n",
       "      <td>736.662305</td>\n",
       "      <td>5746.372916</td>\n",
       "    </tr>\n",
       "  </tbody>\n",
       "</table>\n",
       "<p>5 rows × 23 columns</p>\n",
       "</div>"
      ],
      "text/plain": [
       "   age  sex     bmi  children  smoker  canton    pbf  charges  segment  \\\n",
       "1   19    0  24.720         0       0       0  35.94     4253        1   \n",
       "2   18    1  29.416         1       1       1  26.86     2494        0   \n",
       "3   28    1  28.800         3       1       1  26.92     3138        0   \n",
       "4   33    1  20.564         0       1       2   7.98     1553        0   \n",
       "5   32    1  25.504         0       1       2  21.84     2768        0   \n",
       "\n",
       "  bmi_group  ... bmi_group_charges_scaled children_group_charges_mean  \\\n",
       "1         0  ...              1264.508001                 6602.383465   \n",
       "2         2  ...              3261.675994                 6602.383465   \n",
       "3         1  ...              1740.486262                 7484.912088   \n",
       "4         0  ...              1264.508001                 6602.383465   \n",
       "5         1  ...              1740.486262                 6602.383465   \n",
       "\n",
       "   children_group_charges_scaled  smoker_charges_mean  smoker_charges_scaled  \\\n",
       "1                    1207.289592         12788.890110            2276.440323   \n",
       "2                    1207.289592          5136.220547             914.254440   \n",
       "3                    1368.665802          5136.220547             914.254440   \n",
       "4                    1207.289592          5136.220547             914.254440   \n",
       "5                    1207.289592          5136.220547             914.254440   \n",
       "\n",
       "   canton_charges_mean  canton_charges_scaled  age_charges_mean  \\\n",
       "1          6007.180124            1021.334539       4624.869565   \n",
       "2          7643.046703            1299.462879       4624.869565   \n",
       "3          7643.046703            1299.462879       4624.869565   \n",
       "4          6750.307692            1147.680317       4624.869565   \n",
       "5          6750.307692            1147.680317       4624.869565   \n",
       "\n",
       "   age_charges_scaled      premium  \n",
       "1          736.662305  6506.234759  \n",
       "2          736.662305  7419.345209  \n",
       "3          736.662305  6059.531688  \n",
       "4          736.662305  5270.394655  \n",
       "5          736.662305  5746.372916  \n",
       "\n",
       "[5 rows x 23 columns]"
      ]
     },
     "execution_count": 57,
     "metadata": {},
     "output_type": "execute_result"
    }
   ],
   "source": [
    "# 0.95 of variance - normalize variance to 1\n",
    "variance_scaling = 1 / pca_results['variance_ratio_cumsum'].max()\n",
    "\n",
    "# Choose the relevant feature and multiply it with the scaled variance (to obtain 100% of the cost)\n",
    "bmi_variance_ratio = pca_results[pca_results['feature'] == 'bmi']['variance_ratio'] * variance_scaling\n",
    "children_variance_ratio = pca_results[pca_results['feature'] == 'children']['variance_ratio'] * variance_scaling\n",
    "smoker_variance_ratio = pca_results[pca_results['feature'] == 'smoker']['variance_ratio'] * variance_scaling\n",
    "canton_variance_ratio = pca_results[pca_results['feature'] == 'canton']['variance_ratio'] * variance_scaling\n",
    "age_variance_ratio = pca_results[pca_results['feature'] == 'age']['variance_ratio'] * variance_scaling\n",
    "\n",
    "# Calculate mean charges per certain group\n",
    "bmi_group_charges = data.groupby('bmi_group').agg(bmi_group_charges_mean=('charges', 'mean'))\n",
    "\n",
    "# Mean charges multiplied by the scaled variance ratio\n",
    "# To get the amount of charges which is directly connected to 'bmi'\n",
    "bmi_group_charges['bmi_group_charges_scaled'] = bmi_group_charges['bmi_group_charges_mean'].apply(\n",
    "    lambda x: x*bmi_variance_ratio)\n",
    "data = data.join(bmi_group_charges, on='bmi_group')\n",
    "\n",
    "# Mean charges of \"children groups\" multiplied by the scaled variance ratio\n",
    "# To get the amount of charges which is directly connected to the number of children.\n",
    "children_group_charges = data.groupby('children_group').agg(children_group_charges_mean=('charges', 'mean'))\n",
    "children_group_charges['children_group_charges_scaled'] = children_group_charges['children_group_charges_mean'].apply(\n",
    "    lambda x: x*children_variance_ratio)\n",
    "data = data.join(children_group_charges, on='children_group')\n",
    "\n",
    "# To obtain the amount of charges linked to smoking:\n",
    "smoker_charges = data.groupby('smoker').agg(smoker_charges_mean=('charges', 'mean'))\n",
    "smoker_charges['smoker_charges_scaled'] = smoker_charges['smoker_charges_mean'].apply(lambda x: x*smoker_variance_ratio)\n",
    "data = data.join(smoker_charges, on='smoker')\n",
    "\n",
    "# To obtain the amount of charges linked to canton of residence:\n",
    "canton_charges = data.groupby('canton').agg(canton_charges_mean=('charges', 'mean'))\n",
    "canton_charges['canton_charges_scaled'] = canton_charges['canton_charges_mean'].apply(lambda x: x*canton_variance_ratio)\n",
    "data = data.join(canton_charges, on='canton')\n",
    "\n",
    "# To obtain the amount linked to age\n",
    "age_charges = data.groupby('age_group').agg(age_charges_mean=('charges', 'mean'))\n",
    "age_charges['age_charges_scaled'] = age_charges['age_charges_mean'].apply(lambda x: x*age_variance_ratio)\n",
    "data = data.join(age_charges, on='age_group')\n",
    "\n",
    "# A possible way to determine premium, based on categories defined by pca and later k-clustering\"\n",
    "data['premium'] = \\\n",
    "    data['bmi_group_charges_scaled'] \\\n",
    "    + data['children_group_charges_scaled'] \\\n",
    "    + data['smoker_charges_scaled'] \\\n",
    "    + data['canton_charges_scaled'] \\\n",
    "    + data['age_charges_scaled']\n",
    "\n",
    "data.head()"
   ]
  },
  {
   "cell_type": "markdown",
   "metadata": {},
   "source": [
    "Possible approach: We sort each client according to the most important categories in each of the crucial features (bmi: 3 categories, smoking: 2 cat., children: 3 cat., canton: 4 cat.)"
   ]
  },
  {
   "cell_type": "markdown",
   "metadata": {},
   "source": [
    "### Overview of the (absolute) components of a premium\n",
    "\n",
    "Each client is sorted according to the 4 main features (bmi, children, smoking, canton) and assigned a premium cost accordingly. E.g. If somebody is in bmi group 0, has 2 children (group 1), is a smoker (group 0), lives in canton 3 and is 40 years old (group 1), the amounts making up the premium are:  \n",
    "1504 + 1628 + 2708 + 1271 + 896 = 8007"
   ]
  },
  {
   "cell_type": "code",
   "execution_count": 58,
   "metadata": {},
   "outputs": [
    {
     "data": {
      "text/html": [
       "<div>\n",
       "<style scoped>\n",
       "    .dataframe tbody tr th:only-of-type {\n",
       "        vertical-align: middle;\n",
       "    }\n",
       "\n",
       "    .dataframe tbody tr th {\n",
       "        vertical-align: top;\n",
       "    }\n",
       "\n",
       "    .dataframe thead th {\n",
       "        text-align: right;\n",
       "    }\n",
       "</style>\n",
       "<table border=\"1\" class=\"dataframe\">\n",
       "  <thead>\n",
       "    <tr style=\"text-align: right;\">\n",
       "      <th></th>\n",
       "      <th>bmi_group</th>\n",
       "      <th>bmi_group_charges_scaled</th>\n",
       "    </tr>\n",
       "  </thead>\n",
       "  <tbody>\n",
       "    <tr>\n",
       "      <th>0</th>\n",
       "      <td>0</td>\n",
       "      <td>1264.508001</td>\n",
       "    </tr>\n",
       "    <tr>\n",
       "      <th>1</th>\n",
       "      <td>1</td>\n",
       "      <td>1740.486262</td>\n",
       "    </tr>\n",
       "    <tr>\n",
       "      <th>2</th>\n",
       "      <td>2</td>\n",
       "      <td>3261.675994</td>\n",
       "    </tr>\n",
       "  </tbody>\n",
       "</table>\n",
       "</div>"
      ],
      "text/plain": [
       "  bmi_group  bmi_group_charges_scaled\n",
       "0         0               1264.508001\n",
       "1         1               1740.486262\n",
       "2         2               3261.675994"
      ]
     },
     "execution_count": 58,
     "metadata": {},
     "output_type": "execute_result"
    }
   ],
   "source": [
    "data.groupby(['bmi_group']).first()['bmi_group_charges_scaled'].reset_index()"
   ]
  },
  {
   "cell_type": "code",
   "execution_count": 59,
   "metadata": {},
   "outputs": [
    {
     "data": {
      "text/html": [
       "<div>\n",
       "<style scoped>\n",
       "    .dataframe tbody tr th:only-of-type {\n",
       "        vertical-align: middle;\n",
       "    }\n",
       "\n",
       "    .dataframe tbody tr th {\n",
       "        vertical-align: top;\n",
       "    }\n",
       "\n",
       "    .dataframe thead th {\n",
       "        text-align: right;\n",
       "    }\n",
       "</style>\n",
       "<table border=\"1\" class=\"dataframe\">\n",
       "  <thead>\n",
       "    <tr style=\"text-align: right;\">\n",
       "      <th></th>\n",
       "      <th>children_group</th>\n",
       "      <th>children_group_charges_scaled</th>\n",
       "    </tr>\n",
       "  </thead>\n",
       "  <tbody>\n",
       "    <tr>\n",
       "      <th>0</th>\n",
       "      <td>0</td>\n",
       "      <td>1207.289592</td>\n",
       "    </tr>\n",
       "    <tr>\n",
       "      <th>1</th>\n",
       "      <td>1</td>\n",
       "      <td>1368.665802</td>\n",
       "    </tr>\n",
       "    <tr>\n",
       "      <th>2</th>\n",
       "      <td>2</td>\n",
       "      <td>874.456977</td>\n",
       "    </tr>\n",
       "  </tbody>\n",
       "</table>\n",
       "</div>"
      ],
      "text/plain": [
       "  children_group  children_group_charges_scaled\n",
       "0              0                    1207.289592\n",
       "1              1                    1368.665802\n",
       "2              2                     874.456977"
      ]
     },
     "execution_count": 59,
     "metadata": {},
     "output_type": "execute_result"
    }
   ],
   "source": [
    "data.groupby(['children_group']).first()['children_group_charges_scaled'].reset_index()"
   ]
  },
  {
   "cell_type": "code",
   "execution_count": 60,
   "metadata": {},
   "outputs": [
    {
     "data": {
      "text/html": [
       "<div>\n",
       "<style scoped>\n",
       "    .dataframe tbody tr th:only-of-type {\n",
       "        vertical-align: middle;\n",
       "    }\n",
       "\n",
       "    .dataframe tbody tr th {\n",
       "        vertical-align: top;\n",
       "    }\n",
       "\n",
       "    .dataframe thead th {\n",
       "        text-align: right;\n",
       "    }\n",
       "</style>\n",
       "<table border=\"1\" class=\"dataframe\">\n",
       "  <thead>\n",
       "    <tr style=\"text-align: right;\">\n",
       "      <th></th>\n",
       "      <th>smoker</th>\n",
       "      <th>smoker_charges_scaled</th>\n",
       "    </tr>\n",
       "  </thead>\n",
       "  <tbody>\n",
       "    <tr>\n",
       "      <th>0</th>\n",
       "      <td>0</td>\n",
       "      <td>2276.440323</td>\n",
       "    </tr>\n",
       "    <tr>\n",
       "      <th>1</th>\n",
       "      <td>1</td>\n",
       "      <td>914.254440</td>\n",
       "    </tr>\n",
       "  </tbody>\n",
       "</table>\n",
       "</div>"
      ],
      "text/plain": [
       "   smoker  smoker_charges_scaled\n",
       "0       0            2276.440323\n",
       "1       1             914.254440"
      ]
     },
     "execution_count": 60,
     "metadata": {},
     "output_type": "execute_result"
    }
   ],
   "source": [
    "data.groupby(['smoker']).first()['smoker_charges_scaled'].reset_index()"
   ]
  },
  {
   "cell_type": "code",
   "execution_count": 61,
   "metadata": {},
   "outputs": [
    {
     "data": {
      "text/html": [
       "<div>\n",
       "<style scoped>\n",
       "    .dataframe tbody tr th:only-of-type {\n",
       "        vertical-align: middle;\n",
       "    }\n",
       "\n",
       "    .dataframe tbody tr th {\n",
       "        vertical-align: top;\n",
       "    }\n",
       "\n",
       "    .dataframe thead th {\n",
       "        text-align: right;\n",
       "    }\n",
       "</style>\n",
       "<table border=\"1\" class=\"dataframe\">\n",
       "  <thead>\n",
       "    <tr style=\"text-align: right;\">\n",
       "      <th></th>\n",
       "      <th>canton</th>\n",
       "      <th>canton_charges_scaled</th>\n",
       "    </tr>\n",
       "  </thead>\n",
       "  <tbody>\n",
       "    <tr>\n",
       "      <th>0</th>\n",
       "      <td>0</td>\n",
       "      <td>1021.334539</td>\n",
       "    </tr>\n",
       "    <tr>\n",
       "      <th>1</th>\n",
       "      <td>1</td>\n",
       "      <td>1299.462879</td>\n",
       "    </tr>\n",
       "    <tr>\n",
       "      <th>2</th>\n",
       "      <td>2</td>\n",
       "      <td>1147.680317</td>\n",
       "    </tr>\n",
       "    <tr>\n",
       "      <th>3</th>\n",
       "      <td>3</td>\n",
       "      <td>1068.890801</td>\n",
       "    </tr>\n",
       "  </tbody>\n",
       "</table>\n",
       "</div>"
      ],
      "text/plain": [
       "   canton  canton_charges_scaled\n",
       "0       0            1021.334539\n",
       "1       1            1299.462879\n",
       "2       2            1147.680317\n",
       "3       3            1068.890801"
      ]
     },
     "execution_count": 61,
     "metadata": {},
     "output_type": "execute_result"
    }
   ],
   "source": [
    "data.groupby(['canton']).first()['canton_charges_scaled'].reset_index()"
   ]
  },
  {
   "cell_type": "code",
   "execution_count": 62,
   "metadata": {},
   "outputs": [
    {
     "data": {
      "text/html": [
       "<div>\n",
       "<style scoped>\n",
       "    .dataframe tbody tr th:only-of-type {\n",
       "        vertical-align: middle;\n",
       "    }\n",
       "\n",
       "    .dataframe tbody tr th {\n",
       "        vertical-align: top;\n",
       "    }\n",
       "\n",
       "    .dataframe thead th {\n",
       "        text-align: right;\n",
       "    }\n",
       "</style>\n",
       "<table border=\"1\" class=\"dataframe\">\n",
       "  <thead>\n",
       "    <tr style=\"text-align: right;\">\n",
       "      <th></th>\n",
       "      <th>age_group</th>\n",
       "      <th>age_charges_scaled</th>\n",
       "    </tr>\n",
       "  </thead>\n",
       "  <tbody>\n",
       "    <tr>\n",
       "      <th>0</th>\n",
       "      <td>0</td>\n",
       "      <td>736.662305</td>\n",
       "    </tr>\n",
       "    <tr>\n",
       "      <th>1</th>\n",
       "      <td>1</td>\n",
       "      <td>895.534169</td>\n",
       "    </tr>\n",
       "    <tr>\n",
       "      <th>2</th>\n",
       "      <td>2</td>\n",
       "      <td>1410.680493</td>\n",
       "    </tr>\n",
       "  </tbody>\n",
       "</table>\n",
       "</div>"
      ],
      "text/plain": [
       "  age_group  age_charges_scaled\n",
       "0         0          736.662305\n",
       "1         1          895.534169\n",
       "2         2         1410.680493"
      ]
     },
     "execution_count": 62,
     "metadata": {},
     "output_type": "execute_result"
    }
   ],
   "source": [
    "data.groupby(['age_group']).first()['age_charges_scaled'].reset_index()"
   ]
  },
  {
   "cell_type": "code",
   "execution_count": 63,
   "metadata": {},
   "outputs": [
    {
     "name": "stdout",
     "output_type": "stream",
     "text": [
      "Difference between charges and premiums: 0.0\n"
     ]
    }
   ],
   "source": [
    "#Did we account for all charges? 'charges' are taken from the dataset, 'premium' is taken from our calculation. \n",
    "print('Difference between charges and premiums:', data['charges'].sum() - data['premium'].sum())"
   ]
  }
 ],
 "metadata": {
  "kernelspec": {
   "display_name": "Python 3",
   "language": "python",
   "name": "python3"
  },
  "language_info": {
   "codemirror_mode": {
    "name": "ipython",
    "version": 3
   },
   "file_extension": ".py",
   "mimetype": "text/x-python",
   "name": "python",
   "nbconvert_exporter": "python",
   "pygments_lexer": "ipython3",
   "version": "3.8.3"
  }
 },
 "nbformat": 4,
 "nbformat_minor": 4
}
